{
 "cells": [
  {
   "cell_type": "markdown",
   "id": "ce579b15-f22d-4600-9c82-53b440537c41",
   "metadata": {},
   "source": [
    "# Matrix Factorization using LightFM"
   ]
  },
  {
   "cell_type": "code",
   "execution_count": 1,
   "id": "2bb3aca9-ac81-4147-be19-e5d871f71ca2",
   "metadata": {},
   "outputs": [
    {
     "name": "stdout",
     "output_type": "stream",
     "text": [
      "Requirement already satisfied: lightfm in /Users/jun/.pyenv/versions/miniforge3-4.10.3-10/envs/nlp/lib/python3.8/site-packages (1.16)\n",
      "Requirement already satisfied: requests in /Users/jun/.pyenv/versions/miniforge3-4.10.3-10/envs/nlp/lib/python3.8/site-packages (from lightfm) (2.27.1)\n",
      "Requirement already satisfied: scikit-learn in /Users/jun/.pyenv/versions/miniforge3-4.10.3-10/envs/nlp/lib/python3.8/site-packages (from lightfm) (1.0.2)\n",
      "Requirement already satisfied: scipy>=0.17.0 in /Users/jun/.pyenv/versions/miniforge3-4.10.3-10/envs/nlp/lib/python3.8/site-packages (from lightfm) (1.8.0)\n",
      "Requirement already satisfied: numpy in /Users/jun/.pyenv/versions/miniforge3-4.10.3-10/envs/nlp/lib/python3.8/site-packages (from lightfm) (1.21.5)\n",
      "Requirement already satisfied: urllib3<1.27,>=1.21.1 in /Users/jun/.pyenv/versions/miniforge3-4.10.3-10/envs/nlp/lib/python3.8/site-packages (from requests->lightfm) (1.26.8)\n",
      "Requirement already satisfied: charset-normalizer~=2.0.0 in /Users/jun/.pyenv/versions/miniforge3-4.10.3-10/envs/nlp/lib/python3.8/site-packages (from requests->lightfm) (2.0.12)\n",
      "Requirement already satisfied: idna<4,>=2.5 in /Users/jun/.pyenv/versions/miniforge3-4.10.3-10/envs/nlp/lib/python3.8/site-packages (from requests->lightfm) (3.3)\n",
      "Requirement already satisfied: certifi>=2017.4.17 in /Users/jun/.pyenv/versions/miniforge3-4.10.3-10/envs/nlp/lib/python3.8/site-packages (from requests->lightfm) (2021.10.8)\n",
      "Requirement already satisfied: joblib>=0.11 in /Users/jun/.pyenv/versions/miniforge3-4.10.3-10/envs/nlp/lib/python3.8/site-packages (from scikit-learn->lightfm) (1.1.0)\n",
      "Requirement already satisfied: threadpoolctl>=2.0.0 in /Users/jun/.pyenv/versions/miniforge3-4.10.3-10/envs/nlp/lib/python3.8/site-packages (from scikit-learn->lightfm) (3.1.0)\n"
     ]
    }
   ],
   "source": [
    "!pip install lightfm"
   ]
  },
  {
   "cell_type": "code",
   "execution_count": 2,
   "id": "bc15f560-6574-480c-aef7-ee83854ad9f7",
   "metadata": {
    "tags": []
   },
   "outputs": [
    {
     "name": "stderr",
     "output_type": "stream",
     "text": [
      "/Users/jun/.pyenv/versions/miniforge3-4.10.3-10/envs/nlp/lib/python3.8/site-packages/lightfm/_lightfm_fast.py:9: UserWarning: LightFM was compiled without OpenMP support. Only a single thread will be used.\n",
      "  warnings.warn(\n"
     ]
    }
   ],
   "source": [
    "import lightfm\n",
    "from lightfm.data import Dataset\n",
    "from lightfm import LightFM\n",
    "from lightfm.evaluation import precision_at_k, auc_score\n",
    "from lightfm.cross_validation import random_train_test_split\n",
    "import pandas as pd\n",
    "from sklearn.model_selection import train_test_split\n",
    "import altair as alt"
   ]
  },
  {
   "cell_type": "code",
   "execution_count": 3,
   "id": "cabeef7b-6069-4619-b336-a7139fa3dc3d",
   "metadata": {},
   "outputs": [],
   "source": [
    "df_reviews = pd.read_json(\"yelp_dataset/yelp_academic_dataset_review.json\", lines=True)\n",
    "df_reviews = df_reviews[:1000]"
   ]
  },
  {
   "cell_type": "code",
   "execution_count": 4,
   "id": "ab555120-2998-4c9f-b0ce-e54bec625de9",
   "metadata": {},
   "outputs": [
    {
     "data": {
      "text/html": [
       "<div>\n",
       "<style scoped>\n",
       "    .dataframe tbody tr th:only-of-type {\n",
       "        vertical-align: middle;\n",
       "    }\n",
       "\n",
       "    .dataframe tbody tr th {\n",
       "        vertical-align: top;\n",
       "    }\n",
       "\n",
       "    .dataframe thead th {\n",
       "        text-align: right;\n",
       "    }\n",
       "</style>\n",
       "<table border=\"1\" class=\"dataframe\">\n",
       "  <thead>\n",
       "    <tr style=\"text-align: right;\">\n",
       "      <th></th>\n",
       "      <th>review_id</th>\n",
       "      <th>user_id</th>\n",
       "      <th>business_id</th>\n",
       "      <th>stars</th>\n",
       "      <th>useful</th>\n",
       "      <th>funny</th>\n",
       "      <th>cool</th>\n",
       "      <th>text</th>\n",
       "      <th>date</th>\n",
       "    </tr>\n",
       "  </thead>\n",
       "  <tbody>\n",
       "    <tr>\n",
       "      <th>0</th>\n",
       "      <td>KU_O5udG6zpxOg-VcAEodg</td>\n",
       "      <td>mh_-eMZ6K5RLWhZyISBhwA</td>\n",
       "      <td>XQfwVwDr-v0ZS3_CbbE5Xw</td>\n",
       "      <td>3</td>\n",
       "      <td>0</td>\n",
       "      <td>0</td>\n",
       "      <td>0</td>\n",
       "      <td>If you decide to eat here, just be aware it is...</td>\n",
       "      <td>2018-07-07 22:09:11</td>\n",
       "    </tr>\n",
       "    <tr>\n",
       "      <th>1</th>\n",
       "      <td>BiTunyQ73aT9WBnpR9DZGw</td>\n",
       "      <td>OyoGAe7OKpv6SyGZT5g77Q</td>\n",
       "      <td>7ATYjTIgM3jUlt4UM3IypQ</td>\n",
       "      <td>5</td>\n",
       "      <td>1</td>\n",
       "      <td>0</td>\n",
       "      <td>1</td>\n",
       "      <td>I've taken a lot of spin classes over the year...</td>\n",
       "      <td>2012-01-03 15:28:18</td>\n",
       "    </tr>\n",
       "  </tbody>\n",
       "</table>\n",
       "</div>"
      ],
      "text/plain": [
       "                review_id                 user_id             business_id  \\\n",
       "0  KU_O5udG6zpxOg-VcAEodg  mh_-eMZ6K5RLWhZyISBhwA  XQfwVwDr-v0ZS3_CbbE5Xw   \n",
       "1  BiTunyQ73aT9WBnpR9DZGw  OyoGAe7OKpv6SyGZT5g77Q  7ATYjTIgM3jUlt4UM3IypQ   \n",
       "\n",
       "   stars  useful  funny  cool  \\\n",
       "0      3       0      0     0   \n",
       "1      5       1      0     1   \n",
       "\n",
       "                                                text                date  \n",
       "0  If you decide to eat here, just be aware it is... 2018-07-07 22:09:11  \n",
       "1  I've taken a lot of spin classes over the year... 2012-01-03 15:28:18  "
      ]
     },
     "execution_count": 4,
     "metadata": {},
     "output_type": "execute_result"
    }
   ],
   "source": [
    "df_reviews.head(2)"
   ]
  },
  {
   "cell_type": "code",
   "execution_count": 5,
   "id": "92942c32-8064-4e2a-a434-67b08ab74ea9",
   "metadata": {
    "tags": []
   },
   "outputs": [
    {
     "name": "stdout",
     "output_type": "stream",
     "text": [
      "Num users: 994, num_businesses 823.\n",
      "<994x823 sparse matrix of type '<class 'numpy.int32'>'\n",
      "\twith 1000 stored elements in COOrdinate format>\n"
     ]
    }
   ],
   "source": [
    "dataset = Dataset()\n",
    "dataset.fit(df_reviews[\"user_id\"], df_reviews[\"business_id\"])\n",
    "num_users, num_buz = dataset.interactions_shape()\n",
    "print('Num users: {}, num_businesses {}.'.format(num_users, num_buz))\n",
    "(interactions, weights) = dataset.build_interactions([x for x in zip(df_reviews[\"user_id\"], df_reviews[\"business_id\"])])\n",
    "\n",
    "print(repr(interactions))"
   ]
  },
  {
   "cell_type": "code",
   "execution_count": 6,
   "id": "09b8aae5-4efa-42b3-926a-05809cd4273f",
   "metadata": {},
   "outputs": [],
   "source": [
    "train, test = random_train_test_split(interactions=interactions, test_percentage=0.2, random_state=2)"
   ]
  },
  {
   "cell_type": "code",
   "execution_count": 7,
   "id": "5a82e28c-02c5-40b2-b28f-bfce463cd815",
   "metadata": {},
   "outputs": [],
   "source": [
    "def train_eval(train, test, emb_size, lr, epochs, l2, loss=\"logistic\"):\n",
    "    NUM_THREADS = 4\n",
    "    model = LightFM(\n",
    "        no_components=emb_size, \n",
    "        loss=loss,\n",
    "        user_alpha=l2,\n",
    "    )\n",
    "    model.fit(\n",
    "        interactions=train, \n",
    "        epochs=epochs, \n",
    "        num_threads=NUM_THREADS,\n",
    "        verbose=True,\n",
    "    )\n",
    "    # train_precision = precision_at_k(model, train, k=10).mean()\n",
    "    # test_precision = precision_at_k(model, test, k=10).mean()\n",
    "\n",
    "    train_auc = auc_score(model, train).mean()\n",
    "    # exclude cold-start\n",
    "    test_auc = auc_score(model, test, train_interactions=train).mean()\n",
    "\n",
    "    # print('Precision: train %.2f, test %.2f.' % (train_precision, test_precision))\n",
    "    # print('AUC: train %.2f, test %.2f.' % (train_auc, test_auc)) \n",
    "    return {\"emb_size\": emb_size, \"lr\": lr, \"l2\": l2, \"epochs\": epochs, \"train_auc\": train_auc, \"test_auc\": test_auc}\n",
    "    "
   ]
  },
  {
   "cell_type": "code",
   "execution_count": 8,
   "id": "9f7c8400-63ea-4fa3-9322-3674b6af33c0",
   "metadata": {},
   "outputs": [
    {
     "name": "stdout",
     "output_type": "stream",
     "text": [
      "Embedding size: 100\n"
     ]
    },
    {
     "name": "stderr",
     "output_type": "stream",
     "text": [
      "Epoch: 100%|███████████████████████████████████████████████████████████████████████████| 20/20 [00:00<00:00, 582.25it/s]\n"
     ]
    },
    {
     "name": "stdout",
     "output_type": "stream",
     "text": [
      "Embedding size: 300\n"
     ]
    },
    {
     "name": "stderr",
     "output_type": "stream",
     "text": [
      "Epoch: 100%|███████████████████████████████████████████████████████████████████████████| 20/20 [00:00<00:00, 247.12it/s]\n"
     ]
    },
    {
     "name": "stdout",
     "output_type": "stream",
     "text": [
      "Embedding size: 500\n"
     ]
    },
    {
     "name": "stderr",
     "output_type": "stream",
     "text": [
      "Epoch: 100%|███████████████████████████████████████████████████████████████████████████| 20/20 [00:00<00:00, 148.42it/s]\n"
     ]
    },
    {
     "name": "stdout",
     "output_type": "stream",
     "text": [
      "Embedding size: 700\n"
     ]
    },
    {
     "name": "stderr",
     "output_type": "stream",
     "text": [
      "Epoch: 100%|███████████████████████████████████████████████████████████████████████████| 20/20 [00:00<00:00, 108.35it/s]\n"
     ]
    },
    {
     "name": "stdout",
     "output_type": "stream",
     "text": [
      "Embedding size: 900\n"
     ]
    },
    {
     "name": "stderr",
     "output_type": "stream",
     "text": [
      "Epoch: 100%|████████████████████████████████████████████████████████████████████████████| 20/20 [00:00<00:00, 85.39it/s]\n"
     ]
    },
    {
     "name": "stdout",
     "output_type": "stream",
     "text": [
      "Embedding size: 1100\n"
     ]
    },
    {
     "name": "stderr",
     "output_type": "stream",
     "text": [
      "Epoch: 100%|████████████████████████████████████████████████████████████████████████████| 20/20 [00:00<00:00, 69.87it/s]\n"
     ]
    },
    {
     "name": "stdout",
     "output_type": "stream",
     "text": [
      "CPU times: user 1.62 s, sys: 96.7 ms, total: 1.72 s\n",
      "Wall time: 1.71 s\n"
     ]
    }
   ],
   "source": [
    "%%time\n",
    "lr = 0.05\n",
    "epochs = 20\n",
    "l2 = 0.002\n",
    "metrics = []\n",
    "for emb_size in range(100, 1200, 200):\n",
    "    print(f\"Embedding size: {emb_size}\")\n",
    "    metric_record = train_eval(train, test, emb_size, lr, epochs, l2)\n",
    "    metrics.append(metric_record)\n",
    "metrics = pd.DataFrame(data=metrics)"
   ]
  },
  {
   "cell_type": "code",
   "execution_count": 12,
   "id": "7bb3735f-2791-4432-aac2-f5470f586966",
   "metadata": {},
   "outputs": [
    {
     "data": {
      "text/html": [
       "\n",
       "<div id=\"altair-viz-f7ce7dd5f21049e1b2eb233e3eb0e795\"></div>\n",
       "<script type=\"text/javascript\">\n",
       "  var VEGA_DEBUG = (typeof VEGA_DEBUG == \"undefined\") ? {} : VEGA_DEBUG;\n",
       "  (function(spec, embedOpt){\n",
       "    let outputDiv = document.currentScript.previousElementSibling;\n",
       "    if (outputDiv.id !== \"altair-viz-f7ce7dd5f21049e1b2eb233e3eb0e795\") {\n",
       "      outputDiv = document.getElementById(\"altair-viz-f7ce7dd5f21049e1b2eb233e3eb0e795\");\n",
       "    }\n",
       "    const paths = {\n",
       "      \"vega\": \"https://cdn.jsdelivr.net/npm//vega@5?noext\",\n",
       "      \"vega-lib\": \"https://cdn.jsdelivr.net/npm//vega-lib?noext\",\n",
       "      \"vega-lite\": \"https://cdn.jsdelivr.net/npm//vega-lite@4.17.0?noext\",\n",
       "      \"vega-embed\": \"https://cdn.jsdelivr.net/npm//vega-embed@6?noext\",\n",
       "    };\n",
       "\n",
       "    function maybeLoadScript(lib, version) {\n",
       "      var key = `${lib.replace(\"-\", \"\")}_version`;\n",
       "      return (VEGA_DEBUG[key] == version) ?\n",
       "        Promise.resolve(paths[lib]) :\n",
       "        new Promise(function(resolve, reject) {\n",
       "          var s = document.createElement('script');\n",
       "          document.getElementsByTagName(\"head\")[0].appendChild(s);\n",
       "          s.async = true;\n",
       "          s.onload = () => {\n",
       "            VEGA_DEBUG[key] = version;\n",
       "            return resolve(paths[lib]);\n",
       "          };\n",
       "          s.onerror = () => reject(`Error loading script: ${paths[lib]}`);\n",
       "          s.src = paths[lib];\n",
       "        });\n",
       "    }\n",
       "\n",
       "    function showError(err) {\n",
       "      outputDiv.innerHTML = `<div class=\"error\" style=\"color:red;\">${err}</div>`;\n",
       "      throw err;\n",
       "    }\n",
       "\n",
       "    function displayChart(vegaEmbed) {\n",
       "      vegaEmbed(outputDiv, spec, embedOpt)\n",
       "        .catch(err => showError(`Javascript Error: ${err.message}<br>This usually means there's a typo in your chart specification. See the javascript console for the full traceback.`));\n",
       "    }\n",
       "\n",
       "    if(typeof define === \"function\" && define.amd) {\n",
       "      requirejs.config({paths});\n",
       "      require([\"vega-embed\"], displayChart, err => showError(`Error loading script: ${err.message}`));\n",
       "    } else {\n",
       "      maybeLoadScript(\"vega\", \"5\")\n",
       "        .then(() => maybeLoadScript(\"vega-lite\", \"4.17.0\"))\n",
       "        .then(() => maybeLoadScript(\"vega-embed\", \"6\"))\n",
       "        .catch(showError)\n",
       "        .then(() => displayChart(vegaEmbed));\n",
       "    }\n",
       "  })({\"config\": {\"view\": {\"continuousWidth\": 400, \"continuousHeight\": 300}}, \"data\": {\"name\": \"data-30e9e9678670e5065d7e345bcb7a3d74\"}, \"mark\": \"line\", \"encoding\": {\"color\": {\"field\": \"variable\", \"type\": \"nominal\"}, \"x\": {\"field\": \"emb_size\", \"title\": \"Embedding Size\", \"type\": \"quantitative\"}, \"y\": {\"field\": \"value\", \"title\": \"auc\", \"type\": \"quantitative\"}}, \"$schema\": \"https://vega.github.io/schema/vega-lite/v4.17.0.json\", \"datasets\": {\"data-30e9e9678670e5065d7e345bcb7a3d74\": [{\"emb_size\": 100, \"variable\": \"train_auc\", \"value\": 0.9116117358207703}, {\"emb_size\": 300, \"variable\": \"train_auc\", \"value\": 0.8503835797309875}, {\"emb_size\": 500, \"variable\": \"train_auc\", \"value\": 0.7877016663551331}, {\"emb_size\": 700, \"variable\": \"train_auc\", \"value\": 0.7494539618492126}, {\"emb_size\": 900, \"variable\": \"train_auc\", \"value\": 0.730690062046051}, {\"emb_size\": 1100, \"variable\": \"train_auc\", \"value\": 0.7139047980308533}, {\"emb_size\": 100, \"variable\": \"test_auc\", \"value\": 0.25113189220428467}, {\"emb_size\": 300, \"variable\": \"test_auc\", \"value\": 0.2620196044445038}, {\"emb_size\": 500, \"variable\": \"test_auc\", \"value\": 0.23944668471813202}, {\"emb_size\": 700, \"variable\": \"test_auc\", \"value\": 0.247767835855484}, {\"emb_size\": 900, \"variable\": \"test_auc\", \"value\": 0.24575453996658325}, {\"emb_size\": 1100, \"variable\": \"test_auc\", \"value\": 0.2584307789802551}]}}, {\"mode\": \"vega-lite\"});\n",
       "</script>"
      ],
      "text/plain": [
       "alt.Chart(...)"
      ]
     },
     "execution_count": 12,
     "metadata": {},
     "output_type": "execute_result"
    }
   ],
   "source": [
    "chart = alt.Chart(metrics[[\"emb_size\", \"train_auc\", \"test_auc\"]].melt(\"emb_size\")).mark_line().encode(\n",
    "    x=alt.X(\"emb_size\", title=\"Embedding Size\"),\n",
    "    y=alt.Y(\"value\", title=\"auc\"),\n",
    "    color=\"variable\",\n",
    ")\n",
    "chart"
   ]
  },
  {
   "cell_type": "code",
   "execution_count": 10,
   "id": "33517656-f9bf-4369-9137-c80ac6390431",
   "metadata": {},
   "outputs": [
    {
     "data": {
      "text/html": [
       "<div>\n",
       "<style scoped>\n",
       "    .dataframe tbody tr th:only-of-type {\n",
       "        vertical-align: middle;\n",
       "    }\n",
       "\n",
       "    .dataframe tbody tr th {\n",
       "        vertical-align: top;\n",
       "    }\n",
       "\n",
       "    .dataframe thead th {\n",
       "        text-align: right;\n",
       "    }\n",
       "</style>\n",
       "<table border=\"1\" class=\"dataframe\">\n",
       "  <thead>\n",
       "    <tr style=\"text-align: right;\">\n",
       "      <th></th>\n",
       "      <th>emb_size</th>\n",
       "      <th>train_auc</th>\n",
       "      <th>test_auc</th>\n",
       "    </tr>\n",
       "  </thead>\n",
       "  <tbody>\n",
       "    <tr>\n",
       "      <th>0</th>\n",
       "      <td>100</td>\n",
       "      <td>0.911612</td>\n",
       "      <td>0.251132</td>\n",
       "    </tr>\n",
       "    <tr>\n",
       "      <th>1</th>\n",
       "      <td>300</td>\n",
       "      <td>0.850384</td>\n",
       "      <td>0.262020</td>\n",
       "    </tr>\n",
       "    <tr>\n",
       "      <th>2</th>\n",
       "      <td>500</td>\n",
       "      <td>0.787702</td>\n",
       "      <td>0.239447</td>\n",
       "    </tr>\n",
       "    <tr>\n",
       "      <th>3</th>\n",
       "      <td>700</td>\n",
       "      <td>0.749454</td>\n",
       "      <td>0.247768</td>\n",
       "    </tr>\n",
       "    <tr>\n",
       "      <th>4</th>\n",
       "      <td>900</td>\n",
       "      <td>0.730690</td>\n",
       "      <td>0.245755</td>\n",
       "    </tr>\n",
       "    <tr>\n",
       "      <th>5</th>\n",
       "      <td>1100</td>\n",
       "      <td>0.713905</td>\n",
       "      <td>0.258431</td>\n",
       "    </tr>\n",
       "  </tbody>\n",
       "</table>\n",
       "</div>"
      ],
      "text/plain": [
       "   emb_size  train_auc  test_auc\n",
       "0       100   0.911612  0.251132\n",
       "1       300   0.850384  0.262020\n",
       "2       500   0.787702  0.239447\n",
       "3       700   0.749454  0.247768\n",
       "4       900   0.730690  0.245755\n",
       "5      1100   0.713905  0.258431"
      ]
     },
     "execution_count": 10,
     "metadata": {},
     "output_type": "execute_result"
    }
   ],
   "source": [
    "metrics[[\"emb_size\", \"train_auc\", \"test_auc\"]]"
   ]
  },
  {
   "cell_type": "code",
   "execution_count": null,
   "id": "9d1e9d17-b379-4f72-ab89-b25d7fc4eb94",
   "metadata": {},
   "outputs": [],
   "source": []
  }
 ],
 "metadata": {
  "kernelspec": {
   "display_name": "nlp",
   "language": "python",
   "name": "nlp"
  },
  "language_info": {
   "codemirror_mode": {
    "name": "ipython",
    "version": 3
   },
   "file_extension": ".py",
   "mimetype": "text/x-python",
   "name": "python",
   "nbconvert_exporter": "python",
   "pygments_lexer": "ipython3",
   "version": "3.8.12"
  }
 },
 "nbformat": 4,
 "nbformat_minor": 5
}
