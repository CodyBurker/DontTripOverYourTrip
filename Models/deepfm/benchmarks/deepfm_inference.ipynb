{
 "cells": [
  {
   "cell_type": "markdown",
   "id": "4d2c1822-c8eb-46fd-b14b-815fff3cefdd",
   "metadata": {},
   "source": [
    "# DeepFM Inference"
   ]
  },
  {
   "cell_type": "code",
   "execution_count": 65,
   "id": "0513324d-34e9-4106-b1e8-16e1b5cbf8ed",
   "metadata": {},
   "outputs": [],
   "source": [
    "import pandas as pd \n",
    "import numpy as np\n",
    "import torch\n",
    "import sys, os, logging\n",
    "import importlib\n",
    "\n",
    "sys.path.append('../FuxiCTR-main/')\n",
    "import fuxictr\n",
    "from fuxictr import datasets\n",
    "from datetime import datetime\n",
    "from fuxictr.utils import load_config, set_logger, print_to_json, print_to_list\n",
    "from fuxictr.features import FeatureMap, FeatureEncoder\n",
    "from fuxictr.pytorch import models\n",
    "from fuxictr.pytorch.torch_utils import seed_everything\n",
    "import gc\n",
    "from pathlib import Path\n"
   ]
  },
  {
   "cell_type": "markdown",
   "id": "1e9fe0c9-cd33-4970-8fcc-57779664d981",
   "metadata": {
    "tags": []
   },
   "source": [
    "## Preprocess - Construct Inference Data"
   ]
  },
  {
   "cell_type": "markdown",
   "id": "97847ccd-ef07-4b12-a723-af9022356fa0",
   "metadata": {},
   "source": [
    "### 1. Construct a dataset with one user and all businesses"
   ]
  },
  {
   "cell_type": "code",
   "execution_count": 66,
   "id": "be85b3bd-b3bc-4751-a9d4-2fce0cf3428f",
   "metadata": {},
   "outputs": [
    {
     "data": {
      "text/plain": [
       "user_id                    smOvOajNG0lS4Pq7d8g4JQ\n",
       "average_stars                                3.46\n",
       "philly_reviews                                 43\n",
       "philly_share_of_reviews                  0.244318\n",
       "gender_score                                  0.0\n",
       "Name: 1, dtype: object"
      ]
     },
     "execution_count": 66,
     "metadata": {},
     "output_type": "execute_result"
    }
   ],
   "source": [
    "# Select a user for testing\n",
    "user = pd.read_csv(\"../data/all_user.csv\").loc[1]\n",
    "user"
   ]
  },
  {
   "cell_type": "code",
   "execution_count": 67,
   "id": "fac33ede-336c-48bb-810b-baaebf37c015",
   "metadata": {},
   "outputs": [],
   "source": [
    "# Join the user data with all business data and save to a csv file\n",
    "df_inference = pd.read_csv(\"../data/all_business.csv\")\n",
    "for col_name, col_val in user.iteritems():\n",
    "    df_inference[col_name] = col_val\n",
    "df_inference[\"target\"] = 0 # a redundant value in order to use the framework\n",
    "df_inference.to_csv(\"../data/inference.csv\", index=False)"
   ]
  },
  {
   "cell_type": "code",
   "execution_count": 79,
   "id": "bdbf9f72-8c6f-4998-81ba-3a49cf480281",
   "metadata": {},
   "outputs": [],
   "source": [
    "buz = pd.read_csv(\"../data/all_business.csv\")"
   ]
  },
  {
   "cell_type": "code",
   "execution_count": 81,
   "id": "4769c1ed-5abb-437e-86ff-af4d3e9277c8",
   "metadata": {},
   "outputs": [
    {
     "data": {
      "text/plain": [
       "(10391, 7)"
      ]
     },
     "execution_count": 81,
     "metadata": {},
     "output_type": "execute_result"
    }
   ],
   "source": [
    "buz.shape"
   ]
  },
  {
   "cell_type": "markdown",
   "id": "f0d0d602-e0f7-4952-ba22-3808875419df",
   "metadata": {},
   "source": [
    "### 2. Transform the dataset to hdf5 generator"
   ]
  },
  {
   "cell_type": "code",
   "execution_count": 68,
   "id": "e610ea84-7f5c-4823-8927-4eecc3aa5791",
   "metadata": {
    "tags": []
   },
   "outputs": [
    {
     "name": "stderr",
     "output_type": "stream",
     "text": [
      "2022-11-25 20:02:29,472 P49649 INFO {\n",
      "    \"batch_norm\": \"False\",\n",
      "    \"batch_size\": \"1024\",\n",
      "    \"data_format\": \"csv\",\n",
      "    \"data_root\": \"../data/\",\n",
      "    \"dataset_id\": \"yelp_all_feature_2cca3d6c\",\n",
      "    \"debug\": \"False\",\n",
      "    \"embedding_dim\": \"64\",\n",
      "    \"embedding_regularizer\": \"0.01\",\n",
      "    \"epochs\": \"50\",\n",
      "    \"every_x_epochs\": \"1\",\n",
      "    \"feature_cols\": \"[{'active': True, 'dtype': 'str', 'name': ['user_id', 'business_id', 'bucketed_sentiment_scores_received', 'postal_code'], 'type': 'categorical'}, {'active': True, 'dtype': 'float', 'name': ['average_stars', 'philly_reviews', 'philly_share_of_reviews', 'gender_score', 'business_stars', 'business_review_count'], 'type': 'numeric'}]\",\n",
      "    \"gpu\": \"0\",\n",
      "    \"hidden_activations\": \"relu\",\n",
      "    \"hidden_units\": \"[400, 400, 400]\",\n",
      "    \"label_col\": \"{'dtype': 'float', 'name': 'target'}\",\n",
      "    \"learning_rate\": \"0.01\",\n",
      "    \"loss\": \"binary_crossentropy\",\n",
      "    \"metrics\": \"['logloss', 'AUC']\",\n",
      "    \"min_categr_count\": \"1\",\n",
      "    \"model\": \"DeepFM\",\n",
      "    \"model_id\": \"DeepFM_yelp_all_feature_019_eabe7106\",\n",
      "    \"model_root\": \"../models/\",\n",
      "    \"monitor\": \"{'AUC': 1, 'logloss': -1}\",\n",
      "    \"monitor_mode\": \"max\",\n",
      "    \"net_dropout\": \"0\",\n",
      "    \"net_regularizer\": \"0\",\n",
      "    \"num_workers\": \"3\",\n",
      "    \"optimizer\": \"adam\",\n",
      "    \"patience\": \"2\",\n",
      "    \"pickle_feature_encoder\": \"True\",\n",
      "    \"save_best_only\": \"True\",\n",
      "    \"seed\": \"2019\",\n",
      "    \"shuffle\": \"True\",\n",
      "    \"task\": \"binary_classification\",\n",
      "    \"test_data\": \"../data/inference.csv\",\n",
      "    \"train_data\": \"../data/train.csv\",\n",
      "    \"use_hdf5\": \"True\",\n",
      "    \"valid_data\": \"../data/valid.csv\",\n",
      "    \"verbose\": \"1\",\n",
      "    \"version\": \"pytorch\"\n",
      "}\n"
     ]
    }
   ],
   "source": [
    "# Read model and data parameters for feature mapping\n",
    "experiment_id = \"DeepFM_yelp_all_feature_019_eabe7106\" # change to desired model name\n",
    "config_dir = \"./tuner_config/DeepFM_all_feature\"\n",
    "params = load_config(config_dir, experiment_id)\n",
    "params['gpu'] = 0\n",
    "params['version'] = \"pytorch\"\n",
    "# params['train_data'] = ''\n",
    "# params['valid_data'] = ''\n",
    "params['test_data'] = os.path.join(params['data_root'], 'inference.csv') # define inference data location\n",
    "set_logger(params)\n",
    "logging.info(print_to_json(params))\n",
    "seed_everything(seed=params['seed'])"
   ]
  },
  {
   "cell_type": "code",
   "execution_count": 69,
   "id": "98fc833b-4ea4-46e6-a6cc-f38731cd5e4c",
   "metadata": {},
   "outputs": [
    {
     "name": "stderr",
     "output_type": "stream",
     "text": [
      "2022-11-25 20:02:29,566 P49649 INFO Set up feature encoder...\n",
      "2022-11-25 20:02:29,567 P49649 INFO Reading file: ../data/train.csv\n",
      "2022-11-25 20:02:30,217 P49649 INFO Reading file: ../data/valid.csv\n",
      "2022-11-25 20:02:30,383 P49649 INFO Reading file: ../data/inference.csv\n",
      "2022-11-25 20:02:30,405 P49649 INFO Preprocess feature columns...\n",
      "2022-11-25 20:02:30,494 P49649 INFO Fit feature encoder...\n",
      "2022-11-25 20:02:30,495 P49649 INFO Processing column: {'active': True, 'dtype': 'str', 'name': 'user_id', 'type': 'categorical'}\n",
      "2022-11-25 20:02:30,859 P49649 INFO Processing column: {'active': True, 'dtype': 'str', 'name': 'business_id', 'type': 'categorical'}\n",
      "2022-11-25 20:02:30,908 P49649 INFO Processing column: {'active': True, 'dtype': 'str', 'name': 'bucketed_sentiment_scores_received', 'type': 'categorical'}\n",
      "2022-11-25 20:02:30,946 P49649 INFO Processing column: {'active': True, 'dtype': 'str', 'name': 'postal_code', 'type': 'categorical'}\n",
      "2022-11-25 20:02:30,977 P49649 INFO Processing column: {'active': True, 'dtype': 'float', 'name': 'average_stars', 'type': 'numeric'}\n",
      "2022-11-25 20:02:30,977 P49649 INFO Processing column: {'active': True, 'dtype': 'float', 'name': 'philly_reviews', 'type': 'numeric'}\n",
      "2022-11-25 20:02:30,978 P49649 INFO Processing column: {'active': True, 'dtype': 'float', 'name': 'philly_share_of_reviews', 'type': 'numeric'}\n",
      "2022-11-25 20:02:30,978 P49649 INFO Processing column: {'active': True, 'dtype': 'float', 'name': 'gender_score', 'type': 'numeric'}\n",
      "2022-11-25 20:02:30,978 P49649 INFO Processing column: {'active': True, 'dtype': 'float', 'name': 'business_stars', 'type': 'numeric'}\n",
      "2022-11-25 20:02:30,979 P49649 INFO Processing column: {'active': True, 'dtype': 'float', 'name': 'business_review_count', 'type': 'numeric'}\n",
      "2022-11-25 20:02:30,979 P49649 INFO Set feature index...\n",
      "2022-11-25 20:02:30,979 P49649 INFO Pickle feature_encoder: ../data/yelp_all_feature_2cca3d6c/feature_encoder.pkl\n",
      "2022-11-25 20:02:31,017 P49649 INFO Save feature_map to json: ../data/yelp_all_feature_2cca3d6c/feature_map.json\n",
      "2022-11-25 20:02:31,018 P49649 INFO Set feature encoder done.\n",
      "2022-11-25 20:02:31,018 P49649 INFO Transform feature columns...\n",
      "2022-11-25 20:02:31,916 P49649 INFO Saving data to h5: ../data/yelp_all_feature_2cca3d6c/train.h5\n",
      "2022-11-25 20:02:32,129 P49649 INFO Preprocess feature columns...\n",
      "2022-11-25 20:02:32,152 P49649 INFO Transform feature columns...\n",
      "2022-11-25 20:02:32,369 P49649 INFO Saving data to h5: ../data/yelp_all_feature_2cca3d6c/valid.h5\n",
      "2022-11-25 20:02:32,539 P49649 INFO Preprocess feature columns...\n",
      "2022-11-25 20:02:32,542 P49649 INFO Transform feature columns...\n",
      "2022-11-25 20:02:32,557 P49649 INFO Saving data to h5: ../data/yelp_all_feature_2cca3d6c/test.h5\n",
      "2022-11-25 20:02:32,724 P49649 INFO Transform csv data to h5 done.\n"
     ]
    }
   ],
   "source": [
    "feature_encoder = FeatureEncoder(**params)\n",
    "datasets.build_dataset(feature_encoder, **params)"
   ]
  },
  {
   "cell_type": "code",
   "execution_count": 70,
   "id": "164f96c5-c5fd-4c38-a61a-b1e3b3836d7c",
   "metadata": {},
   "outputs": [],
   "source": [
    "# # preporcess the dataset\n",
    "# dataset = params['dataset_id'].split('_')[0].lower()\n",
    "# data_dir = os.path.join(params['data_root'], params['dataset_id'])\n",
    "# if params.get(\"data_format\") == 'h5': # load data from h5\n",
    "#     feature_map = FeatureMap(params['dataset_id'], data_dir, params['version'])\n",
    "#     json_file = os.path.join(os.path.join(params['data_root'], params['dataset_id']), \"feature_map.json\")\n",
    "#     if os.path.exists(json_file):\n",
    "#         feature_map.load(json_file)\n",
    "#     else:\n",
    "#         raise RuntimeError('feature_map not exist!')\n",
    "# else: # load data from csv\n",
    "#     try:\n",
    "#         feature_encoder = getattr(datasets, dataset).FeatureEncoder(**params)\n",
    "#     except:\n",
    "#         feature_encoder = FeatureEncoder(**params)\n",
    "#     if os.path.exists(feature_encoder.json_file):\n",
    "#         feature_encoder.feature_map.load(feature_encoder.json_file)\n",
    "#     else: # Build feature_map and transform h5 data\n",
    "#         datasets.build_dataset(feature_encoder, **params)\n",
    "#     # params[\"train_data\"] = os.path.join(data_dir, 'train*.h5')\n",
    "#     # params[\"valid_data\"] = os.path.join(data_dir, 'valid*.h5')\n",
    "#     # params[\"test_data\"] = os.path.join(data_dir, 'test*.h5')\n",
    "#     feature_map = feature_encoder.feature_map"
   ]
  },
  {
   "cell_type": "markdown",
   "id": "729226e5-e16f-47ea-850e-979da3f2f432",
   "metadata": {},
   "source": [
    "## Inference"
   ]
  },
  {
   "cell_type": "markdown",
   "id": "76bcfa11-f2eb-4760-a188-2fe80726fd6f",
   "metadata": {},
   "source": [
    "Load model"
   ]
  },
  {
   "cell_type": "code",
   "execution_count": 71,
   "id": "2a97a85b-2b03-4d3f-b991-40f6579945c6",
   "metadata": {},
   "outputs": [],
   "source": [
    "feature_map = feature_encoder.feature_map"
   ]
  },
  {
   "cell_type": "code",
   "execution_count": 72,
   "id": "7f215df7-67da-47f7-8889-3dd7a04d9ecb",
   "metadata": {},
   "outputs": [
    {
     "name": "stderr",
     "output_type": "stream",
     "text": [
      "2022-11-25 20:02:33,066 P49649 INFO Total number of parameters: 15216706.\n",
      "2022-11-25 20:02:33,067 P49649 INFO Load best model: /Users/jun/Library/Mobile Documents/com~apple~CloudDocs/jun_folder/skills/mids/w210-capstone/proj/deepfm/models/yelp_all_feature_2cca3d6c/DeepFM_yelp_all_feature_019_eabe7106.model\n"
     ]
    }
   ],
   "source": [
    "# initialize model\n",
    "model_class = getattr(models, params['model'])\n",
    "model = model_class(feature_map, **params)\n",
    "# print number of parameters used in model\n",
    "model.count_parameters()\n",
    "# fit the model\n",
    "# model.fit_generator(train_gen, validation_data=valid_gen, **params)\n",
    "\n",
    "# load the best model checkpoint\n",
    "logging.info(\"Load best model: {}\".format(model.checkpoint))\n",
    "model.load_weights(model.checkpoint)"
   ]
  },
  {
   "cell_type": "markdown",
   "id": "445a816d-c215-4d22-b94f-c46c438949fb",
   "metadata": {},
   "source": [
    "Getting predictions"
   ]
  },
  {
   "cell_type": "code",
   "execution_count": 73,
   "id": "1a7d4065-b091-4801-bd00-ac16967aa05d",
   "metadata": {},
   "outputs": [],
   "source": [
    "dataset = params['dataset_id'].split('_')[0].lower()\n",
    "data_dir = os.path.join(params['data_root'], params['dataset_id'])\n",
    "params[\"train_data\"] = os.path.join(data_dir, 'train*.h5')\n",
    "params[\"valid_data\"] = os.path.join(data_dir, 'valid*.h5')\n",
    "params[\"test_data\"] = os.path.join(data_dir, 'test*.h5')"
   ]
  },
  {
   "cell_type": "code",
   "execution_count": 74,
   "id": "366140d3-76a6-4340-91b9-e22749c93f86",
   "metadata": {},
   "outputs": [],
   "source": [
    "# # testing prediction for train and valid dataset\n",
    "# train_gen, valid_gen = datasets.h5_generator(feature_map, stage='train', **params)\n",
    "# train_predict = model.predict_generator(train_gen)\n",
    "# valid_predict = model.predict_generator(valid_gen)\n",
    "# print(train_predict.size)\n",
    "# print(valid_predict.size)"
   ]
  },
  {
   "cell_type": "code",
   "execution_count": 75,
   "id": "a0706a2b-f30c-477b-8e91-d8400709bc1e",
   "metadata": {},
   "outputs": [
    {
     "name": "stderr",
     "output_type": "stream",
     "text": [
      "2022-11-25 20:02:33,104 P49649 INFO ******** Making Inference ********\n",
      "2022-11-25 20:02:33,104 P49649 INFO Loading data...\n",
      "2022-11-25 20:02:33,105 P49649 INFO Loading data from h5: ../data/yelp_all_feature_2cca3d6c/test.h5\n",
      "2022-11-25 20:02:33,107 P49649 INFO Test samples: total/10391, pos/0, neg/10391, ratio/0.00%, blocks/1\n",
      "2022-11-25 20:02:33,107 P49649 INFO Loading test data done.\n"
     ]
    },
    {
     "name": "stdout",
     "output_type": "stream",
     "text": [
      "100%|███████████████████████████████████████████████████| 11/11 [00:17<00:00,  1.57s/it]\n"
     ]
    }
   ],
   "source": [
    "# making inference\n",
    "logging.info('******** Making Inference ********')\n",
    "inference_gen = datasets.h5_generator(feature_map, stage='test', **params)\n",
    "inference_result = model.predict_generator(inference_gen)"
   ]
  },
  {
   "cell_type": "code",
   "execution_count": 76,
   "id": "399e2172-6a73-4bda-b03b-d7ddb71d99da",
   "metadata": {},
   "outputs": [],
   "source": [
    "df_inference = pd.read_csv(\"../data/inference.csv\")\n",
    "df_inference[\"pred\"] = inference_result\n",
    "df_inference = df_inference.drop(\"target\", axis=1)\n",
    "df_inference = df_inference.sort_values(\"pred\", ascending=False)\n",
    "df_inference.to_csv(\"../data/inference.csv\", index=False)"
   ]
  },
  {
   "cell_type": "markdown",
   "id": "48b13313-0c07-4960-9504-200b89670942",
   "metadata": {},
   "source": [
    "## Postprocess"
   ]
  },
  {
   "cell_type": "code",
   "execution_count": 82,
   "id": "05b6506b-aed8-4588-ad67-9b1f76a78320",
   "metadata": {},
   "outputs": [],
   "source": [
    "df_inference = pd.read_csv(\"../data/inference.csv\")"
   ]
  },
  {
   "cell_type": "code",
   "execution_count": 83,
   "id": "39606a85-ff58-4b49-8baa-15c74bf709d6",
   "metadata": {},
   "outputs": [
    {
     "data": {
      "text/plain": [
       "(10391, 13)"
      ]
     },
     "execution_count": 83,
     "metadata": {},
     "output_type": "execute_result"
    }
   ],
   "source": [
    "df_inference.shape"
   ]
  },
  {
   "cell_type": "markdown",
   "id": "4a66c0a1-5731-4c5f-bb89-9ec0c61bcce7",
   "metadata": {
    "tags": []
   },
   "source": [
    "---\n",
    "## Construct user and business data"
   ]
  },
  {
   "cell_type": "code",
   "execution_count": 14,
   "id": "0b47cdfc-8f0a-4291-83fe-8a3606838019",
   "metadata": {},
   "outputs": [
    {
     "data": {
      "text/plain": [
       "['user_id',\n",
       " 'business_id',\n",
       " 'bucketed_sentiment_scores_received',\n",
       " 'postal_code',\n",
       " 'average_stars',\n",
       " 'philly_reviews',\n",
       " 'philly_share_of_reviews',\n",
       " 'gender_score',\n",
       " 'business_stars',\n",
       " 'business_review_count']"
      ]
     },
     "execution_count": 14,
     "metadata": {},
     "output_type": "execute_result"
    }
   ],
   "source": [
    "feature_lst = [var_type[\"name\"] for var_type in params['feature_cols']]\n",
    "features = []\n",
    "for name in feature_lst:\n",
    "    features += name\n",
    "features"
   ]
  },
  {
   "cell_type": "code",
   "execution_count": 15,
   "id": "53b4243d-d0a2-40cd-a70b-5857978f1b58",
   "metadata": {},
   "outputs": [
    {
     "data": {
      "text/plain": [
       "['business_id',\n",
       " 'bucketed_sentiment_scores_received',\n",
       " 'postal_code',\n",
       " 'business_stars',\n",
       " 'business_review_count']"
      ]
     },
     "execution_count": 15,
     "metadata": {},
     "output_type": "execute_result"
    }
   ],
   "source": [
    "buz_features = ['business_id', 'bucketed_sentiment_scores_received', 'postal_code', 'business_stars', 'business_review_count']\n",
    "buz_features"
   ]
  },
  {
   "cell_type": "code",
   "execution_count": 16,
   "id": "328cace9-5ecd-4fb2-baa3-e41422a53d8a",
   "metadata": {},
   "outputs": [
    {
     "data": {
      "text/plain": [
       "['user_id',\n",
       " 'average_stars',\n",
       " 'philly_reviews',\n",
       " 'philly_share_of_reviews',\n",
       " 'gender_score']"
      ]
     },
     "execution_count": 16,
     "metadata": {},
     "output_type": "execute_result"
    }
   ],
   "source": [
    "user_features = []\n",
    "for name in features:\n",
    "    if name not in buz_features:\n",
    "        user_features.append(name)\n",
    "user_features"
   ]
  },
  {
   "cell_type": "code",
   "execution_count": 17,
   "id": "eceb9ed8-e885-42c7-b457-b478f87b83b6",
   "metadata": {},
   "outputs": [
    {
     "ename": "NameError",
     "evalue": "name 'df_merged' is not defined",
     "output_type": "error",
     "traceback": [
      "\u001b[0;31m---------------------------------------------------------------------------\u001b[0m",
      "\u001b[0;31mNameError\u001b[0m                                 Traceback (most recent call last)",
      "Input \u001b[0;32mIn [17]\u001b[0m, in \u001b[0;36m<module>\u001b[0;34m\u001b[0m\n\u001b[0;32m----> 1\u001b[0m \u001b[43mdf_merged\u001b[49m\n",
      "\u001b[0;31mNameError\u001b[0m: name 'df_merged' is not defined"
     ]
    }
   ],
   "source": [
    "df_merged"
   ]
  },
  {
   "cell_type": "code",
   "execution_count": 213,
   "id": "8c322076-a20e-4a04-9fb0-90ef4060c59c",
   "metadata": {
    "tags": []
   },
   "outputs": [],
   "source": [
    "df_reviews = pd.read_feather(\"../../FilteredData/review_philly.feather\")\n",
    "df_users = pd.read_feather(\"../../FilteredData/user_philly.feather\")\n",
    "df_buz = pd.read_feather(\"../../FilteredData/business_philly.feather\")\n",
    "df_users.rename(columns={\"review_count\":\"user_review_count\"}, inplace=True)\n",
    "df_buz.rename(columns={\"name\":\"business_name\", \"stars\":\"business_stars\", \"review_count\":\"business_review_count\"}, inplace=True)\n",
    "df_buz[\"postal_code\"] = df_buz[\"postal_code\"].fillna(0)\n",
    "df_reviews = df_reviews[~df_reviews.stars.isna()]\n",
    "df_users.replace([np.inf, -np.inf], 1, inplace=True)\n",
    "df_merged = df_reviews.merge(\n",
    "    df_buz, \n",
    "    how=\"left\", \n",
    "    left_on=\"business_id\", \n",
    "    right_on=\"business_id\"\n",
    ")\n",
    "df_merged = df_merged.merge(\n",
    "    df_users,\n",
    "    how=\"left\",\n",
    "    left_on=\"user_id\",\n",
    "    right_on=\"user_id\"\n",
    ")\n",
    "df_merged = df_merged[features + [\"business_name\", \"categories\"]]\n",
    "\n",
    "df_buz_from_review = df_merged[buz_features + [\"business_name\", \"categories\"]]\n",
    "df_user_from_review = df_merged[user_features]\n",
    "\n",
    "df_buz_from_review = df_buz_from_review.drop_duplicates()\n",
    "df_user_from_review = df_user_from_review.drop_duplicates()\n",
    "\n",
    "df_buz_from_review.to_csv(\"../data/all_business.csv\", index=False)\n",
    "df_user_from_review.to_csv(\"../data/all_user.csv\", index=False)"
   ]
  }
 ],
 "metadata": {
  "kernelspec": {
   "display_name": "nlp",
   "language": "python",
   "name": "nlp"
  },
  "language_info": {
   "codemirror_mode": {
    "name": "ipython",
    "version": 3
   },
   "file_extension": ".py",
   "mimetype": "text/x-python",
   "name": "python",
   "nbconvert_exporter": "python",
   "pygments_lexer": "ipython3",
   "version": "3.8.12"
  }
 },
 "nbformat": 4,
 "nbformat_minor": 5
}
