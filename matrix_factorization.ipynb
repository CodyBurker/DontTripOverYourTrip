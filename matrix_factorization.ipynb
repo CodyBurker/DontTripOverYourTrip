{
 "cells": [
  {
   "cell_type": "markdown",
   "id": "3230c713-d22a-4e45-9184-c873487e1385",
   "metadata": {},
   "source": [
    "# Matrix Factorization\n",
    "credit to [Predicting Anime Ratings using Matrix Factorization](https://jovian.ai/aakanksha-ns/anime-ratings-matrix-factorization)"
   ]
  },
  {
   "cell_type": "code",
   "execution_count": 1,
   "id": "bb0d3a9c-b122-42d5-b849-84b4c6297037",
   "metadata": {},
   "outputs": [],
   "source": [
    "import pandas as pd\n",
    "import numpy as np\n",
    "import seaborn as sns\n",
    "import altair as alt\n",
    "from vega_datasets import data\n",
    "import matplotlib.pyplot as plt\n",
    "from collections import Counter\n",
    "from sklearn.model_selection import train_test_split\n",
    "from scipy import sparse"
   ]
  },
  {
   "cell_type": "code",
   "execution_count": 2,
   "id": "562058e4-18ce-4482-8838-1903de13036e",
   "metadata": {},
   "outputs": [],
   "source": [
    "df_review = pd.read_json('yelp_dataset/yelp_academic_dataset_review.json', lines=True)\n",
    "df_review = df_review[[\"user_id\", \"business_id\", \"stars\"]]"
   ]
  },
  {
   "cell_type": "code",
   "execution_count": 3,
   "id": "e1a95865-4a33-4e52-91ce-d45d22ae0a50",
   "metadata": {},
   "outputs": [],
   "source": [
    "# df_review = df_review.sample(1000000)"
   ]
  },
  {
   "cell_type": "code",
   "execution_count": 4,
   "id": "e20524ab-95a3-4e02-aee5-9c5d17cf4858",
   "metadata": {},
   "outputs": [
    {
     "data": {
      "text/html": [
       "<div>\n",
       "<style scoped>\n",
       "    .dataframe tbody tr th:only-of-type {\n",
       "        vertical-align: middle;\n",
       "    }\n",
       "\n",
       "    .dataframe tbody tr th {\n",
       "        vertical-align: top;\n",
       "    }\n",
       "\n",
       "    .dataframe thead th {\n",
       "        text-align: right;\n",
       "    }\n",
       "</style>\n",
       "<table border=\"1\" class=\"dataframe\">\n",
       "  <thead>\n",
       "    <tr style=\"text-align: right;\">\n",
       "      <th></th>\n",
       "      <th>user_id</th>\n",
       "      <th>business_id</th>\n",
       "      <th>stars</th>\n",
       "    </tr>\n",
       "  </thead>\n",
       "  <tbody>\n",
       "    <tr>\n",
       "      <th>0</th>\n",
       "      <td>mh_-eMZ6K5RLWhZyISBhwA</td>\n",
       "      <td>XQfwVwDr-v0ZS3_CbbE5Xw</td>\n",
       "      <td>3</td>\n",
       "    </tr>\n",
       "    <tr>\n",
       "      <th>1</th>\n",
       "      <td>OyoGAe7OKpv6SyGZT5g77Q</td>\n",
       "      <td>7ATYjTIgM3jUlt4UM3IypQ</td>\n",
       "      <td>5</td>\n",
       "    </tr>\n",
       "    <tr>\n",
       "      <th>2</th>\n",
       "      <td>8g_iMtfSiwikVnbP2etR0A</td>\n",
       "      <td>YjUWPpI6HXG530lwP-fb2A</td>\n",
       "      <td>3</td>\n",
       "    </tr>\n",
       "  </tbody>\n",
       "</table>\n",
       "</div>"
      ],
      "text/plain": [
       "                  user_id             business_id  stars\n",
       "0  mh_-eMZ6K5RLWhZyISBhwA  XQfwVwDr-v0ZS3_CbbE5Xw      3\n",
       "1  OyoGAe7OKpv6SyGZT5g77Q  7ATYjTIgM3jUlt4UM3IypQ      5\n",
       "2  8g_iMtfSiwikVnbP2etR0A  YjUWPpI6HXG530lwP-fb2A      3"
      ]
     },
     "execution_count": 4,
     "metadata": {},
     "output_type": "execute_result"
    }
   ],
   "source": [
    "df_review.head(3)"
   ]
  },
  {
   "cell_type": "code",
   "execution_count": 5,
   "id": "a5ecedd0-e1d9-4e39-9fb2-d206d242a4ab",
   "metadata": {},
   "outputs": [
    {
     "data": {
      "text/plain": [
       "Counter({3: 691934, 5: 3231627, 4: 1452918, 1: 1069561, 2: 544240})"
      ]
     },
     "execution_count": 5,
     "metadata": {},
     "output_type": "execute_result"
    }
   ],
   "source": [
    "Counter(df_review.stars)"
   ]
  },
  {
   "cell_type": "markdown",
   "id": "c603c522-6cc4-4a71-9a71-ab8252ac5a99",
   "metadata": {},
   "source": [
    "## Data Preprocessing"
   ]
  },
  {
   "cell_type": "markdown",
   "id": "8a294d1c-bcaf-41e4-98f3-a59010efa77c",
   "metadata": {},
   "source": [
    "### Indexing users and businesses"
   ]
  },
  {
   "cell_type": "code",
   "execution_count": 6,
   "id": "b2263853-66d6-482e-84e7-b72bb2a016d8",
   "metadata": {},
   "outputs": [],
   "source": [
    "def encode_column(column):\n",
    "    \"\"\" Encodes a pandas column with continous IDs\"\"\"\n",
    "    keys = column.unique()\n",
    "    key_to_id = {key:idx for idx,key in enumerate(keys)}\n",
    "    return key_to_id, np.array([key_to_id[x] for x in column]), len(keys)\n",
    "\n",
    "def encode_df(df_review):\n",
    "    \"\"\"Encodes rating data with continuous user and anime ids\"\"\"\n",
    "    \n",
    "    buz_ids, df_review['business_id'], num_buz = encode_column(df_review['business_id'])\n",
    "    user_ids, df_review['user_id'], num_users = encode_column(df_review['user_id'])\n",
    "    return df_review, num_users, num_buz, user_ids, buz_ids"
   ]
  },
  {
   "cell_type": "code",
   "execution_count": 7,
   "id": "4d110bbd-4841-4d7e-8bb8-8f49e6700fcf",
   "metadata": {},
   "outputs": [],
   "source": [
    "train_df, test_df = train_test_split(df_review, test_size=0.2)\n",
    "train_df = train_df.reset_index()[[\"user_id\", \"business_id\", \"stars\"]]\n",
    "test_df = test_df.reset_index()[[\"user_id\", \"business_id\", \"stars\"]]\n",
    "test_df = test_df.reset_index()[[\"user_id\", \"business_id\", \"stars\"]]"
   ]
  },
  {
   "cell_type": "code",
   "execution_count": 41,
   "id": "057047fa-661c-45f6-86e0-6275ac9e0cd2",
   "metadata": {},
   "outputs": [
    {
     "data": {
      "text/plain": [
       "5592224"
      ]
     },
     "execution_count": 41,
     "metadata": {},
     "output_type": "execute_result"
    }
   ],
   "source": [
    "train_df.shape[0]"
   ]
  },
  {
   "cell_type": "code",
   "execution_count": 8,
   "id": "7bf05a39-6596-4b00-b903-137ef02242d7",
   "metadata": {},
   "outputs": [
    {
     "name": "stdout",
     "output_type": "stream",
     "text": [
      "Number of users : 1746531\n",
      "Number of businesses : 150340\n"
     ]
    },
    {
     "data": {
      "text/html": [
       "<div>\n",
       "<style scoped>\n",
       "    .dataframe tbody tr th:only-of-type {\n",
       "        vertical-align: middle;\n",
       "    }\n",
       "\n",
       "    .dataframe tbody tr th {\n",
       "        vertical-align: top;\n",
       "    }\n",
       "\n",
       "    .dataframe thead th {\n",
       "        text-align: right;\n",
       "    }\n",
       "</style>\n",
       "<table border=\"1\" class=\"dataframe\">\n",
       "  <thead>\n",
       "    <tr style=\"text-align: right;\">\n",
       "      <th></th>\n",
       "      <th>user_id</th>\n",
       "      <th>business_id</th>\n",
       "      <th>stars</th>\n",
       "    </tr>\n",
       "  </thead>\n",
       "  <tbody>\n",
       "    <tr>\n",
       "      <th>0</th>\n",
       "      <td>0</td>\n",
       "      <td>0</td>\n",
       "      <td>5</td>\n",
       "    </tr>\n",
       "    <tr>\n",
       "      <th>1</th>\n",
       "      <td>1</td>\n",
       "      <td>1</td>\n",
       "      <td>5</td>\n",
       "    </tr>\n",
       "    <tr>\n",
       "      <th>2</th>\n",
       "      <td>2</td>\n",
       "      <td>2</td>\n",
       "      <td>4</td>\n",
       "    </tr>\n",
       "    <tr>\n",
       "      <th>3</th>\n",
       "      <td>3</td>\n",
       "      <td>3</td>\n",
       "      <td>5</td>\n",
       "    </tr>\n",
       "    <tr>\n",
       "      <th>4</th>\n",
       "      <td>4</td>\n",
       "      <td>4</td>\n",
       "      <td>5</td>\n",
       "    </tr>\n",
       "  </tbody>\n",
       "</table>\n",
       "</div>"
      ],
      "text/plain": [
       "   user_id  business_id  stars\n",
       "0        0            0      5\n",
       "1        1            1      5\n",
       "2        2            2      4\n",
       "3        3            3      5\n",
       "4        4            4      5"
      ]
     },
     "execution_count": 8,
     "metadata": {},
     "output_type": "execute_result"
    }
   ],
   "source": [
    "train_df, num_users, num_buz, user_ids, buz_ids = encode_df(train_df)\n",
    "print(\"Number of users :\", num_users)\n",
    "print(\"Number of businesses :\", num_buz)\n",
    "train_df.head()"
   ]
  },
  {
   "cell_type": "code",
   "execution_count": 6,
   "id": "f8f23490-96be-4a66-bd4e-37e959298116",
   "metadata": {},
   "outputs": [
    {
     "name": "stdout",
     "output_type": "stream",
     "text": [
      "Sparsity of utility matrix in training: 99.997870%\n"
     ]
    }
   ],
   "source": [
    "um_size = 1746531 * 150340\n",
    "non_zero = 5592224\n",
    "print(f\"Sparsity of utility matrix in training: {(um_size - non_zero)/um_size:%}\")"
   ]
  },
  {
   "cell_type": "code",
   "execution_count": 9,
   "id": "07e5dcaf-99cd-4cef-8152-3b83f3d73ad4",
   "metadata": {},
   "outputs": [],
   "source": [
    "def encode_new_data(valid_df, user_ids, anime_ids):\n",
    "    \"\"\" Encodes valid_df with the same encoding as train_df.\n",
    "    \"\"\"\n",
    "    df_val_chosen = valid_df['business_id'].isin(anime_ids.keys()) & valid_df['user_id'].isin(user_ids.keys())\n",
    "    valid_df = valid_df[df_val_chosen]\n",
    "    valid_df['business_id'] =  np.array([anime_ids[x] for x in valid_df['business_id']])\n",
    "    valid_df['user_id'] = np.array([user_ids[x] for x in valid_df['user_id']])\n",
    "    return valid_df"
   ]
  },
  {
   "cell_type": "code",
   "execution_count": 10,
   "id": "a38741c7-9807-4390-8f5e-930397351c45",
   "metadata": {},
   "outputs": [
    {
     "name": "stdout",
     "output_type": "stream",
     "text": [
      "before encoding: (1398056, 3)\n"
     ]
    },
    {
     "name": "stderr",
     "output_type": "stream",
     "text": [
      "/var/folders/dp/f69vs__d2xl1hb9zdnxjh2k80000gn/T/ipykernel_43557/715814154.py:6: SettingWithCopyWarning: \n",
      "A value is trying to be set on a copy of a slice from a DataFrame.\n",
      "Try using .loc[row_indexer,col_indexer] = value instead\n",
      "\n",
      "See the caveats in the documentation: https://pandas.pydata.org/pandas-docs/stable/user_guide/indexing.html#returning-a-view-versus-a-copy\n",
      "  valid_df['business_id'] =  np.array([anime_ids[x] for x in valid_df['business_id']])\n"
     ]
    },
    {
     "name": "stdout",
     "output_type": "stream",
     "text": [
      "after encoding: (1140887, 3)\n"
     ]
    },
    {
     "name": "stderr",
     "output_type": "stream",
     "text": [
      "/var/folders/dp/f69vs__d2xl1hb9zdnxjh2k80000gn/T/ipykernel_43557/715814154.py:7: SettingWithCopyWarning: \n",
      "A value is trying to be set on a copy of a slice from a DataFrame.\n",
      "Try using .loc[row_indexer,col_indexer] = value instead\n",
      "\n",
      "See the caveats in the documentation: https://pandas.pydata.org/pandas-docs/stable/user_guide/indexing.html#returning-a-view-versus-a-copy\n",
      "  valid_df['user_id'] = np.array([user_ids[x] for x in valid_df['user_id']])\n"
     ]
    }
   ],
   "source": [
    "print(\"before encoding:\", test_df.shape)\n",
    "test_df = encode_new_data(test_df, user_ids, buz_ids)\n",
    "print(\"after encoding:\", test_df.shape)"
   ]
  },
  {
   "cell_type": "code",
   "execution_count": 40,
   "id": "97c739b9-6975-4ec9-a321-4a27b8336db6",
   "metadata": {},
   "outputs": [
    {
     "data": {
      "text/plain": [
       "257169"
      ]
     },
     "execution_count": 40,
     "metadata": {},
     "output_type": "execute_result"
    }
   ],
   "source": [
    "1398056 - 1140887"
   ]
  },
  {
   "cell_type": "markdown",
   "id": "52e70544-e3c5-4b40-9641-d31e1d5c1d66",
   "metadata": {},
   "source": [
    "## Training"
   ]
  },
  {
   "cell_type": "markdown",
   "id": "7dd1d763-ceb6-4db5-8a5c-b1381e74f6ee",
   "metadata": {},
   "source": [
    "Initializing user and item embeddings"
   ]
  },
  {
   "cell_type": "code",
   "execution_count": 11,
   "id": "12b86ec5-acc6-402b-9758-a7cde6cb0104",
   "metadata": {},
   "outputs": [],
   "source": [
    "def create_embeddings(n, K):\n",
    "    \"\"\"\n",
    "    Creates a random numpy matrix of shape n, K with uniform values in (0, 11/K)\n",
    "    n: number of items/users\n",
    "    K: number of factors in the embedding \n",
    "    \"\"\"\n",
    "    return 11*np.random.random((n, K)) / K"
   ]
  },
  {
   "cell_type": "markdown",
   "id": "bac2cdb8-f991-4055-9aeb-5dbece966304",
   "metadata": {},
   "source": [
    "Creating sparse utility matrix"
   ]
  },
  {
   "cell_type": "code",
   "execution_count": 12,
   "id": "b71f4145-c741-46d5-941f-797d4dbce0a5",
   "metadata": {},
   "outputs": [],
   "source": [
    "def create_sparse_matrix(df, rows, cols, column_name=\"stars\"):\n",
    "    \"\"\" Returns a sparse utility matrix\"\"\" \n",
    "    return sparse.csc_matrix((df[column_name].values,(df['user_id'].values, df['business_id'].values)),shape=(rows, cols))"
   ]
  },
  {
   "cell_type": "code",
   "execution_count": 13,
   "id": "f05d9331-64d1-457b-8cf8-8abe519caf97",
   "metadata": {},
   "outputs": [],
   "source": [
    "Y = create_sparse_matrix(train_df, num_users, num_buz)"
   ]
  },
  {
   "cell_type": "code",
   "execution_count": 14,
   "id": "59a228bb-c4ed-4d9f-b1dc-c3cd42e15013",
   "metadata": {},
   "outputs": [],
   "source": [
    "def predict(df, emb_user, emb_buz):\n",
    "    \"\"\" This function computes df[\"prediction\"] without doing (U*V^T).\n",
    "    \n",
    "    Computes df[\"prediction\"] by using elementwise multiplication of the corresponding embeddings and then \n",
    "    sum to get the prediction u_i*v_j. This avoids creating the dense matrix U*V^T.\n",
    "    \"\"\"\n",
    "    df['prediction'] = np.sum(np.multiply(emb_buz[df['business_id']],emb_user[df['user_id']]), axis=1)\n",
    "    return df"
   ]
  },
  {
   "cell_type": "code",
   "execution_count": 15,
   "id": "31b04e29-1cd9-4f1a-ae90-570cec9da853",
   "metadata": {},
   "outputs": [],
   "source": [
    "def cost(df, emb_user, emb_buz):\n",
    "    \"\"\" Computes mean square error\"\"\"\n",
    "    Y = create_sparse_matrix(df, emb_user.shape[0], emb_buz.shape[0])\n",
    "    predicted = create_sparse_matrix(predict(df, emb_user, emb_buz), emb_user.shape[0], emb_buz.shape[0], 'prediction')\n",
    "    return np.sum((Y-predicted).power(2))/df.shape[0] "
   ]
  },
  {
   "cell_type": "code",
   "execution_count": 16,
   "id": "74d2146b-461f-46d9-8ad9-f34669eb18eb",
   "metadata": {},
   "outputs": [],
   "source": [
    "def gradient(df, emb_user, emb_buz, lmbda=0.0002):\n",
    "    \"\"\" Computes the gradient for user and anime embeddings\"\"\"\n",
    "    Y = create_sparse_matrix(df, emb_user.shape[0], emb_buz.shape[0])\n",
    "    predicted = create_sparse_matrix(predict(df, emb_user, emb_buz), emb_user.shape[0], emb_buz.shape[0], 'prediction')\n",
    "    delta =(Y-predicted)\n",
    "    grad_user = (-2/df.shape[0])*(delta*emb_buz) + 2*lmbda*emb_user\n",
    "    grad_anime = (-2/df.shape[0])*(delta.T*emb_user) + 2*lmbda*emb_buz\n",
    "    return grad_user, grad_anime"
   ]
  },
  {
   "cell_type": "code",
   "execution_count": 17,
   "id": "8fd66db6-6719-4113-9aa9-8442652926b2",
   "metadata": {},
   "outputs": [],
   "source": [
    "def gradient_descent(df, emb_user, emb_buz, iterations=2000, learning_rate=0.01, df_val=None, lmbda=0.0002):\n",
    "    \"\"\" \n",
    "    Computes gradient descent with momentum (0.9) for given number of iterations.\n",
    "    emb_user: the trained user embedding\n",
    "    emb_buz: the trained business embedding\n",
    "    \"\"\"\n",
    "    Y = create_sparse_matrix(df, emb_user.shape[0], emb_buz.shape[0])\n",
    "    beta = 0.9\n",
    "    grad_user, grad_anime = gradient(df, emb_user, emb_buz)\n",
    "    v_user = grad_user\n",
    "    v_anime = grad_anime\n",
    "    metrics = []\n",
    "    for i in range(iterations):\n",
    "        metric_record = {}\n",
    "        grad_user, grad_anime = gradient(df, emb_user, emb_buz, lmbda)\n",
    "        v_user = beta*v_user + (1-beta)*grad_user\n",
    "        v_anime = beta*v_anime + (1-beta)*grad_anime\n",
    "        emb_user = emb_user - learning_rate*v_user\n",
    "        emb_buz = emb_buz - learning_rate*v_anime\n",
    "        if (not (i+1)%20) or i==0:\n",
    "            metric_record[\"iteration\"] = i + 1\n",
    "            print(\"\\niteration\", i+1, \":\")\n",
    "            loss_train = cost(df, emb_user, emb_buz)\n",
    "            metric_record[\"loss_train\"] = loss_train\n",
    "            print(\"train mse:\", loss_train)\n",
    "            if df_val is not None:\n",
    "                loss_val = cost(df_val, emb_user, emb_buz)\n",
    "                metric_record[\"loss_val\"] = loss_val\n",
    "                print(\"validation mse:\", loss_val)\n",
    "            metrics.append(metric_record)\n",
    "    metrics = pd.DataFrame(data=metrics)\n",
    "    return emb_user, emb_buz, metrics"
   ]
  },
  {
   "cell_type": "code",
   "execution_count": 18,
   "id": "e1254e16-754c-45fa-badc-737413617244",
   "metadata": {
    "collapsed": true,
    "jupyter": {
     "outputs_hidden": true
    },
    "tags": []
   },
   "outputs": [
    {
     "name": "stdout",
     "output_type": "stream",
     "text": [
      "\n",
      "iteration 1 :\n",
      "train mse: 73.1280641684877\n",
      "validation mse: 68.69694094661259\n",
      "\n",
      "iteration 20 :\n",
      "train mse: 61.87827358335583\n",
      "validation mse: 58.0312416294933\n",
      "\n",
      "iteration 40 :\n",
      "train mse: 52.95455411977385\n",
      "validation mse: 49.571662839403686\n",
      "\n",
      "iteration 60 :\n",
      "train mse: 45.8984362271514\n",
      "validation mse: 42.891359580022744\n",
      "\n",
      "iteration 80 :\n",
      "train mse: 40.1096588579106\n",
      "validation mse: 37.42037781863893\n",
      "\n",
      "iteration 100 :\n",
      "train mse: 35.26162516379324\n",
      "validation mse: 32.84646947874954\n",
      "\n",
      "iteration 120 :\n",
      "train mse: 31.147275416072425\n",
      "validation mse: 28.97132741594937\n",
      "\n",
      "iteration 140 :\n",
      "train mse: 27.623054261262673\n",
      "validation mse: 25.657493181216157\n",
      "\n",
      "iteration 160 :\n",
      "train mse: 24.583658244773908\n",
      "validation mse: 22.804205039189178\n",
      "\n",
      "iteration 180 :\n",
      "train mse: 21.94887477313825\n",
      "validation mse: 20.334775526355635\n",
      "\n",
      "iteration 200 :\n",
      "train mse: 19.65591438475341\n",
      "validation mse: 18.189231574026422\n",
      "\n",
      "iteration 220 :\n",
      "train mse: 17.654586186974306\n",
      "validation mse: 16.319682107390708\n",
      "\n",
      "iteration 240 :\n",
      "train mse: 15.904093246166873\n",
      "validation mse: 14.687240556216738\n",
      "\n",
      "iteration 260 :\n",
      "train mse: 14.37081515071124\n",
      "validation mse: 13.259895255149637\n",
      "\n",
      "iteration 280 :\n",
      "train mse: 13.026723678684315\n",
      "validation mse: 12.01098795313958\n",
      "\n",
      "iteration 300 :\n",
      "train mse: 11.848221115540737\n",
      "validation mse: 10.918098404007152\n",
      "\n",
      "iteration 320 :\n",
      "train mse: 10.815269946742132\n",
      "validation mse: 9.962208972672336\n",
      "\n",
      "iteration 340 :\n",
      "train mse: 9.910728810064336\n",
      "validation mse: 9.127067487188677\n",
      "\n",
      "iteration 360 :\n",
      "train mse: 9.119837750394295\n",
      "validation mse: 8.398693597417271\n",
      "\n",
      "iteration 380 :\n",
      "train mse: 8.429813642454462\n",
      "validation mse: 7.764991017472373\n",
      "\n",
      "iteration 400 :\n",
      "train mse: 7.829528278686826\n",
      "validation mse: 7.2154392047765015\n",
      "\n",
      "iteration 420 :\n",
      "train mse: 7.309249411051217\n",
      "validation mse: 6.740845517723548\n",
      "\n",
      "iteration 440 :\n",
      "train mse: 6.8604303734717424\n",
      "validation mse: 6.333144026738548\n",
      "\n",
      "iteration 460 :\n",
      "train mse: 6.475537641691552\n",
      "validation mse: 5.985230741348098\n",
      "\n",
      "iteration 480 :\n",
      "train mse: 6.147908339810126\n",
      "validation mse: 5.6908275679426845\n",
      "\n",
      "iteration 500 :\n",
      "train mse: 5.871631618868172\n",
      "validation mse: 5.444369156799846\n",
      "\n",
      "iteration 520 :\n",
      "train mse: 5.6414492366964515\n",
      "validation mse: 5.240908148048364\n",
      "\n",
      "iteration 540 :\n",
      "train mse: 5.452671710109321\n",
      "validation mse: 5.076035329019464\n",
      "\n",
      "iteration 560 :\n",
      "train mse: 5.3011071928847\n",
      "validation mse: 4.945811968407593\n",
      "\n",
      "iteration 580 :\n",
      "train mse: 5.183000826845993\n",
      "validation mse: 4.846712164171534\n",
      "\n",
      "iteration 600 :\n",
      "train mse: 5.094982768678107\n",
      "validation mse: 4.775573480199458\n",
      "\n",
      "iteration 620 :\n",
      "train mse: 5.034023447435381\n",
      "validation mse: 4.7295544856780145\n",
      "\n",
      "iteration 640 :\n",
      "train mse: 4.9973948826852315\n",
      "validation mse: 4.706098075546186\n",
      "\n",
      "iteration 660 :\n",
      "train mse: 4.982637109580884\n",
      "validation mse: 4.702899658393625\n",
      "\n",
      "iteration 680 :\n",
      "train mse: 4.987528928654865\n",
      "validation mse: 4.7178794629586225\n",
      "\n",
      "iteration 700 :\n",
      "train mse: 5.01006233502922\n",
      "validation mse: 4.7491583458748945\n",
      "\n",
      "iteration 720 :\n",
      "train mse: 5.048420091751614\n",
      "validation mse: 4.7950365889293645\n",
      "\n",
      "iteration 740 :\n",
      "train mse: 5.100956000922076\n",
      "validation mse: 4.8539752594454555\n",
      "\n",
      "iteration 760 :\n",
      "train mse: 5.166177498627687\n",
      "validation mse: 4.9245797767888595\n",
      "\n",
      "iteration 780 :\n",
      "train mse: 5.242730258878449\n",
      "validation mse: 5.005585384705253\n",
      "\n",
      "iteration 800 :\n",
      "train mse: 5.329384540390513\n",
      "validation mse: 5.0958442757992755\n",
      "\n",
      "iteration 820 :\n",
      "train mse: 5.425023050265143\n",
      "validation mse: 5.194314152943801\n",
      "\n",
      "iteration 840 :\n",
      "train mse: 5.528630131987313\n",
      "validation mse: 5.300048044334083\n",
      "\n",
      "iteration 860 :\n",
      "train mse: 5.63928211300132\n",
      "validation mse: 5.412185215507035\n",
      "\n",
      "iteration 880 :\n",
      "train mse: 5.7561386704314215\n",
      "validation mse: 5.529943043913906\n",
      "\n",
      "iteration 900 :\n",
      "train mse: 5.87843509311856\n",
      "validation mse: 5.652609740346887\n",
      "\n",
      "iteration 920 :\n",
      "train mse: 6.005475334692532\n",
      "validation mse: 5.779537817306513\n",
      "\n",
      "iteration 940 :\n",
      "train mse: 6.136625766421599\n",
      "validation mse: 5.91013821776379\n",
      "\n",
      "iteration 960 :\n",
      "train mse: 6.271309550504884\n",
      "validation mse: 6.0438750291293335\n",
      "\n",
      "iteration 980 :\n",
      "train mse: 6.409001564646784\n",
      "validation mse: 6.180260716926432\n",
      "\n",
      "iteration 1000 :\n",
      "train mse: 6.549223817460769\n",
      "validation mse: 6.318851820949318\n",
      "CPU times: user 21min 49s, sys: 39.1 s, total: 22min 28s\n",
      "Wall time: 25min\n"
     ]
    }
   ],
   "source": [
    "%%time\n",
    "emb_user = create_embeddings(num_users, 3)\n",
    "emb_buz = create_embeddings(num_buz, 3)\n",
    "emb_user, emb_buz, mf_metrics = gradient_descent(train_df, emb_user, emb_buz, iterations=1000, learning_rate=2, df_val=test_df)"
   ]
  },
  {
   "cell_type": "code",
   "execution_count": 20,
   "id": "c2b19cb7-f3eb-454a-8b6a-02bb6aa2cd2d",
   "metadata": {},
   "outputs": [],
   "source": [
    "mf_metrics.to_json(\"mf_metrics.json\", orient=\"records\")"
   ]
  },
  {
   "cell_type": "code",
   "execution_count": 21,
   "id": "f26987f4-2340-4b17-9057-bf464c70a8af",
   "metadata": {},
   "outputs": [],
   "source": [
    "mf_metrics = pd.read_json(\"mf_metrics.json\")"
   ]
  },
  {
   "cell_type": "code",
   "execution_count": 35,
   "id": "42f8d39c-3208-469c-b979-08f87e773575",
   "metadata": {},
   "outputs": [
    {
     "data": {
      "text/html": [
       "\n",
       "<div id=\"altair-viz-0cc2f1b9350243908b0ae7b324db89ea\"></div>\n",
       "<script type=\"text/javascript\">\n",
       "  var VEGA_DEBUG = (typeof VEGA_DEBUG == \"undefined\") ? {} : VEGA_DEBUG;\n",
       "  (function(spec, embedOpt){\n",
       "    let outputDiv = document.currentScript.previousElementSibling;\n",
       "    if (outputDiv.id !== \"altair-viz-0cc2f1b9350243908b0ae7b324db89ea\") {\n",
       "      outputDiv = document.getElementById(\"altair-viz-0cc2f1b9350243908b0ae7b324db89ea\");\n",
       "    }\n",
       "    const paths = {\n",
       "      \"vega\": \"https://cdn.jsdelivr.net/npm//vega@5?noext\",\n",
       "      \"vega-lib\": \"https://cdn.jsdelivr.net/npm//vega-lib?noext\",\n",
       "      \"vega-lite\": \"https://cdn.jsdelivr.net/npm//vega-lite@4.17.0?noext\",\n",
       "      \"vega-embed\": \"https://cdn.jsdelivr.net/npm//vega-embed@6?noext\",\n",
       "    };\n",
       "\n",
       "    function maybeLoadScript(lib, version) {\n",
       "      var key = `${lib.replace(\"-\", \"\")}_version`;\n",
       "      return (VEGA_DEBUG[key] == version) ?\n",
       "        Promise.resolve(paths[lib]) :\n",
       "        new Promise(function(resolve, reject) {\n",
       "          var s = document.createElement('script');\n",
       "          document.getElementsByTagName(\"head\")[0].appendChild(s);\n",
       "          s.async = true;\n",
       "          s.onload = () => {\n",
       "            VEGA_DEBUG[key] = version;\n",
       "            return resolve(paths[lib]);\n",
       "          };\n",
       "          s.onerror = () => reject(`Error loading script: ${paths[lib]}`);\n",
       "          s.src = paths[lib];\n",
       "        });\n",
       "    }\n",
       "\n",
       "    function showError(err) {\n",
       "      outputDiv.innerHTML = `<div class=\"error\" style=\"color:red;\">${err}</div>`;\n",
       "      throw err;\n",
       "    }\n",
       "\n",
       "    function displayChart(vegaEmbed) {\n",
       "      vegaEmbed(outputDiv, spec, embedOpt)\n",
       "        .catch(err => showError(`Javascript Error: ${err.message}<br>This usually means there's a typo in your chart specification. See the javascript console for the full traceback.`));\n",
       "    }\n",
       "\n",
       "    if(typeof define === \"function\" && define.amd) {\n",
       "      requirejs.config({paths});\n",
       "      require([\"vega-embed\"], displayChart, err => showError(`Error loading script: ${err.message}`));\n",
       "    } else {\n",
       "      maybeLoadScript(\"vega\", \"5\")\n",
       "        .then(() => maybeLoadScript(\"vega-lite\", \"4.17.0\"))\n",
       "        .then(() => maybeLoadScript(\"vega-embed\", \"6\"))\n",
       "        .catch(showError)\n",
       "        .then(() => displayChart(vegaEmbed));\n",
       "    }\n",
       "  })({\"config\": {\"view\": {\"continuousWidth\": 400, \"continuousHeight\": 300}}, \"data\": {\"name\": \"data-252c9db9f2d0244d4e8a87a38c740d13\"}, \"mark\": \"line\", \"encoding\": {\"color\": {\"field\": \"variable\", \"type\": \"nominal\"}, \"x\": {\"field\": \"iteration\", \"type\": \"quantitative\"}, \"y\": {\"field\": \"value\", \"title\": \"MSE\", \"type\": \"quantitative\"}}, \"$schema\": \"https://vega.github.io/schema/vega-lite/v4.17.0.json\", \"datasets\": {\"data-252c9db9f2d0244d4e8a87a38c740d13\": [{\"iteration\": 1, \"variable\": \"loss_train\", \"value\": 73.1280641685}, {\"iteration\": 20, \"variable\": \"loss_train\", \"value\": 61.8782735834}, {\"iteration\": 40, \"variable\": \"loss_train\", \"value\": 52.9545541198}, {\"iteration\": 60, \"variable\": \"loss_train\", \"value\": 45.8984362272}, {\"iteration\": 80, \"variable\": \"loss_train\", \"value\": 40.1096588579}, {\"iteration\": 100, \"variable\": \"loss_train\", \"value\": 35.2616251638}, {\"iteration\": 120, \"variable\": \"loss_train\", \"value\": 31.1472754161}, {\"iteration\": 140, \"variable\": \"loss_train\", \"value\": 27.6230542613}, {\"iteration\": 160, \"variable\": \"loss_train\", \"value\": 24.5836582448}, {\"iteration\": 180, \"variable\": \"loss_train\", \"value\": 21.948874773100002}, {\"iteration\": 200, \"variable\": \"loss_train\", \"value\": 19.6559143848}, {\"iteration\": 220, \"variable\": \"loss_train\", \"value\": 17.654586187}, {\"iteration\": 240, \"variable\": \"loss_train\", \"value\": 15.9040932462}, {\"iteration\": 260, \"variable\": \"loss_train\", \"value\": 14.3708151507}, {\"iteration\": 280, \"variable\": \"loss_train\", \"value\": 13.0267236787}, {\"iteration\": 300, \"variable\": \"loss_train\", \"value\": 11.8482211155}, {\"iteration\": 320, \"variable\": \"loss_train\", \"value\": 10.8152699467}, {\"iteration\": 340, \"variable\": \"loss_train\", \"value\": 9.9107288101}, {\"iteration\": 360, \"variable\": \"loss_train\", \"value\": 9.1198377504}, {\"iteration\": 380, \"variable\": \"loss_train\", \"value\": 8.4298136425}, {\"iteration\": 400, \"variable\": \"loss_train\", \"value\": 7.8295282787}, {\"iteration\": 420, \"variable\": \"loss_train\", \"value\": 7.3092494111}, {\"iteration\": 440, \"variable\": \"loss_train\", \"value\": 6.8604303735}, {\"iteration\": 460, \"variable\": \"loss_train\", \"value\": 6.4755376417}, {\"iteration\": 480, \"variable\": \"loss_train\", \"value\": 6.1479083398}, {\"iteration\": 500, \"variable\": \"loss_train\", \"value\": 5.8716316189}, {\"iteration\": 520, \"variable\": \"loss_train\", \"value\": 5.6414492367}, {\"iteration\": 540, \"variable\": \"loss_train\", \"value\": 5.4526717101}, {\"iteration\": 560, \"variable\": \"loss_train\", \"value\": 5.3011071929}, {\"iteration\": 580, \"variable\": \"loss_train\", \"value\": 5.1830008268}, {\"iteration\": 600, \"variable\": \"loss_train\", \"value\": 5.0949827686999996}, {\"iteration\": 620, \"variable\": \"loss_train\", \"value\": 5.0340234474}, {\"iteration\": 640, \"variable\": \"loss_train\", \"value\": 4.9973948827}, {\"iteration\": 660, \"variable\": \"loss_train\", \"value\": 4.9826371096}, {\"iteration\": 680, \"variable\": \"loss_train\", \"value\": 4.9875289287}, {\"iteration\": 700, \"variable\": \"loss_train\", \"value\": 5.010062335}, {\"iteration\": 720, \"variable\": \"loss_train\", \"value\": 5.0484200918}, {\"iteration\": 740, \"variable\": \"loss_train\", \"value\": 5.1009560009}, {\"iteration\": 760, \"variable\": \"loss_train\", \"value\": 5.1661774986}, {\"iteration\": 780, \"variable\": \"loss_train\", \"value\": 5.2427302589}, {\"iteration\": 800, \"variable\": \"loss_train\", \"value\": 5.3293845404}, {\"iteration\": 820, \"variable\": \"loss_train\", \"value\": 5.4250230503}, {\"iteration\": 840, \"variable\": \"loss_train\", \"value\": 5.528630132}, {\"iteration\": 860, \"variable\": \"loss_train\", \"value\": 5.639282113}, {\"iteration\": 880, \"variable\": \"loss_train\", \"value\": 5.7561386704}, {\"iteration\": 900, \"variable\": \"loss_train\", \"value\": 5.8784350931}, {\"iteration\": 920, \"variable\": \"loss_train\", \"value\": 6.0054753347}, {\"iteration\": 940, \"variable\": \"loss_train\", \"value\": 6.1366257664}, {\"iteration\": 960, \"variable\": \"loss_train\", \"value\": 6.2713095505}, {\"iteration\": 980, \"variable\": \"loss_train\", \"value\": 6.4090015646000005}, {\"iteration\": 1000, \"variable\": \"loss_train\", \"value\": 6.5492238175}, {\"iteration\": 1, \"variable\": \"loss_val\", \"value\": 68.6969409466}, {\"iteration\": 20, \"variable\": \"loss_val\", \"value\": 58.0312416295}, {\"iteration\": 40, \"variable\": \"loss_val\", \"value\": 49.5716628394}, {\"iteration\": 60, \"variable\": \"loss_val\", \"value\": 42.89135958}, {\"iteration\": 80, \"variable\": \"loss_val\", \"value\": 37.4203778186}, {\"iteration\": 100, \"variable\": \"loss_val\", \"value\": 32.8464694787}, {\"iteration\": 120, \"variable\": \"loss_val\", \"value\": 28.9713274159}, {\"iteration\": 140, \"variable\": \"loss_val\", \"value\": 25.6574931812}, {\"iteration\": 160, \"variable\": \"loss_val\", \"value\": 22.8042050392}, {\"iteration\": 180, \"variable\": \"loss_val\", \"value\": 20.3347755264}, {\"iteration\": 200, \"variable\": \"loss_val\", \"value\": 18.189231574}, {\"iteration\": 220, \"variable\": \"loss_val\", \"value\": 16.3196821074}, {\"iteration\": 240, \"variable\": \"loss_val\", \"value\": 14.6872405562}, {\"iteration\": 260, \"variable\": \"loss_val\", \"value\": 13.2598952551}, {\"iteration\": 280, \"variable\": \"loss_val\", \"value\": 12.0109879531}, {\"iteration\": 300, \"variable\": \"loss_val\", \"value\": 10.918098404}, {\"iteration\": 320, \"variable\": \"loss_val\", \"value\": 9.962208972700001}, {\"iteration\": 340, \"variable\": \"loss_val\", \"value\": 9.1270674872}, {\"iteration\": 360, \"variable\": \"loss_val\", \"value\": 8.3986935974}, {\"iteration\": 380, \"variable\": \"loss_val\", \"value\": 7.7649910175}, {\"iteration\": 400, \"variable\": \"loss_val\", \"value\": 7.2154392048}, {\"iteration\": 420, \"variable\": \"loss_val\", \"value\": 6.7408455177}, {\"iteration\": 440, \"variable\": \"loss_val\", \"value\": 6.3331440267}, {\"iteration\": 460, \"variable\": \"loss_val\", \"value\": 5.9852307413}, {\"iteration\": 480, \"variable\": \"loss_val\", \"value\": 5.6908275678999996}, {\"iteration\": 500, \"variable\": \"loss_val\", \"value\": 5.4443691568}, {\"iteration\": 520, \"variable\": \"loss_val\", \"value\": 5.240908148}, {\"iteration\": 540, \"variable\": \"loss_val\", \"value\": 5.076035329}, {\"iteration\": 560, \"variable\": \"loss_val\", \"value\": 4.9458119684}, {\"iteration\": 580, \"variable\": \"loss_val\", \"value\": 4.8467121642}, {\"iteration\": 600, \"variable\": \"loss_val\", \"value\": 4.7755734802}, {\"iteration\": 620, \"variable\": \"loss_val\", \"value\": 4.7295544857}, {\"iteration\": 640, \"variable\": \"loss_val\", \"value\": 4.7060980755}, {\"iteration\": 660, \"variable\": \"loss_val\", \"value\": 4.7028996584}, {\"iteration\": 680, \"variable\": \"loss_val\", \"value\": 4.717879463}, {\"iteration\": 700, \"variable\": \"loss_val\", \"value\": 4.7491583459}, {\"iteration\": 720, \"variable\": \"loss_val\", \"value\": 4.7950365889}, {\"iteration\": 740, \"variable\": \"loss_val\", \"value\": 4.8539752594}, {\"iteration\": 760, \"variable\": \"loss_val\", \"value\": 4.9245797768}, {\"iteration\": 780, \"variable\": \"loss_val\", \"value\": 5.0055853847}, {\"iteration\": 800, \"variable\": \"loss_val\", \"value\": 5.0958442758}, {\"iteration\": 820, \"variable\": \"loss_val\", \"value\": 5.1943141529}, {\"iteration\": 840, \"variable\": \"loss_val\", \"value\": 5.3000480443}, {\"iteration\": 860, \"variable\": \"loss_val\", \"value\": 5.4121852155}, {\"iteration\": 880, \"variable\": \"loss_val\", \"value\": 5.5299430439}, {\"iteration\": 900, \"variable\": \"loss_val\", \"value\": 5.6526097403}, {\"iteration\": 920, \"variable\": \"loss_val\", \"value\": 5.7795378173}, {\"iteration\": 940, \"variable\": \"loss_val\", \"value\": 5.9101382178}, {\"iteration\": 960, \"variable\": \"loss_val\", \"value\": 6.0438750291}, {\"iteration\": 980, \"variable\": \"loss_val\", \"value\": 6.1802607169}, {\"iteration\": 1000, \"variable\": \"loss_val\", \"value\": 6.3188518209}]}}, {\"mode\": \"vega-lite\"});\n",
       "</script>"
      ],
      "text/plain": [
       "alt.Chart(...)"
      ]
     },
     "execution_count": 35,
     "metadata": {},
     "output_type": "execute_result"
    }
   ],
   "source": [
    "chart = alt.Chart(mf_metrics.melt(\"iteration\")).mark_line().encode(\n",
    "    x=\"iteration\",\n",
    "    y=alt.Y(\"value\", title=\"MSE\"),\n",
    "    color=\"variable\",\n",
    ")\n",
    "chart"
   ]
  },
  {
   "cell_type": "markdown",
   "id": "eacde350-5682-4d8e-b17d-fa0129928348",
   "metadata": {},
   "source": [
    "## Prediction"
   ]
  },
  {
   "cell_type": "code",
   "execution_count": 24,
   "id": "3886c045-ad95-4f83-bb52-31492681d207",
   "metadata": {},
   "outputs": [
    {
     "name": "stdout",
     "output_type": "stream",
     "text": [
      "6.549223817460769 6.318851820949318\n"
     ]
    }
   ],
   "source": [
    "train_mse = cost(train_df, emb_user, emb_buz)\n",
    "val_mse = cost(test_df, emb_user, emb_buz)\n",
    "print(train_mse, val_mse)"
   ]
  },
  {
   "cell_type": "code",
   "execution_count": 25,
   "id": "a40b04a7-1b0d-40c4-8ae7-ea781ad29968",
   "metadata": {},
   "outputs": [
    {
     "data": {
      "text/html": [
       "<div>\n",
       "<style scoped>\n",
       "    .dataframe tbody tr th:only-of-type {\n",
       "        vertical-align: middle;\n",
       "    }\n",
       "\n",
       "    .dataframe tbody tr th {\n",
       "        vertical-align: top;\n",
       "    }\n",
       "\n",
       "    .dataframe thead th {\n",
       "        text-align: right;\n",
       "    }\n",
       "</style>\n",
       "<table border=\"1\" class=\"dataframe\">\n",
       "  <thead>\n",
       "    <tr style=\"text-align: right;\">\n",
       "      <th></th>\n",
       "      <th>user_id</th>\n",
       "      <th>business_id</th>\n",
       "      <th>stars</th>\n",
       "      <th>prediction</th>\n",
       "    </tr>\n",
       "  </thead>\n",
       "  <tbody>\n",
       "    <tr>\n",
       "      <th>0</th>\n",
       "      <td>209518</td>\n",
       "      <td>10362</td>\n",
       "      <td>3</td>\n",
       "      <td>1.542711</td>\n",
       "    </tr>\n",
       "    <tr>\n",
       "      <th>1</th>\n",
       "      <td>983640</td>\n",
       "      <td>29061</td>\n",
       "      <td>5</td>\n",
       "      <td>2.426133</td>\n",
       "    </tr>\n",
       "    <tr>\n",
       "      <th>2</th>\n",
       "      <td>780252</td>\n",
       "      <td>78722</td>\n",
       "      <td>5</td>\n",
       "      <td>5.333369</td>\n",
       "    </tr>\n",
       "    <tr>\n",
       "      <th>3</th>\n",
       "      <td>168580</td>\n",
       "      <td>18625</td>\n",
       "      <td>5</td>\n",
       "      <td>2.220688</td>\n",
       "    </tr>\n",
       "    <tr>\n",
       "      <th>5</th>\n",
       "      <td>384367</td>\n",
       "      <td>96741</td>\n",
       "      <td>5</td>\n",
       "      <td>2.555199</td>\n",
       "    </tr>\n",
       "    <tr>\n",
       "      <th>...</th>\n",
       "      <td>...</td>\n",
       "      <td>...</td>\n",
       "      <td>...</td>\n",
       "      <td>...</td>\n",
       "    </tr>\n",
       "    <tr>\n",
       "      <th>1398051</th>\n",
       "      <td>35322</td>\n",
       "      <td>14394</td>\n",
       "      <td>4</td>\n",
       "      <td>1.900280</td>\n",
       "    </tr>\n",
       "    <tr>\n",
       "      <th>1398052</th>\n",
       "      <td>54534</td>\n",
       "      <td>58163</td>\n",
       "      <td>4</td>\n",
       "      <td>2.437889</td>\n",
       "    </tr>\n",
       "    <tr>\n",
       "      <th>1398053</th>\n",
       "      <td>569440</td>\n",
       "      <td>2277</td>\n",
       "      <td>2</td>\n",
       "      <td>0.925534</td>\n",
       "    </tr>\n",
       "    <tr>\n",
       "      <th>1398054</th>\n",
       "      <td>1035269</td>\n",
       "      <td>26214</td>\n",
       "      <td>5</td>\n",
       "      <td>0.944470</td>\n",
       "    </tr>\n",
       "    <tr>\n",
       "      <th>1398055</th>\n",
       "      <td>865336</td>\n",
       "      <td>119582</td>\n",
       "      <td>1</td>\n",
       "      <td>2.441362</td>\n",
       "    </tr>\n",
       "  </tbody>\n",
       "</table>\n",
       "<p>1140887 rows × 4 columns</p>\n",
       "</div>"
      ],
      "text/plain": [
       "         user_id  business_id  stars  prediction\n",
       "0         209518        10362      3    1.542711\n",
       "1         983640        29061      5    2.426133\n",
       "2         780252        78722      5    5.333369\n",
       "3         168580        18625      5    2.220688\n",
       "5         384367        96741      5    2.555199\n",
       "...          ...          ...    ...         ...\n",
       "1398051    35322        14394      4    1.900280\n",
       "1398052    54534        58163      4    2.437889\n",
       "1398053   569440         2277      2    0.925534\n",
       "1398054  1035269        26214      5    0.944470\n",
       "1398055   865336       119582      1    2.441362\n",
       "\n",
       "[1140887 rows x 4 columns]"
      ]
     },
     "execution_count": 25,
     "metadata": {},
     "output_type": "execute_result"
    }
   ],
   "source": [
    "test_df"
   ]
  },
  {
   "cell_type": "markdown",
   "id": "bc2f94d2-220a-4f04-b5de-636b2c0140c5",
   "metadata": {},
   "source": [
    "## Hyperparameter Tuning\n",
    "* lmbda\n",
    "* lr\n",
    "* embedding size\n",
    "* iterations"
   ]
  },
  {
   "cell_type": "code",
   "execution_count": null,
   "id": "45cdebfa-a0a6-4653-95e6-3804814003d4",
   "metadata": {},
   "outputs": [],
   "source": []
  }
 ],
 "metadata": {
  "kernelspec": {
   "display_name": "nlp",
   "language": "python",
   "name": "nlp"
  },
  "language_info": {
   "codemirror_mode": {
    "name": "ipython",
    "version": 3
   },
   "file_extension": ".py",
   "mimetype": "text/x-python",
   "name": "python",
   "nbconvert_exporter": "python",
   "pygments_lexer": "ipython3",
   "version": "3.8.10"
  }
 },
 "nbformat": 4,
 "nbformat_minor": 5
}
