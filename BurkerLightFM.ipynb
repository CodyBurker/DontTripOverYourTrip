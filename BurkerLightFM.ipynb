{
 "cells": [
  {
   "cell_type": "code",
   "execution_count": 3,
   "metadata": {},
   "outputs": [
    {
     "name": "stderr",
     "output_type": "stream",
     "text": [
      "c:\\Users\\Cody\\Anaconda3\\lib\\site-packages\\lightfm\\_lightfm_fast.py:9: UserWarning: LightFM was compiled without OpenMP support. Only a single thread will be used.\n",
      "  warnings.warn(\n"
     ]
    }
   ],
   "source": [
    "import lightfm\n",
    "import scipy as sp\n",
    "import pymongo\n",
    "import pandas as pd\n",
    "import numpy as np"
   ]
  },
  {
   "cell_type": "code",
   "execution_count": 4,
   "metadata": {},
   "outputs": [],
   "source": [
    "# Read in yelp data from mongodb\n",
    "import pymongo\n",
    "import pandas as pd\n",
    "import numpy as np\n",
    "\n",
    "# # Connect to mongodb on 192.168.1.87\n",
    "# client = pymongo.MongoClient(\n",
    "#     host='192.168.1.87',\n",
    "#     port=27017)\n",
    "# # Get the yelp database\n",
    "# db = client.yelp\n",
    "# review = db.review\n",
    "\n",
    "# # Get a random sample of 1000 reviews\n",
    "# pipeline = [\n",
    "#     {\n",
    "#         '$project': {\n",
    "#             '_id': 0, \n",
    "#             'user_id': '$user_id', \n",
    "#             'business_id': '$business_id', \n",
    "#             'stars': '$stars'\n",
    "#         }\n",
    "#     }, \n",
    "#     # {\n",
    "#     #     '$sample': {\n",
    "#     #         'size': 10000\n",
    "#     #     }\n",
    "#     # }\n",
    "# ]\n",
    "# df = pd.DataFrame(list(review.aggregate(pipeline)))\n",
    "# # Subset to only the user_id, business_id, and stars\n",
    "# df = df[['user_id', 'business_id', 'stars']]\n",
    "# # Write to parquet to save space\n",
    "# df.to_parquet('yelp.parquet',compression='gzip')"
   ]
  },
  {
   "cell_type": "code",
   "execution_count": 14,
   "metadata": {},
   "outputs": [
    {
     "name": "stdout",
     "output_type": "stream",
     "text": [
      "Train shape: (84163, 46287)\n",
      "Test shape: (84164, 46285)\n"
     ]
    }
   ],
   "source": [
    "# Read in yelp.parquet\n",
    "df = pd.read_parquet('yelp.parquet')\n",
    "# Sample df down to 10000 rows\n",
    "df = df.sample(100000)\n",
    "# Train test split\n",
    "from sklearn.model_selection import train_test_split\n",
    "# Replace user_id and business_id with unique integers\n",
    "user_id = df.user_id.unique()\n",
    "business_id = df.business_id.unique()\n",
    "user_id_map = {user_id[i]: i for i in range(len(user_id))}\n",
    "business_id_map = {business_id[i]: i for i in range(len(business_id))}\n",
    "# Replace\n",
    "df.user_id = df.user_id.map(user_id_map)\n",
    "df.business_id = df.business_id.map(business_id_map)\n",
    "# Replace NaN with 0\n",
    "df.stars = df.stars.fillna(0)\n",
    "# Add column to indicate train test split\n",
    "df['train'] = np.random.uniform(0, 1, len(df)) <= .75\n",
    "# Create sparse matrix of user_id, business_id, stars\n",
    "# That is size  (no_users, no_businesses)\n",
    "train = df[df.train==True]\n",
    "test = df[df.train==False]\n",
    "train_sparse = sp.sparse.coo_matrix((train.stars, (train.user_id, train.business_id))) \n",
    "test_sparse = sp.sparse.coo_matrix((test.stars, (test.user_id, test.business_id)))\n",
    "# Print train and test dimensions\n",
    "print(f'Train shape: {train_sparse.shape}')\n",
    "print(f'Test shape: {test_sparse.shape}')"
   ]
  },
  {
   "cell_type": "code",
   "execution_count": 15,
   "metadata": {},
   "outputs": [],
   "source": [
    "# Each row represents a user, and each column an item. Entries are ratings from 1 to 5. "
   ]
  },
  {
   "cell_type": "code",
   "execution_count": 16,
   "metadata": {},
   "outputs": [
    {
     "name": "stdout",
     "output_type": "stream",
     "text": [
      "Train users: 65047\t Train businesses: 38802\n",
      "Test users: 23411\t Test businesses: 17637\n",
      "Total users: 84164\t Total businesses: 46287\n"
     ]
    }
   ],
   "source": [
    "# Get unique number of users and businesses in train (not train_sparse)\n",
    "n_users_train = len(df[df.train].user_id.unique())\n",
    "n_businesses_train = len(df[df.train].business_id.unique())\n",
    "print(f'Train users: {n_users_train}\\t Train businesses: {n_businesses_train}')\n",
    "# Same for test\n",
    "n_users_test = len(df[~df.train].user_id.unique())\n",
    "n_businesses_test = len(df[~df.train].business_id.unique())\n",
    "print(f'Test users: {n_users_test}\\t Test businesses: {n_businesses_test}')\n",
    "# Do for total dataset\n",
    "n_users = len(df.user_id.unique())\n",
    "n_businesses = len(df.business_id.unique())\n",
    "print(f'Total users: {n_users}\\t Total businesses: {n_businesses}')"
   ]
  },
  {
   "cell_type": "code",
   "execution_count": 19,
   "metadata": {},
   "outputs": [
    {
     "data": {
      "text/plain": [
       "<lightfm.lightfm.LightFM at 0x1ac6c136ca0>"
      ]
     },
     "execution_count": 19,
     "metadata": {},
     "output_type": "execute_result"
    }
   ],
   "source": [
    "from lightfm import LightFM\n",
    "from lightfm.datasets import fetch_movielens\n",
    "from lightfm.evaluation import precision_at_k\n",
    "from lightfm.evaluation import auc_score\n",
    "\n",
    "# Instantiate and train the model\n",
    "model = LightFM()\n",
    "model.fit(train_sparse, epochs=30, num_threads=2)"
   ]
  },
  {
   "cell_type": "code",
   "execution_count": 20,
   "metadata": {},
   "outputs": [],
   "source": [
    "test_precision = precision_at_k(model, train_sparse, k=5).mean()\n",
    "print(f'Train Precision: {test_precision:.2f}')\n"
   ]
  },
  {
   "cell_type": "code",
   "execution_count": null,
   "metadata": {},
   "outputs": [
    {
     "name": "stdout",
     "output_type": "stream",
     "text": [
      "Train AUC: 0.9138168692588806\n"
     ]
    }
   ],
   "source": [
    "\n",
    "train_auc = auc_score(model, train_sparse).mean()\n",
    "print(f'Train AUC: {train_auc:.2f}')"
   ]
  },
  {
   "cell_type": "code",
   "execution_count": null,
   "metadata": {},
   "outputs": [],
   "source": []
  }
 ],
 "metadata": {
  "kernelspec": {
   "display_name": "Python 3.8.8 ('base')",
   "language": "python",
   "name": "python3"
  },
  "language_info": {
   "codemirror_mode": {
    "name": "ipython",
    "version": 3
   },
   "file_extension": ".py",
   "mimetype": "text/x-python",
   "name": "python",
   "nbconvert_exporter": "python",
   "pygments_lexer": "ipython3",
   "version": "3.8.8"
  },
  "orig_nbformat": 4,
  "vscode": {
   "interpreter": {
    "hash": "b753293eeed7dd01a3c305805d9faff58b202065bdcc218b14b7e0e75e2a4dea"
   }
  }
 },
 "nbformat": 4,
 "nbformat_minor": 2
}
