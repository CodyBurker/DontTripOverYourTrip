{
 "cells": [
  {
   "cell_type": "code",
   "execution_count": 1,
   "metadata": {},
   "outputs": [
    {
     "name": "stderr",
     "output_type": "stream",
     "text": [
      "c:\\Users\\Cody\\Anaconda3\\lib\\site-packages\\lightfm\\_lightfm_fast.py:9: UserWarning: LightFM was compiled without OpenMP support. Only a single thread will be used.\n",
      "  warnings.warn(\n"
     ]
    }
   ],
   "source": [
    "import lightfm\n",
    "import scipy as sp\n",
    "import pymongo\n",
    "import pandas as pd\n",
    "import numpy as np"
   ]
  },
  {
   "cell_type": "code",
   "execution_count": 6,
   "metadata": {},
   "outputs": [],
   "source": [
    "# Connect to mongodb on 192.168.1.87\n",
    "client = pymongo.MongoClient(\n",
    "    host='192.168.1.87',\n",
    "    port=27017)\n",
    "# Get the yelp database\n",
    "db = client.yelp\n",
    "review = db.review"
   ]
  },
  {
   "cell_type": "code",
   "execution_count": 11,
   "metadata": {},
   "outputs": [],
   "source": [
    "# Get a random sample of 1000 reviews\n",
    "pipeline = [\n",
    "    {\n",
    "        '$project': {\n",
    "            '_id': 0, \n",
    "            'user_id': '$user_id', \n",
    "            'business_id': '$business_id', \n",
    "            'stars': '$stars'\n",
    "        }\n",
    "    }, \n",
    "    # {\n",
    "    #     '$sample': {\n",
    "    #         'size': 10000\n",
    "    #     }\n",
    "    # }\n",
    "]\n",
    "df = pd.DataFrame(list(review.aggregate(pipeline)))\n",
    "# Subset to only the user_id, business_id, and stars\n",
    "df = df[['user_id', 'business_id', 'stars']]\n",
    "# Write to parquet to save space\n",
    "df.to_parquet('yelp.parquet',compression='gzip')"
   ]
  },
  {
   "cell_type": "code",
   "execution_count": 25,
   "metadata": {},
   "outputs": [],
   "source": [
    "df.to_parquet('yelp.parquet',)"
   ]
  },
  {
   "cell_type": "code",
   "execution_count": 23,
   "metadata": {},
   "outputs": [],
   "source": [
    "df2 = pd.read_csv('yelp.csv')\n"
   ]
  },
  {
   "cell_type": "code",
   "execution_count": 24,
   "metadata": {},
   "outputs": [
    {
     "data": {
      "text/html": [
       "<div>\n",
       "<style scoped>\n",
       "    .dataframe tbody tr th:only-of-type {\n",
       "        vertical-align: middle;\n",
       "    }\n",
       "\n",
       "    .dataframe tbody tr th {\n",
       "        vertical-align: top;\n",
       "    }\n",
       "\n",
       "    .dataframe thead th {\n",
       "        text-align: right;\n",
       "    }\n",
       "</style>\n",
       "<table border=\"1\" class=\"dataframe\">\n",
       "  <thead>\n",
       "    <tr style=\"text-align: right;\">\n",
       "      <th></th>\n",
       "      <th>Unnamed: 0</th>\n",
       "      <th>user_id</th>\n",
       "      <th>business_id</th>\n",
       "      <th>stars</th>\n",
       "      <th>train</th>\n",
       "      <th>train_int</th>\n",
       "    </tr>\n",
       "  </thead>\n",
       "  <tbody>\n",
       "    <tr>\n",
       "      <th>0</th>\n",
       "      <td>0</td>\n",
       "      <td>0</td>\n",
       "      <td>0</td>\n",
       "      <td>3.0</td>\n",
       "      <td>True</td>\n",
       "      <td>1</td>\n",
       "    </tr>\n",
       "    <tr>\n",
       "      <th>1</th>\n",
       "      <td>1</td>\n",
       "      <td>1</td>\n",
       "      <td>1</td>\n",
       "      <td>5.0</td>\n",
       "      <td>True</td>\n",
       "      <td>1</td>\n",
       "    </tr>\n",
       "    <tr>\n",
       "      <th>2</th>\n",
       "      <td>2</td>\n",
       "      <td>2</td>\n",
       "      <td>2</td>\n",
       "      <td>5.0</td>\n",
       "      <td>False</td>\n",
       "      <td>0</td>\n",
       "    </tr>\n",
       "    <tr>\n",
       "      <th>3</th>\n",
       "      <td>3</td>\n",
       "      <td>3</td>\n",
       "      <td>3</td>\n",
       "      <td>3.0</td>\n",
       "      <td>False</td>\n",
       "      <td>0</td>\n",
       "    </tr>\n",
       "    <tr>\n",
       "      <th>4</th>\n",
       "      <td>4</td>\n",
       "      <td>4</td>\n",
       "      <td>4</td>\n",
       "      <td>1.0</td>\n",
       "      <td>True</td>\n",
       "      <td>1</td>\n",
       "    </tr>\n",
       "    <tr>\n",
       "      <th>...</th>\n",
       "      <td>...</td>\n",
       "      <td>...</td>\n",
       "      <td>...</td>\n",
       "      <td>...</td>\n",
       "      <td>...</td>\n",
       "      <td>...</td>\n",
       "    </tr>\n",
       "    <tr>\n",
       "      <th>7012275</th>\n",
       "      <td>7012275</td>\n",
       "      <td>6302</td>\n",
       "      <td>126169</td>\n",
       "      <td>NaN</td>\n",
       "      <td>True</td>\n",
       "      <td>1</td>\n",
       "    </tr>\n",
       "    <tr>\n",
       "      <th>7012276</th>\n",
       "      <td>7012276</td>\n",
       "      <td>42710</td>\n",
       "      <td>4420</td>\n",
       "      <td>NaN</td>\n",
       "      <td>False</td>\n",
       "      <td>0</td>\n",
       "    </tr>\n",
       "    <tr>\n",
       "      <th>7012277</th>\n",
       "      <td>7012277</td>\n",
       "      <td>15461</td>\n",
       "      <td>78815</td>\n",
       "      <td>NaN</td>\n",
       "      <td>True</td>\n",
       "      <td>1</td>\n",
       "    </tr>\n",
       "    <tr>\n",
       "      <th>7012278</th>\n",
       "      <td>7012278</td>\n",
       "      <td>103413</td>\n",
       "      <td>106820</td>\n",
       "      <td>NaN</td>\n",
       "      <td>False</td>\n",
       "      <td>0</td>\n",
       "    </tr>\n",
       "    <tr>\n",
       "      <th>7012279</th>\n",
       "      <td>7012279</td>\n",
       "      <td>12563</td>\n",
       "      <td>43</td>\n",
       "      <td>NaN</td>\n",
       "      <td>True</td>\n",
       "      <td>1</td>\n",
       "    </tr>\n",
       "  </tbody>\n",
       "</table>\n",
       "<p>7012280 rows × 6 columns</p>\n",
       "</div>"
      ],
      "text/plain": [
       "         Unnamed: 0  user_id  business_id  stars  train  train_int\n",
       "0                 0        0            0    3.0   True          1\n",
       "1                 1        1            1    5.0   True          1\n",
       "2                 2        2            2    5.0  False          0\n",
       "3                 3        3            3    3.0  False          0\n",
       "4                 4        4            4    1.0   True          1\n",
       "...             ...      ...          ...    ...    ...        ...\n",
       "7012275     7012275     6302       126169    NaN   True          1\n",
       "7012276     7012276    42710         4420    NaN  False          0\n",
       "7012277     7012277    15461        78815    NaN   True          1\n",
       "7012278     7012278   103413       106820    NaN  False          0\n",
       "7012279     7012279    12563           43    NaN   True          1\n",
       "\n",
       "[7012280 rows x 6 columns]"
      ]
     },
     "execution_count": 24,
     "metadata": {},
     "output_type": "execute_result"
    }
   ],
   "source": [
    "df2"
   ]
  },
  {
   "cell_type": "code",
   "execution_count": 12,
   "metadata": {},
   "outputs": [],
   "source": [
    "# Read in yelp.parquet\n",
    "df = pd.read_parquet('yelp.parquet')\n",
    "# Train test split\n",
    "from sklearn.model_selection import train_test_split\n",
    "\n",
    "\n",
    "# Replace user_id and business_id with unique integers\n",
    "user_id = df.user_id.unique()\n",
    "business_id = df.business_id.unique()\n",
    "user_id_map = {user_id[i]: i for i in range(len(user_id))}\n",
    "business_id_map = {business_id[i]: i for i in range(len(business_id))}\n",
    "# Replace\n",
    "df.user_id = df.user_id.map(user_id_map)\n",
    "df.business_id = df.business_id.map(business_id_map)\n",
    "# Add column to indicate train test split\n",
    "df['train'] = np.random.uniform(0, 1, len(df)) <= .75\n",
    "df['train_int'] = df.train.astype(int)\n",
    "# Create sparse matrix of user_id, business_id, stars, and train_int\n",
    "\n",
    "\n",
    "# sparse_train = sp.sparse.coo_matrix((df[df.train].stars, (df[df.train].user_id, df[df.train].business_id)))\n",
    "# sparse_test = sp.sparse.coo_matrix((df[~df.train].stars, (df[~df.train].user_id, df[~df.train].business_id)))"
   ]
  },
  {
   "cell_type": "code",
   "execution_count": 19,
   "metadata": {},
   "outputs": [],
   "source": [
    "sparse = sp.sparse.coo_matrix((df.stars, (df.user_id, df.business_id)))\n",
    "train_mask = sp.sparse.coo_matrix((df.train_int, (df.user_id, df.business_id)))\n",
    "sparse_train = sparse.multiply(train_mask)\n",
    "sparse_train.eliminate_zeros()"
   ]
  },
  {
   "cell_type": "code",
   "execution_count": 21,
   "metadata": {},
   "outputs": [
    {
     "data": {
      "text/plain": [
       "<1987929x150346 sparse matrix of type '<class 'numpy.float64'>'\n",
       "\twith 5111841 stored elements in Compressed Sparse Row format>"
      ]
     },
     "execution_count": 21,
     "metadata": {},
     "output_type": "execute_result"
    }
   ],
   "source": [
    "sparse_train"
   ]
  },
  {
   "cell_type": "code",
   "execution_count": 3,
   "metadata": {},
   "outputs": [
    {
     "data": {
      "text/plain": [
       "<lightfm.lightfm.LightFM at 0x1ed91267f70>"
      ]
     },
     "execution_count": 3,
     "metadata": {},
     "output_type": "execute_result"
    }
   ],
   "source": [
    "from lightfm import LightFM\n",
    "from lightfm.datasets import fetch_movielens\n",
    "from lightfm.evaluation import precision_at_k\n",
    "\n",
    "# Load the MovieLens 100k dataset. Only five\n",
    "# star ratings are treated as positive.\n",
    "# data = fetch_movielens(min_rating=5.0)\n",
    "\n",
    "# Instantiate and train the model\n",
    "model = LightFM(loss='warp')\n",
    "model.fit(sparse_train, epochs=30, num_threads=2)\n",
    "# model.fit(['train'], epochs=30, num_threads=4)\n",
    "\n",
    "# # Evaluate the trained model\n",
    "# test_precision = precision_at_k(model, sparse_test, k=5).mean()"
   ]
  },
  {
   "cell_type": "code",
   "execution_count": null,
   "metadata": {},
   "outputs": [],
   "source": []
  }
 ],
 "metadata": {
  "kernelspec": {
   "display_name": "Python 3.8.8 ('base')",
   "language": "python",
   "name": "python3"
  },
  "language_info": {
   "codemirror_mode": {
    "name": "ipython",
    "version": 3
   },
   "file_extension": ".py",
   "mimetype": "text/x-python",
   "name": "python",
   "nbconvert_exporter": "python",
   "pygments_lexer": "ipython3",
   "version": "3.8.8"
  },
  "orig_nbformat": 4,
  "vscode": {
   "interpreter": {
    "hash": "b753293eeed7dd01a3c305805d9faff58b202065bdcc218b14b7e0e75e2a4dea"
   }
  }
 },
 "nbformat": 4,
 "nbformat_minor": 2
}
