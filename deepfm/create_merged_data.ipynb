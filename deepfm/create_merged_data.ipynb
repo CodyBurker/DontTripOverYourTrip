{
 "cells": [
  {
   "cell_type": "code",
   "execution_count": 2,
   "id": "c97de7f3-b0f2-4fbc-8422-05ef1d521c98",
   "metadata": {},
   "outputs": [],
   "source": [
    "import pandas as pd\n",
    "from sklearn.model_selection import train_test_split"
   ]
  },
  {
   "cell_type": "code",
   "execution_count": 3,
   "id": "60291ee8-cc3e-4ce0-ad3b-f6d241c4cc07",
   "metadata": {},
   "outputs": [],
   "source": [
    "df_reviews = pd.read_feather(\"../FilteredData/review_philly.feather\")\n",
    "df_users = pd.read_feather(\"../FilteredData/user_philly.feather\")\n",
    "df_buz = pd.read_feather(\"../FilteredData/business_philly.feather\")"
   ]
  },
  {
   "cell_type": "code",
   "execution_count": 4,
   "id": "1aa5498b-b2dd-4dee-9be2-3c9e29d2c7f7",
   "metadata": {},
   "outputs": [
    {
     "data": {
      "text/plain": [
       "Index(['_id', 'review_id', 'user_id', 'business_id', 'stars', 'useful',\n",
       "       'funny', 'cool', 'text', 'date', 'compliment_count'],\n",
       "      dtype='object')"
      ]
     },
     "execution_count": 4,
     "metadata": {},
     "output_type": "execute_result"
    }
   ],
   "source": [
    "df_reviews.columns"
   ]
  },
  {
   "cell_type": "code",
   "execution_count": 5,
   "id": "79d9c3ba-ae88-4f25-bae3-983ceb6ff263",
   "metadata": {},
   "outputs": [
    {
     "data": {
      "text/plain": [
       "Index(['index', '_id', 'user_id', 'name', 'review_count', 'yelping_since',\n",
       "       'useful', 'funny', 'cool', 'elite', 'friends', 'fans', 'average_stars',\n",
       "       'compliment_hot', 'compliment_more', 'compliment_profile',\n",
       "       'compliment_cute', 'compliment_list', 'compliment_note',\n",
       "       'compliment_plain', 'compliment_cool', 'compliment_funny',\n",
       "       'compliment_writer', 'compliment_photos', 'gender_score',\n",
       "       'philly_reviews', 'philly_share_of_reviews'],\n",
       "      dtype='object')"
      ]
     },
     "execution_count": 5,
     "metadata": {},
     "output_type": "execute_result"
    }
   ],
   "source": [
    "df_users.columns"
   ]
  },
  {
   "cell_type": "code",
   "execution_count": 6,
   "id": "9896f419-b6b1-49a7-b06f-269fbec255d5",
   "metadata": {},
   "outputs": [
    {
     "data": {
      "text/plain": [
       "Index(['index', '_id', 'business_id', 'name', 'address', 'city', 'state',\n",
       "       'postal_code', 'latitude', 'longitude', 'stars', 'review_count',\n",
       "       'is_open', 'attributes', 'categories', 'hours', 'positive_%'],\n",
       "      dtype='object')"
      ]
     },
     "execution_count": 6,
     "metadata": {},
     "output_type": "execute_result"
    }
   ],
   "source": [
    "df_buz.columns"
   ]
  },
  {
   "cell_type": "code",
   "execution_count": 7,
   "id": "572cc625-fc0f-4364-b369-53828505b5fc",
   "metadata": {},
   "outputs": [],
   "source": [
    "df_users.rename(columns={\"review_count\":\"user_review_count\"}, inplace=True)"
   ]
  },
  {
   "cell_type": "code",
   "execution_count": 8,
   "id": "f29ca4a0-4c2e-4371-9a27-fd0d26b30654",
   "metadata": {},
   "outputs": [],
   "source": [
    "df_buz.rename(columns={\"stars\":\"business_stars\", \"review_count\":\"business_review_count\"}, inplace=True)"
   ]
  },
  {
   "cell_type": "markdown",
   "id": "4424defc-3867-4875-85aa-351e60763ecc",
   "metadata": {},
   "source": [
    "__user_features:__\n",
    "* user_review_count (numerical)\n",
    "* average_stars (numerical)\n",
    "* gender_score (numerical)\n",
    "* philly_reviews (numerical)\n",
    "* philly_share_of_reviews (numerical)\n",
    "* years_on_yelp ?\n",
    "    \n",
    "    \n",
    "__item_features:__\n",
    "* postal_code (categorical)\n",
    "* business_stars (numerical)\n",
    "* business_review_count (numerical)\n",
    "* <s>positive_% (numerical)</s>\n",
    "* attributes?\n",
    "* categories?"
   ]
  },
  {
   "cell_type": "code",
   "execution_count": 13,
   "id": "fa8137a9-0ce0-48c8-8270-e8ccefbc6907",
   "metadata": {},
   "outputs": [],
   "source": [
    "df_buz[\"postal_code\"] = df_buz[\"postal_code\"].fillna(0)"
   ]
  },
  {
   "cell_type": "code",
   "execution_count": 14,
   "id": "c6a49051-4526-407c-8eb3-53557ad9aed4",
   "metadata": {},
   "outputs": [],
   "source": [
    "features = [\"user_id\", \"business_id\", \"stars\", \"target\",\n",
    "            \"user_review_count\", \"average_stars\", \"gender_score\", \"philly_reviews\", \"philly_share_of_reviews\",\n",
    "           \"postal_code\", \"business_stars\", \"business_review_count\"]"
   ]
  },
  {
   "cell_type": "code",
   "execution_count": 15,
   "id": "8d3979be-a248-4bfa-bda4-708665e9b1c0",
   "metadata": {},
   "outputs": [],
   "source": [
    "df_merged = df_reviews.merge(\n",
    "    df_buz, \n",
    "    how=\"left\", \n",
    "    left_on=\"business_id\", \n",
    "    right_on=\"business_id\"\n",
    ")\n",
    "df_merged = df_merged.merge(\n",
    "    df_users,\n",
    "    how=\"left\",\n",
    "    left_on=\"user_id\",\n",
    "    right_on=\"user_id\"\n",
    ")"
   ]
  },
  {
   "cell_type": "code",
   "execution_count": 16,
   "id": "8950a1a4-569a-441d-88da-4aaea4ea7e88",
   "metadata": {},
   "outputs": [],
   "source": [
    "def create_target(row):\n",
    "    if row[\"stars\"] <= 3:\n",
    "        return 0\n",
    "    else:\n",
    "        return 1"
   ]
  },
  {
   "cell_type": "code",
   "execution_count": 17,
   "id": "3d9b568d-c9c7-4c2a-a905-db582f760c76",
   "metadata": {},
   "outputs": [],
   "source": [
    "df_merged[\"target\"] = df_merged.apply(lambda x: create_target(x), axis=1)"
   ]
  },
  {
   "cell_type": "code",
   "execution_count": 18,
   "id": "831be911-7062-4adc-9a2a-368258cf4473",
   "metadata": {},
   "outputs": [],
   "source": [
    "df_merged = df_merged[features]"
   ]
  },
  {
   "cell_type": "code",
   "execution_count": 19,
   "id": "d1783598-d105-4a2b-a2bd-262692899b44",
   "metadata": {},
   "outputs": [
    {
     "data": {
      "text/plain": [
       "True"
      ]
     },
     "execution_count": 19,
     "metadata": {},
     "output_type": "execute_result"
    }
   ],
   "source": [
    "df_merged.shape[0] == df_reviews.shape[0]"
   ]
  },
  {
   "cell_type": "code",
   "execution_count": 20,
   "id": "a973c0ce-8d71-4306-89d0-bdc7ffc3508f",
   "metadata": {},
   "outputs": [],
   "source": [
    "df_train, df_val = train_test_split(\n",
    "    df_merged, \n",
    "    test_size=0.2, \n",
    "    shuffle=True, \n",
    "    random_state=3\n",
    ")"
   ]
  },
  {
   "cell_type": "code",
   "execution_count": 21,
   "id": "b631d4f9-2c1c-40e0-a762-870bb238392d",
   "metadata": {},
   "outputs": [],
   "source": [
    "df_train.to_csv(\"./data/train.csv\", index=False)\n",
    "df_val.to_csv(\"./data/valid.csv\", index=False)"
   ]
  },
  {
   "cell_type": "code",
   "execution_count": 22,
   "id": "32fb844d-33f0-478a-8c65-a06aa60ca2ab",
   "metadata": {},
   "outputs": [
    {
     "data": {
      "text/plain": [
       "(684064, 12)"
      ]
     },
     "execution_count": 22,
     "metadata": {},
     "output_type": "execute_result"
    }
   ],
   "source": [
    "df_train = pd.read_csv(\"./data/train.csv\")\n",
    "df_train.shape"
   ]
  },
  {
   "cell_type": "code",
   "execution_count": null,
   "id": "a57dbfef-8edf-43c5-8b17-46650a07fa44",
   "metadata": {},
   "outputs": [],
   "source": []
  }
 ],
 "metadata": {
  "instance_type": "ml.t3.medium",
  "kernelspec": {
   "display_name": "nlp",
   "language": "python",
   "name": "nlp"
  },
  "language_info": {
   "codemirror_mode": {
    "name": "ipython",
    "version": 3
   },
   "file_extension": ".py",
   "mimetype": "text/x-python",
   "name": "python",
   "nbconvert_exporter": "python",
   "pygments_lexer": "ipython3",
   "version": "3.8.12"
  }
 },
 "nbformat": 4,
 "nbformat_minor": 5
}
