{
 "cells": [
  {
   "cell_type": "code",
   "execution_count": 1,
   "id": "c97de7f3-b0f2-4fbc-8422-05ef1d521c98",
   "metadata": {},
   "outputs": [],
   "source": [
    "import pandas as pd\n",
    "from sklearn.model_selection import train_test_split\n",
    "import numpy as np"
   ]
  },
  {
   "cell_type": "code",
   "execution_count": 2,
   "id": "60291ee8-cc3e-4ce0-ad3b-f6d241c4cc07",
   "metadata": {},
   "outputs": [],
   "source": [
    "df_reviews = pd.read_feather(\"../FilteredData/review_philly.feather\")\n",
    "df_users = pd.read_feather(\"../FilteredData/user_philly.feather\")\n",
    "df_buz = pd.read_feather(\"../FilteredData/business_philly.feather\")"
   ]
  },
  {
   "cell_type": "code",
   "execution_count": 3,
   "id": "1aa5498b-b2dd-4dee-9be2-3c9e29d2c7f7",
   "metadata": {},
   "outputs": [
    {
     "data": {
      "text/plain": [
       "Index(['_id', 'review_id', 'user_id', 'business_id', 'stars', 'useful',\n",
       "       'funny', 'cool', 'text', 'date', 'compliment_count'],\n",
       "      dtype='object')"
      ]
     },
     "execution_count": 3,
     "metadata": {},
     "output_type": "execute_result"
    }
   ],
   "source": [
    "df_reviews.columns"
   ]
  },
  {
   "cell_type": "code",
   "execution_count": 4,
   "id": "79d9c3ba-ae88-4f25-bae3-983ceb6ff263",
   "metadata": {},
   "outputs": [
    {
     "data": {
      "text/plain": [
       "Index(['index', '_id', 'user_id', 'name', 'review_count', 'yelping_since',\n",
       "       'useful', 'funny', 'cool', 'elite', 'friends', 'fans', 'average_stars',\n",
       "       'compliment_hot', 'compliment_more', 'compliment_profile',\n",
       "       'compliment_cute', 'compliment_list', 'compliment_note',\n",
       "       'compliment_plain', 'compliment_cool', 'compliment_funny',\n",
       "       'compliment_writer', 'compliment_photos', 'gender_score',\n",
       "       'philly_reviews', 'philly_share_of_reviews'],\n",
       "      dtype='object')"
      ]
     },
     "execution_count": 4,
     "metadata": {},
     "output_type": "execute_result"
    }
   ],
   "source": [
    "df_users.columns"
   ]
  },
  {
   "cell_type": "code",
   "execution_count": 5,
   "id": "9896f419-b6b1-49a7-b06f-269fbec255d5",
   "metadata": {},
   "outputs": [
    {
     "data": {
      "text/plain": [
       "Index(['index', '_id', 'business_id', 'name', 'address', 'city', 'state',\n",
       "       'postal_code', 'latitude', 'longitude', 'stars', 'review_count',\n",
       "       'is_open', 'attributes', 'categories', 'hours', 'positive_%'],\n",
       "      dtype='object')"
      ]
     },
     "execution_count": 5,
     "metadata": {},
     "output_type": "execute_result"
    }
   ],
   "source": [
    "df_buz.columns"
   ]
  },
  {
   "cell_type": "code",
   "execution_count": 6,
   "id": "572cc625-fc0f-4364-b369-53828505b5fc",
   "metadata": {},
   "outputs": [],
   "source": [
    "df_users.rename(columns={\"review_count\":\"user_review_count\"}, inplace=True)"
   ]
  },
  {
   "cell_type": "code",
   "execution_count": 7,
   "id": "f29ca4a0-4c2e-4371-9a27-fd0d26b30654",
   "metadata": {},
   "outputs": [],
   "source": [
    "df_buz.rename(columns={\"stars\":\"business_stars\", \"review_count\":\"business_review_count\"}, inplace=True)"
   ]
  },
  {
   "cell_type": "markdown",
   "id": "4424defc-3867-4875-85aa-351e60763ecc",
   "metadata": {},
   "source": [
    "__user_features:__\n",
    "* user_review_count (numerical)\n",
    "* average_stars (numerical)\n",
    "* gender_score (numerical)\n",
    "* philly_reviews (numerical)\n",
    "* philly_share_of_reviews (numerical)\n",
    "* years_on_yelp ?\n",
    "    \n",
    "    \n",
    "__item_features:__\n",
    "* postal_code (categorical)\n",
    "* business_stars (numerical)\n",
    "* business_review_count (numerical)\n",
    "* <s>positive_% (numerical)</s>\n",
    "* attributes?\n",
    "* categories?"
   ]
  },
  {
   "cell_type": "code",
   "execution_count": 8,
   "id": "40d9d3e3-5bac-404d-8d8f-45580b3c1670",
   "metadata": {},
   "outputs": [
    {
     "data": {
      "text/plain": [
       "541"
      ]
     },
     "execution_count": 8,
     "metadata": {},
     "output_type": "execute_result"
    }
   ],
   "source": [
    "df_buz[\"positive_%\"].isna().sum()"
   ]
  },
  {
   "cell_type": "code",
   "execution_count": 26,
   "id": "fa8137a9-0ce0-48c8-8270-e8ccefbc6907",
   "metadata": {},
   "outputs": [],
   "source": [
    "df_buz[\"postal_code\"] = df_buz[\"postal_code\"].fillna(0)"
   ]
  },
  {
   "cell_type": "code",
   "execution_count": 27,
   "id": "9b8c696d-7544-4c66-808f-6272f4d8115c",
   "metadata": {},
   "outputs": [
    {
     "data": {
      "text/html": [
       "<div>\n",
       "<style scoped>\n",
       "    .dataframe tbody tr th:only-of-type {\n",
       "        vertical-align: middle;\n",
       "    }\n",
       "\n",
       "    .dataframe tbody tr th {\n",
       "        vertical-align: top;\n",
       "    }\n",
       "\n",
       "    .dataframe thead th {\n",
       "        text-align: right;\n",
       "    }\n",
       "</style>\n",
       "<table border=\"1\" class=\"dataframe\">\n",
       "  <thead>\n",
       "    <tr style=\"text-align: right;\">\n",
       "      <th></th>\n",
       "      <th>_id</th>\n",
       "      <th>review_id</th>\n",
       "      <th>user_id</th>\n",
       "      <th>business_id</th>\n",
       "      <th>stars</th>\n",
       "      <th>useful</th>\n",
       "      <th>funny</th>\n",
       "      <th>cool</th>\n",
       "      <th>text</th>\n",
       "      <th>date</th>\n",
       "      <th>compliment_count</th>\n",
       "    </tr>\n",
       "  </thead>\n",
       "  <tbody>\n",
       "    <tr>\n",
       "      <th>852117</th>\n",
       "      <td>6327b024504265271679c187</td>\n",
       "      <td>nan</td>\n",
       "      <td>-copOvldyKh1qr-vzkDEvw</td>\n",
       "      <td>MYoRNLb5chwjQe3c_k37Gg</td>\n",
       "      <td>NaN</td>\n",
       "      <td>NaN</td>\n",
       "      <td>NaN</td>\n",
       "      <td>NaN</td>\n",
       "      <td>It's open even when you think it isn't</td>\n",
       "      <td>2013-08-18 00:56:08</td>\n",
       "      <td>0.0</td>\n",
       "    </tr>\n",
       "    <tr>\n",
       "      <th>852118</th>\n",
       "      <td>6327b024504265271679c199</td>\n",
       "      <td>nan</td>\n",
       "      <td>FQ-zmWPEG_pjSQx6pt3Efw</td>\n",
       "      <td>3ZynJ94VpIdDlaArmEp2Rg</td>\n",
       "      <td>NaN</td>\n",
       "      <td>NaN</td>\n",
       "      <td>NaN</td>\n",
       "      <td>NaN</td>\n",
       "      <td>Yes, I'm eating here again. Breakfast!</td>\n",
       "      <td>2012-10-12 15:16:13</td>\n",
       "      <td>0.0</td>\n",
       "    </tr>\n",
       "    <tr>\n",
       "      <th>852119</th>\n",
       "      <td>6327b024504265271679c1a7</td>\n",
       "      <td>nan</td>\n",
       "      <td>YnlCpuaBa3qWBp4te8pGmA</td>\n",
       "      <td>XIKYdKWq72zUYsq8NBxcCQ</td>\n",
       "      <td>NaN</td>\n",
       "      <td>NaN</td>\n",
       "      <td>NaN</td>\n",
       "      <td>NaN</td>\n",
       "      <td>The honey glazed salmon is amazing!</td>\n",
       "      <td>2018-01-14 15:00:01</td>\n",
       "      <td>0.0</td>\n",
       "    </tr>\n",
       "    <tr>\n",
       "      <th>852120</th>\n",
       "      <td>6327b024504265271679c1b5</td>\n",
       "      <td>nan</td>\n",
       "      <td>Rr4cLb6Go91FT134o6RsKg</td>\n",
       "      <td>eMiN8nm70jjKg8izikVWDA</td>\n",
       "      <td>NaN</td>\n",
       "      <td>NaN</td>\n",
       "      <td>NaN</td>\n",
       "      <td>NaN</td>\n",
       "      <td>Mmm Yummy Crab Fries!</td>\n",
       "      <td>2011-10-16 23:43:10</td>\n",
       "      <td>0.0</td>\n",
       "    </tr>\n",
       "    <tr>\n",
       "      <th>852121</th>\n",
       "      <td>6327b024504265271679c1ba</td>\n",
       "      <td>nan</td>\n",
       "      <td>fJhr0G2JBNkfqpbIwkEQHg</td>\n",
       "      <td>eJ77e9lGxY3ArzaoDbHhYw</td>\n",
       "      <td>NaN</td>\n",
       "      <td>NaN</td>\n",
       "      <td>NaN</td>\n",
       "      <td>NaN</td>\n",
       "      <td>Good specials, nice menu</td>\n",
       "      <td>2013-02-16 21:34:37</td>\n",
       "      <td>0.0</td>\n",
       "    </tr>\n",
       "    <tr>\n",
       "      <th>...</th>\n",
       "      <td>...</td>\n",
       "      <td>...</td>\n",
       "      <td>...</td>\n",
       "      <td>...</td>\n",
       "      <td>...</td>\n",
       "      <td>...</td>\n",
       "      <td>...</td>\n",
       "      <td>...</td>\n",
       "      <td>...</td>\n",
       "      <td>...</td>\n",
       "      <td>...</td>\n",
       "    </tr>\n",
       "    <tr>\n",
       "      <th>855075</th>\n",
       "      <td>6327b03050426527167a1746</td>\n",
       "      <td>nan</td>\n",
       "      <td>uChvFHK4uSifUXBPJPp9Zw</td>\n",
       "      <td>lCetcbxQr52TTGmGmXzQcw</td>\n",
       "      <td>NaN</td>\n",
       "      <td>NaN</td>\n",
       "      <td>NaN</td>\n",
       "      <td>NaN</td>\n",
       "      <td>Racist!!! Wont serve you if you are ethnic</td>\n",
       "      <td>2013-12-15 04:51:26</td>\n",
       "      <td>1.0</td>\n",
       "    </tr>\n",
       "    <tr>\n",
       "      <th>855076</th>\n",
       "      <td>6327b03050426527167a1749</td>\n",
       "      <td>nan</td>\n",
       "      <td>lP_cx94U8stOuQ8HrGecdQ</td>\n",
       "      <td>03jQGGJ2ch0uHTtW-UUUqg</td>\n",
       "      <td>NaN</td>\n",
       "      <td>NaN</td>\n",
       "      <td>NaN</td>\n",
       "      <td>NaN</td>\n",
       "      <td>Stuff face time.</td>\n",
       "      <td>2012-05-27 14:06:04</td>\n",
       "      <td>0.0</td>\n",
       "    </tr>\n",
       "    <tr>\n",
       "      <th>855077</th>\n",
       "      <td>6327b03050426527167a174c</td>\n",
       "      <td>nan</td>\n",
       "      <td>Rr4cLb6Go91FT134o6RsKg</td>\n",
       "      <td>UEGZ1nHUVb2ltGtd7C7X9w</td>\n",
       "      <td>NaN</td>\n",
       "      <td>NaN</td>\n",
       "      <td>NaN</td>\n",
       "      <td>NaN</td>\n",
       "      <td>Blizzard</td>\n",
       "      <td>2012-06-05 20:34:27</td>\n",
       "      <td>0.0</td>\n",
       "    </tr>\n",
       "    <tr>\n",
       "      <th>855078</th>\n",
       "      <td>6327b03050426527167a175b</td>\n",
       "      <td>nan</td>\n",
       "      <td>pflneuKFKQKQvZGDxebGFw</td>\n",
       "      <td>zsaDvomuMLe_-Ibtk9sA-A</td>\n",
       "      <td>NaN</td>\n",
       "      <td>NaN</td>\n",
       "      <td>NaN</td>\n",
       "      <td>NaN</td>\n",
       "      <td>Stopped by and it was closed on wed. 10/3/12!</td>\n",
       "      <td>2012-10-03 16:33:53</td>\n",
       "      <td>0.0</td>\n",
       "    </tr>\n",
       "    <tr>\n",
       "      <th>855079</th>\n",
       "      <td>6327b03050426527167a176e</td>\n",
       "      <td>nan</td>\n",
       "      <td>G0Mu95b3NXx3EO7gw6B1Zw</td>\n",
       "      <td>2YyIIdwnYv5cApn1gZo_gw</td>\n",
       "      <td>NaN</td>\n",
       "      <td>NaN</td>\n",
       "      <td>NaN</td>\n",
       "      <td>NaN</td>\n",
       "      <td>Using a restaurant.com coupon...go get one!</td>\n",
       "      <td>2012-02-07 17:46:42</td>\n",
       "      <td>0.0</td>\n",
       "    </tr>\n",
       "  </tbody>\n",
       "</table>\n",
       "<p>2963 rows × 11 columns</p>\n",
       "</div>"
      ],
      "text/plain": [
       "                             _id review_id                 user_id  \\\n",
       "852117  6327b024504265271679c187       nan  -copOvldyKh1qr-vzkDEvw   \n",
       "852118  6327b024504265271679c199       nan  FQ-zmWPEG_pjSQx6pt3Efw   \n",
       "852119  6327b024504265271679c1a7       nan  YnlCpuaBa3qWBp4te8pGmA   \n",
       "852120  6327b024504265271679c1b5       nan  Rr4cLb6Go91FT134o6RsKg   \n",
       "852121  6327b024504265271679c1ba       nan  fJhr0G2JBNkfqpbIwkEQHg   \n",
       "...                          ...       ...                     ...   \n",
       "855075  6327b03050426527167a1746       nan  uChvFHK4uSifUXBPJPp9Zw   \n",
       "855076  6327b03050426527167a1749       nan  lP_cx94U8stOuQ8HrGecdQ   \n",
       "855077  6327b03050426527167a174c       nan  Rr4cLb6Go91FT134o6RsKg   \n",
       "855078  6327b03050426527167a175b       nan  pflneuKFKQKQvZGDxebGFw   \n",
       "855079  6327b03050426527167a176e       nan  G0Mu95b3NXx3EO7gw6B1Zw   \n",
       "\n",
       "                   business_id  stars  useful  funny  cool  \\\n",
       "852117  MYoRNLb5chwjQe3c_k37Gg    NaN     NaN    NaN   NaN   \n",
       "852118  3ZynJ94VpIdDlaArmEp2Rg    NaN     NaN    NaN   NaN   \n",
       "852119  XIKYdKWq72zUYsq8NBxcCQ    NaN     NaN    NaN   NaN   \n",
       "852120  eMiN8nm70jjKg8izikVWDA    NaN     NaN    NaN   NaN   \n",
       "852121  eJ77e9lGxY3ArzaoDbHhYw    NaN     NaN    NaN   NaN   \n",
       "...                        ...    ...     ...    ...   ...   \n",
       "855075  lCetcbxQr52TTGmGmXzQcw    NaN     NaN    NaN   NaN   \n",
       "855076  03jQGGJ2ch0uHTtW-UUUqg    NaN     NaN    NaN   NaN   \n",
       "855077  UEGZ1nHUVb2ltGtd7C7X9w    NaN     NaN    NaN   NaN   \n",
       "855078  zsaDvomuMLe_-Ibtk9sA-A    NaN     NaN    NaN   NaN   \n",
       "855079  2YyIIdwnYv5cApn1gZo_gw    NaN     NaN    NaN   NaN   \n",
       "\n",
       "                                                 text                 date  \\\n",
       "852117         It's open even when you think it isn't  2013-08-18 00:56:08   \n",
       "852118         Yes, I'm eating here again. Breakfast!  2012-10-12 15:16:13   \n",
       "852119            The honey glazed salmon is amazing!  2018-01-14 15:00:01   \n",
       "852120                          Mmm Yummy Crab Fries!  2011-10-16 23:43:10   \n",
       "852121                       Good specials, nice menu  2013-02-16 21:34:37   \n",
       "...                                               ...                  ...   \n",
       "855075     Racist!!! Wont serve you if you are ethnic  2013-12-15 04:51:26   \n",
       "855076                               Stuff face time.  2012-05-27 14:06:04   \n",
       "855077                                       Blizzard  2012-06-05 20:34:27   \n",
       "855078  Stopped by and it was closed on wed. 10/3/12!  2012-10-03 16:33:53   \n",
       "855079    Using a restaurant.com coupon...go get one!  2012-02-07 17:46:42   \n",
       "\n",
       "        compliment_count  \n",
       "852117               0.0  \n",
       "852118               0.0  \n",
       "852119               0.0  \n",
       "852120               0.0  \n",
       "852121               0.0  \n",
       "...                  ...  \n",
       "855075               1.0  \n",
       "855076               0.0  \n",
       "855077               0.0  \n",
       "855078               0.0  \n",
       "855079               0.0  \n",
       "\n",
       "[2963 rows x 11 columns]"
      ]
     },
     "execution_count": 27,
     "metadata": {},
     "output_type": "execute_result"
    }
   ],
   "source": [
    "df_reviews[df_reviews.stars.isnull()]"
   ]
  },
  {
   "cell_type": "code",
   "execution_count": 28,
   "id": "15ed8305-dab2-4e2f-9f5f-065359669b6f",
   "metadata": {},
   "outputs": [],
   "source": [
    "df_reviews = df_reviews[~df_reviews.stars.isna()]"
   ]
  },
  {
   "cell_type": "code",
   "execution_count": 29,
   "id": "49dc90cd-8a17-4210-becf-810f9eb73e5f",
   "metadata": {},
   "outputs": [],
   "source": [
    "df_users.replace([np.inf, -np.inf], 1, inplace=True)"
   ]
  },
  {
   "cell_type": "code",
   "execution_count": 30,
   "id": "c6a49051-4526-407c-8eb3-53557ad9aed4",
   "metadata": {},
   "outputs": [],
   "source": [
    "features = [\"user_id\", \"business_id\", \"stars\", \"target\",\n",
    "            \"user_review_count\", \"average_stars\", \"gender_score\", \"philly_reviews\", \"philly_share_of_reviews\",\n",
    "           \"postal_code\", \"business_stars\", \"business_review_count\"]"
   ]
  },
  {
   "cell_type": "code",
   "execution_count": 31,
   "id": "8d3979be-a248-4bfa-bda4-708665e9b1c0",
   "metadata": {},
   "outputs": [],
   "source": [
    "df_merged = df_reviews.merge(\n",
    "    df_buz, \n",
    "    how=\"left\", \n",
    "    left_on=\"business_id\", \n",
    "    right_on=\"business_id\"\n",
    ")\n",
    "df_merged = df_merged.merge(\n",
    "    df_users,\n",
    "    how=\"left\",\n",
    "    left_on=\"user_id\",\n",
    "    right_on=\"user_id\"\n",
    ")"
   ]
  },
  {
   "cell_type": "code",
   "execution_count": 32,
   "id": "8950a1a4-569a-441d-88da-4aaea4ea7e88",
   "metadata": {},
   "outputs": [],
   "source": [
    "def create_target(row):\n",
    "    if row[\"stars\"] <= 3:\n",
    "        return 0\n",
    "    else:\n",
    "        return 1"
   ]
  },
  {
   "cell_type": "code",
   "execution_count": 33,
   "id": "3d9b568d-c9c7-4c2a-a905-db582f760c76",
   "metadata": {},
   "outputs": [],
   "source": [
    "df_merged[\"target\"] = df_merged.apply(lambda x: create_target(x), axis=1)"
   ]
  },
  {
   "cell_type": "code",
   "execution_count": 34,
   "id": "831be911-7062-4adc-9a2a-368258cf4473",
   "metadata": {},
   "outputs": [],
   "source": [
    "df_merged = df_merged[features]"
   ]
  },
  {
   "cell_type": "code",
   "execution_count": 35,
   "id": "d1783598-d105-4a2b-a2bd-262692899b44",
   "metadata": {},
   "outputs": [
    {
     "data": {
      "text/plain": [
       "True"
      ]
     },
     "execution_count": 35,
     "metadata": {},
     "output_type": "execute_result"
    }
   ],
   "source": [
    "df_merged.shape[0] == df_reviews.shape[0]"
   ]
  },
  {
   "cell_type": "code",
   "execution_count": 36,
   "id": "a973c0ce-8d71-4306-89d0-bdc7ffc3508f",
   "metadata": {},
   "outputs": [],
   "source": [
    "df_train, df_val = train_test_split(\n",
    "    df_merged, \n",
    "    test_size=0.2, \n",
    "    shuffle=True, \n",
    "    random_state=3\n",
    ")"
   ]
  },
  {
   "cell_type": "code",
   "execution_count": 37,
   "id": "b631d4f9-2c1c-40e0-a762-870bb238392d",
   "metadata": {},
   "outputs": [],
   "source": [
    "df_train.to_csv(\"./data/train.csv\", index=False)\n",
    "df_val.to_csv(\"./data/valid.csv\", index=False)"
   ]
  },
  {
   "cell_type": "code",
   "execution_count": 38,
   "id": "32fb844d-33f0-478a-8c65-a06aa60ca2ab",
   "metadata": {},
   "outputs": [
    {
     "data": {
      "text/plain": [
       "(681693, 12)"
      ]
     },
     "execution_count": 38,
     "metadata": {},
     "output_type": "execute_result"
    }
   ],
   "source": [
    "df_train = pd.read_csv(\"./data/train.csv\")\n",
    "df_train.shape"
   ]
  }
 ],
 "metadata": {
  "instance_type": "ml.t3.medium",
  "kernelspec": {
   "display_name": "nlp",
   "language": "python",
   "name": "nlp"
  },
  "language_info": {
   "codemirror_mode": {
    "name": "ipython",
    "version": 3
   },
   "file_extension": ".py",
   "mimetype": "text/x-python",
   "name": "python",
   "nbconvert_exporter": "python",
   "pygments_lexer": "ipython3",
   "version": "3.8.12"
  }
 },
 "nbformat": 4,
 "nbformat_minor": 5
}
