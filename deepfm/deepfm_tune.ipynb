{
 "cells": [
  {
   "cell_type": "code",
   "execution_count": 2,
   "id": "10e43667-5693-4ae9-92fe-480b8182ed9a",
   "metadata": {},
   "outputs": [],
   "source": [
    "tuning_config = \"DeepFM_feature_tuner_config\""
   ]
  },
  {
   "cell_type": "code",
   "execution_count": 13,
   "id": "dbe63c54-fe19-4f7c-9d30-f26b7b31b7d1",
   "metadata": {},
   "outputs": [
    {
     "name": "stdout",
     "output_type": "stream",
     "text": [
      "rm: cannot remove 'benchmarks/DeepFM_feature_tuner_config.csv': No such file or directory\n",
      "nohup: ignoring input and redirecting stderr to stdout\n"
     ]
    }
   ],
   "source": [
    "!rm benchmarks/$tuning_config\".csv\" &> /dev/null\n",
    "!rm -rf models/$tuning_config\"*\" &> /dev/null\n",
    "!rm -rf data/$tuning_config\"*\" &> /dev/null\n",
    "!cd benchmarks; nohup python run_param_tuner.py --config ./tuner_config/$tuning_config\".yaml\" --gpu 0 > $tuning_config\".log\""
   ]
  },
  {
   "cell_type": "code",
   "execution_count": 7,
   "id": "241ae06e-bf8f-4f49-b6bb-09cec2e0fec6",
   "metadata": {},
   "outputs": [],
   "source": [
    "import pandas as pd"
   ]
  },
  {
   "cell_type": "code",
   "execution_count": 14,
   "id": "80c15549-8219-4f1a-bdbe-58d3048a38d0",
   "metadata": {},
   "outputs": [],
   "source": [
    "def read_exp(file_path):\n",
    "    df_exp = pd.read_csv(file_path, \n",
    "                         names=[\"time\", \"reproducing command\", \"expid\", \"dataset_id\", \"train\", \"validation\"])\n",
    "    df_exp[\"val_auc\"] = df_exp.validation.str.extractall(r'([0-9]\\.\\d+)').xs(1, level=\"match\").astype(\"float\")\n",
    "    return df_exp\n",
    "def find_best_model(df_exp):\n",
    "    return df_exp.loc[df_exp[\"val_auc\"].idxmax()]"
   ]
  },
  {
   "cell_type": "code",
   "execution_count": 15,
   "id": "cde44e44-ded3-4674-88c7-3a65a5c7b3f6",
   "metadata": {},
   "outputs": [],
   "source": [
    "nofeature_exp = read_exp(\"benchmarks/DeepFM_nofeature_tuner_config.csv\")\n",
    "feature_exp = read_exp(\"benchmarks/DeepFM_feature_tuner_config.csv\")"
   ]
  },
  {
   "cell_type": "code",
   "execution_count": 19,
   "id": "e8abde05-49be-4fd6-86ae-d145fa57c6ba",
   "metadata": {},
   "outputs": [
    {
     "name": "stdout",
     "output_type": "stream",
     "text": [
      "Best model with no feature data:\n"
     ]
    },
    {
     "data": {
      "text/plain": [
       "time                                                     20221022-083121\n",
       "reproducing command    [command] python run_expid.py --version pytorc...\n",
       "expid                       [exp_id] DeepFM_yelp_no_feature_001_c064a006\n",
       "dataset_id                         [dataset_id] yelp_no_feature_3d3ae056\n",
       "train                          [train] logloss: 0.460143 - AUC: 0.844091\n",
       "validation                       [val] logloss: 0.533441 - AUC: 0.743259\n",
       "val_auc                                                         0.743259\n",
       "Name: 0, dtype: object"
      ]
     },
     "execution_count": 19,
     "metadata": {},
     "output_type": "execute_result"
    }
   ],
   "source": [
    "print(\"Best model with no feature data:\")\n",
    "find_best_model(nofeature_exp)"
   ]
  },
  {
   "cell_type": "code",
   "execution_count": null,
   "id": "98d0195c-85dd-4c26-aab8-3eb879b7b944",
   "metadata": {},
   "outputs": [],
   "source": [
    "print(\"Best model with feature data:\")\n",
    "find_best_model(feature_exp)"
   ]
  }
 ],
 "metadata": {
  "instance_type": "ml.g4dn.16xlarge",
  "kernelspec": {
   "display_name": "nlp",
   "language": "python",
   "name": "nlp"
  },
  "language_info": {
   "codemirror_mode": {
    "name": "ipython",
    "version": 3
   },
   "file_extension": ".py",
   "mimetype": "text/x-python",
   "name": "python",
   "nbconvert_exporter": "python",
   "pygments_lexer": "ipython3",
   "version": "3.8.12"
  }
 },
 "nbformat": 4,
 "nbformat_minor": 5
}
