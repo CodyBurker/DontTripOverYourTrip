{
 "cells": [
  {
   "cell_type": "markdown",
   "id": "8c365d8f-fb7a-48ee-8fc7-53cbb1b58731",
   "metadata": {},
   "source": [
    "**Run tuning experiments**"
   ]
  },
  {
   "cell_type": "code",
   "execution_count": 2,
   "id": "86d0e339-3e5b-4aac-8ab4-3e02caf49746",
   "metadata": {},
   "outputs": [],
   "source": [
    "model_name = \"DeepFM\"\n",
    "# model_name = \"DCNv2\"\n",
    "#data_list = [\"all_feature\"]\n",
    "data_list = [\"categorify\"]\n",
    "             #, \"target_encoding\", \"count_encoding\"]"
   ]
  },
  {
   "cell_type": "code",
   "execution_count": null,
   "id": "02d93be4-2844-4450-b25f-6ced6126ccf8",
   "metadata": {},
   "outputs": [
    {
     "name": "stdout",
     "output_type": "stream",
     "text": [
      "Running tuning job on categorify\n",
      "nohup: ignoring input and redirecting stderr to stdout\n",
      "CPU times: user 34.9 s, sys: 14.6 s, total: 49.5 s\n",
      "Wall time: 1h 28min 35s\n"
     ]
    }
   ],
   "source": [
    "%%time\n",
    "\n",
    "for data_feature in data_list:\n",
    "    data_name = \"yelp_\" + data_feature\n",
    "    job_name = model_name + \"_\" + data_feature\n",
    "    print(f\"Running tuning job on {data_feature}\")\n",
    "    !rm benchmarks/$job_name\".csv\" 2> /dev/null\n",
    "    !rm benchmarks/$job_name\".log\" 2> /dev/null\n",
    "    !rm benchmarks/tuner_config/$job_name 2> /dev/null\n",
    "    !rm -rf models/$data_name\"*\" 2> /dev/null\n",
    "    !rm -rf data/$data_name\"*\" 2> /dev/null\n",
    "    !cd benchmarks; nohup python run_param_tuner.py --config ./tuner_config/$job_name\".yaml\" --gpu 0 > $job_name\".log\""
   ]
  },
  {
   "cell_type": "code",
   "execution_count": null,
   "id": "776a3f8d-d56d-4efe-9f69-dc6b4f6743f6",
   "metadata": {},
   "outputs": [],
   "source": []
  }
 ],
 "metadata": {
  "instance_type": "ml.g4dn.16xlarge",
  "kernelspec": {
   "display_name": "Python 3 (PyTorch 1.8 Python 3.6 GPU Optimized)",
   "language": "python",
   "name": "python3__SAGEMAKER_INTERNAL__arn:aws:sagemaker:us-west-2:236514542706:image/pytorch-1.8-gpu-py36"
  },
  "language_info": {
   "codemirror_mode": {
    "name": "ipython",
    "version": 3
   },
   "file_extension": ".py",
   "mimetype": "text/x-python",
   "name": "python",
   "nbconvert_exporter": "python",
   "pygments_lexer": "ipython3",
   "version": "3.6.13"
  }
 },
 "nbformat": 4,
 "nbformat_minor": 5
}
