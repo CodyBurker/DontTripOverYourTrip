{
 "cells": [
  {
   "cell_type": "code",
   "execution_count": 5,
   "id": "10e43667-5693-4ae9-92fe-480b8182ed9a",
   "metadata": {},
   "outputs": [],
   "source": [
    "feature_count = \"user_feature\""
   ]
  },
  {
   "cell_type": "code",
   "execution_count": 6,
   "id": "dc6b0d06-e343-446a-8508-139f6641c445",
   "metadata": {},
   "outputs": [],
   "source": [
    "data_name = \"yelp_\" + feature_count\n",
    "job_name = \"DeepFM_\" + feature_count"
   ]
  },
  {
   "cell_type": "code",
   "execution_count": 8,
   "id": "c399eee6-e298-49ae-ac10-62674dceda39",
   "metadata": {},
   "outputs": [
    {
     "name": "stdout",
     "output_type": "stream",
     "text": [
      "yelp_user_feature\n",
      "DeepFM_user_feature\n"
     ]
    }
   ],
   "source": [
    "print(data_name)\n",
    "print(job_name)"
   ]
  },
  {
   "cell_type": "code",
   "execution_count": null,
   "id": "dbe63c54-fe19-4f7c-9d30-f26b7b31b7d1",
   "metadata": {},
   "outputs": [
    {
     "name": "stdout",
     "output_type": "stream",
     "text": [
      "nohup: ignoring input and redirecting stderr to stdout\n"
     ]
    }
   ],
   "source": [
    "!rm benchmarks/$job_name\".csv\" 2> /dev/null\n",
    "!rm benchmarks/$job_name\".log\" 2> /dev/null\n",
    "!rm benchmarks/tuner_config/$job_name 2> /dev/null\n",
    "!rm -rf models/$data_name\"*\" 2> /dev/null\n",
    "!rm -rf data/$data_name\"*\" 2> /dev/null"
   ]
  },
  {
   "cell_type": "code",
   "execution_count": null,
   "id": "7c2f7280-1c01-47ef-b0b0-8b394d8e03d0",
   "metadata": {},
   "outputs": [],
   "source": [
    "%%time\n",
    "!cd benchmarks; nohup python run_param_tuner.py --config ./tuner_config/$job_name\".yaml\" --gpu 0 > $job_name\".log\""
   ]
  }
 ],
 "metadata": {
  "instance_type": "ml.g4dn.16xlarge",
  "kernelspec": {
   "display_name": "nlp",
   "language": "python",
   "name": "nlp"
  },
  "language_info": {
   "codemirror_mode": {
    "name": "ipython",
    "version": 3
   },
   "file_extension": ".py",
   "mimetype": "text/x-python",
   "name": "python",
   "nbconvert_exporter": "python",
   "pygments_lexer": "ipython3",
   "version": "3.8.10"
  }
 },
 "nbformat": 4,
 "nbformat_minor": 5
}
