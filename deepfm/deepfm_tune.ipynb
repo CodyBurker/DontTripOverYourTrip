{
 "cells": [
  {
   "cell_type": "code",
   "execution_count": 3,
   "id": "10e43667-5693-4ae9-92fe-480b8182ed9a",
   "metadata": {},
   "outputs": [],
   "source": [
    "job_name = \"DeepFM_user_feature\""
   ]
  },
  {
   "cell_type": "code",
   "execution_count": 4,
   "id": "c399eee6-e298-49ae-ac10-62674dceda39",
   "metadata": {},
   "outputs": [
    {
     "data": {
      "text/plain": [
       "'DeepFM_user_feature'"
      ]
     },
     "execution_count": 4,
     "metadata": {},
     "output_type": "execute_result"
    }
   ],
   "source": [
    "job_name"
   ]
  },
  {
   "cell_type": "code",
   "execution_count": null,
   "id": "dbe63c54-fe19-4f7c-9d30-f26b7b31b7d1",
   "metadata": {},
   "outputs": [
    {
     "name": "stdout",
     "output_type": "stream",
     "text": [
      "nohup: ignoring input and redirecting stderr to stdout\n"
     ]
    }
   ],
   "source": [
    "!rm benchmarks/$job_name\".csv\" 2> /dev/null\n",
    "!rm -rf models/$job_name\"*\" 2> /dev/null\n",
    "!rm -rf data/$job_name\"*\" 2> /dev/null\n",
    "!cd benchmarks; nohup python run_param_tuner.py --config ./tuner_config/$job_name\".yaml\" --gpu 0 > $job_name\".log\""
   ]
  }
 ],
 "metadata": {
  "instance_type": "ml.g4dn.16xlarge",
  "kernelspec": {
   "display_name": "nlp",
   "language": "python",
   "name": "nlp"
  },
  "language_info": {
   "codemirror_mode": {
    "name": "ipython",
    "version": 3
   },
   "file_extension": ".py",
   "mimetype": "text/x-python",
   "name": "python",
   "nbconvert_exporter": "python",
   "pygments_lexer": "ipython3",
   "version": "3.8.10"
  }
 },
 "nbformat": 4,
 "nbformat_minor": 5
}
