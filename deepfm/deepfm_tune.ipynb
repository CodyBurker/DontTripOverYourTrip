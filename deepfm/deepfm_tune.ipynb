{
 "cells": [
  {
   "cell_type": "markdown",
   "id": "8c365d8f-fb7a-48ee-8fc7-53cbb1b58731",
   "metadata": {},
   "source": [
    "**Run tuning experiments**"
   ]
  },
  {
   "cell_type": "code",
   "execution_count": null,
   "id": "86d0e339-3e5b-4aac-8ab4-3e02caf49746",
   "metadata": {},
   "outputs": [],
   "source": [
    "# model_name = \"DeepFM\"\n",
    "model_name = \"DCNv2\"\n",
    "# data_name = [\"business_feature_no_reviewcount\", \"all_feature_no_reviewcount\", \"business_feature\", \"all_feature\"]\n",
    "data_name = [\"user_feature\", \"all_feature\"]"
   ]
  },
  {
   "cell_type": "code",
   "execution_count": null,
   "id": "02d93be4-2844-4450-b25f-6ced6126ccf8",
   "metadata": {},
   "outputs": [
    {
     "name": "stdout",
     "output_type": "stream",
     "text": [
      "Running tuning job on business_feature_no_reviewcount\n",
      "nohup: ignoring input and redirecting stderr to stdout\n"
     ]
    }
   ],
   "source": [
    "%%time\n",
    "\n",
    "for feature_count in data_name:\n",
    "    data_name = \"yelp_\" + feature_count\n",
    "    job_name = model_name + feature_count\n",
    "    print(f\"Running tuning job on {feature_count}\")\n",
    "    !rm benchmarks/$job_name\".csv\" 2> /dev/null\n",
    "    !rm benchmarks/$job_name\".log\" 2> /dev/null\n",
    "    !rm benchmarks/tuner_config/$job_name 2> /dev/null\n",
    "    !rm -rf models/$data_name\"*\" 2> /dev/null\n",
    "    !rm -rf data/$data_name\"*\" 2> /dev/null\n",
    "    !cd benchmarks; nohup python run_param_tuner.py --config ./tuner_config/$job_name\".yaml\" --gpu 0 > $job_name\".log\""
   ]
  },
  {
   "cell_type": "code",
   "execution_count": null,
   "id": "faae9d19-d08e-4285-91f1-c9481a494f9a",
   "metadata": {},
   "outputs": [],
   "source": []
  }
 ],
 "metadata": {
  "instance_type": "ml.g4dn.16xlarge",
  "kernelspec": {
   "display_name": "nlp",
   "language": "python",
   "name": "nlp"
  },
  "language_info": {
   "codemirror_mode": {
    "name": "ipython",
    "version": 3
   },
   "file_extension": ".py",
   "mimetype": "text/x-python",
   "name": "python",
   "nbconvert_exporter": "python",
   "pygments_lexer": "ipython3",
   "version": "3.8.10"
  }
 },
 "nbformat": 4,
 "nbformat_minor": 5
}
