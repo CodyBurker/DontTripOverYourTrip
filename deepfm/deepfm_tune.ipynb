{
 "cells": [
  {
   "cell_type": "code",
   "execution_count": 57,
   "id": "10e43667-5693-4ae9-92fe-480b8182ed9a",
   "metadata": {},
   "outputs": [],
   "source": [
    "tuning_config = \"DeepFM_nofeature_tuner_config\""
   ]
  },
  {
   "cell_type": "code",
   "execution_count": 58,
   "id": "dbe63c54-fe19-4f7c-9d30-f26b7b31b7d1",
   "metadata": {},
   "outputs": [],
   "source": [
    "!rm benchmarks/$tuning_config\".csv\" &>/dev/null\n",
    "!rm -rf models/$tuning_config &>/dev/null\n",
    "!rm -rf data/$tuning_config &>/dev/null\n",
    "!cd benchmarks; nohup python run_param_tuner.py --config ./tuner_config/DeepFM_nofeature_tuner_config.yaml --gpu 0 > run_nofeature.log"
   ]
  },
  {
   "cell_type": "code",
   "execution_count": 31,
   "id": "241ae06e-bf8f-4f49-b6bb-09cec2e0fec6",
   "metadata": {},
   "outputs": [],
   "source": [
    "import pandas as pd"
   ]
  },
  {
   "cell_type": "code",
   "execution_count": 56,
   "id": "e8abde05-49be-4fd6-86ae-d145fa57c6ba",
   "metadata": {},
   "outputs": [
    {
     "data": {
      "text/html": [
       "<div>\n",
       "<style scoped>\n",
       "    .dataframe tbody tr th:only-of-type {\n",
       "        vertical-align: middle;\n",
       "    }\n",
       "\n",
       "    .dataframe tbody tr th {\n",
       "        vertical-align: top;\n",
       "    }\n",
       "\n",
       "    .dataframe thead th {\n",
       "        text-align: right;\n",
       "    }\n",
       "</style>\n",
       "<table border=\"1\" class=\"dataframe\">\n",
       "  <thead>\n",
       "    <tr style=\"text-align: right;\">\n",
       "      <th></th>\n",
       "      <th>time</th>\n",
       "      <th>reproducing command</th>\n",
       "      <th>expid</th>\n",
       "      <th>dataset_id</th>\n",
       "      <th>train</th>\n",
       "      <th>validation</th>\n",
       "    </tr>\n",
       "  </thead>\n",
       "  <tbody>\n",
       "    <tr>\n",
       "      <th>0</th>\n",
       "      <td>20221021-183700</td>\n",
       "      <td>[command] python run_expid.py --version pytorc...</td>\n",
       "      <td>[exp_id] DeepFM_yelp_no_feature_001_22ba5a0c</td>\n",
       "      <td>[dataset_id] yelp_no_feature_3d3ae056</td>\n",
       "      <td>[train] logloss: 0.528518 - AUC: 0.904376</td>\n",
       "      <td>[val] logloss: 0.597148 - AUC: 0.605399</td>\n",
       "    </tr>\n",
       "    <tr>\n",
       "      <th>1</th>\n",
       "      <td>20221021-183810</td>\n",
       "      <td>[command] python run_expid.py --version pytorc...</td>\n",
       "      <td>[exp_id] DeepFM_yelp_no_feature_002_4e0dd65c</td>\n",
       "      <td>[dataset_id] yelp_no_feature_3d3ae056</td>\n",
       "      <td>[train] logloss: 0.539710 - AUC: 0.906848</td>\n",
       "      <td>[val] logloss: 0.596688 - AUC: 0.609779</td>\n",
       "    </tr>\n",
       "  </tbody>\n",
       "</table>\n",
       "</div>"
      ],
      "text/plain": [
       "               time                                reproducing command  \\\n",
       "0   20221021-183700  [command] python run_expid.py --version pytorc...   \n",
       "1   20221021-183810  [command] python run_expid.py --version pytorc...   \n",
       "\n",
       "                                          expid  \\\n",
       "0  [exp_id] DeepFM_yelp_no_feature_001_22ba5a0c   \n",
       "1  [exp_id] DeepFM_yelp_no_feature_002_4e0dd65c   \n",
       "\n",
       "                              dataset_id  \\\n",
       "0  [dataset_id] yelp_no_feature_3d3ae056   \n",
       "1  [dataset_id] yelp_no_feature_3d3ae056   \n",
       "\n",
       "                                       train  \\\n",
       "0  [train] logloss: 0.528518 - AUC: 0.904376   \n",
       "1  [train] logloss: 0.539710 - AUC: 0.906848   \n",
       "\n",
       "                                validation  \n",
       "0  [val] logloss: 0.597148 - AUC: 0.605399  \n",
       "1  [val] logloss: 0.596688 - AUC: 0.609779  "
      ]
     },
     "execution_count": 56,
     "metadata": {},
     "output_type": "execute_result"
    }
   ],
   "source": [
    "pd.read_csv(\"benchmarks/DeepFM_nofeature_tuner_config.csv\", names=[\"time\", \"reproducing command\", \"expid\", \"dataset_id\", \"train\", \"validation\"])"
   ]
  },
  {
   "cell_type": "code",
   "execution_count": null,
   "id": "6fb53051-8d7f-4ff1-8128-ef5e21c1e308",
   "metadata": {},
   "outputs": [],
   "source": []
  }
 ],
 "metadata": {
  "kernelspec": {
   "display_name": "nlp",
   "language": "python",
   "name": "nlp"
  },
  "language_info": {
   "codemirror_mode": {
    "name": "ipython",
    "version": 3
   },
   "file_extension": ".py",
   "mimetype": "text/x-python",
   "name": "python",
   "nbconvert_exporter": "python",
   "pygments_lexer": "ipython3",
   "version": "3.8.12"
  }
 },
 "nbformat": 4,
 "nbformat_minor": 5
}
