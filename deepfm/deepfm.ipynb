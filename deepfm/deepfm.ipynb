{
 "cells": [
  {
   "cell_type": "code",
   "execution_count": 1,
   "id": "64f5424d-55bd-4c13-91a4-47eac2cc5d90",
   "metadata": {},
   "outputs": [
    {
     "data": {
      "text/plain": [
       "'1.2.3'"
      ]
     },
     "execution_count": 1,
     "metadata": {},
     "output_type": "execute_result"
    }
   ],
   "source": [
    "import sys\n",
    "sys.path.append('./FuxiCTR-main/')\n",
    "import fuxictr\n",
    "fuxictr.__version__"
   ]
  },
  {
   "cell_type": "code",
   "execution_count": 11,
   "id": "790e12bb-3173-49ef-813a-810e5aa3e6f5",
   "metadata": {},
   "outputs": [],
   "source": [
    "import os\n",
    "import logging\n",
    "from datetime import datetime\n",
    "from fuxictr import datasets\n",
    "from fuxictr.datasets.taobao import FeatureEncoder\n",
    "from fuxictr.features import FeatureMap\n",
    "from fuxictr.utils import load_config, set_logger, print_to_json\n",
    "from fuxictr.pytorch.models import DeepFM\n",
    "from fuxictr.pytorch.torch_utils import seed_everything\n",
    "import pandas as pd\n",
    "from sklearn.model_selection import train_test_split"
   ]
  },
  {
   "cell_type": "code",
   "execution_count": 7,
   "id": "2a08489c-44d0-41ac-a269-569935665ef5",
   "metadata": {},
   "outputs": [],
   "source": [
    "#df_reviews = pd.read_json(\"../yelp_dataset/yelp_academic_dataset_review.json\", lines=True)\n",
    "df_reviews = pd.read_csv(\"s3://w210-trip/data/review_philly.csv\")"
   ]
  },
  {
   "cell_type": "code",
   "execution_count": 5,
   "id": "78ee9898-900b-47cf-bac1-cf950db85ad6",
   "metadata": {},
   "outputs": [
    {
     "data": {
      "text/html": [
       "<div>\n",
       "<style scoped>\n",
       "    .dataframe tbody tr th:only-of-type {\n",
       "        vertical-align: middle;\n",
       "    }\n",
       "\n",
       "    .dataframe tbody tr th {\n",
       "        vertical-align: top;\n",
       "    }\n",
       "\n",
       "    .dataframe thead th {\n",
       "        text-align: right;\n",
       "    }\n",
       "</style>\n",
       "<table border=\"1\" class=\"dataframe\">\n",
       "  <thead>\n",
       "    <tr style=\"text-align: right;\">\n",
       "      <th></th>\n",
       "      <th>review_id</th>\n",
       "      <th>user_id</th>\n",
       "      <th>business_id</th>\n",
       "      <th>stars</th>\n",
       "      <th>useful</th>\n",
       "      <th>funny</th>\n",
       "      <th>cool</th>\n",
       "      <th>text</th>\n",
       "      <th>date</th>\n",
       "    </tr>\n",
       "  </thead>\n",
       "  <tbody>\n",
       "    <tr>\n",
       "      <th>0</th>\n",
       "      <td>KU_O5udG6zpxOg-VcAEodg</td>\n",
       "      <td>mh_-eMZ6K5RLWhZyISBhwA</td>\n",
       "      <td>XQfwVwDr-v0ZS3_CbbE5Xw</td>\n",
       "      <td>3</td>\n",
       "      <td>0</td>\n",
       "      <td>0</td>\n",
       "      <td>0</td>\n",
       "      <td>If you decide to eat here, just be aware it is...</td>\n",
       "      <td>2018-07-07 22:09:11</td>\n",
       "    </tr>\n",
       "    <tr>\n",
       "      <th>1</th>\n",
       "      <td>BiTunyQ73aT9WBnpR9DZGw</td>\n",
       "      <td>OyoGAe7OKpv6SyGZT5g77Q</td>\n",
       "      <td>7ATYjTIgM3jUlt4UM3IypQ</td>\n",
       "      <td>5</td>\n",
       "      <td>1</td>\n",
       "      <td>0</td>\n",
       "      <td>1</td>\n",
       "      <td>I've taken a lot of spin classes over the year...</td>\n",
       "      <td>2012-01-03 15:28:18</td>\n",
       "    </tr>\n",
       "    <tr>\n",
       "      <th>2</th>\n",
       "      <td>saUsX_uimxRlCVr67Z4Jig</td>\n",
       "      <td>8g_iMtfSiwikVnbP2etR0A</td>\n",
       "      <td>YjUWPpI6HXG530lwP-fb2A</td>\n",
       "      <td>3</td>\n",
       "      <td>0</td>\n",
       "      <td>0</td>\n",
       "      <td>0</td>\n",
       "      <td>Family diner. Had the buffet. Eclectic assortm...</td>\n",
       "      <td>2014-02-05 20:30:30</td>\n",
       "    </tr>\n",
       "  </tbody>\n",
       "</table>\n",
       "</div>"
      ],
      "text/plain": [
       "                review_id                 user_id             business_id  \\\n",
       "0  KU_O5udG6zpxOg-VcAEodg  mh_-eMZ6K5RLWhZyISBhwA  XQfwVwDr-v0ZS3_CbbE5Xw   \n",
       "1  BiTunyQ73aT9WBnpR9DZGw  OyoGAe7OKpv6SyGZT5g77Q  7ATYjTIgM3jUlt4UM3IypQ   \n",
       "2  saUsX_uimxRlCVr67Z4Jig  8g_iMtfSiwikVnbP2etR0A  YjUWPpI6HXG530lwP-fb2A   \n",
       "\n",
       "   stars  useful  funny  cool  \\\n",
       "0      3       0      0     0   \n",
       "1      5       1      0     1   \n",
       "2      3       0      0     0   \n",
       "\n",
       "                                                text                date  \n",
       "0  If you decide to eat here, just be aware it is... 2018-07-07 22:09:11  \n",
       "1  I've taken a lot of spin classes over the year... 2012-01-03 15:28:18  \n",
       "2  Family diner. Had the buffet. Eclectic assortm... 2014-02-05 20:30:30  "
      ]
     },
     "execution_count": 5,
     "metadata": {},
     "output_type": "execute_result"
    }
   ],
   "source": [
    "df_reviews.head(3)"
   ]
  },
  {
   "cell_type": "code",
   "execution_count": 8,
   "id": "2196e7c4-e2b5-465e-a5a7-cd2999edcc8f",
   "metadata": {},
   "outputs": [],
   "source": [
    "def create_target(row):\n",
    "    if row[\"stars\"] <= 3:\n",
    "        return 0\n",
    "    else:\n",
    "        return 1"
   ]
  },
  {
   "cell_type": "code",
   "execution_count": 9,
   "id": "7c9d4210-857b-4179-9587-397251031863",
   "metadata": {},
   "outputs": [],
   "source": [
    "df_reviews[\"target\"] = df_reviews.apply(lambda x: create_target(x), axis=1)"
   ]
  },
  {
   "cell_type": "code",
   "execution_count": 10,
   "id": "701cb7de-b6f1-4c23-a6e0-e9b86d5aa361",
   "metadata": {},
   "outputs": [
    {
     "data": {
      "text/html": [
       "<div>\n",
       "<style scoped>\n",
       "    .dataframe tbody tr th:only-of-type {\n",
       "        vertical-align: middle;\n",
       "    }\n",
       "\n",
       "    .dataframe tbody tr th {\n",
       "        vertical-align: top;\n",
       "    }\n",
       "\n",
       "    .dataframe thead th {\n",
       "        text-align: right;\n",
       "    }\n",
       "</style>\n",
       "<table border=\"1\" class=\"dataframe\">\n",
       "  <thead>\n",
       "    <tr style=\"text-align: right;\">\n",
       "      <th></th>\n",
       "      <th>_id</th>\n",
       "      <th>review_id</th>\n",
       "      <th>user_id</th>\n",
       "      <th>business_id</th>\n",
       "      <th>stars</th>\n",
       "      <th>useful</th>\n",
       "      <th>funny</th>\n",
       "      <th>cool</th>\n",
       "      <th>text</th>\n",
       "      <th>date</th>\n",
       "      <th>compliment_count</th>\n",
       "      <th>target</th>\n",
       "    </tr>\n",
       "  </thead>\n",
       "  <tbody>\n",
       "    <tr>\n",
       "      <th>0</th>\n",
       "      <td>631e9f7fedf65856ab0dfe3b</td>\n",
       "      <td>JrIxlS1TzJ-iCu79ul40cQ</td>\n",
       "      <td>eUta8W_HdHMXPzLBBZhL1A</td>\n",
       "      <td>04UD14gamNjLY0IDYVhHJg</td>\n",
       "      <td>1.0</td>\n",
       "      <td>1.0</td>\n",
       "      <td>2.0</td>\n",
       "      <td>1.0</td>\n",
       "      <td>I am a long term frequent customer of this est...</td>\n",
       "      <td>2015-09-23 23:10:31</td>\n",
       "      <td>NaN</td>\n",
       "      <td>0</td>\n",
       "    </tr>\n",
       "    <tr>\n",
       "      <th>1</th>\n",
       "      <td>631e9f7fedf65856ab0dfe3e</td>\n",
       "      <td>8JFGBuHMoiNDyfcxuWNtrA</td>\n",
       "      <td>smOvOajNG0lS4Pq7d8g4JQ</td>\n",
       "      <td>RZtGWDLCAtuipwaZ-UfjmQ</td>\n",
       "      <td>4.0</td>\n",
       "      <td>0.0</td>\n",
       "      <td>0.0</td>\n",
       "      <td>0.0</td>\n",
       "      <td>Good food--loved the gnocchi with marinara\\nth...</td>\n",
       "      <td>2009-10-14 19:57:14</td>\n",
       "      <td>NaN</td>\n",
       "      <td>1</td>\n",
       "    </tr>\n",
       "    <tr>\n",
       "      <th>2</th>\n",
       "      <td>631e9f7fedf65856ab0dfe42</td>\n",
       "      <td>AqPFMleE6RsU23_auESxiA</td>\n",
       "      <td>_7bHUi9Uuf5__HHc_Q8guQ</td>\n",
       "      <td>kxX2SOes4o-D3ZQBkiMRfA</td>\n",
       "      <td>5.0</td>\n",
       "      <td>1.0</td>\n",
       "      <td>0.0</td>\n",
       "      <td>1.0</td>\n",
       "      <td>Wow!  Yummy, different,  delicious.   Our favo...</td>\n",
       "      <td>2015-01-04 00:01:03</td>\n",
       "      <td>NaN</td>\n",
       "      <td>1</td>\n",
       "    </tr>\n",
       "  </tbody>\n",
       "</table>\n",
       "</div>"
      ],
      "text/plain": [
       "                        _id               review_id                 user_id  \\\n",
       "0  631e9f7fedf65856ab0dfe3b  JrIxlS1TzJ-iCu79ul40cQ  eUta8W_HdHMXPzLBBZhL1A   \n",
       "1  631e9f7fedf65856ab0dfe3e  8JFGBuHMoiNDyfcxuWNtrA  smOvOajNG0lS4Pq7d8g4JQ   \n",
       "2  631e9f7fedf65856ab0dfe42  AqPFMleE6RsU23_auESxiA  _7bHUi9Uuf5__HHc_Q8guQ   \n",
       "\n",
       "              business_id  stars  useful  funny  cool  \\\n",
       "0  04UD14gamNjLY0IDYVhHJg    1.0     1.0    2.0   1.0   \n",
       "1  RZtGWDLCAtuipwaZ-UfjmQ    4.0     0.0    0.0   0.0   \n",
       "2  kxX2SOes4o-D3ZQBkiMRfA    5.0     1.0    0.0   1.0   \n",
       "\n",
       "                                                text                 date  \\\n",
       "0  I am a long term frequent customer of this est...  2015-09-23 23:10:31   \n",
       "1  Good food--loved the gnocchi with marinara\\nth...  2009-10-14 19:57:14   \n",
       "2  Wow!  Yummy, different,  delicious.   Our favo...  2015-01-04 00:01:03   \n",
       "\n",
       "   compliment_count  target  \n",
       "0               NaN       0  \n",
       "1               NaN       1  \n",
       "2               NaN       1  "
      ]
     },
     "execution_count": 10,
     "metadata": {},
     "output_type": "execute_result"
    }
   ],
   "source": [
    "df_reviews.head(3)"
   ]
  },
  {
   "cell_type": "code",
   "execution_count": 14,
   "id": "e11be12e-0f60-4375-94a9-4b2585e18878",
   "metadata": {},
   "outputs": [],
   "source": [
    "df_train, df_val = train_test_split(\n",
    "    df_reviews, \n",
    "    test_size=0.2, \n",
    "    shuffle=True, \n",
    "    random_state=3\n",
    ")"
   ]
  },
  {
   "cell_type": "code",
   "execution_count": 20,
   "id": "9266f0ad-dca3-4fbc-9162-f5c54cb10c50",
   "metadata": {},
   "outputs": [],
   "source": [
    "df_train.to_csv(\"./data_sample/train_sample.csv\", index=False)\n",
    "df_val.to_csv(\"./data_sample/valid_sample.csv\", index=False)"
   ]
  },
  {
   "cell_type": "code",
   "execution_count": 21,
   "id": "7493a54b-e7fa-4bd5-8771-9ef3585ff63c",
   "metadata": {
    "tags": []
   },
   "outputs": [
    {
     "name": "stderr",
     "output_type": "stream",
     "text": [
      "2022-10-15 14:50:31,591 P56629 INFO {\n",
      "    \"batch_norm\": \"False\",\n",
      "    \"batch_size\": \"16\",\n",
      "    \"data_root\": \"./data_sample\",\n",
      "    \"dataset_id\": \"yelp_tiny\",\n",
      "    \"embedding_dim\": \"10\",\n",
      "    \"embedding_regularizer\": \"0\",\n",
      "    \"epochs\": \"3\",\n",
      "    \"every_x_epochs\": \"1\",\n",
      "    \"feature_cols\": \"[{'name': ['user_id', 'business_id'], 'active': True, 'dtype': 'str', 'type': 'categorical'}]\",\n",
      "    \"gpu\": \"-1\",\n",
      "    \"hidden_activations\": \"relu\",\n",
      "    \"hidden_units\": \"[64, 64]\",\n",
      "    \"label_col\": \"{'name': 'target', 'dtype': <class 'float'>}\",\n",
      "    \"learning_rate\": \"0.001\",\n",
      "    \"loss\": \"binary_crossentropy\",\n",
      "    \"metrics\": \"['logloss', 'AUC']\",\n",
      "    \"min_categr_count\": \"1\",\n",
      "    \"model_id\": \"DeepFM_trial\",\n",
      "    \"model_root\": \"./checkpoints/\",\n",
      "    \"monitor\": \"AUC\",\n",
      "    \"monitor_mode\": \"max\",\n",
      "    \"net_dropout\": \"0\",\n",
      "    \"net_regularizer\": \"0\",\n",
      "    \"num_workers\": \"1\",\n",
      "    \"optimizer\": \"adam\",\n",
      "    \"partition_block_size\": \"-1\",\n",
      "    \"patience\": \"2\",\n",
      "    \"pickle_feature_encoder\": \"True\",\n",
      "    \"save_best_only\": \"True\",\n",
      "    \"seed\": \"2019\",\n",
      "    \"shuffle\": \"True\",\n",
      "    \"task\": \"binary_classification\",\n",
      "    \"train_data\": \"./data_sample/train_sample.csv\",\n",
      "    \"use_hdf5\": \"True\",\n",
      "    \"valid_data\": \"./data_sample/valid_sample.csv\",\n",
      "    \"verbose\": \"1\",\n",
      "    \"version\": \"pytorch\"\n",
      "}\n"
     ]
    }
   ],
   "source": [
    "feature_cols = [{'name': [\"user_id\", \"business_id\"],\n",
    "                 'active': True, 'dtype': 'str', 'type': 'categorical'}]\n",
    "label_col = {'name': 'target', 'dtype': float}\n",
    "\n",
    "params = {'model_id': 'DeepFM_trial',\n",
    "          'dataset_id': 'yelp_tiny',\n",
    "          'train_data': './data_sample/train_sample.csv',\n",
    "          'valid_data': './data_sample/valid_sample.csv',\n",
    "          # 'test_data': 'FuxiCTR-main/data/tiny_data/test_sample.csv',\n",
    "          'model_root': './checkpoints/',\n",
    "          'data_root': './data_sample',\n",
    "          'feature_cols': feature_cols,\n",
    "          'label_col': label_col,\n",
    "          'embedding_regularizer': 0,\n",
    "          'net_regularizer': 0,\n",
    "          'hidden_units': [64, 64],\n",
    "          'hidden_activations': \"relu\",\n",
    "          'learning_rate': 1e-3,\n",
    "          'net_dropout': 0,\n",
    "          'batch_norm': False,\n",
    "          'optimizer': 'adam',\n",
    "          'task': 'binary_classification',\n",
    "          'loss': 'binary_crossentropy',\n",
    "          'metrics': ['logloss', 'AUC'],\n",
    "          'min_categr_count': 1,\n",
    "          'embedding_dim': 10,\n",
    "          'batch_size': 16,\n",
    "          'epochs': 3,\n",
    "          'shuffle': True,\n",
    "          'seed': 2019,\n",
    "          'monitor': 'AUC',\n",
    "          'monitor_mode': 'max',\n",
    "          'use_hdf5': True,\n",
    "          'pickle_feature_encoder': True,\n",
    "          'save_best_only': True,\n",
    "          'every_x_epochs': 1,\n",
    "          'patience': 2,\n",
    "          'num_workers': 1,\n",
    "          'partition_block_size': -1,\n",
    "          'verbose': 1,\n",
    "          'version': 'pytorch',\n",
    "          'gpu': -1}\n",
    "\n",
    "# Set the logger and random seed\n",
    "set_logger(params)\n",
    "logging.info(print_to_json(params))\n",
    "seed_everything(seed=params['seed'])"
   ]
  },
  {
   "cell_type": "code",
   "execution_count": 22,
   "id": "a11db15f-8d0e-4f93-a4af-53de9de7e2bf",
   "metadata": {
    "tags": []
   },
   "outputs": [
    {
     "name": "stderr",
     "output_type": "stream",
     "text": [
      "2022-10-15 14:50:33,798 P56629 INFO Set up feature encoder...\n",
      "2022-10-15 14:50:33,799 P56629 INFO Reading file: ./data_sample/train_sample.csv\n",
      "2022-10-15 14:50:37,983 P56629 INFO Reading file: ./data_sample/valid_sample.csv\n",
      "2022-10-15 14:50:39,029 P56629 INFO Preprocess feature columns...\n",
      "2022-10-15 14:50:39,177 P56629 INFO Fit feature encoder...\n",
      "2022-10-15 14:50:39,178 P56629 INFO Processing column: {'name': 'user_id', 'active': True, 'dtype': 'str', 'type': 'categorical'}\n",
      "2022-10-15 14:50:39,731 P56629 INFO Processing column: {'name': 'business_id', 'active': True, 'dtype': 'str', 'type': 'categorical'}\n",
      "2022-10-15 14:50:39,807 P56629 INFO Set feature index...\n",
      "2022-10-15 14:50:39,808 P56629 INFO Pickle feature_encoder: ./data_sample/yelp_tiny/feature_encoder.pkl\n",
      "2022-10-15 14:50:39,858 P56629 INFO Save feature_map to json: ./data_sample/yelp_tiny/feature_map.json\n",
      "2022-10-15 14:50:39,860 P56629 INFO Set feature encoder done.\n",
      "2022-10-15 14:50:39,860 P56629 INFO Transform feature columns...\n",
      "2022-10-15 14:50:40,245 P56629 INFO Saving data to h5: ./data_sample/yelp_tiny/train.h5\n",
      "2022-10-15 14:50:40,471 P56629 INFO Preprocess feature columns...\n",
      "2022-10-15 14:50:40,530 P56629 INFO Transform feature columns...\n",
      "2022-10-15 14:50:40,642 P56629 INFO Saving data to h5: ./data_sample/yelp_tiny/valid.h5\n",
      "2022-10-15 14:50:40,848 P56629 INFO Transform csv data to h5 done.\n"
     ]
    }
   ],
   "source": [
    "# Set feature_encoder that defines how to preprocess data\n",
    "feature_encoder = FeatureEncoder(feature_cols, \n",
    "                                 label_col, \n",
    "                                 dataset_id=params['dataset_id'], \n",
    "                                 data_root=params[\"data_root\"])\n",
    "\n",
    "# Build dataset from csv to h5\n",
    "datasets.build_dataset(feature_encoder, \n",
    "                       train_data=params[\"train_data\"], \n",
    "                       valid_data=params[\"valid_data\"],)\n",
    "                       #test_data=params[\"test_data\"])"
   ]
  },
  {
   "cell_type": "code",
   "execution_count": 25,
   "id": "240afd38-301a-4b4d-8811-a07a735c006a",
   "metadata": {},
   "outputs": [
    {
     "name": "stderr",
     "output_type": "stream",
     "text": [
      "2022-10-15 14:51:19,380 P56629 INFO Loading data...\n",
      "2022-10-15 14:51:19,389 P56629 INFO Loading data from h5: ./data_sample/yelp_tiny/train.h5\n",
      "2022-10-15 14:51:19,395 P56629 INFO Loading data from h5: ./data_sample/yelp_tiny/valid.h5\n",
      "2022-10-15 14:51:19,400 P56629 INFO Train samples: total/684064, pos/472869, neg/211195, ratio/69.13%, blocks/1\n",
      "2022-10-15 14:51:19,400 P56629 INFO Validation samples: total/171016, pos/118244, neg/52772, ratio/69.14%, blocks/1\n",
      "2022-10-15 14:51:19,401 P56629 INFO Loading train data done.\n"
     ]
    }
   ],
   "source": [
    "# Get feature_map that defines feature specs\n",
    "feature_map = feature_encoder.feature_map\n",
    "\n",
    "# Get train and validation data generator from h5\n",
    "data_dir = os.path.join(params['data_root'], params['dataset_id'])\n",
    "train_gen, valid_gen = datasets.h5_generator(feature_map, \n",
    "                                             stage='train', \n",
    "                                             train_data=os.path.join(data_dir, 'train.h5'),\n",
    "                                             valid_data=os.path.join(data_dir, 'valid.h5'),\n",
    "                                             batch_size=params['batch_size'],\n",
    "                                             shuffle=params['shuffle'])"
   ]
  },
  {
   "cell_type": "code",
   "execution_count": 26,
   "id": "190f17c2-0e9e-46d9-948d-fef90067f1a0",
   "metadata": {},
   "outputs": [
    {
     "name": "stderr",
     "output_type": "stream",
     "text": [
      "2022-10-15 14:51:20,184 P56629 INFO Total number of parameters: 2482142.\n",
      "2022-10-15 14:51:20,184 P56629 INFO Start training: 42754 batches/epoch\n",
      "2022-10-15 14:51:20,185 P56629 INFO ************ Epoch=1 start ************\n"
     ]
    },
    {
     "name": "stdout",
     "output_type": "stream",
     "text": [
      "100%|████████████████████████████████████████████████████████████████████████████▉| 42748/42754 [12:29<00:00, 52.36it/s]\n",
      "  0%|                                                                                         | 0/10689 [00:00<?, ?it/s]\u001b[A\n",
      "  0%|                                                                               | 1/10689 [00:01<3:54:03,  1.31s/it]\u001b[A\n",
      "  2%|█▍                                                                            | 189/10689 [00:01<00:56, 184.96it/s]\u001b[A\n",
      "  4%|██▉                                                                           | 397/10689 [00:01<00:24, 417.49it/s]\u001b[A\n",
      "  6%|████▍                                                                         | 603/10689 [00:01<00:15, 662.30it/s]\u001b[A\n",
      "  8%|█████▉                                                                        | 806/10689 [00:01<00:10, 902.25it/s]\u001b[A\n",
      "  9%|███████▏                                                                     | 991/10689 [00:01<00:09, 1067.39it/s]\u001b[A\n",
      " 11%|████████▌                                                                   | 1196/10689 [00:01<00:07, 1282.28it/s]\u001b[A\n",
      " 13%|█████████▉                                                                  | 1398/10689 [00:02<00:06, 1457.79it/s]\u001b[A\n",
      " 15%|███████████▍                                                                | 1601/10689 [00:02<00:05, 1601.74it/s]\u001b[A\n",
      " 17%|████████████▉                                                               | 1811/10689 [00:02<00:05, 1733.64it/s]\u001b[A\n",
      " 19%|██████████████▎                                                             | 2018/10689 [00:02<00:04, 1824.70it/s]\u001b[A\n",
      " 21%|███████████████▊                                                            | 2226/10689 [00:02<00:04, 1896.09it/s]\u001b[A\n",
      " 23%|█████████████████▎                                                          | 2430/10689 [00:02<00:04, 1927.77it/s]\u001b[A\n",
      " 25%|██████████████████▋                                                         | 2636/10689 [00:02<00:04, 1964.70it/s]\u001b[A\n",
      " 27%|████████████████████▏                                                       | 2840/10689 [00:02<00:03, 1984.62it/s]\u001b[A\n",
      " 28%|█████████████████████▋                                                      | 3044/10689 [00:02<00:03, 1998.57it/s]\u001b[A\n",
      " 30%|███████████████████████                                                     | 3248/10689 [00:02<00:03, 1995.00it/s]\u001b[A\n",
      " 32%|████████████████████████▌                                                   | 3456/10689 [00:03<00:03, 2019.25it/s]\u001b[A\n",
      " 34%|██████████████████████████                                                  | 3661/10689 [00:03<00:03, 2026.78it/s]\u001b[A\n",
      " 36%|███████████████████████████▍                                                | 3865/10689 [00:03<00:03, 2024.13it/s]\u001b[A\n",
      " 38%|████████████████████████████▉                                               | 4069/10689 [00:03<00:03, 2025.06it/s]\u001b[A\n",
      " 40%|██████████████████████████████▍                                             | 4276/10689 [00:03<00:03, 2035.74it/s]\u001b[A\n",
      " 42%|███████████████████████████████▊                                            | 4482/10689 [00:03<00:03, 2040.23it/s]\u001b[A\n",
      " 44%|█████████████████████████████████▎                                          | 4687/10689 [00:03<00:02, 2038.52it/s]\u001b[A\n",
      " 46%|██████████████████████████████████▊                                         | 4896/10689 [00:03<00:02, 2053.50it/s]\u001b[A\n",
      " 48%|████████████████████████████████████▎                                       | 5102/10689 [00:03<00:02, 2045.57it/s]\u001b[A\n",
      " 50%|█████████████████████████████████████▋                                      | 5307/10689 [00:03<00:02, 2042.71it/s]\u001b[A\n",
      " 52%|███████████████████████████████████████▏                                    | 5512/10689 [00:04<00:02, 2028.17it/s]\u001b[A\n",
      " 53%|████████████████████████████████████████▋                                   | 5715/10689 [00:04<00:02, 2014.22it/s]\u001b[A\n",
      " 55%|██████████████████████████████████████████                                  | 5917/10689 [00:04<00:02, 1989.21it/s]\u001b[A\n",
      " 57%|███████████████████████████████████████████▍                                | 6117/10689 [00:04<00:02, 1986.78it/s]\u001b[A\n",
      " 59%|████████████████████████████████████████████▉                               | 6316/10689 [00:04<00:02, 1845.91it/s]\u001b[A\n",
      " 61%|██████████████████████████████████████████████▍                             | 6525/10689 [00:04<00:02, 1914.16it/s]\u001b[A\n",
      " 63%|███████████████████████████████████████████████▊                            | 6731/10689 [00:04<00:02, 1955.28it/s]\u001b[A\n",
      " 65%|█████████████████████████████████████████████████▎                          | 6937/10689 [00:04<00:01, 1985.62it/s]\u001b[A\n",
      " 67%|██████████████████████████████████████████████████▊                         | 7142/10689 [00:04<00:01, 2003.88it/s]\u001b[A\n",
      " 69%|████████████████████████████████████████████████████▏                       | 7344/10689 [00:04<00:01, 1987.24it/s]\u001b[A\n",
      " 71%|█████████████████████████████████████████████████████▋                      | 7544/10689 [00:05<00:01, 1972.09it/s]\u001b[A\n",
      " 73%|███████████████████████████████████████████████████████                     | 7751/10689 [00:05<00:01, 1998.63it/s]\u001b[A\n",
      " 74%|████████████████████████████████████████████████████████▌                   | 7952/10689 [00:05<00:01, 1947.68it/s]\u001b[A\n",
      " 76%|█████████████████████████████████████████████████████████▉                  | 8157/10689 [00:05<00:01, 1976.37it/s]\u001b[A\n",
      " 78%|███████████████████████████████████████████████████████████▍                | 8356/10689 [00:05<00:01, 1867.41it/s]\u001b[A\n",
      " 80%|████████████████████████████████████████████████████████████▉               | 8566/10689 [00:05<00:01, 1931.39it/s]\u001b[A\n",
      " 82%|██████████████████████████████████████████████████████████████▍             | 8775/10689 [00:05<00:00, 1974.63it/s]\u001b[A\n",
      " 84%|███████████████████████████████████████████████████████████████▉            | 8985/10689 [00:05<00:00, 2010.11it/s]\u001b[A\n",
      " 86%|█████████████████████████████████████████████████████████████████▎          | 9193/10689 [00:05<00:00, 2028.96it/s]\u001b[A\n",
      " 88%|██████████████████████████████████████████████████████████████████▊         | 9397/10689 [00:06<00:00, 2030.26it/s]\u001b[A\n",
      " 90%|████████████████████████████████████████████████████████████████████▎       | 9605/10689 [00:06<00:00, 2044.30it/s]\u001b[A\n",
      " 92%|█████████████████████████████████████████████████████████████████████▊      | 9812/10689 [00:06<00:00, 2051.39it/s]\u001b[A\n",
      " 94%|██████████████████████████████████████████████████████████████████████▎    | 10018/10689 [00:06<00:00, 2049.47it/s]\u001b[A\n",
      " 96%|███████████████████████████████████████████████████████████████████████▋   | 10224/10689 [00:06<00:00, 2044.18it/s]\u001b[A\n",
      " 98%|█████████████████████████████████████████████████████████████████████████▏ | 10430/10689 [00:06<00:00, 2048.84it/s]\u001b[A\n",
      "100%|████████████████████████████████████████████████████████████████████████████| 10689/10689 [00:11<00:00, 917.51it/s]\u001b[A"
     ]
    },
    {
     "name": "stderr",
     "output_type": "stream",
     "text": [
      "2022-10-15 15:04:01,146 P56629 INFO [Metrics] logloss: 0.536154 - AUC: 0.739063\n",
      "2022-10-15 15:04:01,147 P56629 INFO Save best model: monitor(max): 0.739063\n",
      "2022-10-15 15:04:01,162 P56629 INFO --- 42754/42754 batches finished ---\n"
     ]
    },
    {
     "name": "stdout",
     "output_type": "stream",
     "text": [
      "\n",
      "100%|█████████████████████████████████████████████████████████████████████████████| 42754/42754 [12:45<00:00, 55.82it/s]"
     ]
    },
    {
     "name": "stderr",
     "output_type": "stream",
     "text": [
      "2022-10-15 15:04:06,166 P56629 INFO Train loss: 0.552081\n",
      "2022-10-15 15:04:06,167 P56629 INFO ************ Epoch=1 end ************\n"
     ]
    },
    {
     "name": "stdout",
     "output_type": "stream",
     "text": [
      "\n",
      "100%|██████████████████████████████████████████████████████████████████████████▉| 42751/42754 [1:06:54<00:00, 53.53it/s]\n",
      "  0%|                                                                                         | 0/10689 [00:00<?, ?it/s]\u001b[A\n",
      "  0%|                                                                               | 1/10689 [00:01<4:02:03,  1.36s/it]\u001b[A\n",
      "  2%|█▍                                                                            | 196/10689 [00:01<00:56, 186.11it/s]\u001b[A\n",
      "  4%|██▉                                                                           | 395/10689 [00:01<00:25, 401.84it/s]\u001b[A\n",
      "  6%|████▎                                                                         | 597/10689 [00:01<00:15, 637.78it/s]\u001b[A\n",
      "  7%|█████▊                                                                        | 801/10689 [00:01<00:11, 878.82it/s]\u001b[A\n",
      "  9%|███████▏                                                                     | 997/10689 [00:01<00:08, 1091.38it/s]\u001b[A\n",
      " 11%|████████▌                                                                   | 1201/10689 [00:01<00:07, 1299.59it/s]\u001b[A\n",
      " 13%|█████████▉                                                                  | 1402/10689 [00:02<00:06, 1469.18it/s]\u001b[A\n",
      " 15%|███████████▍                                                                | 1603/10689 [00:02<00:05, 1605.97it/s]\u001b[A\n",
      " 17%|████████████▊                                                               | 1806/10689 [00:02<00:05, 1717.40it/s]\u001b[A\n",
      " 19%|██████████████▎                                                             | 2007/10689 [00:02<00:04, 1796.56it/s]\u001b[A\n",
      " 21%|███████████████▋                                                            | 2210/10689 [00:02<00:04, 1860.76it/s]\u001b[A\n",
      " 23%|█████████████████▏                                                          | 2414/10689 [00:02<00:04, 1910.42it/s]\u001b[A\n",
      " 24%|██████████████████▌                                                         | 2617/10689 [00:02<00:04, 1942.03it/s]\u001b[A\n",
      " 26%|████████████████████                                                        | 2819/10689 [00:02<00:04, 1959.07it/s]\u001b[A\n",
      " 28%|█████████████████████▍                                                      | 3020/10689 [00:02<00:03, 1945.51it/s]\u001b[A\n",
      " 30%|██████████████████████▉                                                     | 3219/10689 [00:02<00:03, 1927.15it/s]\u001b[A\n",
      " 32%|████████████████████████▎                                                   | 3419/10689 [00:03<00:03, 1947.21it/s]\u001b[A\n",
      " 34%|█████████████████████████▋                                                  | 3621/10689 [00:03<00:03, 1966.79it/s]\u001b[A\n",
      " 36%|███████████████████████████▏                                                | 3820/10689 [00:03<00:03, 1972.87it/s]\u001b[A\n",
      " 38%|████████████████████████████▌                                               | 4022/10689 [00:03<00:03, 1986.80it/s]\u001b[A\n",
      " 40%|██████████████████████████████                                              | 4224/10689 [00:03<00:03, 1994.85it/s]\u001b[A\n",
      " 41%|███████████████████████████████▍                                            | 4424/10689 [00:03<00:03, 1995.54it/s]\u001b[A\n",
      " 43%|████████████████████████████████▉                                           | 4624/10689 [00:03<00:03, 1996.43it/s]\u001b[A\n",
      " 45%|██████████████████████████████████▎                                         | 4825/10689 [00:03<00:02, 1998.61it/s]\u001b[A\n",
      " 47%|███████████████████████████████████▊                                        | 5029/10689 [00:03<00:02, 2009.23it/s]\u001b[A\n",
      " 49%|█████████████████████████████████████▏                                      | 5232/10689 [00:03<00:02, 2012.63it/s]\u001b[A\n",
      " 51%|██████████████████████████████████████▋                                     | 5434/10689 [00:04<00:02, 2007.48it/s]\u001b[A\n",
      " 53%|████████████████████████████████████████                                    | 5638/10689 [00:04<00:02, 2014.50it/s]\u001b[A\n",
      " 55%|█████████████████████████████████████████▌                                  | 5840/10689 [00:04<00:02, 2011.33it/s]\u001b[A\n",
      " 57%|██████████████████████████████████████████▉                                 | 6042/10689 [00:04<00:02, 2009.37it/s]\u001b[A\n",
      " 58%|████████████████████████████████████████████▍                               | 6244/10689 [00:04<00:02, 2010.52it/s]\u001b[A\n",
      " 60%|█████████████████████████████████████████████▊                              | 6446/10689 [00:04<00:02, 2009.02it/s]\u001b[A\n",
      " 62%|███████████████████████████████████████████████▎                            | 6648/10689 [00:04<00:02, 2009.78it/s]\u001b[A\n",
      " 64%|████████████████████████████████████████████████▋                           | 6849/10689 [00:04<00:01, 2005.17it/s]\u001b[A\n",
      " 66%|██████████████████████████████████████████████████▏                         | 7053/10689 [00:04<00:01, 2013.44it/s]\u001b[A\n",
      " 68%|███████████████████████████████████████████████████▌                        | 7256/10689 [00:04<00:01, 2016.79it/s]\u001b[A\n",
      " 70%|█████████████████████████████████████████████████████                       | 7458/10689 [00:05<00:01, 2007.98it/s]\u001b[A\n",
      " 72%|██████████████████████████████████████████████████████▍                     | 7659/10689 [00:05<00:01, 1868.08it/s]\u001b[A\n",
      " 74%|███████████████████████████████████████████████████████▊                    | 7858/10689 [00:05<00:01, 1902.36it/s]\u001b[A\n",
      " 75%|█████████████████████████████████████████████████████████▎                  | 8059/10689 [00:05<00:01, 1930.67it/s]\u001b[A\n",
      " 77%|██████████████████████████████████████████████████████████▋                 | 8261/10689 [00:05<00:01, 1956.26it/s]\u001b[A\n",
      " 79%|████████████████████████████████████████████████████████████▏               | 8461/10689 [00:05<00:01, 1966.96it/s]\u001b[A\n",
      " 81%|█████████████████████████████████████████████████████████████▌              | 8662/10689 [00:05<00:01, 1978.95it/s]\u001b[A\n",
      " 83%|███████████████████████████████████████████████████████████████             | 8864/10689 [00:05<00:00, 1988.49it/s]\u001b[A\n",
      " 85%|████████████████████████████████████████████████████████████████▍           | 9067/10689 [00:05<00:00, 1999.92it/s]\u001b[A\n",
      " 87%|█████████████████████████████████████████████████████████████████▉          | 9269/10689 [00:06<00:00, 2004.36it/s]\u001b[A\n",
      " 89%|███████████████████████████████████████████████████████████████████▎        | 9470/10689 [00:06<00:00, 2003.76it/s]\u001b[A\n",
      " 90%|████████████████████████████████████████████████████████████████████▊       | 9671/10689 [00:06<00:00, 1982.85it/s]\u001b[A\n",
      " 92%|██████████████████████████████████████████████████████████████████████▏     | 9871/10689 [00:06<00:00, 1987.23it/s]\u001b[A\n",
      " 94%|██████████████████████████████████████████████████████████████████████▋    | 10070/10689 [00:06<00:00, 1977.51it/s]\u001b[A\n",
      " 96%|████████████████████████████████████████████████████████████████████████   | 10269/10689 [00:06<00:00, 1980.30it/s]\u001b[A\n",
      " 98%|█████████████████████████████████████████████████████████████████████████▍ | 10473/10689 [00:06<00:00, 1995.51it/s]\u001b[A\n",
      "100%|████████████████████████████████████████████████████████████████████████████| 10689/10689 [00:11<00:00, 910.99it/s]\u001b[A"
     ]
    },
    {
     "name": "stderr",
     "output_type": "stream",
     "text": [
      "2022-10-15 16:11:12,770 P56629 INFO [Metrics] logloss: 0.563009 - AUC: 0.719759\n",
      "2022-10-15 16:11:12,771 P56629 INFO Monitor(max) STOP: 0.719759 !\n",
      "2022-10-15 16:11:12,771 P56629 INFO Reduce learning rate on plateau: 0.000100\n",
      "2022-10-15 16:11:12,772 P56629 INFO --- 42754/42754 batches finished ---\n"
     ]
    },
    {
     "name": "stdout",
     "output_type": "stream",
     "text": [
      "\n",
      "100%|███████████████████████████████████████████████████████████████████████████| 42754/42754 [1:07:11<00:00, 10.60it/s]"
     ]
    },
    {
     "name": "stderr",
     "output_type": "stream",
     "text": [
      "2022-10-15 16:11:17,778 P56629 INFO Train loss: 0.421477\n",
      "2022-10-15 16:11:17,778 P56629 INFO ************ Epoch=2 end ************\n"
     ]
    },
    {
     "name": "stdout",
     "output_type": "stream",
     "text": [
      "\n",
      "100%|████████████████████████████████████████████████████████████████████████████▉| 42753/42754 [25:31<00:00, 53.14it/s]\n",
      "  0%|                                                                                         | 0/10689 [00:00<?, ?it/s]\u001b[A\n",
      "  0%|                                                                               | 1/10689 [00:01<3:31:04,  1.18s/it]\u001b[A\n",
      "  2%|█▍                                                                            | 191/10689 [00:01<00:51, 205.17it/s]\u001b[A\n",
      "  4%|██▊                                                                           | 392/10689 [00:01<00:23, 445.48it/s]\u001b[A\n",
      "  6%|████▎                                                                         | 589/10689 [00:01<00:14, 688.72it/s]\u001b[A\n",
      "  7%|█████▋                                                                        | 784/10689 [00:01<00:10, 922.19it/s]\u001b[A\n",
      "  9%|███████                                                                      | 981/10689 [00:01<00:08, 1141.09it/s]\u001b[A\n",
      " 11%|████████▍                                                                   | 1180/10689 [00:01<00:07, 1335.30it/s]\u001b[A\n",
      " 13%|█████████▊                                                                  | 1382/10689 [00:01<00:06, 1504.38it/s]\u001b[A\n",
      " 15%|███████████▏                                                                | 1582/10689 [00:01<00:05, 1631.77it/s]\u001b[A\n",
      " 17%|████████████▋                                                               | 1782/10689 [00:02<00:05, 1731.22it/s]\u001b[A\n",
      " 19%|██████████████                                                              | 1980/10689 [00:02<00:04, 1798.89it/s]\u001b[A\n",
      " 20%|███████████████▌                                                            | 2182/10689 [00:02<00:04, 1860.39it/s]\u001b[A\n",
      " 22%|████████████████▉                                                           | 2381/10689 [00:02<00:04, 1892.30it/s]\u001b[A\n",
      " 24%|██████████████████▎                                                         | 2582/10689 [00:02<00:04, 1924.80it/s]\u001b[A\n",
      " 26%|███████████████████▊                                                        | 2784/10689 [00:02<00:04, 1950.11it/s]\u001b[A\n",
      " 28%|█████████████████████▏                                                      | 2984/10689 [00:02<00:03, 1959.27it/s]\u001b[A\n",
      " 30%|██████████████████████▋                                                     | 3184/10689 [00:02<00:03, 1968.90it/s]\u001b[A\n",
      " 32%|████████████████████████                                                    | 3387/10689 [00:02<00:03, 1984.71it/s]\u001b[A\n",
      " 34%|█████████████████████████▌                                                  | 3587/10689 [00:02<00:03, 1984.99it/s]\u001b[A\n",
      " 35%|██████████████████████████▉                                                 | 3787/10689 [00:03<00:03, 1888.61it/s]\u001b[A\n",
      " 37%|████████████████████████████▎                                               | 3984/10689 [00:03<00:03, 1910.52it/s]\u001b[A\n",
      " 39%|█████████████████████████████▋                                              | 4177/10689 [00:03<00:03, 1871.15it/s]\u001b[A\n",
      " 41%|███████████████████████████████▏                                            | 4379/10689 [00:03<00:03, 1914.09it/s]\u001b[A\n",
      " 43%|████████████████████████████████▌                                           | 4581/10689 [00:03<00:03, 1942.51it/s]\u001b[A\n",
      " 45%|██████████████████████████████████                                          | 4783/10689 [00:03<00:03, 1963.87it/s]\u001b[A\n",
      " 47%|███████████████████████████████████▍                                        | 4985/10689 [00:03<00:02, 1977.69it/s]\u001b[A\n",
      " 49%|████████████████████████████████████▊                                       | 5185/10689 [00:03<00:02, 1982.58it/s]\u001b[A\n",
      " 50%|██████████████████████████████████████▎                                     | 5385/10689 [00:03<00:02, 1986.25it/s]\u001b[A\n",
      " 52%|███████████████████████████████████████▋                                    | 5587/10689 [00:04<00:02, 1993.74it/s]\u001b[A\n",
      " 54%|█████████████████████████████████████████▏                                  | 5787/10689 [00:04<00:02, 1988.74it/s]\u001b[A\n",
      " 56%|██████████████████████████████████████████▌                                 | 5986/10689 [00:04<00:02, 1986.56it/s]\u001b[A\n",
      " 58%|███████████████████████████████████████████▉                                | 6185/10689 [00:04<00:02, 1985.08it/s]\u001b[A\n",
      " 60%|█████████████████████████████████████████████▍                              | 6386/10689 [00:04<00:02, 1991.06it/s]\u001b[A\n",
      " 62%|██████████████████████████████████████████████▊                             | 6589/10689 [00:04<00:02, 2000.54it/s]\u001b[A\n",
      " 64%|████████████████████████████████████████████████▎                           | 6791/10689 [00:04<00:01, 2004.44it/s]\u001b[A\n",
      " 65%|█████████████████████████████████████████████████▋                          | 6993/10689 [00:04<00:01, 2008.12it/s]\u001b[A\n",
      " 67%|███████████████████████████████████████████████████▏                        | 7194/10689 [00:04<00:01, 2007.15it/s]\u001b[A\n",
      " 69%|████████████████████████████████████████████████████▌                       | 7395/10689 [00:04<00:01, 2000.86it/s]\u001b[A\n",
      " 71%|██████████████████████████████████████████████████████                      | 7596/10689 [00:05<00:01, 1997.03it/s]\u001b[A\n",
      " 73%|███████████████████████████████████████████████████████▍                    | 7796/10689 [00:05<00:01, 1840.42it/s]\u001b[A\n",
      " 75%|████████████████████████████████████████████████████████▉                   | 8000/10689 [00:05<00:01, 1895.28it/s]\u001b[A\n",
      " 77%|██████████████████████████████████████████████████████████▎                 | 8199/10689 [00:05<00:01, 1922.12it/s]\u001b[A\n",
      " 79%|███████████████████████████████████████████████████████████▋                | 8399/10689 [00:05<00:01, 1943.52it/s]\u001b[A\n",
      " 80%|█████████████████████████████████████████████████████████████▏              | 8600/10689 [00:05<00:01, 1962.76it/s]\u001b[A\n",
      " 82%|██████████████████████████████████████████████████████████████▌             | 8798/10689 [00:05<00:00, 1967.53it/s]\u001b[A\n",
      " 84%|███████████████████████████████████████████████████████████████▉            | 9000/10689 [00:05<00:00, 1980.83it/s]\u001b[A\n",
      " 86%|█████████████████████████████████████████████████████████████████▍          | 9199/10689 [00:05<00:00, 1979.73it/s]\u001b[A\n",
      " 88%|██████████████████████████████████████████████████████████████████▊         | 9402/10689 [00:05<00:00, 1994.64it/s]\u001b[A\n",
      " 90%|████████████████████████████████████████████████████████████████████▎       | 9602/10689 [00:06<00:00, 1995.85it/s]\u001b[A\n",
      " 92%|█████████████████████████████████████████████████████████████████████▋      | 9806/10689 [00:06<00:00, 2006.89it/s]\u001b[A\n",
      " 94%|██████████████████████████████████████████████████████████████████████▏    | 10007/10689 [00:06<00:00, 2000.21it/s]\u001b[A\n",
      " 96%|███████████████████████████████████████████████████████████████████████▋   | 10208/10689 [00:06<00:00, 1993.18it/s]\u001b[A\n",
      " 97%|█████████████████████████████████████████████████████████████████████████  | 10408/10689 [00:06<00:00, 1982.78it/s]\u001b[A\n",
      "100%|████████████████████████████████████████████████████████████████████████████| 10689/10689 [00:11<00:00, 920.78it/s]\u001b[A"
     ]
    },
    {
     "name": "stderr",
     "output_type": "stream",
     "text": [
      "2022-10-15 16:37:00,790 P56629 INFO [Metrics] logloss: 0.634303 - AUC: 0.710802\n",
      "2022-10-15 16:37:00,791 P56629 INFO Monitor(max) STOP: 0.710802 !\n",
      "2022-10-15 16:37:00,792 P56629 INFO Reduce learning rate on plateau: 0.000010\n",
      "2022-10-15 16:37:00,792 P56629 INFO Early stopping at epoch=3\n",
      "2022-10-15 16:37:00,793 P56629 INFO --- 42754/42754 batches finished ---\n"
     ]
    },
    {
     "name": "stdout",
     "output_type": "stream",
     "text": [
      "\n",
      "100%|████████████████████████████████████████████████████████████████████████████▉| 42753/42754 [25:48<00:00, 27.62it/s]"
     ]
    },
    {
     "name": "stderr",
     "output_type": "stream",
     "text": [
      "2022-10-15 16:37:05,798 P56629 INFO Train loss: 0.362447\n",
      "2022-10-15 16:37:05,798 P56629 INFO Training finished.\n"
     ]
    },
    {
     "name": "stdout",
     "output_type": "stream",
     "text": [
      "\n"
     ]
    }
   ],
   "source": [
    "model = DeepFM(feature_map, **params)\n",
    "model.count_parameters() # print number of parameters used in model\n",
    "model.fit_generator(train_gen, \n",
    "                    validation_data=valid_gen, \n",
    "                    epochs=params['epochs'],\n",
    "                    verbose=params['verbose'])"
   ]
  },
  {
   "cell_type": "code",
   "execution_count": 27,
   "id": "bfc3fd76-6c80-4acc-bf29-013410bb0db5",
   "metadata": {},
   "outputs": [
    {
     "name": "stderr",
     "output_type": "stream",
     "text": [
      "2022-10-15 16:53:51,874 P56629 INFO ***** validation results *****\n"
     ]
    },
    {
     "name": "stdout",
     "output_type": "stream",
     "text": [
      "100%|████████████████████████████████████████████████████████████████████████████| 10689/10689 [00:11<00:00, 939.72it/s]"
     ]
    },
    {
     "name": "stderr",
     "output_type": "stream",
     "text": [
      "2022-10-15 16:54:03,367 P56629 INFO [Metrics] logloss: 0.536154 - AUC: 0.739063\n"
     ]
    },
    {
     "name": "stdout",
     "output_type": "stream",
     "text": [
      "\n"
     ]
    },
    {
     "data": {
      "text/plain": [
       "{'logloss': 0.5361543050809597, 'AUC': 0.739063152050163}"
      ]
     },
     "execution_count": 27,
     "metadata": {},
     "output_type": "execute_result"
    }
   ],
   "source": [
    "model.load_weights(model.checkpoint) # reload the best checkpoint\n",
    "logging.info('***** validation results *****')\n",
    "model.evaluate_generator(valid_gen)\n",
    "\n",
    "# logging.info('***** validation results *****')\n",
    "# test_gen = datasets.h5_generator(feature_map, \n",
    "#                                  stage='test',\n",
    "#                                  test_data=os.path.join(data_dir, 'test.h5'),\n",
    "#                                  batch_size=params['batch_size'],\n",
    "#                                  shuffle=False)\n",
    "# model.evaluate_generator(test_gen)"
   ]
  },
  {
   "cell_type": "code",
   "execution_count": 14,
   "id": "21e7485d-9b05-4dd8-b997-e60e1c55db5e",
   "metadata": {},
   "outputs": [
    {
     "ename": "ModuleNotFoundError",
     "evalue": "No module named 'lightfm'",
     "output_type": "error",
     "traceback": [
      "\u001b[0;31m---------------------------------------------------------------------------\u001b[0m",
      "\u001b[0;31mModuleNotFoundError\u001b[0m                       Traceback (most recent call last)",
      "Input \u001b[0;32mIn [14]\u001b[0m, in \u001b[0;36m<module>\u001b[0;34m\u001b[0m\n\u001b[0;32m----> 1\u001b[0m \u001b[38;5;28;01mfrom\u001b[39;00m \u001b[38;5;21;01mlightfm\u001b[39;00m \u001b[38;5;28;01mimport\u001b[39;00m LightFM\n\u001b[1;32m      2\u001b[0m \u001b[38;5;28;01mfrom\u001b[39;00m \u001b[38;5;21;01mlightfm\u001b[39;00m\u001b[38;5;21;01m.\u001b[39;00m\u001b[38;5;21;01mdatasets\u001b[39;00m \u001b[38;5;28;01mimport\u001b[39;00m fetch_movielens\n\u001b[1;32m      3\u001b[0m \u001b[38;5;28;01mfrom\u001b[39;00m \u001b[38;5;21;01mlightfm\u001b[39;00m\u001b[38;5;21;01m.\u001b[39;00m\u001b[38;5;21;01mevaluation\u001b[39;00m \u001b[38;5;28;01mimport\u001b[39;00m precision_at_k\n",
      "\u001b[0;31mModuleNotFoundError\u001b[0m: No module named 'lightfm'"
     ]
    }
   ],
   "source": [
    "from lightfm import LightFM\n",
    "from lightfm.datasets import fetch_movielens\n",
    "from lightfm.evaluation import precision_at_k\n",
    "\n",
    "# Load the MovieLens 100k dataset. Only five\n",
    "# star ratings are treated as positive.\n",
    "data = fetch_movielens(min_rating=5.0)"
   ]
  },
  {
   "cell_type": "code",
   "execution_count": null,
   "id": "e8b7f5e6-1d26-4b2c-bd69-8dfdc96a8f0a",
   "metadata": {},
   "outputs": [],
   "source": []
  }
 ],
 "metadata": {
  "kernelspec": {
   "display_name": "nlp",
   "language": "python",
   "name": "nlp"
  },
  "language_info": {
   "codemirror_mode": {
    "name": "ipython",
    "version": 3
   },
   "file_extension": ".py",
   "mimetype": "text/x-python",
   "name": "python",
   "nbconvert_exporter": "python",
   "pygments_lexer": "ipython3",
   "version": "3.8.10"
  }
 },
 "nbformat": 4,
 "nbformat_minor": 5
}
