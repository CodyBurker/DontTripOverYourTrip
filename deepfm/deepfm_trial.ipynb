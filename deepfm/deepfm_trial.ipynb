{
 "cells": [
  {
   "cell_type": "code",
   "execution_count": 1,
   "id": "64f5424d-55bd-4c13-91a4-47eac2cc5d90",
   "metadata": {},
   "outputs": [
    {
     "data": {
      "text/plain": [
       "'1.2.3'"
      ]
     },
     "execution_count": 1,
     "metadata": {},
     "output_type": "execute_result"
    }
   ],
   "source": [
    "import sys\n",
    "sys.path.append('./FuxiCTR-main/')\n",
    "import fuxictr\n",
    "fuxictr.__version__"
   ]
  },
  {
   "cell_type": "code",
   "execution_count": 2,
   "id": "790e12bb-3173-49ef-813a-810e5aa3e6f5",
   "metadata": {},
   "outputs": [],
   "source": [
    "import os\n",
    "import logging\n",
    "from datetime import datetime\n",
    "from fuxictr import datasets\n",
    "from fuxictr.datasets.taobao import FeatureEncoder\n",
    "from fuxictr.features import FeatureMap\n",
    "from fuxictr.utils import load_config, set_logger, print_to_json\n",
    "from fuxictr.pytorch.models import DeepFM\n",
    "from fuxictr.pytorch.torch_utils import seed_everything\n",
    "import pandas as pd\n",
    "from sklearn.model_selection import train_test_split"
   ]
  },
  {
   "cell_type": "code",
   "execution_count": 3,
   "id": "2a08489c-44d0-41ac-a269-569935665ef5",
   "metadata": {},
   "outputs": [],
   "source": [
    "df_reviews = pd.read_feather(\"../FilteredData/../FilteredData/review_philly.feather\")"
   ]
  },
  {
   "cell_type": "code",
   "execution_count": 4,
   "id": "2196e7c4-e2b5-465e-a5a7-cd2999edcc8f",
   "metadata": {},
   "outputs": [],
   "source": [
    "def create_target(row):\n",
    "    if row[\"stars\"] <= 3:\n",
    "        return 0\n",
    "    else:\n",
    "        return 1"
   ]
  },
  {
   "cell_type": "code",
   "execution_count": 5,
   "id": "7c9d4210-857b-4179-9587-397251031863",
   "metadata": {},
   "outputs": [],
   "source": [
    "df_reviews[\"target\"] = df_reviews.apply(lambda x: create_target(x), axis=1)"
   ]
  },
  {
   "cell_type": "code",
   "execution_count": 6,
   "id": "701cb7de-b6f1-4c23-a6e0-e9b86d5aa361",
   "metadata": {},
   "outputs": [
    {
     "data": {
      "text/html": [
       "<div>\n",
       "<style scoped>\n",
       "    .dataframe tbody tr th:only-of-type {\n",
       "        vertical-align: middle;\n",
       "    }\n",
       "\n",
       "    .dataframe tbody tr th {\n",
       "        vertical-align: top;\n",
       "    }\n",
       "\n",
       "    .dataframe thead th {\n",
       "        text-align: right;\n",
       "    }\n",
       "</style>\n",
       "<table border=\"1\" class=\"dataframe\">\n",
       "  <thead>\n",
       "    <tr style=\"text-align: right;\">\n",
       "      <th></th>\n",
       "      <th>_id</th>\n",
       "      <th>review_id</th>\n",
       "      <th>user_id</th>\n",
       "      <th>business_id</th>\n",
       "      <th>stars</th>\n",
       "      <th>useful</th>\n",
       "      <th>funny</th>\n",
       "      <th>cool</th>\n",
       "      <th>text</th>\n",
       "      <th>date</th>\n",
       "      <th>compliment_count</th>\n",
       "      <th>target</th>\n",
       "    </tr>\n",
       "  </thead>\n",
       "  <tbody>\n",
       "    <tr>\n",
       "      <th>0</th>\n",
       "      <td>631e9f7fedf65856ab0dfe3b</td>\n",
       "      <td>JrIxlS1TzJ-iCu79ul40cQ</td>\n",
       "      <td>eUta8W_HdHMXPzLBBZhL1A</td>\n",
       "      <td>04UD14gamNjLY0IDYVhHJg</td>\n",
       "      <td>1.0</td>\n",
       "      <td>1.0</td>\n",
       "      <td>2.0</td>\n",
       "      <td>1.0</td>\n",
       "      <td>I am a long term frequent customer of this est...</td>\n",
       "      <td>2015-09-23 23:10:31</td>\n",
       "      <td>NaN</td>\n",
       "      <td>0</td>\n",
       "    </tr>\n",
       "    <tr>\n",
       "      <th>1</th>\n",
       "      <td>631e9f7fedf65856ab0dfe3e</td>\n",
       "      <td>8JFGBuHMoiNDyfcxuWNtrA</td>\n",
       "      <td>smOvOajNG0lS4Pq7d8g4JQ</td>\n",
       "      <td>RZtGWDLCAtuipwaZ-UfjmQ</td>\n",
       "      <td>4.0</td>\n",
       "      <td>0.0</td>\n",
       "      <td>0.0</td>\n",
       "      <td>0.0</td>\n",
       "      <td>Good food--loved the gnocchi with marinara\\nth...</td>\n",
       "      <td>2009-10-14 19:57:14</td>\n",
       "      <td>NaN</td>\n",
       "      <td>1</td>\n",
       "    </tr>\n",
       "    <tr>\n",
       "      <th>2</th>\n",
       "      <td>631e9f7fedf65856ab0dfe42</td>\n",
       "      <td>AqPFMleE6RsU23_auESxiA</td>\n",
       "      <td>_7bHUi9Uuf5__HHc_Q8guQ</td>\n",
       "      <td>kxX2SOes4o-D3ZQBkiMRfA</td>\n",
       "      <td>5.0</td>\n",
       "      <td>1.0</td>\n",
       "      <td>0.0</td>\n",
       "      <td>1.0</td>\n",
       "      <td>Wow!  Yummy, different,  delicious.   Our favo...</td>\n",
       "      <td>2015-01-04 00:01:03</td>\n",
       "      <td>NaN</td>\n",
       "      <td>1</td>\n",
       "    </tr>\n",
       "  </tbody>\n",
       "</table>\n",
       "</div>"
      ],
      "text/plain": [
       "                        _id               review_id                 user_id  \\\n",
       "0  631e9f7fedf65856ab0dfe3b  JrIxlS1TzJ-iCu79ul40cQ  eUta8W_HdHMXPzLBBZhL1A   \n",
       "1  631e9f7fedf65856ab0dfe3e  8JFGBuHMoiNDyfcxuWNtrA  smOvOajNG0lS4Pq7d8g4JQ   \n",
       "2  631e9f7fedf65856ab0dfe42  AqPFMleE6RsU23_auESxiA  _7bHUi9Uuf5__HHc_Q8guQ   \n",
       "\n",
       "              business_id  stars  useful  funny  cool  \\\n",
       "0  04UD14gamNjLY0IDYVhHJg    1.0     1.0    2.0   1.0   \n",
       "1  RZtGWDLCAtuipwaZ-UfjmQ    4.0     0.0    0.0   0.0   \n",
       "2  kxX2SOes4o-D3ZQBkiMRfA    5.0     1.0    0.0   1.0   \n",
       "\n",
       "                                                text                 date  \\\n",
       "0  I am a long term frequent customer of this est...  2015-09-23 23:10:31   \n",
       "1  Good food--loved the gnocchi with marinara\\nth...  2009-10-14 19:57:14   \n",
       "2  Wow!  Yummy, different,  delicious.   Our favo...  2015-01-04 00:01:03   \n",
       "\n",
       "   compliment_count  target  \n",
       "0               NaN       0  \n",
       "1               NaN       1  \n",
       "2               NaN       1  "
      ]
     },
     "execution_count": 6,
     "metadata": {},
     "output_type": "execute_result"
    }
   ],
   "source": [
    "df_reviews.head(3)"
   ]
  },
  {
   "cell_type": "code",
   "execution_count": 7,
   "id": "e11be12e-0f60-4375-94a9-4b2585e18878",
   "metadata": {},
   "outputs": [],
   "source": [
    "df_train, df_val = train_test_split(\n",
    "    df_reviews, \n",
    "    test_size=0.2, \n",
    "    shuffle=True, \n",
    "    random_state=3\n",
    ")"
   ]
  },
  {
   "cell_type": "code",
   "execution_count": 8,
   "id": "9266f0ad-dca3-4fbc-9162-f5c54cb10c50",
   "metadata": {},
   "outputs": [],
   "source": [
    "df_train.to_csv(\"./data/train_trial.csv\", index=False)\n",
    "df_val.to_csv(\"./data/valid_trial.csv\", index=False)"
   ]
  },
  {
   "cell_type": "code",
   "execution_count": 40,
   "id": "7493a54b-e7fa-4bd5-8771-9ef3585ff63c",
   "metadata": {
    "tags": []
   },
   "outputs": [
    {
     "name": "stderr",
     "output_type": "stream",
     "text": [
      "2022-10-21 17:42:57,318 P75476 INFO {\n",
      "    \"batch_norm\": \"False\",\n",
      "    \"batch_size\": \"16\",\n",
      "    \"data_root\": \"./data/\",\n",
      "    \"dataset_id\": \"yelp_no_feature\",\n",
      "    \"embedding_dim\": \"10\",\n",
      "    \"embedding_regularizer\": \"0\",\n",
      "    \"epochs\": \"3\",\n",
      "    \"every_x_epochs\": \"1\",\n",
      "    \"feature_cols\": \"[{'name': ['user_id', 'business_id'], 'active': True, 'dtype': 'str', 'type': 'categorical'}]\",\n",
      "    \"gpu\": \"-1\",\n",
      "    \"hidden_activations\": \"relu\",\n",
      "    \"hidden_units\": \"[64, 64]\",\n",
      "    \"label_col\": \"{'name': 'target', 'dtype': <class 'float'>}\",\n",
      "    \"learning_rate\": \"0.001\",\n",
      "    \"loss\": \"binary_crossentropy\",\n",
      "    \"metrics\": \"['logloss', 'AUC']\",\n",
      "    \"min_categr_count\": \"1\",\n",
      "    \"model_id\": \"DeepFM_trial\",\n",
      "    \"model_root\": \"./models/\",\n",
      "    \"monitor\": \"AUC\",\n",
      "    \"monitor_mode\": \"max\",\n",
      "    \"net_dropout\": \"0\",\n",
      "    \"net_regularizer\": \"0\",\n",
      "    \"num_workers\": \"1\",\n",
      "    \"optimizer\": \"adam\",\n",
      "    \"partition_block_size\": \"-1\",\n",
      "    \"patience\": \"2\",\n",
      "    \"pickle_feature_encoder\": \"True\",\n",
      "    \"save_best_only\": \"True\",\n",
      "    \"seed\": \"2019\",\n",
      "    \"shuffle\": \"True\",\n",
      "    \"task\": \"binary_classification\",\n",
      "    \"train_data\": \"./data/train.csv\",\n",
      "    \"use_hdf5\": \"True\",\n",
      "    \"valid_data\": \"./data/valid.csv\",\n",
      "    \"verbose\": \"1\",\n",
      "    \"version\": \"pytorch\"\n",
      "}\n"
     ]
    }
   ],
   "source": [
    "feature_cols = [{'name': [\"user_id\", \"business_id\"],\n",
    "                 'active': True, 'dtype': 'str', 'type': 'categorical'}]\n",
    "label_col = {'name': 'target', 'dtype': float}\n",
    "\n",
    "params = {'model_id': 'DeepFM_trial',\n",
    "          'dataset_id': 'yelp_trial',\n",
    "          'train_data': './data/train_trial.csv',\n",
    "          'valid_data': './data/valid_trial.csv',\n",
    "          # 'test_data': 'FuxiCTR-main/data/tiny_data/test_sample.csv',\n",
    "          'model_root': './models/',\n",
    "          'data_root': './data/',\n",
    "          'feature_cols': feature_cols,\n",
    "          'label_col': label_col,\n",
    "          'embedding_regularizer': 0,\n",
    "          'net_regularizer': 0,\n",
    "          'hidden_units': [64, 64],\n",
    "          'hidden_activations': \"relu\",\n",
    "          'learning_rate': 1e-3,\n",
    "          'net_dropout': 0,\n",
    "          'batch_norm': False,\n",
    "          'optimizer': 'adam',\n",
    "          'task': 'binary_classification',\n",
    "          'loss': 'binary_crossentropy',\n",
    "          'metrics': ['logloss', 'AUC'],\n",
    "          'min_categr_count': 1,\n",
    "          'embedding_dim': 10,\n",
    "          'batch_size': 16,\n",
    "          'epochs': 3,\n",
    "          'shuffle': True,\n",
    "          'seed': 2019,\n",
    "          'monitor': 'AUC',\n",
    "          'monitor_mode': 'max',\n",
    "          'use_hdf5': True,\n",
    "          'pickle_feature_encoder': True,\n",
    "          'save_best_only': True,\n",
    "          'every_x_epochs': 1,\n",
    "          'patience': 2,\n",
    "          'num_workers': 1,\n",
    "          'partition_block_size': -1,\n",
    "          'verbose': 1,\n",
    "          'version': 'pytorch',\n",
    "          'gpu': -1}\n",
    "\n",
    "# Set the logger and random seed\n",
    "set_logger(params)\n",
    "logging.info(print_to_json(params))\n",
    "seed_everything(seed=params['seed'])"
   ]
  },
  {
   "cell_type": "code",
   "execution_count": 41,
   "id": "a11db15f-8d0e-4f93-a4af-53de9de7e2bf",
   "metadata": {
    "tags": []
   },
   "outputs": [
    {
     "name": "stderr",
     "output_type": "stream",
     "text": [
      "2022-10-21 17:42:57,519 P75476 INFO Set up feature encoder...\n",
      "2022-10-21 17:42:57,521 P75476 INFO Reading file: ./data/train.csv\n",
      "2022-10-21 17:42:57,623 P75476 INFO Reading file: ./data/valid.csv\n",
      "2022-10-21 17:42:57,658 P75476 INFO Preprocess feature columns...\n",
      "2022-10-21 17:42:57,661 P75476 INFO Fit feature encoder...\n",
      "2022-10-21 17:42:57,662 P75476 INFO Processing column: {'name': 'user_id', 'active': True, 'dtype': 'str', 'type': 'categorical'}\n",
      "2022-10-21 17:42:57,671 P75476 INFO Processing column: {'name': 'business_id', 'active': True, 'dtype': 'str', 'type': 'categorical'}\n",
      "2022-10-21 17:42:57,674 P75476 INFO Set feature index...\n",
      "2022-10-21 17:42:57,675 P75476 INFO Pickle feature_encoder: ./data/yelp_no_feature/feature_encoder.pkl\n",
      "2022-10-21 17:42:57,676 P75476 INFO Save feature_map to json: ./data/yelp_no_feature/feature_map.json\n",
      "2022-10-21 17:42:57,677 P75476 INFO Set feature encoder done.\n",
      "2022-10-21 17:42:57,677 P75476 INFO Transform feature columns...\n",
      "2022-10-21 17:42:57,679 P75476 INFO Saving data to h5: ./data/yelp_no_feature/train.h5\n",
      "2022-10-21 17:42:58,063 P75476 INFO Preprocess feature columns...\n",
      "2022-10-21 17:42:58,064 P75476 INFO Transform feature columns...\n",
      "2022-10-21 17:42:58,066 P75476 INFO Saving data to h5: ./data/yelp_no_feature/valid.h5\n",
      "2022-10-21 17:42:58,198 P75476 INFO Transform csv data to h5 done.\n"
     ]
    }
   ],
   "source": [
    "# Set feature_encoder that defines how to preprocess data\n",
    "feature_encoder = FeatureEncoder(feature_cols, \n",
    "                                 label_col, \n",
    "                                 dataset_id=params['dataset_id'], \n",
    "                                 data_root=params[\"data_root\"])\n",
    "\n",
    "# Build dataset from csv to h5\n",
    "datasets.build_dataset(feature_encoder, \n",
    "                       train_data=params[\"train_data\"], \n",
    "                       valid_data=params[\"valid_data\"],)\n",
    "                       #test_data=params[\"test_data\"])"
   ]
  },
  {
   "cell_type": "code",
   "execution_count": 42,
   "id": "240afd38-301a-4b4d-8811-a07a735c006a",
   "metadata": {},
   "outputs": [
    {
     "name": "stderr",
     "output_type": "stream",
     "text": [
      "2022-10-21 17:43:02,728 P75476 INFO Loading data...\n",
      "2022-10-21 17:43:02,730 P75476 INFO Loading data from h5: ./data/yelp_no_feature/train.h5\n",
      "2022-10-21 17:43:02,735 P75476 INFO Loading data from h5: ./data/yelp_no_feature/valid.h5\n",
      "2022-10-21 17:43:02,738 P75476 INFO Train samples: total/8000, pos/5503, neg/2497, ratio/68.79%, blocks/1\n",
      "2022-10-21 17:43:02,738 P75476 INFO Validation samples: total/2000, pos/1401, neg/599, ratio/70.05%, blocks/1\n",
      "2022-10-21 17:43:02,739 P75476 INFO Loading train data done.\n"
     ]
    }
   ],
   "source": [
    "# Get feature_map that defines feature specs\n",
    "feature_map = feature_encoder.feature_map\n",
    "\n",
    "# Get train and validation data generator from h5\n",
    "data_dir = os.path.join(params['data_root'], params['dataset_id'])\n",
    "train_gen, valid_gen = datasets.h5_generator(feature_map, \n",
    "                                             stage='train', \n",
    "                                             train_data=os.path.join(data_dir, 'train.h5'),\n",
    "                                             valid_data=os.path.join(data_dir, 'valid.h5'),\n",
    "                                             batch_size=params['batch_size'],\n",
    "                                             shuffle=params['shuffle'])"
   ]
  },
  {
   "cell_type": "code",
   "execution_count": null,
   "id": "6851d9c5-0545-434f-a286-1b80eb9edfef",
   "metadata": {},
   "outputs": [],
   "source": [
    "model = DeepFM(feature_map, **params)\n",
    "model.count_parameters() # print number of parameters used in model\n",
    "model.fit_generator(train_gen, \n",
    "                    validation_data=valid_gen, \n",
    "                    epochs=params['epochs'],\n",
    "                    verbose=params['verbose'])"
   ]
  },
  {
   "cell_type": "code",
   "execution_count": 27,
   "id": "bfc3fd76-6c80-4acc-bf29-013410bb0db5",
   "metadata": {},
   "outputs": [
    {
     "name": "stderr",
     "output_type": "stream",
     "text": [
      "2022-10-15 16:53:51,874 P56629 INFO ***** validation results *****\n"
     ]
    },
    {
     "name": "stdout",
     "output_type": "stream",
     "text": [
      "100%|████████████████████████████████████████████████████████████████████████████| 10689/10689 [00:11<00:00, 939.72it/s]"
     ]
    },
    {
     "name": "stderr",
     "output_type": "stream",
     "text": [
      "2022-10-15 16:54:03,367 P56629 INFO [Metrics] logloss: 0.536154 - AUC: 0.739063\n"
     ]
    },
    {
     "name": "stdout",
     "output_type": "stream",
     "text": [
      "\n"
     ]
    },
    {
     "data": {
      "text/plain": [
       "{'logloss': 0.5361543050809597, 'AUC': 0.739063152050163}"
      ]
     },
     "execution_count": 27,
     "metadata": {},
     "output_type": "execute_result"
    }
   ],
   "source": [
    "model.load_weights(model.checkpoint) # reload the best checkpoint\n",
    "logging.info('***** validation results *****')\n",
    "model.evaluate_generator(valid_gen)\n",
    "\n",
    "# logging.info('***** validation results *****')\n",
    "# test_gen = datasets.h5_generator(feature_map, \n",
    "#                                  stage='test',\n",
    "#                                  test_data=os.path.join(data_dir, 'test.h5'),\n",
    "#                                  batch_size=params['batch_size'],\n",
    "#                                  shuffle=False)\n",
    "# model.evaluate_generator(test_gen)"
   ]
  },
  {
   "cell_type": "code",
   "execution_count": 14,
   "id": "21e7485d-9b05-4dd8-b997-e60e1c55db5e",
   "metadata": {},
   "outputs": [
    {
     "ename": "ModuleNotFoundError",
     "evalue": "No module named 'lightfm'",
     "output_type": "error",
     "traceback": [
      "\u001b[0;31m---------------------------------------------------------------------------\u001b[0m",
      "\u001b[0;31mModuleNotFoundError\u001b[0m                       Traceback (most recent call last)",
      "Input \u001b[0;32mIn [14]\u001b[0m, in \u001b[0;36m<module>\u001b[0;34m\u001b[0m\n\u001b[0;32m----> 1\u001b[0m \u001b[38;5;28;01mfrom\u001b[39;00m \u001b[38;5;21;01mlightfm\u001b[39;00m \u001b[38;5;28;01mimport\u001b[39;00m LightFM\n\u001b[1;32m      2\u001b[0m \u001b[38;5;28;01mfrom\u001b[39;00m \u001b[38;5;21;01mlightfm\u001b[39;00m\u001b[38;5;21;01m.\u001b[39;00m\u001b[38;5;21;01mdatasets\u001b[39;00m \u001b[38;5;28;01mimport\u001b[39;00m fetch_movielens\n\u001b[1;32m      3\u001b[0m \u001b[38;5;28;01mfrom\u001b[39;00m \u001b[38;5;21;01mlightfm\u001b[39;00m\u001b[38;5;21;01m.\u001b[39;00m\u001b[38;5;21;01mevaluation\u001b[39;00m \u001b[38;5;28;01mimport\u001b[39;00m precision_at_k\n",
      "\u001b[0;31mModuleNotFoundError\u001b[0m: No module named 'lightfm'"
     ]
    }
   ],
   "source": [
    "from lightfm import LightFM\n",
    "from lightfm.datasets import fetch_movielens\n",
    "from lightfm.evaluation import precision_at_k\n",
    "\n",
    "# Load the MovieLens 100k dataset. Only five\n",
    "# star ratings are treated as positive.\n",
    "data = fetch_movielens(min_rating=5.0)"
   ]
  },
  {
   "cell_type": "code",
   "execution_count": null,
   "id": "e8b7f5e6-1d26-4b2c-bd69-8dfdc96a8f0a",
   "metadata": {},
   "outputs": [],
   "source": []
  }
 ],
 "metadata": {
  "kernelspec": {
   "display_name": "nlp",
   "language": "python",
   "name": "nlp"
  },
  "language_info": {
   "codemirror_mode": {
    "name": "ipython",
    "version": 3
   },
   "file_extension": ".py",
   "mimetype": "text/x-python",
   "name": "python",
   "nbconvert_exporter": "python",
   "pygments_lexer": "ipython3",
   "version": "3.8.10"
  }
 },
 "nbformat": 4,
 "nbformat_minor": 5
}
