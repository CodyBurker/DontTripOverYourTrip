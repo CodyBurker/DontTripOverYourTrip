{
 "cells": [
  {
   "cell_type": "code",
   "execution_count": 1,
   "metadata": {},
   "outputs": [
    {
     "name": "stderr",
     "output_type": "stream",
     "text": [
      "c:\\Users\\Cody\\Anaconda3\\lib\\site-packages\\lightfm\\_lightfm_fast.py:9: UserWarning: LightFM was compiled without OpenMP support. Only a single thread will be used.\n",
      "  warnings.warn(\n"
     ]
    }
   ],
   "source": [
    "import lightfm\n",
    "import scipy as sp\n",
    "import pymongo\n",
    "import pandas as pd\n",
    "import numpy as np"
   ]
  },
  {
   "cell_type": "code",
   "execution_count": 3,
   "metadata": {},
   "outputs": [
    {
     "name": "stdout",
     "output_type": "stream",
     "text": [
      "Train shape: (84089, 46456)\n",
      "Test shape: (84079, 46457)\n"
     ]
    }
   ],
   "source": [
    "# Read in yelp.parquet\n",
    "df = pd.read_parquet('yelp.parquet')\n",
    "# Sample df down to 100,000 rows\n",
    "df = df.sample(100_000)\n",
    "# Train test split\n",
    "from sklearn.model_selection import train_test_split\n",
    "# Replace user_id and business_id with unique integers\n",
    "user_id = df.user_id.unique()\n",
    "business_id = df.business_id.unique()\n",
    "user_id_map = {user_id[i]: i for i in range(len(user_id))}\n",
    "business_id_map = {business_id[i]: i for i in range(len(business_id))}"
   ]
  },
  {
   "cell_type": "code",
   "execution_count": 14,
   "metadata": {},
   "outputs": [],
   "source": [
    "# Split train and test\n",
    "train, test = train_test_split(df, test_size=0.2)"
   ]
  },
  {
   "cell_type": "code",
   "execution_count": 32,
   "metadata": {},
   "outputs": [],
   "source": [
    "# Build dataset using lightfm\n",
    "from lightfm.data import Dataset\n",
    "dataset = Dataset()\n",
    "dataset.fit(\n",
    "    (row['user_id'] for _, row in df.iterrows()),\n",
    "    (row['business_id'] for _, row in df.iterrows()))\n",
    "# # Build interactions\n",
    "# (interactions, weights) = dataset.build_interactions(\n",
    "#     ((row['user_id'], row['business_id'], row['stars']) for _, row in train.iterrows()))\n"
   ]
  },
  {
   "cell_type": "code",
   "execution_count": 33,
   "metadata": {},
   "outputs": [],
   "source": [
    "# Build test interactions\n",
    "test_interactions, test_weights = dataset.build_interactions(\n",
    "    ((row['user_id'], row['business_id'], row['stars']) for _, row in test.iterrows()))\n",
    "# Build train interactions\n",
    "train_interactions, train_weights = dataset.build_interactions(\n",
    "    ((row['user_id'], row['business_id'], row['stars']) for _, row in train.iterrows()))"
   ]
  },
  {
   "cell_type": "code",
   "execution_count": 34,
   "metadata": {},
   "outputs": [
    {
     "data": {
      "text/plain": [
       "<lightfm.lightfm.LightFM at 0x202c9132880>"
      ]
     },
     "execution_count": 34,
     "metadata": {},
     "output_type": "execute_result"
    }
   ],
   "source": [
    "from lightfm.evaluation import precision_at_k\n",
    "from lightfm.evaluation import auc_score\n",
    "\n",
    "# Instantiate and train the model\n",
    "model = lightfm.LightFM()\n",
    "model.fit(train_interactions, epochs=30, num_threads=4)"
   ]
  },
  {
   "cell_type": "code",
   "execution_count": 36,
   "metadata": {},
   "outputs": [
    {
     "name": "stdout",
     "output_type": "stream",
     "text": [
      "Train precision: 0.0012363055720925331\n"
     ]
    }
   ],
   "source": [
    "# Mean Average Precision @ (cutoff) K\n",
    "train_precision = precision_at_k(model, train_interactions, k=5).mean()\n",
    "print(f'Train precision: {train_precision:2}'  )"
   ]
  },
  {
   "cell_type": "code",
   "execution_count": 35,
   "metadata": {},
   "outputs": [
    {
     "name": "stdout",
     "output_type": "stream",
     "text": [
      "Train Precision: 0.00\n",
      "Train AUC: 0.55\n"
     ]
    }
   ],
   "source": [
    "test_precision = precision_at_k(model, test_interactions, k=5).mean()\n",
    "print(f'Test Precision: {test_precision:.2f}')\n",
    "train_auc = auc_score(model, test_interactions).mean()\n",
    "print(f'Train AUC: {train_auc:.2f}')\n"
   ]
  }
 ],
 "metadata": {
  "kernelspec": {
   "display_name": "Python 3.8.8 ('base')",
   "language": "python",
   "name": "python3"
  },
  "language_info": {
   "codemirror_mode": {
    "name": "ipython",
    "version": 3
   },
   "file_extension": ".py",
   "mimetype": "text/x-python",
   "name": "python",
   "nbconvert_exporter": "python",
   "pygments_lexer": "ipython3",
   "version": "3.8.8"
  },
  "orig_nbformat": 4,
  "vscode": {
   "interpreter": {
    "hash": "b753293eeed7dd01a3c305805d9faff58b202065bdcc218b14b7e0e75e2a4dea"
   }
  }
 },
 "nbformat": 4,
 "nbformat_minor": 2
}
