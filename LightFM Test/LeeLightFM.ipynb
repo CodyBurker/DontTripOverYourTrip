{
 "cells": [
  {
   "cell_type": "code",
   "execution_count": 1,
   "metadata": {},
   "outputs": [],
   "source": [
    "## packages\n",
    "import pandas as pd\n",
    "import numpy as np\n",
    "import tarfile\n",
    "import json\n",
    "\n",
    "## unzip tar\n",
    "# import tarfile\n",
    "# tar = tarfile.open('yelp_dataset.tarf]=', 'r:gz')\n",
    "# tar.extractall()\n",
    "# tar.close()"
   ]
  },
  {
   "cell_type": "code",
   "execution_count": 2,
   "metadata": {},
   "outputs": [],
   "source": [
    "# reviews = pd.read_json('yelp_academic_dataset_review.json', lines = True)\n",
    "# users = pd.read_json('yelp_academic_dataset_user.json', lines = True)\n",
    "# businesses = pd.read_json('yelp_academic_dataset_business.json', lines = True)\n",
    "philly_bus = pd.read_feather('../FilteredData/business_philly.feather')\n",
    "philly_reviews = pd.read_feather('../FilteredData/review_philly.feather')\n",
    "philly_users = pd.read_feather('../FilteredData/user_philly.feather')"
   ]
  },
  {
   "cell_type": "code",
   "execution_count": 3,
   "metadata": {},
   "outputs": [
    {
     "data": {
      "text/html": [
       "<div>\n",
       "<style scoped>\n",
       "    .dataframe tbody tr th:only-of-type {\n",
       "        vertical-align: middle;\n",
       "    }\n",
       "\n",
       "    .dataframe tbody tr th {\n",
       "        vertical-align: top;\n",
       "    }\n",
       "\n",
       "    .dataframe thead th {\n",
       "        text-align: right;\n",
       "    }\n",
       "</style>\n",
       "<table border=\"1\" class=\"dataframe\">\n",
       "  <thead>\n",
       "    <tr style=\"text-align: right;\">\n",
       "      <th></th>\n",
       "      <th>_id</th>\n",
       "      <th>review_id</th>\n",
       "      <th>user_id</th>\n",
       "      <th>business_id</th>\n",
       "      <th>stars</th>\n",
       "      <th>useful</th>\n",
       "      <th>funny</th>\n",
       "      <th>cool</th>\n",
       "      <th>text</th>\n",
       "      <th>date</th>\n",
       "      <th>compliment_count</th>\n",
       "    </tr>\n",
       "  </thead>\n",
       "  <tbody>\n",
       "    <tr>\n",
       "      <th>0</th>\n",
       "      <td>631e9f7fedf65856ab0dfe3b</td>\n",
       "      <td>JrIxlS1TzJ-iCu79ul40cQ</td>\n",
       "      <td>eUta8W_HdHMXPzLBBZhL1A</td>\n",
       "      <td>04UD14gamNjLY0IDYVhHJg</td>\n",
       "      <td>1.0</td>\n",
       "      <td>1.0</td>\n",
       "      <td>2.0</td>\n",
       "      <td>1.0</td>\n",
       "      <td>I am a long term frequent customer of this est...</td>\n",
       "      <td>2015-09-23 23:10:31</td>\n",
       "      <td>NaN</td>\n",
       "    </tr>\n",
       "    <tr>\n",
       "      <th>1</th>\n",
       "      <td>631e9f7fedf65856ab0dfe3e</td>\n",
       "      <td>8JFGBuHMoiNDyfcxuWNtrA</td>\n",
       "      <td>smOvOajNG0lS4Pq7d8g4JQ</td>\n",
       "      <td>RZtGWDLCAtuipwaZ-UfjmQ</td>\n",
       "      <td>4.0</td>\n",
       "      <td>0.0</td>\n",
       "      <td>0.0</td>\n",
       "      <td>0.0</td>\n",
       "      <td>Good food--loved the gnocchi with marinara\\nth...</td>\n",
       "      <td>2009-10-14 19:57:14</td>\n",
       "      <td>NaN</td>\n",
       "    </tr>\n",
       "    <tr>\n",
       "      <th>2</th>\n",
       "      <td>631e9f7fedf65856ab0dfe42</td>\n",
       "      <td>AqPFMleE6RsU23_auESxiA</td>\n",
       "      <td>_7bHUi9Uuf5__HHc_Q8guQ</td>\n",
       "      <td>kxX2SOes4o-D3ZQBkiMRfA</td>\n",
       "      <td>5.0</td>\n",
       "      <td>1.0</td>\n",
       "      <td>0.0</td>\n",
       "      <td>1.0</td>\n",
       "      <td>Wow!  Yummy, different,  delicious.   Our favo...</td>\n",
       "      <td>2015-01-04 00:01:03</td>\n",
       "      <td>NaN</td>\n",
       "    </tr>\n",
       "    <tr>\n",
       "      <th>3</th>\n",
       "      <td>631e9f7fedf65856ab0dfe43</td>\n",
       "      <td>J-4NdnDZ0pUQaUEEwDI9KQ</td>\n",
       "      <td>vrKkXsozqqecF3CW4cGaVQ</td>\n",
       "      <td>rjuWz_AD3WfXJc03AhIO_w</td>\n",
       "      <td>5.0</td>\n",
       "      <td>2.0</td>\n",
       "      <td>2.0</td>\n",
       "      <td>2.0</td>\n",
       "      <td>I thoroughly enjoyed the show.  Chill way to s...</td>\n",
       "      <td>2012-12-04 16:46:20</td>\n",
       "      <td>NaN</td>\n",
       "    </tr>\n",
       "    <tr>\n",
       "      <th>4</th>\n",
       "      <td>631e9f7fedf65856ab0dfe55</td>\n",
       "      <td>JBWZmBy69VMggxj3eYn17Q</td>\n",
       "      <td>aFa96pz67TwOFu4Weq5Agg</td>\n",
       "      <td>kq5Ghhh14r-eCxlVmlyd8w</td>\n",
       "      <td>5.0</td>\n",
       "      <td>0.0</td>\n",
       "      <td>0.0</td>\n",
       "      <td>0.0</td>\n",
       "      <td>My boyfriend and I tried this deli for the fir...</td>\n",
       "      <td>2018-08-23 21:39:38</td>\n",
       "      <td>NaN</td>\n",
       "    </tr>\n",
       "    <tr>\n",
       "      <th>...</th>\n",
       "      <td>...</td>\n",
       "      <td>...</td>\n",
       "      <td>...</td>\n",
       "      <td>...</td>\n",
       "      <td>...</td>\n",
       "      <td>...</td>\n",
       "      <td>...</td>\n",
       "      <td>...</td>\n",
       "      <td>...</td>\n",
       "      <td>...</td>\n",
       "      <td>...</td>\n",
       "    </tr>\n",
       "    <tr>\n",
       "      <th>855075</th>\n",
       "      <td>6327b03050426527167a1746</td>\n",
       "      <td>nan</td>\n",
       "      <td>uChvFHK4uSifUXBPJPp9Zw</td>\n",
       "      <td>lCetcbxQr52TTGmGmXzQcw</td>\n",
       "      <td>NaN</td>\n",
       "      <td>NaN</td>\n",
       "      <td>NaN</td>\n",
       "      <td>NaN</td>\n",
       "      <td>Racist!!! Wont serve you if you are ethnic</td>\n",
       "      <td>2013-12-15 04:51:26</td>\n",
       "      <td>1.0</td>\n",
       "    </tr>\n",
       "    <tr>\n",
       "      <th>855076</th>\n",
       "      <td>6327b03050426527167a1749</td>\n",
       "      <td>nan</td>\n",
       "      <td>lP_cx94U8stOuQ8HrGecdQ</td>\n",
       "      <td>03jQGGJ2ch0uHTtW-UUUqg</td>\n",
       "      <td>NaN</td>\n",
       "      <td>NaN</td>\n",
       "      <td>NaN</td>\n",
       "      <td>NaN</td>\n",
       "      <td>Stuff face time.</td>\n",
       "      <td>2012-05-27 14:06:04</td>\n",
       "      <td>0.0</td>\n",
       "    </tr>\n",
       "    <tr>\n",
       "      <th>855077</th>\n",
       "      <td>6327b03050426527167a174c</td>\n",
       "      <td>nan</td>\n",
       "      <td>Rr4cLb6Go91FT134o6RsKg</td>\n",
       "      <td>UEGZ1nHUVb2ltGtd7C7X9w</td>\n",
       "      <td>NaN</td>\n",
       "      <td>NaN</td>\n",
       "      <td>NaN</td>\n",
       "      <td>NaN</td>\n",
       "      <td>Blizzard</td>\n",
       "      <td>2012-06-05 20:34:27</td>\n",
       "      <td>0.0</td>\n",
       "    </tr>\n",
       "    <tr>\n",
       "      <th>855078</th>\n",
       "      <td>6327b03050426527167a175b</td>\n",
       "      <td>nan</td>\n",
       "      <td>pflneuKFKQKQvZGDxebGFw</td>\n",
       "      <td>zsaDvomuMLe_-Ibtk9sA-A</td>\n",
       "      <td>NaN</td>\n",
       "      <td>NaN</td>\n",
       "      <td>NaN</td>\n",
       "      <td>NaN</td>\n",
       "      <td>Stopped by and it was closed on wed. 10/3/12!</td>\n",
       "      <td>2012-10-03 16:33:53</td>\n",
       "      <td>0.0</td>\n",
       "    </tr>\n",
       "    <tr>\n",
       "      <th>855079</th>\n",
       "      <td>6327b03050426527167a176e</td>\n",
       "      <td>nan</td>\n",
       "      <td>G0Mu95b3NXx3EO7gw6B1Zw</td>\n",
       "      <td>2YyIIdwnYv5cApn1gZo_gw</td>\n",
       "      <td>NaN</td>\n",
       "      <td>NaN</td>\n",
       "      <td>NaN</td>\n",
       "      <td>NaN</td>\n",
       "      <td>Using a restaurant.com coupon...go get one!</td>\n",
       "      <td>2012-02-07 17:46:42</td>\n",
       "      <td>0.0</td>\n",
       "    </tr>\n",
       "  </tbody>\n",
       "</table>\n",
       "<p>855080 rows × 11 columns</p>\n",
       "</div>"
      ],
      "text/plain": [
       "                             _id               review_id  \\\n",
       "0       631e9f7fedf65856ab0dfe3b  JrIxlS1TzJ-iCu79ul40cQ   \n",
       "1       631e9f7fedf65856ab0dfe3e  8JFGBuHMoiNDyfcxuWNtrA   \n",
       "2       631e9f7fedf65856ab0dfe42  AqPFMleE6RsU23_auESxiA   \n",
       "3       631e9f7fedf65856ab0dfe43  J-4NdnDZ0pUQaUEEwDI9KQ   \n",
       "4       631e9f7fedf65856ab0dfe55  JBWZmBy69VMggxj3eYn17Q   \n",
       "...                          ...                     ...   \n",
       "855075  6327b03050426527167a1746                     nan   \n",
       "855076  6327b03050426527167a1749                     nan   \n",
       "855077  6327b03050426527167a174c                     nan   \n",
       "855078  6327b03050426527167a175b                     nan   \n",
       "855079  6327b03050426527167a176e                     nan   \n",
       "\n",
       "                       user_id             business_id  stars  useful  funny  \\\n",
       "0       eUta8W_HdHMXPzLBBZhL1A  04UD14gamNjLY0IDYVhHJg    1.0     1.0    2.0   \n",
       "1       smOvOajNG0lS4Pq7d8g4JQ  RZtGWDLCAtuipwaZ-UfjmQ    4.0     0.0    0.0   \n",
       "2       _7bHUi9Uuf5__HHc_Q8guQ  kxX2SOes4o-D3ZQBkiMRfA    5.0     1.0    0.0   \n",
       "3       vrKkXsozqqecF3CW4cGaVQ  rjuWz_AD3WfXJc03AhIO_w    5.0     2.0    2.0   \n",
       "4       aFa96pz67TwOFu4Weq5Agg  kq5Ghhh14r-eCxlVmlyd8w    5.0     0.0    0.0   \n",
       "...                        ...                     ...    ...     ...    ...   \n",
       "855075  uChvFHK4uSifUXBPJPp9Zw  lCetcbxQr52TTGmGmXzQcw    NaN     NaN    NaN   \n",
       "855076  lP_cx94U8stOuQ8HrGecdQ  03jQGGJ2ch0uHTtW-UUUqg    NaN     NaN    NaN   \n",
       "855077  Rr4cLb6Go91FT134o6RsKg  UEGZ1nHUVb2ltGtd7C7X9w    NaN     NaN    NaN   \n",
       "855078  pflneuKFKQKQvZGDxebGFw  zsaDvomuMLe_-Ibtk9sA-A    NaN     NaN    NaN   \n",
       "855079  G0Mu95b3NXx3EO7gw6B1Zw  2YyIIdwnYv5cApn1gZo_gw    NaN     NaN    NaN   \n",
       "\n",
       "        cool                                               text  \\\n",
       "0        1.0  I am a long term frequent customer of this est...   \n",
       "1        0.0  Good food--loved the gnocchi with marinara\\nth...   \n",
       "2        1.0  Wow!  Yummy, different,  delicious.   Our favo...   \n",
       "3        2.0  I thoroughly enjoyed the show.  Chill way to s...   \n",
       "4        0.0  My boyfriend and I tried this deli for the fir...   \n",
       "...      ...                                                ...   \n",
       "855075   NaN         Racist!!! Wont serve you if you are ethnic   \n",
       "855076   NaN                                   Stuff face time.   \n",
       "855077   NaN                                           Blizzard   \n",
       "855078   NaN      Stopped by and it was closed on wed. 10/3/12!   \n",
       "855079   NaN        Using a restaurant.com coupon...go get one!   \n",
       "\n",
       "                       date  compliment_count  \n",
       "0       2015-09-23 23:10:31               NaN  \n",
       "1       2009-10-14 19:57:14               NaN  \n",
       "2       2015-01-04 00:01:03               NaN  \n",
       "3       2012-12-04 16:46:20               NaN  \n",
       "4       2018-08-23 21:39:38               NaN  \n",
       "...                     ...               ...  \n",
       "855075  2013-12-15 04:51:26               1.0  \n",
       "855076  2012-05-27 14:06:04               0.0  \n",
       "855077  2012-06-05 20:34:27               0.0  \n",
       "855078  2012-10-03 16:33:53               0.0  \n",
       "855079  2012-02-07 17:46:42               0.0  \n",
       "\n",
       "[855080 rows x 11 columns]"
      ]
     },
     "execution_count": 3,
     "metadata": {},
     "output_type": "execute_result"
    }
   ],
   "source": [
    "# business_cat = businesses.categories.unique\n",
    "# df = businesses[businesses['categories'].str.contains('Restaurant')]\n",
    "philly_reviews"
   ]
  },
  {
   "cell_type": "code",
   "execution_count": 33,
   "metadata": {},
   "outputs": [],
   "source": [
    "from lightfm import LightFM\n",
    "from lightfm.evaluation import precision_at_k,auc_score,reciprocal_rank\n",
    "from lightfm.data import Dataset\n",
    "from lightfm import LightFM, cross_validation"
   ]
  },
  {
   "cell_type": "code",
   "execution_count": 48,
   "metadata": {},
   "outputs": [],
   "source": [
    "# #split test and train data based on reviews\n",
    "# reviews_only['train'] = np.random.uniform(0, 1, len(reviews_only)) <= .75\n",
    "# reviews_train = reviews_only[[\"user_id\", \"business_id\", \"stars\"]][reviews_only.train==True]\n",
    "# reviews_test = reviews_only[reviews_only.train==False]\n",
    "\n",
    "# users_filtered = users[~users.user_id.isin(reviews.user_id)]\n",
    "df = philly_reviews.groupby('user_id')['stars'].mean()\n",
    "users = pd.merge(philly_users, df, on=['user_id'], how='left')"
   ]
  },
  {
   "cell_type": "code",
   "execution_count": 35,
   "metadata": {},
   "outputs": [],
   "source": [
    "#unique user features\n",
    "uf = []\n",
    "col = ['stars']*len(users['stars'].unique()) \n",
    "unique_list = list(users['stars'].unique())\n",
    "# col = ['review_count']*len(users['review_count'].unique()) + ['useful']*len(users['useful'].unique()) + ['funny']*len(users['funny'].unique()) + ['cool']*len(users['cool'].unique())\n",
    "# unique_list = list(users['review_count'].unique()) + list(users['useful'].unique()) + list(users['funny'].unique()) + list(users['cool'].unique())\n",
    "\n",
    "\n",
    "for x,y in zip(col, unique_list):\n",
    "    res = str(x)+ \":\" +str(y)\n",
    "    uf.append(res)\n",
    "#     print(res)"
   ]
  },
  {
   "cell_type": "code",
   "execution_count": 6,
   "metadata": {},
   "outputs": [],
   "source": [
    "# list(filter(lambda x: '27281' in x, uf))"
   ]
  },
  {
   "cell_type": "code",
   "execution_count": 36,
   "metadata": {},
   "outputs": [],
   "source": [
    "reviews_only = philly_reviews[[\"user_id\", \"business_id\", \"stars\"]]"
   ]
  },
  {
   "cell_type": "code",
   "execution_count": 37,
   "metadata": {},
   "outputs": [],
   "source": [
    "dataset1 = Dataset()\n",
    "dataset1.fit(\n",
    "        philly_reviews['user_id'].unique(), # all the users\n",
    "        philly_reviews['business_id'].unique(), # all the items\n",
    "        user_features = uf # additional user features\n",
    ")"
   ]
  },
  {
   "cell_type": "code",
   "execution_count": 39,
   "metadata": {},
   "outputs": [],
   "source": [
    "def feature_colon_value(my_list):\n",
    "    \"\"\"\n",
    "    Takes as input a list and prepends the columns names to respective values in the list.\n",
    "    For example: if my_list = [1,1,0,'del'],\n",
    "    resultant output = ['f1:1', 'f2:1', 'f3:0', 'loc:del']\n",
    "   \n",
    "    \"\"\"\n",
    "    result = []\n",
    "    ll = ['stars:']\n",
    "    # ll = ['review_count:', 'useful:', 'funny:', 'cool:']\n",
    "    aa = my_list\n",
    "    for x,y in zip(ll,aa):\n",
    "        res = str(x) +\"\"+ str(y)\n",
    "        result.append(res)\n",
    "    return result\n",
    "# Using the helper function to generate user features in proper format for ALL users\n",
    "ad_subset = users[['stars']] \n",
    "# ad_subset = philly_users[[\"review_count\",'useful', 'funny', 'cool']] \n",
    "ad_list = [list(x) for x in ad_subset.values]\n",
    "feature_list = []\n",
    "for item in ad_list:\n",
    "    feature_list.append(feature_colon_value(item))\n",
    "# print(f'Final output: {feature_list}')\n"
   ]
  },
  {
   "cell_type": "code",
   "execution_count": 40,
   "metadata": {},
   "outputs": [],
   "source": [
    "user_tuple = list(zip(philly_users.user_id, feature_list))"
   ]
  },
  {
   "cell_type": "code",
   "execution_count": 41,
   "metadata": {},
   "outputs": [],
   "source": [
    "# user_tuple\n",
    "user_features = dataset1.build_user_features(user_tuple, normalize= False)"
   ]
  },
  {
   "cell_type": "code",
   "execution_count": 42,
   "metadata": {},
   "outputs": [],
   "source": [
    "(interactions, weights) = dataset1.build_interactions([(x[0], x[1], x[2]) for x in reviews_only.values])"
   ]
  },
  {
   "cell_type": "code",
   "execution_count": 43,
   "metadata": {},
   "outputs": [],
   "source": [
    "train, test = cross_validation.random_train_test_split(interactions, test_percentage=0.25)"
   ]
  },
  {
   "cell_type": "code",
   "execution_count": 44,
   "metadata": {},
   "outputs": [
    {
     "data": {
      "text/plain": [
       "<lightfm.lightfm.LightFM at 0x24d8bc6e8e0>"
      ]
     },
     "execution_count": 44,
     "metadata": {},
     "output_type": "execute_result"
    }
   ],
   "source": [
    "model = LightFM() #loss='warp'\n",
    "model.fit(train,\n",
    "      user_features= user_features,\n",
    "      # item_features = item_features\n",
    "      epochs=30,\n",
    "      num_threads=2)"
   ]
  },
  {
   "cell_type": "code",
   "execution_count": 45,
   "metadata": {},
   "outputs": [
    {
     "name": "stdout",
     "output_type": "stream",
     "text": [
      "Hybrid training set AUC: 0.82521945\n"
     ]
    }
   ],
   "source": [
    "from lightfm.evaluation import auc_score\n",
    "train_auc = auc_score(model,\n",
    "                      train,\n",
    "                      user_features=user_features\n",
    "                     ).mean()\n",
    "print('Hybrid training set AUC: %s' % train_auc)"
   ]
  }
 ],
 "metadata": {
  "kernelspec": {
   "display_name": "Python 3.9.7 64-bit",
   "language": "python",
   "name": "python3"
  },
  "language_info": {
   "codemirror_mode": {
    "name": "ipython",
    "version": 3
   },
   "file_extension": ".py",
   "mimetype": "text/x-python",
   "name": "python",
   "nbconvert_exporter": "python",
   "pygments_lexer": "ipython3",
   "version": "3.9.7"
  },
  "orig_nbformat": 4,
  "vscode": {
   "interpreter": {
    "hash": "d7d35f274d115ff68c70819d8f75d15aebd18f70afb38f38bedd4b678a69b9c6"
   }
  }
 },
 "nbformat": 4,
 "nbformat_minor": 2
}
