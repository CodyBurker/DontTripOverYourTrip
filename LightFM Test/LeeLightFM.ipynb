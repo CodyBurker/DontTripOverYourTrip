{
 "cells": [
  {
   "cell_type": "code",
   "execution_count": 2,
   "metadata": {},
   "outputs": [],
   "source": [
    "## packages\n",
    "import pandas as pd\n",
    "import numpy as np\n",
    "import tarfile\n",
    "import json\n",
    "\n",
    "## unzip tar\n",
    "# import tarfile\n",
    "# tar = tarfile.open('yelp_dataset.tarf]=', 'r:gz')\n",
    "# tar.extractall()\n",
    "# tar.close()"
   ]
  },
  {
   "cell_type": "code",
   "execution_count": 3,
   "metadata": {},
   "outputs": [],
   "source": [
    "# reviews = pd.read_json('yelp_academic_dataset_review.json', lines = True)\n",
    "# users = pd.read_json('yelp_academic_dataset_user.json', lines = True)\n",
    "# businesses = pd.read_json('yelp_academic_dataset_business.json', lines = True)\n",
    "philly_bus = pd.read_feather('../FilteredData/business_philly.feather')\n",
    "philly_reviews = pd.read_feather('../FilteredData/review_philly.feather')\n",
    "philly_users = pd.read_feather('../FilteredData/user_philly.feather')"
   ]
  },
  {
   "cell_type": "code",
   "execution_count": 19,
   "metadata": {},
   "outputs": [],
   "source": [
    "# business_cat = businesses.categories.unique\n",
    "# df = businesses[businesses['categories'].str.contains('Restaurant')]\n",
    "# philly_bus"
   ]
  },
  {
   "cell_type": "code",
   "execution_count": 5,
   "metadata": {},
   "outputs": [
    {
     "name": "stderr",
     "output_type": "stream",
     "text": [
      "c:\\Users\\carlee\\AppData\\Local\\Programs\\Python\\Python39\\lib\\site-packages\\lightfm\\_lightfm_fast.py:9: UserWarning: LightFM was compiled without OpenMP support. Only a single thread will be used.\n",
      "  warnings.warn(\n"
     ]
    }
   ],
   "source": [
    "from lightfm import LightFM\n",
    "from lightfm.evaluation import precision_at_k,auc_score,reciprocal_rank\n",
    "from lightfm.data import Dataset\n",
    "from lightfm import LightFM, cross_validation"
   ]
  },
  {
   "cell_type": "code",
   "execution_count": 6,
   "metadata": {},
   "outputs": [],
   "source": [
    "df = philly_reviews.groupby('user_id')['stars'].mean()\n",
    "users = pd.merge(philly_users, df, on=['user_id'], how='left')"
   ]
  },
  {
   "cell_type": "code",
   "execution_count": 7,
   "metadata": {},
   "outputs": [],
   "source": [
    "bins = [0, 0.9999999, 1.9999999, 2.9999999, 3.9999999, 4.9999999, 5]\n",
    "labels = [\"0\",\"1\", \"2\", \"3\",\"4\", \"5\"]\n",
    "users[\"star_bin\"] = pd.cut(users['stars'], bins=bins, labels=labels)\n",
    "# users.loc[(users['stars'] > 4.9999999) & (users['stars'] < 5)]"
   ]
  },
  {
   "cell_type": "code",
   "execution_count": 8,
   "metadata": {},
   "outputs": [],
   "source": [
    "# list(filter(lambda x: '27281' in x, uf))"
   ]
  },
  {
   "cell_type": "code",
   "execution_count": 9,
   "metadata": {},
   "outputs": [],
   "source": [
    "reviews_only = philly_reviews[[\"user_id\", \"business_id\", \"stars\"]]"
   ]
  },
  {
   "cell_type": "code",
   "execution_count": 11,
   "metadata": {},
   "outputs": [],
   "source": [
    "#unique user features\n",
    "user_f = []\n",
    "user_col = ['star_bin']*len(users['star_bin'].unique()) \n",
    "user_unique_list = list(users['star_bin'].unique())\n",
    "# col = ['review_count']*len(users['review_count'].unique()) + ['useful']*len(users['useful'].unique()) + ['funny']*len(users['funny'].unique()) + ['cool']*len(users['cool'].unique())\n",
    "# unique_list = list(users['review_count'].unique()) + list(users['useful'].unique()) + list(users['funny'].unique()) + list(users['cool'].unique())\n",
    "\n",
    "\n",
    "for x,y in zip(user_col, user_unique_list):\n",
    "    res = str(x)+ \":\" +str(y)\n",
    "    user_f.append(res)\n",
    "#     print(res)"
   ]
  },
  {
   "cell_type": "code",
   "execution_count": 23,
   "metadata": {},
   "outputs": [],
   "source": [
    "#unique item features\n",
    "item_f = []\n",
    "item_col = ['stars']*len(philly_bus['stars'].unique()) + ['postal_code']*len(philly_bus['postal_code'].unique())\n",
    "item_unique_list = list(philly_bus['stars'].unique()) + list(philly_bus['postal_code'].unique())\n",
    "\n",
    "for x,y in zip(item_col, item_unique_list):\n",
    "    res = str(x)+ \":\" +str(y)\n",
    "    item_f.append(res)\n",
    "#     print(res)"
   ]
  },
  {
   "cell_type": "code",
   "execution_count": 24,
   "metadata": {},
   "outputs": [],
   "source": [
    "dataset1 = Dataset()\n",
    "dataset1.fit(\n",
    "        philly_reviews['user_id'].unique(), # all the users\n",
    "        philly_reviews['business_id'].unique(), # all the items\n",
    "        user_features = user_f, # additional user features\n",
    "        item_features = item_f #additional item features\n",
    ")"
   ]
  },
  {
   "cell_type": "code",
   "execution_count": 25,
   "metadata": {},
   "outputs": [],
   "source": [
    "(interactions, weights) = dataset1.build_interactions([(x[0], x[1], x[2]) for x in reviews_only.values])"
   ]
  },
  {
   "cell_type": "code",
   "execution_count": 26,
   "metadata": {},
   "outputs": [],
   "source": [
    "def user_feature_colon_value(my_list):\n",
    "    \"\"\"\n",
    "    Takes as input a list and prepends the columns names to respective values in the list.\n",
    "    For example: if my_list = [1,1,0,'del'],\n",
    "    resultant output = ['f1:1', 'f2:1', 'f3:0', 'loc:del']\n",
    "   \n",
    "    \"\"\"\n",
    "    result = []\n",
    "    ll = ['star_bin:']\n",
    "    # ll = ['review_count:', 'useful:', 'funny:', 'cool:']\n",
    "    aa = my_list\n",
    "    for x,y in zip(ll,aa):\n",
    "        res = str(x) +\"\"+ str(y)\n",
    "        result.append(res)\n",
    "    return result\n",
    "# Using the helper function to generate user features in proper format for ALL users\n",
    "ad_subset = users[['star_bin']] \n",
    "# ad_subset = philly_users[[\"review_count\",'useful', 'funny', 'cool']] \n",
    "ad_list = [list(x) for x in ad_subset.values]\n",
    "feature_list = []\n",
    "for item in ad_list:\n",
    "    feature_list.append(user_feature_colon_value(item))\n",
    "# print(f'Final output: {feature_list}')\n",
    "user_tuple = list(zip(users.user_id, feature_list))\n",
    "user_features = dataset1.build_user_features(user_tuple, normalize= False)\n"
   ]
  },
  {
   "cell_type": "code",
   "execution_count": null,
   "metadata": {},
   "outputs": [],
   "source": []
  },
  {
   "cell_type": "code",
   "execution_count": 14,
   "metadata": {},
   "outputs": [
    {
     "ename": "NameError",
     "evalue": "name 'feature_list' is not defined",
     "output_type": "error",
     "traceback": [
      "\u001b[1;31m---------------------------------------------------------------------------\u001b[0m",
      "\u001b[1;31mNameError\u001b[0m                                 Traceback (most recent call last)",
      "Cell \u001b[1;32mIn [14], line 1\u001b[0m\n\u001b[1;32m----> 1\u001b[0m user_tuple \u001b[38;5;241m=\u001b[39m \u001b[38;5;28mlist\u001b[39m(\u001b[38;5;28mzip\u001b[39m(philly_users\u001b[38;5;241m.\u001b[39muser_id, feature_list))\n\u001b[0;32m      2\u001b[0m user_features \u001b[38;5;241m=\u001b[39m dataset1\u001b[38;5;241m.\u001b[39mbuild_user_features(user_tuple, normalize\u001b[38;5;241m=\u001b[39m \u001b[38;5;28;01mFalse\u001b[39;00m)\n",
      "\u001b[1;31mNameError\u001b[0m: name 'feature_list' is not defined"
     ]
    }
   ],
   "source": [
    "def item_feature_colon_value(my_list):\n",
    "    result = []\n",
    "    ll = ['review_count:', 'useful:', 'funny:', 'cool:']\n",
    "    aa = my_list\n",
    "    for x,y in zip(ll,aa):\n",
    "        res = str(x) +\"\"+ str(y)\n",
    "        result.append(res)\n",
    "    return result\n",
    "# Using the helper function to generate user features in proper format for ALL users\n",
    "ad_subset = users[['star_bin']] \n",
    "# ad_subset = philly_users[[\"review_count\",'useful', 'funny', 'cool']] \n",
    "ad_list = [list(x) for x in ad_subset.values]\n",
    "feature_list = []\n",
    "for item in ad_list:\n",
    "    feature_list.append(item_feature_colon_value(item))\n",
    "# print(f'Final output: {feature_list}')\n",
    "item_tuple = list(zip(philly_bus.business_id, feature_list))\n",
    "item_features = dataset1.build_user_features(item_tuple, normalize= False)\n"
   ]
  },
  {
   "cell_type": "code",
   "execution_count": null,
   "metadata": {},
   "outputs": [],
   "source": [
    "train, test = cross_validation.random_train_test_split(interactions, test_percentage=0.25)"
   ]
  },
  {
   "cell_type": "code",
   "execution_count": null,
   "metadata": {},
   "outputs": [
    {
     "data": {
      "text/plain": [
       "<lightfm.lightfm.LightFM at 0x22d71548040>"
      ]
     },
     "execution_count": 16,
     "metadata": {},
     "output_type": "execute_result"
    }
   ],
   "source": [
    "model = LightFM()\n",
    "model.fit(train,\n",
    "      epochs=30,\n",
    "      num_threads=4)"
   ]
  },
  {
   "cell_type": "code",
   "execution_count": null,
   "metadata": {},
   "outputs": [
    {
     "name": "stdout",
     "output_type": "stream",
     "text": [
      "Hybrid training set AUC: 0.8455258\n"
     ]
    }
   ],
   "source": [
    "from lightfm.evaluation import auc_score\n",
    "test_auc = auc_score(model,\n",
    "                      test,\n",
    "                     ).mean()\n",
    "print('Hybrid training set AUC: %s' % test_auc)"
   ]
  },
  {
   "cell_type": "code",
   "execution_count": null,
   "metadata": {},
   "outputs": [
    {
     "data": {
      "text/plain": [
       "<lightfm.lightfm.LightFM at 0x257be627040>"
      ]
     },
     "execution_count": 18,
     "metadata": {},
     "output_type": "execute_result"
    }
   ],
   "source": [
    "model2 = LightFM() #loss='warp'\n",
    "model2.fit(train,\n",
    "      user_features= user_features,\n",
    "      # item_features = item_features\n",
    "      epochs=30,\n",
    "      num_threads=4)"
   ]
  },
  {
   "cell_type": "code",
   "execution_count": null,
   "metadata": {},
   "outputs": [
    {
     "name": "stdout",
     "output_type": "stream",
     "text": [
      "Hybrid training set AUC: 0.81536126\n"
     ]
    }
   ],
   "source": [
    "test_auc2 = auc_score(model2,\n",
    "                      test,\n",
    "                      user_features=user_features\n",
    "                     ).mean()\n",
    "print('Hybrid training set AUC: %s' % test_auc2)"
   ]
  }
 ],
 "metadata": {
  "kernelspec": {
   "display_name": "Python 3.9.7 64-bit",
   "language": "python",
   "name": "python3"
  },
  "language_info": {
   "codemirror_mode": {
    "name": "ipython",
    "version": 3
   },
   "file_extension": ".py",
   "mimetype": "text/x-python",
   "name": "python",
   "nbconvert_exporter": "python",
   "pygments_lexer": "ipython3",
   "version": "3.9.7"
  },
  "orig_nbformat": 4,
  "vscode": {
   "interpreter": {
    "hash": "d7d35f274d115ff68c70819d8f75d15aebd18f70afb38f38bedd4b678a69b9c6"
   }
  }
 },
 "nbformat": 4,
 "nbformat_minor": 2
}
