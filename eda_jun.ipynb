{
 "cells": [
  {
   "cell_type": "code",
   "execution_count": 1,
   "id": "185e89d8-884e-49b9-b33d-bad1110904dd",
   "metadata": {},
   "outputs": [],
   "source": [
    "import pandas as pd\n",
    "import numpy as np\n",
    "import seaborn as sns\n",
    "import altair as alt\n",
    "from vega_datasets import data\n",
    "import matplotlib.pyplot as plt"
   ]
  },
  {
   "cell_type": "code",
   "execution_count": 2,
   "id": "dca874ce-4434-4df9-862c-534e75a6c322",
   "metadata": {},
   "outputs": [],
   "source": [
    "df_user = pd.read_json('yelp_dataset/yelp_academic_dataset_user.json', lines=True)\n",
    "df_tip = pd.read_json('yelp_dataset/yelp_academic_dataset_tip.json', lines=True)\n",
    "df_review = pd.read_json('yelp_dataset/yelp_academic_dataset_review.json', lines=True)\n",
    "df_checkin = pd.read_json('yelp_dataset/yelp_academic_dataset_checkin.json', lines=True)\n",
    "df_business = pd.read_json('yelp_dataset/yelp_academic_dataset_business.json', lines=True)\n",
    "df_photos = pd.read_json('yelp_photos/photos.json', lines=True)"
   ]
  },
  {
   "cell_type": "code",
   "execution_count": null,
   "id": "c028dc4a-bf01-4a80-ab39-1c22999fd391",
   "metadata": {},
   "outputs": [],
   "source": [
    "df_user.head(3)"
   ]
  },
  {
   "cell_type": "code",
   "execution_count": 4,
   "id": "f4ba5372-93d1-48f0-8be6-6461982f7343",
   "metadata": {},
   "outputs": [
    {
     "data": {
      "text/html": [
       "<div>\n",
       "<style scoped>\n",
       "    .dataframe tbody tr th:only-of-type {\n",
       "        vertical-align: middle;\n",
       "    }\n",
       "\n",
       "    .dataframe tbody tr th {\n",
       "        vertical-align: top;\n",
       "    }\n",
       "\n",
       "    .dataframe thead th {\n",
       "        text-align: right;\n",
       "    }\n",
       "</style>\n",
       "<table border=\"1\" class=\"dataframe\">\n",
       "  <thead>\n",
       "    <tr style=\"text-align: right;\">\n",
       "      <th></th>\n",
       "      <th>user_id</th>\n",
       "      <th>business_id</th>\n",
       "      <th>text</th>\n",
       "      <th>date</th>\n",
       "      <th>compliment_count</th>\n",
       "    </tr>\n",
       "  </thead>\n",
       "  <tbody>\n",
       "    <tr>\n",
       "      <th>0</th>\n",
       "      <td>AGNUgVwnZUey3gcPCJ76iw</td>\n",
       "      <td>3uLgwr0qeCNMjKenHJwPGQ</td>\n",
       "      <td>Avengers time with the ladies.</td>\n",
       "      <td>2012-05-18 02:17:21</td>\n",
       "      <td>0</td>\n",
       "    </tr>\n",
       "    <tr>\n",
       "      <th>1</th>\n",
       "      <td>NBN4MgHP9D3cw--SnauTkA</td>\n",
       "      <td>QoezRbYQncpRqyrLH6Iqjg</td>\n",
       "      <td>They have lots of good deserts and tasty cuban...</td>\n",
       "      <td>2013-02-05 18:35:10</td>\n",
       "      <td>0</td>\n",
       "    </tr>\n",
       "    <tr>\n",
       "      <th>2</th>\n",
       "      <td>-copOvldyKh1qr-vzkDEvw</td>\n",
       "      <td>MYoRNLb5chwjQe3c_k37Gg</td>\n",
       "      <td>It's open even when you think it isn't</td>\n",
       "      <td>2013-08-18 00:56:08</td>\n",
       "      <td>0</td>\n",
       "    </tr>\n",
       "  </tbody>\n",
       "</table>\n",
       "</div>"
      ],
      "text/plain": [
       "                  user_id             business_id  \\\n",
       "0  AGNUgVwnZUey3gcPCJ76iw  3uLgwr0qeCNMjKenHJwPGQ   \n",
       "1  NBN4MgHP9D3cw--SnauTkA  QoezRbYQncpRqyrLH6Iqjg   \n",
       "2  -copOvldyKh1qr-vzkDEvw  MYoRNLb5chwjQe3c_k37Gg   \n",
       "\n",
       "                                                text                date  \\\n",
       "0                     Avengers time with the ladies. 2012-05-18 02:17:21   \n",
       "1  They have lots of good deserts and tasty cuban... 2013-02-05 18:35:10   \n",
       "2             It's open even when you think it isn't 2013-08-18 00:56:08   \n",
       "\n",
       "   compliment_count  \n",
       "0                 0  \n",
       "1                 0  \n",
       "2                 0  "
      ]
     },
     "execution_count": 4,
     "metadata": {},
     "output_type": "execute_result"
    }
   ],
   "source": [
    "df_tip.head(3)"
   ]
  },
  {
   "cell_type": "code",
   "execution_count": 5,
   "id": "f549291e-98b3-47ea-b899-a7e290feae92",
   "metadata": {},
   "outputs": [
    {
     "data": {
      "text/html": [
       "<div>\n",
       "<style scoped>\n",
       "    .dataframe tbody tr th:only-of-type {\n",
       "        vertical-align: middle;\n",
       "    }\n",
       "\n",
       "    .dataframe tbody tr th {\n",
       "        vertical-align: top;\n",
       "    }\n",
       "\n",
       "    .dataframe thead th {\n",
       "        text-align: right;\n",
       "    }\n",
       "</style>\n",
       "<table border=\"1\" class=\"dataframe\">\n",
       "  <thead>\n",
       "    <tr style=\"text-align: right;\">\n",
       "      <th></th>\n",
       "      <th>review_id</th>\n",
       "      <th>user_id</th>\n",
       "      <th>business_id</th>\n",
       "      <th>stars</th>\n",
       "      <th>useful</th>\n",
       "      <th>funny</th>\n",
       "      <th>cool</th>\n",
       "      <th>text</th>\n",
       "      <th>date</th>\n",
       "    </tr>\n",
       "  </thead>\n",
       "  <tbody>\n",
       "    <tr>\n",
       "      <th>0</th>\n",
       "      <td>KU_O5udG6zpxOg-VcAEodg</td>\n",
       "      <td>mh_-eMZ6K5RLWhZyISBhwA</td>\n",
       "      <td>XQfwVwDr-v0ZS3_CbbE5Xw</td>\n",
       "      <td>3</td>\n",
       "      <td>0</td>\n",
       "      <td>0</td>\n",
       "      <td>0</td>\n",
       "      <td>If you decide to eat here, just be aware it is...</td>\n",
       "      <td>2018-07-07 22:09:11</td>\n",
       "    </tr>\n",
       "    <tr>\n",
       "      <th>1</th>\n",
       "      <td>BiTunyQ73aT9WBnpR9DZGw</td>\n",
       "      <td>OyoGAe7OKpv6SyGZT5g77Q</td>\n",
       "      <td>7ATYjTIgM3jUlt4UM3IypQ</td>\n",
       "      <td>5</td>\n",
       "      <td>1</td>\n",
       "      <td>0</td>\n",
       "      <td>1</td>\n",
       "      <td>I've taken a lot of spin classes over the year...</td>\n",
       "      <td>2012-01-03 15:28:18</td>\n",
       "    </tr>\n",
       "    <tr>\n",
       "      <th>2</th>\n",
       "      <td>saUsX_uimxRlCVr67Z4Jig</td>\n",
       "      <td>8g_iMtfSiwikVnbP2etR0A</td>\n",
       "      <td>YjUWPpI6HXG530lwP-fb2A</td>\n",
       "      <td>3</td>\n",
       "      <td>0</td>\n",
       "      <td>0</td>\n",
       "      <td>0</td>\n",
       "      <td>Family diner. Had the buffet. Eclectic assortm...</td>\n",
       "      <td>2014-02-05 20:30:30</td>\n",
       "    </tr>\n",
       "  </tbody>\n",
       "</table>\n",
       "</div>"
      ],
      "text/plain": [
       "                review_id                 user_id             business_id  \\\n",
       "0  KU_O5udG6zpxOg-VcAEodg  mh_-eMZ6K5RLWhZyISBhwA  XQfwVwDr-v0ZS3_CbbE5Xw   \n",
       "1  BiTunyQ73aT9WBnpR9DZGw  OyoGAe7OKpv6SyGZT5g77Q  7ATYjTIgM3jUlt4UM3IypQ   \n",
       "2  saUsX_uimxRlCVr67Z4Jig  8g_iMtfSiwikVnbP2etR0A  YjUWPpI6HXG530lwP-fb2A   \n",
       "\n",
       "   stars  useful  funny  cool  \\\n",
       "0      3       0      0     0   \n",
       "1      5       1      0     1   \n",
       "2      3       0      0     0   \n",
       "\n",
       "                                                text                date  \n",
       "0  If you decide to eat here, just be aware it is... 2018-07-07 22:09:11  \n",
       "1  I've taken a lot of spin classes over the year... 2012-01-03 15:28:18  \n",
       "2  Family diner. Had the buffet. Eclectic assortm... 2014-02-05 20:30:30  "
      ]
     },
     "execution_count": 5,
     "metadata": {},
     "output_type": "execute_result"
    }
   ],
   "source": [
    "df_review.head(3)"
   ]
  },
  {
   "cell_type": "code",
   "execution_count": 6,
   "id": "5206bd1a-8a3f-48a7-be41-7cb06c3c3af1",
   "metadata": {},
   "outputs": [
    {
     "data": {
      "text/html": [
       "<div>\n",
       "<style scoped>\n",
       "    .dataframe tbody tr th:only-of-type {\n",
       "        vertical-align: middle;\n",
       "    }\n",
       "\n",
       "    .dataframe tbody tr th {\n",
       "        vertical-align: top;\n",
       "    }\n",
       "\n",
       "    .dataframe thead th {\n",
       "        text-align: right;\n",
       "    }\n",
       "</style>\n",
       "<table border=\"1\" class=\"dataframe\">\n",
       "  <thead>\n",
       "    <tr style=\"text-align: right;\">\n",
       "      <th></th>\n",
       "      <th>business_id</th>\n",
       "      <th>date</th>\n",
       "    </tr>\n",
       "  </thead>\n",
       "  <tbody>\n",
       "    <tr>\n",
       "      <th>0</th>\n",
       "      <td>---kPU91CF4Lq2-WlRu9Lw</td>\n",
       "      <td>2020-03-13 21:10:56, 2020-06-02 22:18:06, 2020...</td>\n",
       "    </tr>\n",
       "    <tr>\n",
       "      <th>1</th>\n",
       "      <td>--0iUa4sNDFiZFrAdIWhZQ</td>\n",
       "      <td>2010-09-13 21:43:09, 2011-05-04 23:08:15, 2011...</td>\n",
       "    </tr>\n",
       "    <tr>\n",
       "      <th>2</th>\n",
       "      <td>--30_8IhuyMHbSOcNWd6DQ</td>\n",
       "      <td>2013-06-14 23:29:17, 2014-08-13 23:20:22</td>\n",
       "    </tr>\n",
       "  </tbody>\n",
       "</table>\n",
       "</div>"
      ],
      "text/plain": [
       "              business_id                                               date\n",
       "0  ---kPU91CF4Lq2-WlRu9Lw  2020-03-13 21:10:56, 2020-06-02 22:18:06, 2020...\n",
       "1  --0iUa4sNDFiZFrAdIWhZQ  2010-09-13 21:43:09, 2011-05-04 23:08:15, 2011...\n",
       "2  --30_8IhuyMHbSOcNWd6DQ           2013-06-14 23:29:17, 2014-08-13 23:20:22"
      ]
     },
     "execution_count": 6,
     "metadata": {},
     "output_type": "execute_result"
    }
   ],
   "source": [
    "df_checkin.head(3)"
   ]
  },
  {
   "cell_type": "code",
   "execution_count": 7,
   "id": "084b10c0-3aaa-4fd5-af30-63596355ed80",
   "metadata": {},
   "outputs": [
    {
     "data": {
      "text/html": [
       "<div>\n",
       "<style scoped>\n",
       "    .dataframe tbody tr th:only-of-type {\n",
       "        vertical-align: middle;\n",
       "    }\n",
       "\n",
       "    .dataframe tbody tr th {\n",
       "        vertical-align: top;\n",
       "    }\n",
       "\n",
       "    .dataframe thead th {\n",
       "        text-align: right;\n",
       "    }\n",
       "</style>\n",
       "<table border=\"1\" class=\"dataframe\">\n",
       "  <thead>\n",
       "    <tr style=\"text-align: right;\">\n",
       "      <th></th>\n",
       "      <th>business_id</th>\n",
       "      <th>name</th>\n",
       "      <th>address</th>\n",
       "      <th>city</th>\n",
       "      <th>state</th>\n",
       "      <th>postal_code</th>\n",
       "      <th>latitude</th>\n",
       "      <th>longitude</th>\n",
       "      <th>stars</th>\n",
       "      <th>review_count</th>\n",
       "      <th>is_open</th>\n",
       "      <th>attributes</th>\n",
       "      <th>categories</th>\n",
       "      <th>hours</th>\n",
       "    </tr>\n",
       "  </thead>\n",
       "  <tbody>\n",
       "    <tr>\n",
       "      <th>0</th>\n",
       "      <td>Pns2l4eNsfO8kk83dixA6A</td>\n",
       "      <td>Abby Rappoport, LAC, CMQ</td>\n",
       "      <td>1616 Chapala St, Ste 2</td>\n",
       "      <td>Santa Barbara</td>\n",
       "      <td>CA</td>\n",
       "      <td>93101</td>\n",
       "      <td>34.426679</td>\n",
       "      <td>-119.711197</td>\n",
       "      <td>5.0</td>\n",
       "      <td>7</td>\n",
       "      <td>0</td>\n",
       "      <td>{'ByAppointmentOnly': 'True'}</td>\n",
       "      <td>Doctors, Traditional Chinese Medicine, Naturop...</td>\n",
       "      <td>None</td>\n",
       "    </tr>\n",
       "    <tr>\n",
       "      <th>1</th>\n",
       "      <td>mpf3x-BjTdTEA3yCZrAYPw</td>\n",
       "      <td>The UPS Store</td>\n",
       "      <td>87 Grasso Plaza Shopping Center</td>\n",
       "      <td>Affton</td>\n",
       "      <td>MO</td>\n",
       "      <td>63123</td>\n",
       "      <td>38.551126</td>\n",
       "      <td>-90.335695</td>\n",
       "      <td>3.0</td>\n",
       "      <td>15</td>\n",
       "      <td>1</td>\n",
       "      <td>{'BusinessAcceptsCreditCards': 'True'}</td>\n",
       "      <td>Shipping Centers, Local Services, Notaries, Ma...</td>\n",
       "      <td>{'Monday': '0:0-0:0', 'Tuesday': '8:0-18:30', ...</td>\n",
       "    </tr>\n",
       "    <tr>\n",
       "      <th>2</th>\n",
       "      <td>tUFrWirKiKi_TAnsVWINQQ</td>\n",
       "      <td>Target</td>\n",
       "      <td>5255 E Broadway Blvd</td>\n",
       "      <td>Tucson</td>\n",
       "      <td>AZ</td>\n",
       "      <td>85711</td>\n",
       "      <td>32.223236</td>\n",
       "      <td>-110.880452</td>\n",
       "      <td>3.5</td>\n",
       "      <td>22</td>\n",
       "      <td>0</td>\n",
       "      <td>{'BikeParking': 'True', 'BusinessAcceptsCredit...</td>\n",
       "      <td>Department Stores, Shopping, Fashion, Home &amp; G...</td>\n",
       "      <td>{'Monday': '8:0-22:0', 'Tuesday': '8:0-22:0', ...</td>\n",
       "    </tr>\n",
       "  </tbody>\n",
       "</table>\n",
       "</div>"
      ],
      "text/plain": [
       "              business_id                      name  \\\n",
       "0  Pns2l4eNsfO8kk83dixA6A  Abby Rappoport, LAC, CMQ   \n",
       "1  mpf3x-BjTdTEA3yCZrAYPw             The UPS Store   \n",
       "2  tUFrWirKiKi_TAnsVWINQQ                    Target   \n",
       "\n",
       "                           address           city state postal_code  \\\n",
       "0           1616 Chapala St, Ste 2  Santa Barbara    CA       93101   \n",
       "1  87 Grasso Plaza Shopping Center         Affton    MO       63123   \n",
       "2             5255 E Broadway Blvd         Tucson    AZ       85711   \n",
       "\n",
       "    latitude   longitude  stars  review_count  is_open  \\\n",
       "0  34.426679 -119.711197    5.0             7        0   \n",
       "1  38.551126  -90.335695    3.0            15        1   \n",
       "2  32.223236 -110.880452    3.5            22        0   \n",
       "\n",
       "                                          attributes  \\\n",
       "0                      {'ByAppointmentOnly': 'True'}   \n",
       "1             {'BusinessAcceptsCreditCards': 'True'}   \n",
       "2  {'BikeParking': 'True', 'BusinessAcceptsCredit...   \n",
       "\n",
       "                                          categories  \\\n",
       "0  Doctors, Traditional Chinese Medicine, Naturop...   \n",
       "1  Shipping Centers, Local Services, Notaries, Ma...   \n",
       "2  Department Stores, Shopping, Fashion, Home & G...   \n",
       "\n",
       "                                               hours  \n",
       "0                                               None  \n",
       "1  {'Monday': '0:0-0:0', 'Tuesday': '8:0-18:30', ...  \n",
       "2  {'Monday': '8:0-22:0', 'Tuesday': '8:0-22:0', ...  "
      ]
     },
     "execution_count": 7,
     "metadata": {},
     "output_type": "execute_result"
    }
   ],
   "source": [
    "df_business.head(3)"
   ]
  },
  {
   "cell_type": "markdown",
   "id": "7b999ba7-ec52-46cb-84dd-eae77b4dd293",
   "metadata": {},
   "source": [
    "How many users/tips/reviews/checkins/businesses?"
   ]
  },
  {
   "cell_type": "code",
   "execution_count": 8,
   "id": "0b3cc577-8d91-45ff-9e86-923cfbfa5bab",
   "metadata": {},
   "outputs": [
    {
     "name": "stdout",
     "output_type": "stream",
     "text": [
      "number of users is 1,987,897\n",
      "number of tips is 908,915\n",
      "number of reviews is 6,990,280\n",
      "number of checkin is 131,930\n",
      "number of business is 150,346\n",
      "\n"
     ]
    }
   ],
   "source": [
    "msg = (\n",
    "    f'number of users is {df_user.shape[0]:,}\\n'\n",
    "    f'number of tips is {df_tip.shape[0]:,}\\n' \n",
    "    f'number of reviews is {df_review.shape[0]:,}\\n'\n",
    "    f'number of checkin is {df_checkin.shape[0]:,}\\n' \n",
    "    f'number of business is {df_business.shape[0]:,}\\n'\n",
    ")\n",
    "print(msg)"
   ]
  },
  {
   "cell_type": "markdown",
   "id": "5fec9b51-eb0f-4968-98b9-ce6f892b049a",
   "metadata": {},
   "source": [
    "What are the statistics of users review count?\n",
    "> * total of 46,505,676 reviews from users data\n",
    "> * 54 users don't have any reviews"
   ]
  },
  {
   "cell_type": "code",
   "execution_count": 87,
   "id": "0e8ca95f-fc45-4b43-9005-9a955fd5560f",
   "metadata": {},
   "outputs": [
    {
     "data": {
      "text/plain": [
       "46505676"
      ]
     },
     "execution_count": 87,
     "metadata": {},
     "output_type": "execute_result"
    }
   ],
   "source": [
    "df_user.review_count.sum()"
   ]
  },
  {
   "cell_type": "code",
   "execution_count": 131,
   "id": "e495e55b-f6bc-46bb-ba93-fe309ed53dc6",
   "metadata": {},
   "outputs": [
    {
     "data": {
      "text/plain": [
       "54"
      ]
     },
     "execution_count": 131,
     "metadata": {},
     "output_type": "execute_result"
    }
   ],
   "source": [
    "(df_user.review_count == 0).sum()"
   ]
  },
  {
   "cell_type": "code",
   "execution_count": 76,
   "id": "0f90c2ca-d0b1-44e8-8686-c4b0e16dd8f6",
   "metadata": {},
   "outputs": [
    {
     "data": {
      "text/plain": [
       "count    1.987897e+06\n",
       "mean     2.339441e+01\n",
       "std      8.256699e+01\n",
       "min      0.000000e+00\n",
       "25%      2.000000e+00\n",
       "50%      5.000000e+00\n",
       "75%      1.700000e+01\n",
       "max      1.747300e+04\n",
       "Name: review_count, dtype: float64"
      ]
     },
     "execution_count": 76,
     "metadata": {},
     "output_type": "execute_result"
    }
   ],
   "source": [
    "df_user.review_count.describe()"
   ]
  },
  {
   "cell_type": "code",
   "execution_count": 73,
   "id": "243ee960-4176-4e1c-9e91-bcd21a14ec94",
   "metadata": {},
   "outputs": [
    {
     "data": {
      "text/plain": [
       "<seaborn.axisgrid.FacetGrid at 0x7fba8a1d7af0>"
      ]
     },
     "execution_count": 73,
     "metadata": {},
     "output_type": "execute_result"
    },
    {
     "data": {
      "image/png": "[encoded data removed]",
      "text/plain": [
       "<Figure size 360x360 with 1 Axes>"
      ]
     },
     "metadata": {
      "needs_background": "light"
     },
     "output_type": "display_data"
    }
   ],
   "source": [
    "sns.displot(data=df_user[df_user.review_count <= 20], x=\"review_count\")"
   ]
  },
  {
   "cell_type": "markdown",
   "id": "76e8f3cd-3e1e-42fb-8713-522a530a7c52",
   "metadata": {},
   "source": [
    "How many friends does a user have in average?\n",
    "> 53\n",
    "\n",
    "How many users don't have a friend?\n",
    "> 878,551, 44.2%  "
   ]
  },
  {
   "cell_type": "code",
   "execution_count": 26,
   "id": "a6a2d1fb-bc62-4728-bb31-9408641b3281",
   "metadata": {},
   "outputs": [],
   "source": [
    "num_friends = pd.Series([len(friends_ls) if friends_ls[0] != \"None\" else 0 for friends_ls in df_user.friends.str.split(\",\")])"
   ]
  },
  {
   "cell_type": "code",
   "execution_count": 27,
   "id": "eb8f4cc6-b2e7-4bed-8022-00c2b31f4071",
   "metadata": {},
   "outputs": [],
   "source": [
    "df_user['num_friends'] = num_friends = num_friends"
   ]
  },
  {
   "cell_type": "code",
   "execution_count": 28,
   "id": "da66c320-173a-4ab1-91c4-115bef4c94b2",
   "metadata": {},
   "outputs": [
    {
     "data": {
      "text/plain": [
       "count    1.987897e+06\n",
       "mean     5.293306e+01\n",
       "std      1.466023e+02\n",
       "min      0.000000e+00\n",
       "25%      0.000000e+00\n",
       "50%      2.000000e+00\n",
       "75%      4.600000e+01\n",
       "max      1.499500e+04\n",
       "dtype: float64"
      ]
     },
     "execution_count": 28,
     "metadata": {},
     "output_type": "execute_result"
    }
   ],
   "source": [
    "num_friends.describe()"
   ]
  },
  {
   "cell_type": "code",
   "execution_count": 29,
   "id": "0412a175-5b48-4f5d-8f18-0cea9755b482",
   "metadata": {},
   "outputs": [
    {
     "name": "stdout",
     "output_type": "stream",
     "text": [
      "878,551 users have no friends, account for 44.2%\n"
     ]
    }
   ],
   "source": [
    "no_friend = len(num_friends[num_friends == 0])\n",
    "print(f\"{no_friend:,} users have no friends, account for {no_friend/len(num_friends):.1%}\")"
   ]
  },
  {
   "cell_type": "code",
   "execution_count": 55,
   "id": "78359b03-2a3d-4773-a929-dbf11e626871",
   "metadata": {},
   "outputs": [],
   "source": [
    "one_friend = len(num_friends[num_friends == 1])"
   ]
  },
  {
   "cell_type": "code",
   "execution_count": 54,
   "id": "c06dbc30-8415-42c9-b969-c331b0ae7872",
   "metadata": {},
   "outputs": [],
   "source": [
    "two_friend = len(num_friends[num_friends == 2])"
   ]
  },
  {
   "cell_type": "code",
   "execution_count": 59,
   "id": "e9b78bf4-3155-4101-b8f2-61c86f5b7dc8",
   "metadata": {},
   "outputs": [
    {
     "name": "stdout",
     "output_type": "stream",
     "text": [
      "1,051,577, 52.90%\n"
     ]
    }
   ],
   "source": [
    "print(f'{no_friend + one_friend + two_friend:,}, {(no_friend + one_friend + two_friend)/len(num_friends):.2%}')"
   ]
  },
  {
   "cell_type": "code",
   "execution_count": 76,
   "id": "32011045-0ec4-4965-8a9e-b23d15fbd3b7",
   "metadata": {},
   "outputs": [
    {
     "data": {
      "text/plain": [
       "[Text(0.5, 0, 'Number of Friends (1-46 friends)'), Text(0, 0.5, '')]"
      ]
     },
     "execution_count": 76,
     "metadata": {},
     "output_type": "execute_result"
    },
    {
     "data": {
      "image/png": "[encoded data removed]",
      "text/plain": [
       "<Figure size 432x288 with 1 Axes>"
      ]
     },
     "metadata": {
      "needs_background": "light"
     },
     "output_type": "display_data"
    }
   ],
   "source": [
    "sns.histplot(\n",
    "    data=df_user[(df_user.num_friends>0) & (df_user.num_friends<=46)], \n",
    "    x=\"num_friends\", kde=True, bins=23\n",
    ").set(\n",
    "    xlabel='Number of Friends (1-46 friends)',\n",
    "    ylabel=''\n",
    ")"
   ]
  },
  {
   "cell_type": "markdown",
   "id": "4b1b407e-bf8c-418a-a95a-596d4fb0078c",
   "metadata": {},
   "source": [
    "Is there any correlation among reviews, number of friends and number of fans?\n",
    "> * number of fans and number of friends have positive relationship\n",
    "> * no obvious relations of review count to other two attributes\n",
    "> * there are some outliers"
   ]
  },
  {
   "cell_type": "code",
   "execution_count": 78,
   "id": "418a7520-10ad-48a2-a82d-b7d0f9971d47",
   "metadata": {},
   "outputs": [
    {
     "data": {
      "text/plain": [
       "<seaborn.axisgrid.PairGrid at 0x7f6d28ab87c0>"
      ]
     },
     "execution_count": 78,
     "metadata": {},
     "output_type": "execute_result"
    },
    {
     "data": {
      "image/png": "[encoded data removed]",
      "text/plain": [
       "<Figure size 540x540 with 12 Axes>"
      ]
     },
     "metadata": {
      "needs_background": "light"
     },
     "output_type": "display_data"
    }
   ],
   "source": [
    "sns.pairplot(data=df_user[[\"review_count\", \"num_friends\", \"fans\"]])"
   ]
  },
  {
   "cell_type": "code",
   "execution_count": 75,
   "id": "6e824e05-8295-4dbf-9b39-76029908815d",
   "metadata": {},
   "outputs": [
    {
     "data": {
      "text/plain": [
       "<AxesSubplot:>"
      ]
     },
     "execution_count": 75,
     "metadata": {},
     "output_type": "execute_result"
    },
    {
     "data": {
      "image/png": "[encoded data removed]",
      "text/plain": [
       "<Figure size 432x288 with 1 Axes>"
      ]
     },
     "metadata": {
      "needs_background": "light"
     },
     "output_type": "display_data"
    }
   ],
   "source": [
    "sns.boxplot(data=df_user[[\"review_count\", \"num_friends\", \"fans\"]], orient=\"h\")"
   ]
  },
  {
   "cell_type": "code",
   "execution_count": 79,
   "id": "0e68a244-8813-467a-b8ae-37d5e1faaaf8",
   "metadata": {},
   "outputs": [
    {
     "data": {
      "text/plain": [
       "<seaborn.axisgrid.FacetGrid at 0x7f6928b87100>"
      ]
     },
     "execution_count": 79,
     "metadata": {},
     "output_type": "execute_result"
    },
    {
     "data": {
      "image/png": "[encoded data removed]",
      "text/plain": [
       "<Figure size 360x360 with 1 Axes>"
      ]
     },
     "metadata": {
      "needs_background": "light"
     },
     "output_type": "display_data"
    }
   ],
   "source": [
    "sns.lmplot(data=df_user, x=\"review_count\", y=\"num_friends\")"
   ]
  },
  {
   "cell_type": "code",
   "execution_count": 86,
   "id": "a1d2ec97-ea3f-491a-8db6-158c3cd6bae4",
   "metadata": {},
   "outputs": [
    {
     "data": {
      "text/plain": [
       "[Text(0.5, 0, 'Number of Reviews'), Text(0, 0.5, 'Number of Friends')]"
      ]
     },
     "execution_count": 86,
     "metadata": {},
     "output_type": "execute_result"
    },
    {
     "data": {
      "image/png": "[encoded data removed]",
      "text/plain": [
       "<Figure size 432x288 with 1 Axes>"
      ]
     },
     "metadata": {
      "needs_background": "light"
     },
     "output_type": "display_data"
    }
   ],
   "source": [
    "sns.scatterplot(data=df_user, x=\"review_count\", y=\"num_friends\").set(\n",
    "    xlabel=\"Number of Reviews\",\n",
    "    ylabel=\"Number of Friends\"\n",
    ")"
   ]
  },
  {
   "cell_type": "code",
   "execution_count": 88,
   "id": "c3a4c786-5133-4641-bdcb-64b57d03b3eb",
   "metadata": {},
   "outputs": [
    {
     "data": {
      "text/plain": [
       "[Text(0.5, 0, 'Number of Reviews'), Text(0, 0.5, 'Number of Fans')]"
      ]
     },
     "execution_count": 88,
     "metadata": {},
     "output_type": "execute_result"
    },
    {
     "data": {
      "image/png": "[encoded data removed]",
      "text/plain": [
       "<Figure size 432x288 with 1 Axes>"
      ]
     },
     "metadata": {
      "needs_background": "light"
     },
     "output_type": "display_data"
    }
   ],
   "source": [
    "sns.scatterplot(data=df_user, x=\"review_count\", y=\"fans\").set(\n",
    "    xlabel=\"Number of Reviews\",\n",
    "    ylabel=\"Number of Fans\"\n",
    ")"
   ]
  },
  {
   "cell_type": "code",
   "execution_count": 96,
   "id": "967a89b1-dda7-42a7-92be-6e938ac188f3",
   "metadata": {},
   "outputs": [
    {
     "data": {
      "text/plain": [
       "[Text(0.5, 0, 'Number of Friends'), Text(0, 0.5, 'Number of Fans')]"
      ]
     },
     "execution_count": 96,
     "metadata": {},
     "output_type": "execute_result"
    },
    {
     "data": {
      "image/png": "[encoded data removed]",
      "text/plain": [
       "<Figure size 432x288 with 1 Axes>"
      ]
     },
     "metadata": {
      "needs_background": "light"
     },
     "output_type": "display_data"
    }
   ],
   "source": [
    "sns.scatterplot(df_user, x=\"num_friends\", y=\"fans\").set(\n",
    "    xlabel=\"Number of Friends\",\n",
    "    ylabel=\"Number of Fans\"\n",
    ")"
   ]
  },
  {
   "cell_type": "code",
   "execution_count": 92,
   "id": "26bbf757-9b6c-4679-b00a-61ec8607a55e",
   "metadata": {},
   "outputs": [
    {
     "data": {
      "text/plain": [
       "<seaborn.axisgrid.FacetGrid at 0x7f6979bc4250>"
      ]
     },
     "execution_count": 92,
     "metadata": {},
     "output_type": "execute_result"
    },
    {
     "data": {
      "image/png": "[encoded data removed]",
      "text/plain": [
       "<Figure size 360x360 with 1 Axes>"
      ]
     },
     "metadata": {
      "needs_background": "light"
     },
     "output_type": "display_data"
    }
   ],
   "source": [
    "sns.lmplot(df_user, x=\"num_friends\", y=\"fans\").set(\n",
    "    xlabel=\"Number of Friends\",\n",
    "    ylabel=\"Number of Fans\"\n",
    ")"
   ]
  },
  {
   "cell_type": "markdown",
   "id": "b6fa66b4-1891-4a1e-aee8-1ade85a027ff",
   "metadata": {},
   "source": [
    "Where are businesses locate and how many in each state?\n",
    "> 27 states, in which 13 states have less than 10 business."
   ]
  },
  {
   "cell_type": "code",
   "execution_count": 179,
   "id": "252857c8-04c8-4447-879e-7a7757dc4a18",
   "metadata": {},
   "outputs": [],
   "source": [
    "state_business = df_business.groupby(['state'])['state'].count()"
   ]
  },
  {
   "cell_type": "code",
   "execution_count": 180,
   "id": "4c20d68b-f142-48d6-b7df-dda7ff526e63",
   "metadata": {},
   "outputs": [
    {
     "data": {
      "text/plain": [
       "27"
      ]
     },
     "execution_count": 180,
     "metadata": {},
     "output_type": "execute_result"
    }
   ],
   "source": [
    "state_business.size"
   ]
  },
  {
   "cell_type": "code",
   "execution_count": 181,
   "id": "6e435ccc-6652-42a4-b2f0-917b538bad61",
   "metadata": {},
   "outputs": [
    {
     "data": {
      "text/plain": [
       "13"
      ]
     },
     "execution_count": 181,
     "metadata": {},
     "output_type": "execute_result"
    }
   ],
   "source": [
    "state_business[state_business < 10].size"
   ]
  },
  {
   "cell_type": "code",
   "execution_count": 183,
   "id": "b5c8cdca-25b6-4403-a181-183b38ac65c8",
   "metadata": {},
   "outputs": [],
   "source": [
    "state_id = pd.read_csv(\"state_id.csv\")\n",
    "state_business = state_business.to_frame().rename(columns={\"state\": \"count\"}).reset_index().merge(state_id, how='outer', left_on=\"state\", right_on=\"state\")"
   ]
  },
  {
   "cell_type": "code",
   "execution_count": 184,
   "id": "5dc6c6b8-b5e3-48ea-b160-e35a6119cdb1",
   "metadata": {},
   "outputs": [],
   "source": [
    "state_business['count'] = state_business['count'].fillna(0)"
   ]
  },
  {
   "cell_type": "code",
   "execution_count": 110,
   "id": "7693a64d-63ec-4ca7-83be-a4c768ba261a",
   "metadata": {},
   "outputs": [
    {
     "data": {
      "text/html": [
       "\n",
       "<div id=\"altair-viz-3776f55b97764bb2938b5c846758fac4\"></div>\n",
       "<script type=\"text/javascript\">\n",
       "  var VEGA_DEBUG = (typeof VEGA_DEBUG == \"undefined\") ? {} : VEGA_DEBUG;\n",
       "  (function(spec, embedOpt){\n",
       "    let outputDiv = document.currentScript.previousElementSibling;\n",
       "    if (outputDiv.id !== \"altair-viz-3776f55b97764bb2938b5c846758fac4\") {\n",
       "      outputDiv = document.getElementById(\"altair-viz-3776f55b97764bb2938b5c846758fac4\");\n",
       "    }\n",
       "    const paths = {\n",
       "      \"vega\": \"https://cdn.jsdelivr.net/npm//vega@5?noext\",\n",
       "      \"vega-lib\": \"https://cdn.jsdelivr.net/npm//vega-lib?noext\",\n",
       "      \"vega-lite\": \"https://cdn.jsdelivr.net/npm//vega-lite@4.17.0?noext\",\n",
       "      \"vega-embed\": \"https://cdn.jsdelivr.net/npm//vega-embed@6?noext\",\n",
       "    };\n",
       "\n",
       "    function maybeLoadScript(lib, version) {\n",
       "      var key = `${lib.replace(\"-\", \"\")}_version`;\n",
       "      return (VEGA_DEBUG[key] == version) ?\n",
       "        Promise.resolve(paths[lib]) :\n",
       "        new Promise(function(resolve, reject) {\n",
       "          var s = document.createElement('script');\n",
       "          document.getElementsByTagName(\"head\")[0].appendChild(s);\n",
       "          s.async = true;\n",
       "          s.onload = () => {\n",
       "            VEGA_DEBUG[key] = version;\n",
       "            return resolve(paths[lib]);\n",
       "          };\n",
       "          s.onerror = () => reject(`Error loading script: ${paths[lib]}`);\n",
       "          s.src = paths[lib];\n",
       "        });\n",
       "    }\n",
       "\n",
       "    function showError(err) {\n",
       "      outputDiv.innerHTML = `<div class=\"error\" style=\"color:red;\">${err}</div>`;\n",
       "      throw err;\n",
       "    }\n",
       "\n",
       "    function displayChart(vegaEmbed) {\n",
       "      vegaEmbed(outputDiv, spec, embedOpt)\n",
       "        .catch(err => showError(`Javascript Error: ${err.message}<br>This usually means there's a typo in your chart specification. See the javascript console for the full traceback.`));\n",
       "    }\n",
       "\n",
       "    if(typeof define === \"function\" && define.amd) {\n",
       "      requirejs.config({paths});\n",
       "      require([\"vega-embed\"], displayChart, err => showError(`Error loading script: ${err.message}`));\n",
       "    } else {\n",
       "      maybeLoadScript(\"vega\", \"5\")\n",
       "        .then(() => maybeLoadScript(\"vega-lite\", \"4.17.0\"))\n",
       "        .then(() => maybeLoadScript(\"vega-embed\", \"6\"))\n",
       "        .catch(showError)\n",
       "        .then(() => displayChart(vegaEmbed));\n",
       "    }\n",
       "  })({\"config\": {\"view\": {\"continuousWidth\": 400, \"continuousHeight\": 300}}, \"data\": {\"url\": \"https://cdn.jsdelivr.net/npm/vega-datasets@v1.29.0/data/us-10m.json\", \"format\": {\"feature\": \"states\", \"type\": \"topojson\"}}, \"mark\": {\"type\": \"geoshape\", \"stroke\": \"gray\"}, \"encoding\": {\"color\": {\"field\": \"count\", \"type\": \"quantitative\"}, \"tooltip\": [{\"field\": \"state\", \"type\": \"nominal\"}, {\"field\": \"count\", \"type\": \"quantitative\"}]}, \"height\": 700, \"projection\": {\"type\": \"albersUsa\"}, \"transform\": [{\"lookup\": \"id\", \"from\": {\"data\": {\"name\": \"data-84d02dfa28f9bac66e7d84308d61bdcd\"}, \"key\": \"id\", \"fields\": [\"count\", \"state\"]}}], \"width\": 1200, \"$schema\": \"https://vega.github.io/schema/vega-lite/v4.17.0.json\", \"datasets\": {\"data-84d02dfa28f9bac66e7d84308d61bdcd\": [{\"state\": \"AB\", \"count\": 5573.0, \"id\": null}, {\"state\": \"AZ\", \"count\": 9912.0, \"id\": 4.0}, {\"state\": \"CA\", \"count\": 5203.0, \"id\": 6.0}, {\"state\": \"CO\", \"count\": 3.0, \"id\": 8.0}, {\"state\": \"DE\", \"count\": 2265.0, \"id\": 10.0}, {\"state\": \"FL\", \"count\": 26330.0, \"id\": 12.0}, {\"state\": \"HI\", \"count\": 2.0, \"id\": 15.0}, {\"state\": \"ID\", \"count\": 4467.0, \"id\": 16.0}, {\"state\": \"IL\", \"count\": 2145.0, \"id\": 17.0}, {\"state\": \"IN\", \"count\": 11247.0, \"id\": 18.0}, {\"state\": \"LA\", \"count\": 9924.0, \"id\": 22.0}, {\"state\": \"MA\", \"count\": 2.0, \"id\": 25.0}, {\"state\": \"MI\", \"count\": 1.0, \"id\": 26.0}, {\"state\": \"MO\", \"count\": 10913.0, \"id\": 29.0}, {\"state\": \"MT\", \"count\": 1.0, \"id\": 30.0}, {\"state\": \"NC\", \"count\": 1.0, \"id\": 37.0}, {\"state\": \"NJ\", \"count\": 8536.0, \"id\": 34.0}, {\"state\": \"NV\", \"count\": 7715.0, \"id\": 32.0}, {\"state\": \"PA\", \"count\": 34039.0, \"id\": 42.0}, {\"state\": \"SD\", \"count\": 1.0, \"id\": 46.0}, {\"state\": \"TN\", \"count\": 12056.0, \"id\": 47.0}, {\"state\": \"TX\", \"count\": 4.0, \"id\": 48.0}, {\"state\": \"UT\", \"count\": 1.0, \"id\": 49.0}, {\"state\": \"VI\", \"count\": 1.0, \"id\": 78.0}, {\"state\": \"VT\", \"count\": 1.0, \"id\": 50.0}, {\"state\": \"WA\", \"count\": 2.0, \"id\": 53.0}, {\"state\": \"XMS\", \"count\": 1.0, \"id\": null}, {\"state\": \"AL\", \"count\": 0.0, \"id\": 1.0}, {\"state\": \"AK\", \"count\": 0.0, \"id\": 2.0}, {\"state\": \"AR\", \"count\": 0.0, \"id\": 5.0}, {\"state\": \"CT\", \"count\": 0.0, \"id\": 9.0}, {\"state\": \"DC\", \"count\": 0.0, \"id\": 11.0}, {\"state\": \"GA\", \"count\": 0.0, \"id\": 13.0}, {\"state\": \"IA\", \"count\": 0.0, \"id\": 19.0}, {\"state\": \"KS\", \"count\": 0.0, \"id\": 20.0}, {\"state\": \"KY\", \"count\": 0.0, \"id\": 21.0}, {\"state\": \"ME\", \"count\": 0.0, \"id\": 23.0}, {\"state\": \"MD\", \"count\": 0.0, \"id\": 24.0}, {\"state\": \"MN\", \"count\": 0.0, \"id\": 27.0}, {\"state\": \"MS\", \"count\": 0.0, \"id\": 28.0}, {\"state\": \"NE\", \"count\": 0.0, \"id\": 31.0}, {\"state\": \"MH\", \"count\": 0.0, \"id\": 33.0}, {\"state\": \"NM\", \"count\": 0.0, \"id\": 35.0}, {\"state\": \"NY\", \"count\": 0.0, \"id\": 36.0}, {\"state\": \"ND\", \"count\": 0.0, \"id\": 38.0}, {\"state\": \"OH\", \"count\": 0.0, \"id\": 39.0}, {\"state\": \"OK\", \"count\": 0.0, \"id\": 40.0}, {\"state\": \"OR\", \"count\": 0.0, \"id\": 41.0}, {\"state\": \"PR\", \"count\": 0.0, \"id\": 72.0}, {\"state\": \"RI\", \"count\": 0.0, \"id\": 44.0}, {\"state\": \"SC\", \"count\": 0.0, \"id\": 45.0}, {\"state\": \"VA\", \"count\": 0.0, \"id\": 51.0}, {\"state\": \"WV\", \"count\": 0.0, \"id\": 54.0}, {\"state\": \"WI\", \"count\": 0.0, \"id\": 55.0}, {\"state\": \"WY \", \"count\": 0.0, \"id\": 56.0}]}}, {\"mode\": \"vega-lite\"});\n",
       "</script>"
      ],
      "text/plain": [
       "alt.Chart(...)"
      ]
     },
     "execution_count": 110,
     "metadata": {},
     "output_type": "execute_result"
    }
   ],
   "source": [
    "states = alt.topo_feature(data.us_10m.url, 'states')\n",
    "\n",
    "alt.Chart(states).mark_geoshape(\n",
    "    stroke=\"gray\"\n",
    ").encode(\n",
    "    color='count:Q',\n",
    "    tooltip=['state:N', 'count:Q']\n",
    ").transform_lookup(\n",
    "    lookup='id',\n",
    "    from_=alt.LookupData(state_business, 'id', ['count', 'state']),\n",
    ").project(\n",
    "    type='albersUsa'\n",
    ").properties(\n",
    "    width=1200,\n",
    "    height=700\n",
    ")"
   ]
  },
  {
   "cell_type": "code",
   "execution_count": 196,
   "id": "d2ff173d-0901-42d2-9bc4-01def16d9313",
   "metadata": {},
   "outputs": [
    {
     "data": {
      "text/html": [
       "\n",
       "<div id=\"altair-viz-66c03e282d4046619889e068b37fdcce\"></div>\n",
       "<script type=\"text/javascript\">\n",
       "  var VEGA_DEBUG = (typeof VEGA_DEBUG == \"undefined\") ? {} : VEGA_DEBUG;\n",
       "  (function(spec, embedOpt){\n",
       "    let outputDiv = document.currentScript.previousElementSibling;\n",
       "    if (outputDiv.id !== \"altair-viz-66c03e282d4046619889e068b37fdcce\") {\n",
       "      outputDiv = document.getElementById(\"altair-viz-66c03e282d4046619889e068b37fdcce\");\n",
       "    }\n",
       "    const paths = {\n",
       "      \"vega\": \"https://cdn.jsdelivr.net/npm//vega@5?noext\",\n",
       "      \"vega-lib\": \"https://cdn.jsdelivr.net/npm//vega-lib?noext\",\n",
       "      \"vega-lite\": \"https://cdn.jsdelivr.net/npm//vega-lite@4.17.0?noext\",\n",
       "      \"vega-embed\": \"https://cdn.jsdelivr.net/npm//vega-embed@6?noext\",\n",
       "    };\n",
       "\n",
       "    function maybeLoadScript(lib, version) {\n",
       "      var key = `${lib.replace(\"-\", \"\")}_version`;\n",
       "      return (VEGA_DEBUG[key] == version) ?\n",
       "        Promise.resolve(paths[lib]) :\n",
       "        new Promise(function(resolve, reject) {\n",
       "          var s = document.createElement('script');\n",
       "          document.getElementsByTagName(\"head\")[0].appendChild(s);\n",
       "          s.async = true;\n",
       "          s.onload = () => {\n",
       "            VEGA_DEBUG[key] = version;\n",
       "            return resolve(paths[lib]);\n",
       "          };\n",
       "          s.onerror = () => reject(`Error loading script: ${paths[lib]}`);\n",
       "          s.src = paths[lib];\n",
       "        });\n",
       "    }\n",
       "\n",
       "    function showError(err) {\n",
       "      outputDiv.innerHTML = `<div class=\"error\" style=\"color:red;\">${err}</div>`;\n",
       "      throw err;\n",
       "    }\n",
       "\n",
       "    function displayChart(vegaEmbed) {\n",
       "      vegaEmbed(outputDiv, spec, embedOpt)\n",
       "        .catch(err => showError(`Javascript Error: ${err.message}<br>This usually means there's a typo in your chart specification. See the javascript console for the full traceback.`));\n",
       "    }\n",
       "\n",
       "    if(typeof define === \"function\" && define.amd) {\n",
       "      requirejs.config({paths});\n",
       "      require([\"vega-embed\"], displayChart, err => showError(`Error loading script: ${err.message}`));\n",
       "    } else {\n",
       "      maybeLoadScript(\"vega\", \"5\")\n",
       "        .then(() => maybeLoadScript(\"vega-lite\", \"4.17.0\"))\n",
       "        .then(() => maybeLoadScript(\"vega-embed\", \"6\"))\n",
       "        .catch(showError)\n",
       "        .then(() => displayChart(vegaEmbed));\n",
       "    }\n",
       "  })({\"config\": {\"view\": {\"continuousWidth\": 400, \"continuousHeight\": 300}}, \"data\": {\"name\": \"data-6c95973eed2d4f3702ca9f6d3639b35b\"}, \"mark\": \"bar\", \"encoding\": {\"x\": {\"field\": \"count\", \"type\": \"quantitative\"}, \"y\": {\"field\": \"state\", \"sort\": \"-x\", \"type\": \"nominal\"}}, \"height\": 780.0, \"title\": \"Businesses by State\", \"width\": 520.0, \"$schema\": \"https://vega.github.io/schema/vega-lite/v4.17.0.json\", \"datasets\": {\"data-6c95973eed2d4f3702ca9f6d3639b35b\": [{\"state\": \"PA\", \"count\": 34039.0, \"id\": 42.0}, {\"state\": \"FL\", \"count\": 26330.0, \"id\": 12.0}, {\"state\": \"TN\", \"count\": 12056.0, \"id\": 47.0}, {\"state\": \"IN\", \"count\": 11247.0, \"id\": 18.0}, {\"state\": \"MO\", \"count\": 10913.0, \"id\": 29.0}, {\"state\": \"LA\", \"count\": 9924.0, \"id\": 22.0}, {\"state\": \"AZ\", \"count\": 9912.0, \"id\": 4.0}, {\"state\": \"NJ\", \"count\": 8536.0, \"id\": 34.0}, {\"state\": \"NV\", \"count\": 7715.0, \"id\": 32.0}, {\"state\": \"AB\", \"count\": 5573.0, \"id\": null}, {\"state\": \"CA\", \"count\": 5203.0, \"id\": 6.0}, {\"state\": \"ID\", \"count\": 4467.0, \"id\": 16.0}, {\"state\": \"DE\", \"count\": 2265.0, \"id\": 10.0}, {\"state\": \"IL\", \"count\": 2145.0, \"id\": 17.0}]}}, {\"mode\": \"vega-lite\"});\n",
       "</script>"
      ],
      "text/plain": [
       "alt.Chart(...)"
      ]
     },
     "execution_count": 196,
     "metadata": {},
     "output_type": "execute_result"
    }
   ],
   "source": [
    "# sns.histplot(data=df_business, x=\"state\")\n",
    "alt.Chart(state_business.sort_values(\"count\", ascending=False)[:14], title=\"Businesses by State\").mark_bar().encode(\n",
    "    x=\"count\",\n",
    "    y=alt.Y(\"state\", sort=\"-x\")\n",
    ").properties(\n",
    "    width=400*1.3,\n",
    "    height=600*1.3\n",
    ")"
   ]
  },
  {
   "cell_type": "markdown",
   "id": "fc4567d8-3ec4-496c-ade1-c95eda314f05",
   "metadata": {},
   "source": [
    "How many restaurants?"
   ]
  },
  {
   "cell_type": "markdown",
   "id": "5b6840f2-5cdc-4a94-a0ce-27ac8bd9aac0",
   "metadata": {},
   "source": [
    "How many reviews do all businesses received?\n",
    "> * all businesses received 6,745,508 reviews; \n",
    "> * there are 6,990,280 reviews in reviews dataset; \n",
    "> * all users made 46,505,676 reviews. "
   ]
  },
  {
   "cell_type": "code",
   "execution_count": 81,
   "id": "f02414a4-a929-40a7-87d3-e7e61d4dae93",
   "metadata": {},
   "outputs": [
    {
     "data": {
      "text/plain": [
       "46505676"
      ]
     },
     "execution_count": 81,
     "metadata": {},
     "output_type": "execute_result"
    }
   ],
   "source": [
    "df_user.review_count.sum()"
   ]
  },
  {
   "cell_type": "code",
   "execution_count": 79,
   "id": "36c6f801-1108-442e-8544-2c70caeaaa55",
   "metadata": {},
   "outputs": [
    {
     "data": {
      "text/plain": [
       "6745508"
      ]
     },
     "execution_count": 79,
     "metadata": {},
     "output_type": "execute_result"
    }
   ],
   "source": [
    "df_business.review_count.sum()"
   ]
  },
  {
   "cell_type": "markdown",
   "id": "c1057377-b597-4e7c-83e2-038f134b9b8c",
   "metadata": {},
   "source": [
    "How many businesses are closed?"
   ]
  },
  {
   "cell_type": "code",
   "execution_count": 88,
   "id": "5f5184de-c940-4772-90ad-829f148df174",
   "metadata": {},
   "outputs": [
    {
     "name": "stdout",
     "output_type": "stream",
     "text": [
      "30,648(20.38%) businesses are closed\n"
     ]
    }
   ],
   "source": [
    "num_open = df_business.groupby(['is_open'])['is_open'].count()\n",
    "print(f'{num_open[0]:,}({num_open[0]/(num_open[0]+num_open[1]):.2%}) businesses are closed')"
   ]
  },
  {
   "cell_type": "markdown",
   "id": "07adb122-a7e3-4f1a-a4bf-d5671a1c0302",
   "metadata": {},
   "source": [
    "Business star-rating distribution\n",
    "> * all businesses have rating, the minimum rating is 1\n",
    "> * mean is 3.6, medium is 3.5"
   ]
  },
  {
   "cell_type": "code",
   "execution_count": 174,
   "id": "ae603df9-7730-4536-bb81-0dd1a5083ecb",
   "metadata": {},
   "outputs": [
    {
     "data": {
      "text/plain": [
       "[Text(0.5, 0, 'Bussiness Rating'), Text(0, 0.5, '')]"
      ]
     },
     "execution_count": 174,
     "metadata": {},
     "output_type": "execute_result"
    },
    {
     "data": {
      "image/png": "[encoded data removed]",
      "text/plain": [
       "<Figure size 432x288 with 1 Axes>"
      ]
     },
     "metadata": {
      "needs_background": "light"
     },
     "output_type": "display_data"
    }
   ],
   "source": [
    "sns.histplot(data=df_business, x=\"stars\", bins=9).set(\n",
    "    xlabel=\"Bussiness Rating\",\n",
    "    ylabel=''\n",
    ")"
   ]
  },
  {
   "cell_type": "code",
   "execution_count": 93,
   "id": "8b246731-3ae0-47c7-a505-4fda4c088af1",
   "metadata": {},
   "outputs": [
    {
     "data": {
      "text/plain": [
       "count    150346.000000\n",
       "mean          3.596724\n",
       "std           0.974421\n",
       "min           1.000000\n",
       "25%           3.000000\n",
       "50%           3.500000\n",
       "75%           4.500000\n",
       "max           5.000000\n",
       "Name: stars, dtype: float64"
      ]
     },
     "execution_count": 93,
     "metadata": {},
     "output_type": "execute_result"
    }
   ],
   "source": [
    "df_business.stars.describe()"
   ]
  },
  {
   "cell_type": "code",
   "execution_count": 98,
   "id": "91322c85-3f5e-4729-9cde-dbd32accee65",
   "metadata": {},
   "outputs": [
    {
     "data": {
      "text/plain": [
       "0"
      ]
     },
     "execution_count": 98,
     "metadata": {},
     "output_type": "execute_result"
    }
   ],
   "source": [
    "pd.isnull(df_business.stars).sum()"
   ]
  },
  {
   "cell_type": "markdown",
   "id": "39804766-8f4e-4393-974d-d7ca59199146",
   "metadata": {},
   "source": [
    "Business categories distribution\n",
    "> * 103 businesses don't any category\n",
    "> * business have 4.4 sub-categories in average\n",
    "> * there are 2454 sub-categories in total"
   ]
  },
  {
   "cell_type": "code",
   "execution_count": 98,
   "id": "bd3e99e4-65d9-4b46-bf4b-bfc8529b1432",
   "metadata": {},
   "outputs": [
    {
     "data": {
      "text/plain": [
       "'Doctors, Traditional Chinese Medicine, Naturopathic/Holistic, Acupuncture, Health & Medical, Nutritionists'"
      ]
     },
     "execution_count": 98,
     "metadata": {},
     "output_type": "execute_result"
    }
   ],
   "source": [
    "df_business.categories[0]"
   ]
  },
  {
   "cell_type": "code",
   "execution_count": 99,
   "id": "3d712677-39b1-43b2-9339-2b8a145fcea3",
   "metadata": {},
   "outputs": [],
   "source": [
    "cats = df_business.categories.str.split(\",\")"
   ]
  },
  {
   "cell_type": "code",
   "execution_count": 106,
   "id": "03b0af2f-4ec9-4777-9740-beb789462047",
   "metadata": {},
   "outputs": [
    {
     "data": {
      "text/plain": [
       "0         [Doctors,  Traditional Chinese Medicine,  Natu...\n",
       "1         [Shipping Centers,  Local Services,  Notaries,...\n",
       "2         [Department Stores,  Shopping,  Fashion,  Home...\n",
       "3         [Restaurants,  Food,  Bubble Tea,  Coffee & Te...\n",
       "4                             [Brewpubs,  Breweries,  Food]\n",
       "                                ...                        \n",
       "150341                        [Nail Salons,  Beauty & Spas]\n",
       "150342    [Pets,  Nurseries & Gardening,  Pet Stores,  H...\n",
       "150343    [Shopping,  Jewelry,  Piercing,  Toy Stores,  ...\n",
       "150344    [Fitness/Exercise Equipment,  Eyewear & Optici...\n",
       "150345    [Beauty & Spas,  Permanent Makeup,  Piercing, ...\n",
       "Name: categories, Length: 150346, dtype: object"
      ]
     },
     "execution_count": 106,
     "metadata": {},
     "output_type": "execute_result"
    }
   ],
   "source": [
    "cats"
   ]
  },
  {
   "cell_type": "code",
   "execution_count": 100,
   "id": "d26fd979-87a0-4adf-b168-0bddf840c34c",
   "metadata": {},
   "outputs": [
    {
     "data": {
      "text/plain": [
       "103"
      ]
     },
     "execution_count": 100,
     "metadata": {},
     "output_type": "execute_result"
    }
   ],
   "source": [
    "pd.isna(cats).sum()"
   ]
  },
  {
   "cell_type": "code",
   "execution_count": 101,
   "id": "86dcd486-ae1d-4e45-a9cf-8b5e44aaac8e",
   "metadata": {},
   "outputs": [],
   "source": [
    "num_cats = pd.Series([0 if cat is None else len(cat) for cat in cats])"
   ]
  },
  {
   "cell_type": "code",
   "execution_count": 172,
   "id": "df7fe989-4dd1-4748-8632-a6d03d53bb9d",
   "metadata": {},
   "outputs": [
    {
     "data": {
      "text/html": [
       "<div>\n",
       "<style scoped>\n",
       "    .dataframe tbody tr th:only-of-type {\n",
       "        vertical-align: middle;\n",
       "    }\n",
       "\n",
       "    .dataframe tbody tr th {\n",
       "        vertical-align: top;\n",
       "    }\n",
       "\n",
       "    .dataframe thead th {\n",
       "        text-align: right;\n",
       "    }\n",
       "</style>\n",
       "<table border=\"1\" class=\"dataframe\">\n",
       "  <thead>\n",
       "    <tr style=\"text-align: right;\">\n",
       "      <th></th>\n",
       "      <th>business_id</th>\n",
       "      <th>name</th>\n",
       "      <th>address</th>\n",
       "      <th>city</th>\n",
       "      <th>state</th>\n",
       "      <th>postal_code</th>\n",
       "      <th>latitude</th>\n",
       "      <th>longitude</th>\n",
       "      <th>stars</th>\n",
       "      <th>review_count</th>\n",
       "      <th>is_open</th>\n",
       "      <th>attributes</th>\n",
       "      <th>categories</th>\n",
       "      <th>hours</th>\n",
       "      <th>num_cats</th>\n",
       "    </tr>\n",
       "  </thead>\n",
       "  <tbody>\n",
       "    <tr>\n",
       "      <th>143157</th>\n",
       "      <td>ytynqOUb3hjKeJfRj5Tshw</td>\n",
       "      <td>Reading Terminal Market</td>\n",
       "      <td>51 N 12th St</td>\n",
       "      <td>Philadelphia</td>\n",
       "      <td>PA</td>\n",
       "      <td>19107</td>\n",
       "      <td>39.953341</td>\n",
       "      <td>-75.158855</td>\n",
       "      <td>4.5</td>\n",
       "      <td>5721</td>\n",
       "      <td>1</td>\n",
       "      <td>{'RestaurantsGoodForGroups': 'True', 'Restaura...</td>\n",
       "      <td>Candy Stores, Shopping, Department Stores, Fas...</td>\n",
       "      <td>{'Monday': '8:0-18:0', 'Tuesday': '8:0-18:0', ...</td>\n",
       "      <td>36</td>\n",
       "    </tr>\n",
       "  </tbody>\n",
       "</table>\n",
       "</div>"
      ],
      "text/plain": [
       "                   business_id                     name       address  \\\n",
       "143157  ytynqOUb3hjKeJfRj5Tshw  Reading Terminal Market  51 N 12th St   \n",
       "\n",
       "                city state postal_code   latitude  longitude  stars  \\\n",
       "143157  Philadelphia    PA       19107  39.953341 -75.158855    4.5   \n",
       "\n",
       "        review_count  is_open  \\\n",
       "143157          5721        1   \n",
       "\n",
       "                                               attributes  \\\n",
       "143157  {'RestaurantsGoodForGroups': 'True', 'Restaura...   \n",
       "\n",
       "                                               categories  \\\n",
       "143157  Candy Stores, Shopping, Department Stores, Fas...   \n",
       "\n",
       "                                                    hours  num_cats  \n",
       "143157  {'Monday': '8:0-18:0', 'Tuesday': '8:0-18:0', ...        36  "
      ]
     },
     "execution_count": 172,
     "metadata": {},
     "output_type": "execute_result"
    }
   ],
   "source": [
    "df_business[num_cats == 36]"
   ]
  },
  {
   "cell_type": "code",
   "execution_count": 102,
   "id": "f744fad8-4d20-44ae-bcd5-4dcd32645351",
   "metadata": {},
   "outputs": [],
   "source": [
    "df_business['num_cats'] = num_cats"
   ]
  },
  {
   "cell_type": "code",
   "execution_count": 103,
   "id": "523250e8-c8ac-4e91-9a47-6a28ffc11df0",
   "metadata": {},
   "outputs": [
    {
     "data": {
      "text/plain": [
       "count    150346.000000\n",
       "mean          4.447022\n",
       "std           2.233734\n",
       "min           0.000000\n",
       "25%           3.000000\n",
       "50%           4.000000\n",
       "75%           6.000000\n",
       "max          36.000000\n",
       "dtype: float64"
      ]
     },
     "execution_count": 103,
     "metadata": {},
     "output_type": "execute_result"
    }
   ],
   "source": [
    "num_cats.describe()"
   ]
  },
  {
   "cell_type": "code",
   "execution_count": 164,
   "id": "523881c9-fe88-4cff-aa6d-d53cde4e377b",
   "metadata": {},
   "outputs": [
    {
     "data": {
      "text/plain": [
       "[Text(0.5, 0, 'Number of Categories per Business')]"
      ]
     },
     "execution_count": 164,
     "metadata": {},
     "output_type": "execute_result"
    },
    {
     "data": {
      "image/png": "[encoded data removed]",
      "text/plain": [
       "<Figure size 432x288 with 1 Axes>"
      ]
     },
     "metadata": {
      "needs_background": "light"
     },
     "output_type": "display_data"
    }
   ],
   "source": [
    "sns.histplot(data=df_business, x=\"num_cats\", bins=10).set(\n",
    "    xlabel=\"Number of Categories per Business\"\n",
    ")"
   ]
  },
  {
   "cell_type": "code",
   "execution_count": 117,
   "id": "11b4228f-7299-4609-90b6-d77c0291a901",
   "metadata": {},
   "outputs": [],
   "source": [
    "cat_set = set()\n",
    "for cat in cats.to_list():\n",
    "    if cat is not None:\n",
    "        for c in cat:\n",
    "            cat_set.add(c.strip())"
   ]
  },
  {
   "cell_type": "code",
   "execution_count": 118,
   "id": "80e4a1de-75fd-4c01-85ff-23f1b92a1a6f",
   "metadata": {},
   "outputs": [
    {
     "data": {
      "text/plain": [
       "1311"
      ]
     },
     "execution_count": 118,
     "metadata": {},
     "output_type": "execute_result"
    }
   ],
   "source": [
    "len(cat_set)"
   ]
  },
  {
   "cell_type": "code",
   "execution_count": 120,
   "id": "cb311ec4-77ae-453c-aa1b-7cc635bfcbce",
   "metadata": {},
   "outputs": [],
   "source": [
    "cat_dict = {c: 0 for c in cat_set}\n",
    "for cat in cats:\n",
    "    if cat is not None:\n",
    "        for c in cat:\n",
    "            cat_dict[c.strip()] += 1"
   ]
  },
  {
   "cell_type": "code",
   "execution_count": 132,
   "id": "5a023c7a-b0a2-437d-8ab3-d23085c2dbfd",
   "metadata": {},
   "outputs": [
    {
     "data": {
      "text/plain": [
       "0"
      ]
     },
     "execution_count": 132,
     "metadata": {},
     "output_type": "execute_result"
    }
   ],
   "source": [
    "np.array([\"=\" in k for k in cat_dict.keys()]).sum()"
   ]
  },
  {
   "cell_type": "code",
   "execution_count": 151,
   "id": "07b32e32-4af5-4555-be4b-12109256ea2a",
   "metadata": {},
   "outputs": [],
   "source": [
    "df_cat = pd.DataFrame.from_dict(cat_dict, orient='index', columns=[\"count\"]).reset_index().rename(columns={\"index\": \"categories\"})"
   ]
  },
  {
   "cell_type": "code",
   "execution_count": 152,
   "id": "eef2b2b0-43c1-4d76-9446-27e7b8e850d2",
   "metadata": {},
   "outputs": [],
   "source": [
    "df_cat.sort_values(by=\"count\", ascending=False, inplace=True)"
   ]
  },
  {
   "cell_type": "code",
   "execution_count": 153,
   "id": "321f11e8-5184-4b26-a82b-b20828bfb1dd",
   "metadata": {},
   "outputs": [
    {
     "data": {
      "text/plain": [
       "<AxesSubplot:xlabel='count', ylabel='Count'>"
      ]
     },
     "execution_count": 153,
     "metadata": {},
     "output_type": "execute_result"
    },
    {
     "data": {
      "image/png": "[encoded data removed]",
      "text/plain": [
       "<Figure size 432x288 with 1 Axes>"
      ]
     },
     "metadata": {
      "needs_background": "light"
     },
     "output_type": "display_data"
    }
   ],
   "source": [
    "sns.histplot(data=df_cat, x=\"count\")"
   ]
  },
  {
   "cell_type": "code",
   "execution_count": 156,
   "id": "8e184a1e-bc58-45ba-8327-ebf79deb5ee5",
   "metadata": {},
   "outputs": [
    {
     "data": {
      "text/html": [
       "<div>\n",
       "<style scoped>\n",
       "    .dataframe tbody tr th:only-of-type {\n",
       "        vertical-align: middle;\n",
       "    }\n",
       "\n",
       "    .dataframe tbody tr th {\n",
       "        vertical-align: top;\n",
       "    }\n",
       "\n",
       "    .dataframe thead th {\n",
       "        text-align: right;\n",
       "    }\n",
       "</style>\n",
       "<table border=\"1\" class=\"dataframe\">\n",
       "  <thead>\n",
       "    <tr style=\"text-align: right;\">\n",
       "      <th></th>\n",
       "      <th>categories</th>\n",
       "      <th>count</th>\n",
       "    </tr>\n",
       "  </thead>\n",
       "  <tbody>\n",
       "    <tr>\n",
       "      <th>159</th>\n",
       "      <td>Restaurants</td>\n",
       "      <td>52268</td>\n",
       "    </tr>\n",
       "    <tr>\n",
       "      <th>808</th>\n",
       "      <td>Food</td>\n",
       "      <td>27781</td>\n",
       "    </tr>\n",
       "    <tr>\n",
       "      <th>36</th>\n",
       "      <td>Shopping</td>\n",
       "      <td>24395</td>\n",
       "    </tr>\n",
       "    <tr>\n",
       "      <th>88</th>\n",
       "      <td>Home Services</td>\n",
       "      <td>14356</td>\n",
       "    </tr>\n",
       "    <tr>\n",
       "      <th>1206</th>\n",
       "      <td>Beauty &amp; Spas</td>\n",
       "      <td>14292</td>\n",
       "    </tr>\n",
       "    <tr>\n",
       "      <th>...</th>\n",
       "      <td>...</td>\n",
       "      <td>...</td>\n",
       "    </tr>\n",
       "    <tr>\n",
       "      <th>389</th>\n",
       "      <td>Mohels</td>\n",
       "      <td>1</td>\n",
       "    </tr>\n",
       "    <tr>\n",
       "      <th>837</th>\n",
       "      <td>Natural Gas Suppliers</td>\n",
       "      <td>1</td>\n",
       "    </tr>\n",
       "    <tr>\n",
       "      <th>844</th>\n",
       "      <td>Parklets</td>\n",
       "      <td>1</td>\n",
       "    </tr>\n",
       "    <tr>\n",
       "      <th>1154</th>\n",
       "      <td>Donburi</td>\n",
       "      <td>1</td>\n",
       "    </tr>\n",
       "    <tr>\n",
       "      <th>244</th>\n",
       "      <td>Karaoke Rental</td>\n",
       "      <td>1</td>\n",
       "    </tr>\n",
       "  </tbody>\n",
       "</table>\n",
       "<p>1311 rows × 2 columns</p>\n",
       "</div>"
      ],
      "text/plain": [
       "                 categories  count\n",
       "159             Restaurants  52268\n",
       "808                    Food  27781\n",
       "36                 Shopping  24395\n",
       "88            Home Services  14356\n",
       "1206          Beauty & Spas  14292\n",
       "...                     ...    ...\n",
       "389                  Mohels      1\n",
       "837   Natural Gas Suppliers      1\n",
       "844                Parklets      1\n",
       "1154                Donburi      1\n",
       "244          Karaoke Rental      1\n",
       "\n",
       "[1311 rows x 2 columns]"
      ]
     },
     "execution_count": 156,
     "metadata": {},
     "output_type": "execute_result"
    }
   ],
   "source": [
    "df_cat"
   ]
  },
  {
   "cell_type": "code",
   "execution_count": 159,
   "id": "d97b1939-83e4-44ac-b767-9aa390a49d0f",
   "metadata": {},
   "outputs": [
    {
     "data": {
      "text/html": [
       "\n",
       "<div id=\"altair-viz-2615261ab29a4a7e9e76dfb28faa859c\"></div>\n",
       "<script type=\"text/javascript\">\n",
       "  var VEGA_DEBUG = (typeof VEGA_DEBUG == \"undefined\") ? {} : VEGA_DEBUG;\n",
       "  (function(spec, embedOpt){\n",
       "    let outputDiv = document.currentScript.previousElementSibling;\n",
       "    if (outputDiv.id !== \"altair-viz-2615261ab29a4a7e9e76dfb28faa859c\") {\n",
       "      outputDiv = document.getElementById(\"altair-viz-2615261ab29a4a7e9e76dfb28faa859c\");\n",
       "    }\n",
       "    const paths = {\n",
       "      \"vega\": \"https://cdn.jsdelivr.net/npm//vega@5?noext\",\n",
       "      \"vega-lib\": \"https://cdn.jsdelivr.net/npm//vega-lib?noext\",\n",
       "      \"vega-lite\": \"https://cdn.jsdelivr.net/npm//vega-lite@4.17.0?noext\",\n",
       "      \"vega-embed\": \"https://cdn.jsdelivr.net/npm//vega-embed@6?noext\",\n",
       "    };\n",
       "\n",
       "    function maybeLoadScript(lib, version) {\n",
       "      var key = `${lib.replace(\"-\", \"\")}_version`;\n",
       "      return (VEGA_DEBUG[key] == version) ?\n",
       "        Promise.resolve(paths[lib]) :\n",
       "        new Promise(function(resolve, reject) {\n",
       "          var s = document.createElement('script');\n",
       "          document.getElementsByTagName(\"head\")[0].appendChild(s);\n",
       "          s.async = true;\n",
       "          s.onload = () => {\n",
       "            VEGA_DEBUG[key] = version;\n",
       "            return resolve(paths[lib]);\n",
       "          };\n",
       "          s.onerror = () => reject(`Error loading script: ${paths[lib]}`);\n",
       "          s.src = paths[lib];\n",
       "        });\n",
       "    }\n",
       "\n",
       "    function showError(err) {\n",
       "      outputDiv.innerHTML = `<div class=\"error\" style=\"color:red;\">${err}</div>`;\n",
       "      throw err;\n",
       "    }\n",
       "\n",
       "    function displayChart(vegaEmbed) {\n",
       "      vegaEmbed(outputDiv, spec, embedOpt)\n",
       "        .catch(err => showError(`Javascript Error: ${err.message}<br>This usually means there's a typo in your chart specification. See the javascript console for the full traceback.`));\n",
       "    }\n",
       "\n",
       "    if(typeof define === \"function\" && define.amd) {\n",
       "      requirejs.config({paths});\n",
       "      require([\"vega-embed\"], displayChart, err => showError(`Error loading script: ${err.message}`));\n",
       "    } else {\n",
       "      maybeLoadScript(\"vega\", \"5\")\n",
       "        .then(() => maybeLoadScript(\"vega-lite\", \"4.17.0\"))\n",
       "        .then(() => maybeLoadScript(\"vega-embed\", \"6\"))\n",
       "        .catch(showError)\n",
       "        .then(() => displayChart(vegaEmbed));\n",
       "    }\n",
       "  })({\"config\": {\"view\": {\"continuousWidth\": 400, \"continuousHeight\": 300}}, \"data\": {\"name\": \"data-ee10d892b88d56fc4428507a44ddc484\"}, \"mark\": \"bar\", \"encoding\": {\"x\": {\"field\": \"count\", \"type\": \"quantitative\"}, \"y\": {\"field\": \"categories\", \"sort\": \"-x\", \"type\": \"nominal\"}}, \"title\": \"Top 25 Categories\", \"$schema\": \"https://vega.github.io/schema/vega-lite/v4.17.0.json\", \"datasets\": {\"data-ee10d892b88d56fc4428507a44ddc484\": [{\"categories\": \"Restaurants\", \"count\": 52268}, {\"categories\": \"Food\", \"count\": 27781}, {\"categories\": \"Shopping\", \"count\": 24395}, {\"categories\": \"Home Services\", \"count\": 14356}, {\"categories\": \"Beauty & Spas\", \"count\": 14292}, {\"categories\": \"Nightlife\", \"count\": 12281}, {\"categories\": \"Health & Medical\", \"count\": 11890}, {\"categories\": \"Local Services\", \"count\": 11198}, {\"categories\": \"Bars\", \"count\": 11065}, {\"categories\": \"Automotive\", \"count\": 10773}, {\"categories\": \"Event Planning & Services\", \"count\": 9895}, {\"categories\": \"Sandwiches\", \"count\": 8366}, {\"categories\": \"American (Traditional)\", \"count\": 8139}, {\"categories\": \"Active Life\", \"count\": 7687}, {\"categories\": \"Pizza\", \"count\": 7093}, {\"categories\": \"Coffee & Tea\", \"count\": 6703}, {\"categories\": \"Fast Food\", \"count\": 6472}, {\"categories\": \"Breakfast & Brunch\", \"count\": 6239}, {\"categories\": \"American (New)\", \"count\": 6097}, {\"categories\": \"Hotels & Travel\", \"count\": 5857}, {\"categories\": \"Home & Garden\", \"count\": 5799}, {\"categories\": \"Fashion\", \"count\": 5739}, {\"categories\": \"Burgers\", \"count\": 5636}, {\"categories\": \"Arts & Entertainment\", \"count\": 5434}, {\"categories\": \"Auto Repair\", \"count\": 5433}, {\"categories\": \"Hair Salons\", \"count\": 5046}]}}, {\"mode\": \"vega-lite\"});\n",
       "</script>"
      ],
      "text/plain": [
       "alt.Chart(...)"
      ]
     },
     "execution_count": 159,
     "metadata": {},
     "output_type": "execute_result"
    }
   ],
   "source": [
    "alt.Chart(df_cat[:26], title=\"Top 25 Categories\").mark_bar().encode(\n",
    "    x=\"count\",\n",
    "    y=alt.Y(\"categories\", sort=\"-x\")\n",
    ")"
   ]
  },
  {
   "cell_type": "code",
   "execution_count": 163,
   "id": "36e26681-894c-4722-9f58-e7856fa569df",
   "metadata": {},
   "outputs": [
    {
     "data": {
      "text/plain": [
       "0.3476514173972038"
      ]
     },
     "execution_count": 163,
     "metadata": {},
     "output_type": "execute_result"
    }
   ],
   "source": [
    "52268/150346"
   ]
  },
  {
   "cell_type": "markdown",
   "id": "f173dc61-5ce6-4f7b-99de-107738cd6958",
   "metadata": {},
   "source": [
    "Check-in distribution"
   ]
  },
  {
   "cell_type": "markdown",
   "id": "2a3f3744-e451-448f-b8f8-e1c1a62bade8",
   "metadata": {},
   "source": [
    "Number of reviews vs. time"
   ]
  },
  {
   "cell_type": "markdown",
   "id": "e520070b-a148-4c6d-81ba-09b4d3a5f903",
   "metadata": {},
   "source": [
    "Number of check-in vs. time"
   ]
  },
  {
   "cell_type": "markdown",
   "id": "69505de7-869d-4d92-bf57-9c980ddd7c5f",
   "metadata": {},
   "source": [
    "Number of tips vs. time"
   ]
  },
  {
   "cell_type": "code",
   "execution_count": 10,
   "id": "543ee469-f8e4-4bfd-b2b8-82cf718bcab1",
   "metadata": {},
   "outputs": [],
   "source": [
    "data = pd.DataFrame({'a': list('CCCDDDEEE'),\n",
    "                     'b': [2, 7, 4, 1, 2, 6, 8, 4, 7]})\n",
    "chart = alt.Chart(data)"
   ]
  },
  {
   "cell_type": "code",
   "execution_count": 25,
   "id": "02d9b0fc-ef75-4253-b4ad-2bc58f35c6c4",
   "metadata": {},
   "outputs": [
    {
     "data": {
      "text/html": [
       "\n",
       "<div id=\"altair-viz-6c6f89e752b941b1bd9c29c9c3cbd817\"></div>\n",
       "<script type=\"text/javascript\">\n",
       "  var VEGA_DEBUG = (typeof VEGA_DEBUG == \"undefined\") ? {} : VEGA_DEBUG;\n",
       "  (function(spec, embedOpt){\n",
       "    let outputDiv = document.currentScript.previousElementSibling;\n",
       "    if (outputDiv.id !== \"altair-viz-6c6f89e752b941b1bd9c29c9c3cbd817\") {\n",
       "      outputDiv = document.getElementById(\"altair-viz-6c6f89e752b941b1bd9c29c9c3cbd817\");\n",
       "    }\n",
       "    const paths = {\n",
       "      \"vega\": \"https://cdn.jsdelivr.net/npm//vega@5?noext\",\n",
       "      \"vega-lib\": \"https://cdn.jsdelivr.net/npm//vega-lib?noext\",\n",
       "      \"vega-lite\": \"https://cdn.jsdelivr.net/npm//vega-lite@4.17.0?noext\",\n",
       "      \"vega-embed\": \"https://cdn.jsdelivr.net/npm//vega-embed@6?noext\",\n",
       "    };\n",
       "\n",
       "    function maybeLoadScript(lib, version) {\n",
       "      var key = `${lib.replace(\"-\", \"\")}_version`;\n",
       "      return (VEGA_DEBUG[key] == version) ?\n",
       "        Promise.resolve(paths[lib]) :\n",
       "        new Promise(function(resolve, reject) {\n",
       "          var s = document.createElement('script');\n",
       "          document.getElementsByTagName(\"head\")[0].appendChild(s);\n",
       "          s.async = true;\n",
       "          s.onload = () => {\n",
       "            VEGA_DEBUG[key] = version;\n",
       "            return resolve(paths[lib]);\n",
       "          };\n",
       "          s.onerror = () => reject(`Error loading script: ${paths[lib]}`);\n",
       "          s.src = paths[lib];\n",
       "        });\n",
       "    }\n",
       "\n",
       "    function showError(err) {\n",
       "      outputDiv.innerHTML = `<div class=\"error\" style=\"color:red;\">${err}</div>`;\n",
       "      throw err;\n",
       "    }\n",
       "\n",
       "    function displayChart(vegaEmbed) {\n",
       "      vegaEmbed(outputDiv, spec, embedOpt)\n",
       "        .catch(err => showError(`Javascript Error: ${err.message}<br>This usually means there's a typo in your chart specification. See the javascript console for the full traceback.`));\n",
       "    }\n",
       "\n",
       "    if(typeof define === \"function\" && define.amd) {\n",
       "      requirejs.config({paths});\n",
       "      require([\"vega-embed\"], displayChart, err => showError(`Error loading script: ${err.message}`));\n",
       "    } else {\n",
       "      maybeLoadScript(\"vega\", \"5\")\n",
       "        .then(() => maybeLoadScript(\"vega-lite\", \"4.17.0\"))\n",
       "        .then(() => maybeLoadScript(\"vega-embed\", \"6\"))\n",
       "        .catch(showError)\n",
       "        .then(() => displayChart(vegaEmbed));\n",
       "    }\n",
       "  })({\"config\": {\"view\": {\"continuousWidth\": 400, \"continuousHeight\": 300}}, \"data\": {\"name\": \"data-347f1284ea3247c0f55cb966abbdd2d8\"}, \"mark\": \"bar\", \"encoding\": {\"x\": {\"field\": \"a\", \"title\": \"category\", \"type\": \"nominal\"}, \"y\": {\"aggregate\": \"average\", \"field\": \"b\", \"type\": \"quantitative\"}}, \"$schema\": \"https://vega.github.io/schema/vega-lite/v4.17.0.json\", \"datasets\": {\"data-347f1284ea3247c0f55cb966abbdd2d8\": [{\"a\": \"C\", \"b\": 2}, {\"a\": \"C\", \"b\": 7}, {\"a\": \"C\", \"b\": 4}, {\"a\": \"D\", \"b\": 1}, {\"a\": \"D\", \"b\": 2}, {\"a\": \"D\", \"b\": 6}, {\"a\": \"E\", \"b\": 8}, {\"a\": \"E\", \"b\": 4}, {\"a\": \"E\", \"b\": 7}]}}, {\"mode\": \"vega-lite\"});\n",
       "</script>"
      ],
      "text/plain": [
       "alt.Chart(...)"
      ]
     },
     "execution_count": 25,
     "metadata": {},
     "output_type": "execute_result"
    }
   ],
   "source": [
    "chart = chart.mark_bar().encode(\n",
    "    x=alt.X('a', title='category'),\n",
    "    y='average(b)'\n",
    ")\n",
    "chart"
   ]
  },
  {
   "cell_type": "code",
   "execution_count": 6,
   "id": "8a0b7c33-70f0-4984-8105-3c17801c5c19",
   "metadata": {},
   "outputs": [],
   "source": [
    "review_sample = df_review[[\"user_id\", \"business_id\", \"review_id\"]].sample(1000)"
   ]
  },
  {
   "cell_type": "code",
   "execution_count": 9,
   "id": "781a4151-6a31-40ee-9815-d6c5a2cea38b",
   "metadata": {},
   "outputs": [
    {
     "data": {
      "text/html": [
       "<div>\n",
       "<style scoped>\n",
       "    .dataframe tbody tr th:only-of-type {\n",
       "        vertical-align: middle;\n",
       "    }\n",
       "\n",
       "    .dataframe tbody tr th {\n",
       "        vertical-align: top;\n",
       "    }\n",
       "\n",
       "    .dataframe thead th {\n",
       "        text-align: right;\n",
       "    }\n",
       "</style>\n",
       "<table border=\"1\" class=\"dataframe\">\n",
       "  <thead>\n",
       "    <tr style=\"text-align: right;\">\n",
       "      <th></th>\n",
       "      <th>user_id</th>\n",
       "      <th>business_id</th>\n",
       "      <th>review_id</th>\n",
       "    </tr>\n",
       "  </thead>\n",
       "  <tbody>\n",
       "    <tr>\n",
       "      <th>5607622</th>\n",
       "      <td>R7oqm48wW0h0n2veJOdJlw</td>\n",
       "      <td>bjPUhanWoinHi2kywvVzBA</td>\n",
       "      <td>pGF8NGmMN76vXAknT-dLjw</td>\n",
       "    </tr>\n",
       "    <tr>\n",
       "      <th>5765236</th>\n",
       "      <td>BKSTPFJt5z7aAxMG234yfg</td>\n",
       "      <td>Y2HPRyCYydIIJ__buVEUjg</td>\n",
       "      <td>LAgg0JWg8blJ2KaM0aPHwg</td>\n",
       "    </tr>\n",
       "    <tr>\n",
       "      <th>5686324</th>\n",
       "      <td>Cc_PQdU6sXiJSFxi3kBW_g</td>\n",
       "      <td>DZYSb9amfB3EAh1IdwtbEA</td>\n",
       "      <td>Fm2FEtzk9qd9-cC30t6b5w</td>\n",
       "    </tr>\n",
       "    <tr>\n",
       "      <th>474745</th>\n",
       "      <td>g1LkJdSXJJba3X-NK6Dm4A</td>\n",
       "      <td>SsRsSSifdOtKAQDGST_m_g</td>\n",
       "      <td>D3XFfiMxuolDmyXnY4i6Tw</td>\n",
       "    </tr>\n",
       "    <tr>\n",
       "      <th>6614204</th>\n",
       "      <td>RkCGwQ7FnZKZCAphOOoc5w</td>\n",
       "      <td>yoQBK3OUDqWEFoUDE5lM4w</td>\n",
       "      <td>gP72UUY14mqyZqYYLv6jnw</td>\n",
       "    </tr>\n",
       "    <tr>\n",
       "      <th>...</th>\n",
       "      <td>...</td>\n",
       "      <td>...</td>\n",
       "      <td>...</td>\n",
       "    </tr>\n",
       "    <tr>\n",
       "      <th>4942224</th>\n",
       "      <td>jEG8bTa87OfJZaf19nR9Iw</td>\n",
       "      <td>0qcKKhE731dpH7znxJyu6g</td>\n",
       "      <td>QFOnTwgt6Iu8l4iXn-ck2g</td>\n",
       "    </tr>\n",
       "    <tr>\n",
       "      <th>6286465</th>\n",
       "      <td>THJo4sOXgM4jxA9UUocJag</td>\n",
       "      <td>CXpASI9UCrtk-Zo57fdi7Q</td>\n",
       "      <td>k9goxljbPhhPHOgERN4vgg</td>\n",
       "    </tr>\n",
       "    <tr>\n",
       "      <th>2221693</th>\n",
       "      <td>zfjPoxCzfVlYD4H92roC2g</td>\n",
       "      <td>pvEMxB2cF8YWKzGprzUxVw</td>\n",
       "      <td>3ciVEruPfiZXnbMxF4MKaA</td>\n",
       "    </tr>\n",
       "    <tr>\n",
       "      <th>826121</th>\n",
       "      <td>dmzxorUVQ6hZdE_DiQOftA</td>\n",
       "      <td>xXFSEWRO0012YBbdoJ1kRw</td>\n",
       "      <td>JlPnK5l9thCoblM8xX_Bsw</td>\n",
       "    </tr>\n",
       "    <tr>\n",
       "      <th>3303222</th>\n",
       "      <td>XJsVEc-ASmcugdoZoh3wyA</td>\n",
       "      <td>ZwCvURKz4l5OBp5trIR02A</td>\n",
       "      <td>8DpDvE83GsY-M_NjKAApHQ</td>\n",
       "    </tr>\n",
       "  </tbody>\n",
       "</table>\n",
       "<p>1000 rows × 3 columns</p>\n",
       "</div>"
      ],
      "text/plain": [
       "                        user_id             business_id  \\\n",
       "5607622  R7oqm48wW0h0n2veJOdJlw  bjPUhanWoinHi2kywvVzBA   \n",
       "5765236  BKSTPFJt5z7aAxMG234yfg  Y2HPRyCYydIIJ__buVEUjg   \n",
       "5686324  Cc_PQdU6sXiJSFxi3kBW_g  DZYSb9amfB3EAh1IdwtbEA   \n",
       "474745   g1LkJdSXJJba3X-NK6Dm4A  SsRsSSifdOtKAQDGST_m_g   \n",
       "6614204  RkCGwQ7FnZKZCAphOOoc5w  yoQBK3OUDqWEFoUDE5lM4w   \n",
       "...                         ...                     ...   \n",
       "4942224  jEG8bTa87OfJZaf19nR9Iw  0qcKKhE731dpH7znxJyu6g   \n",
       "6286465  THJo4sOXgM4jxA9UUocJag  CXpASI9UCrtk-Zo57fdi7Q   \n",
       "2221693  zfjPoxCzfVlYD4H92roC2g  pvEMxB2cF8YWKzGprzUxVw   \n",
       "826121   dmzxorUVQ6hZdE_DiQOftA  xXFSEWRO0012YBbdoJ1kRw   \n",
       "3303222  XJsVEc-ASmcugdoZoh3wyA  ZwCvURKz4l5OBp5trIR02A   \n",
       "\n",
       "                      review_id  \n",
       "5607622  pGF8NGmMN76vXAknT-dLjw  \n",
       "5765236  LAgg0JWg8blJ2KaM0aPHwg  \n",
       "5686324  Fm2FEtzk9qd9-cC30t6b5w  \n",
       "474745   D3XFfiMxuolDmyXnY4i6Tw  \n",
       "6614204  gP72UUY14mqyZqYYLv6jnw  \n",
       "...                         ...  \n",
       "4942224  QFOnTwgt6Iu8l4iXn-ck2g  \n",
       "6286465  k9goxljbPhhPHOgERN4vgg  \n",
       "2221693  3ciVEruPfiZXnbMxF4MKaA  \n",
       "826121   JlPnK5l9thCoblM8xX_Bsw  \n",
       "3303222  8DpDvE83GsY-M_NjKAApHQ  \n",
       "\n",
       "[1000 rows x 3 columns]"
      ]
     },
     "execution_count": 9,
     "metadata": {},
     "output_type": "execute_result"
    }
   ],
   "source": [
    "review_sample"
   ]
  },
  {
   "cell_type": "code",
   "execution_count": 12,
   "id": "af3dc04a-10de-4c6c-afbb-0447f9e9b00f",
   "metadata": {},
   "outputs": [
    {
     "data": {
      "text/html": [
       "<div>\n",
       "<style scoped>\n",
       "    .dataframe tbody tr th:only-of-type {\n",
       "        vertical-align: middle;\n",
       "    }\n",
       "\n",
       "    .dataframe tbody tr th {\n",
       "        vertical-align: top;\n",
       "    }\n",
       "\n",
       "    .dataframe thead th {\n",
       "        text-align: right;\n",
       "    }\n",
       "</style>\n",
       "<table border=\"1\" class=\"dataframe\">\n",
       "  <thead>\n",
       "    <tr style=\"text-align: right;\">\n",
       "      <th></th>\n",
       "      <th>user_id</th>\n",
       "      <th>business_id</th>\n",
       "    </tr>\n",
       "  </thead>\n",
       "  <tbody>\n",
       "    <tr>\n",
       "      <th>0</th>\n",
       "      <td>-11CHis1MMgHAuDUXgmBKw</td>\n",
       "      <td>ReV4Q3rEJ8neicQPc6pC0w</td>\n",
       "    </tr>\n",
       "    <tr>\n",
       "      <th>1</th>\n",
       "      <td>-2S46n2II6xBLolCr7wDaQ</td>\n",
       "      <td>vC2vhaJmX1RpExoHcPOb_A</td>\n",
       "    </tr>\n",
       "    <tr>\n",
       "      <th>2</th>\n",
       "      <td>-2cKJFFNJ9XVyWBt62mWvA</td>\n",
       "      <td>49Gyz-LD9MxTh1yzbYiOhw</td>\n",
       "    </tr>\n",
       "    <tr>\n",
       "      <th>3</th>\n",
       "      <td>-EGfUeB68wp_cCv3wTn5iw</td>\n",
       "      <td>tTAb4vrTgcmm0eLC8qy3qw</td>\n",
       "    </tr>\n",
       "    <tr>\n",
       "      <th>4</th>\n",
       "      <td>-LRiiyEPj4hm04PppERpXQ</td>\n",
       "      <td>4_W5pstoN1166TGjjPOrMg</td>\n",
       "    </tr>\n",
       "    <tr>\n",
       "      <th>...</th>\n",
       "      <td>...</td>\n",
       "      <td>...</td>\n",
       "    </tr>\n",
       "    <tr>\n",
       "      <th>992</th>\n",
       "      <td>zl07DAcczbKn-aCgDMXD7Q</td>\n",
       "      <td>SzSLKafTPOQzp3pfzPjEVg</td>\n",
       "    </tr>\n",
       "    <tr>\n",
       "      <th>993</th>\n",
       "      <td>zo9vfjCiQmhhwXajP5ZQMw</td>\n",
       "      <td>0Ig_UBuJZctyPw-DajuyiA</td>\n",
       "    </tr>\n",
       "    <tr>\n",
       "      <th>994</th>\n",
       "      <td>zuUshB6U2V9NB0KfRgWjjA</td>\n",
       "      <td>1jeaxiZOisgDMxHR2K088g</td>\n",
       "    </tr>\n",
       "    <tr>\n",
       "      <th>995</th>\n",
       "      <td>zx_xYrExwLca2iuqtyritw</td>\n",
       "      <td>of-GVqY0G_UDHXT9Xg_ADQ</td>\n",
       "    </tr>\n",
       "    <tr>\n",
       "      <th>996</th>\n",
       "      <td>zySfwbIHPNhLR8-JiqGdWA</td>\n",
       "      <td>JC1p7xrsv5HhWPfh4fpt2g</td>\n",
       "    </tr>\n",
       "  </tbody>\n",
       "</table>\n",
       "<p>997 rows × 2 columns</p>\n",
       "</div>"
      ],
      "text/plain": [
       "                    user_id             business_id\n",
       "0    -11CHis1MMgHAuDUXgmBKw  ReV4Q3rEJ8neicQPc6pC0w\n",
       "1    -2S46n2II6xBLolCr7wDaQ  vC2vhaJmX1RpExoHcPOb_A\n",
       "2    -2cKJFFNJ9XVyWBt62mWvA  49Gyz-LD9MxTh1yzbYiOhw\n",
       "3    -EGfUeB68wp_cCv3wTn5iw  tTAb4vrTgcmm0eLC8qy3qw\n",
       "4    -LRiiyEPj4hm04PppERpXQ  4_W5pstoN1166TGjjPOrMg\n",
       "..                      ...                     ...\n",
       "992  zl07DAcczbKn-aCgDMXD7Q  SzSLKafTPOQzp3pfzPjEVg\n",
       "993  zo9vfjCiQmhhwXajP5ZQMw  0Ig_UBuJZctyPw-DajuyiA\n",
       "994  zuUshB6U2V9NB0KfRgWjjA  1jeaxiZOisgDMxHR2K088g\n",
       "995  zx_xYrExwLca2iuqtyritw  of-GVqY0G_UDHXT9Xg_ADQ\n",
       "996  zySfwbIHPNhLR8-JiqGdWA  JC1p7xrsv5HhWPfh4fpt2g\n",
       "\n",
       "[997 rows x 2 columns]"
      ]
     },
     "execution_count": 12,
     "metadata": {},
     "output_type": "execute_result"
    }
   ],
   "source": [
    "review_sample.groupby(by=\"user_id\")[\"business_id\"].apply(','.join).reset_index()"
   ]
  },
  {
   "cell_type": "code",
   "execution_count": 17,
   "id": "7e01d75d-28ae-4b4d-bc64-b55f7975dbc9",
   "metadata": {},
   "outputs": [
    {
     "name": "stdout",
     "output_type": "stream",
     "text": [
      "5min 16s ± 8.76 s per loop (mean ± std. dev. of 7 runs, 1 loop each)\n"
     ]
    }
   ],
   "source": [
    "%%timeit\n",
    "user_review = df_review[[\"user_id\", \"business_id\", \"review_id\"]].groupby(by=\"user_id\")[\"business_id\"].apply(','.join).reset_index()"
   ]
  },
  {
   "cell_type": "code",
   "execution_count": 19,
   "id": "fbcb2846-587c-46e2-9846-8253e65d0bb8",
   "metadata": {},
   "outputs": [
    {
     "ename": "NameError",
     "evalue": "name 'user_review' is not defined",
     "output_type": "error",
     "traceback": [
      "\u001b[0;31m---------------------------------------------------------------------------\u001b[0m",
      "\u001b[0;31mNameError\u001b[0m                                 Traceback (most recent call last)",
      "Input \u001b[0;32mIn [19]\u001b[0m, in \u001b[0;36m<module>\u001b[0;34m\u001b[0m\n\u001b[0;32m----> 1\u001b[0m \u001b[43muser_review\u001b[49m\n",
      "\u001b[0;31mNameError\u001b[0m: name 'user_review' is not defined"
     ]
    }
   ],
   "source": [
    "user_review"
   ]
  }
 ],
 "metadata": {
  "kernelspec": {
   "display_name": "Python 3 (ipykernel)",
   "language": "python",
   "name": "python3"
  },
  "language_info": {
   "codemirror_mode": {
    "name": "ipython",
    "version": 3
   },
   "file_extension": ".py",
   "mimetype": "text/x-python",
   "name": "python",
   "nbconvert_exporter": "python",
   "pygments_lexer": "ipython3",
   "version": "3.8.12"
  }
 },
 "nbformat": 4,
 "nbformat_minor": 5
}
