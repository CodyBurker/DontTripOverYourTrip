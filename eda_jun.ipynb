{
 "cells": [
  {
   "cell_type": "code",
   "execution_count": 1,
   "id": "185e89d8-884e-49b9-b33d-bad1110904dd",
   "metadata": {},
   "outputs": [],
   "source": [
    "import pandas as pd\n",
    "import numpy as np\n",
    "import seaborn as sns"
   ]
  },
  {
   "cell_type": "code",
   "execution_count": 2,
   "id": "dca874ce-4434-4df9-862c-534e75a6c322",
   "metadata": {},
   "outputs": [],
   "source": [
    "df_user = pd.read_json('yelp_dataset/yelp_academic_dataset_user.json', lines=True)\n",
    "df_tip = pd.read_json('yelp_dataset/yelp_academic_dataset_tip.json', lines=True)\n",
    "df_review = pd.read_json('yelp_dataset/yelp_academic_dataset_review.json', lines=True)\n",
    "df_checkin = pd.read_json('yelp_dataset/yelp_academic_dataset_checkin.json', lines=True)\n",
    "df_business = pd.read_json('yelp_dataset/yelp_academic_dataset_business.json', lines=True)\n",
    "df_photos = pd.read_json('yelp_photos/photos.json', lines=True)"
   ]
  },
  {
   "cell_type": "code",
   "execution_count": 3,
   "id": "c028dc4a-bf01-4a80-ab39-1c22999fd391",
   "metadata": {},
   "outputs": [
    {
     "data": {
      "text/html": [
       "<div>\n",
       "<style scoped>\n",
       "    .dataframe tbody tr th:only-of-type {\n",
       "        vertical-align: middle;\n",
       "    }\n",
       "\n",
       "    .dataframe tbody tr th {\n",
       "        vertical-align: top;\n",
       "    }\n",
       "\n",
       "    .dataframe thead th {\n",
       "        text-align: right;\n",
       "    }\n",
       "</style>\n",
       "<table border=\"1\" class=\"dataframe\">\n",
       "  <thead>\n",
       "    <tr style=\"text-align: right;\">\n",
       "      <th></th>\n",
       "      <th>user_id</th>\n",
       "      <th>name</th>\n",
       "      <th>review_count</th>\n",
       "      <th>yelping_since</th>\n",
       "      <th>useful</th>\n",
       "      <th>funny</th>\n",
       "      <th>cool</th>\n",
       "      <th>elite</th>\n",
       "      <th>friends</th>\n",
       "      <th>fans</th>\n",
       "      <th>...</th>\n",
       "      <th>compliment_more</th>\n",
       "      <th>compliment_profile</th>\n",
       "      <th>compliment_cute</th>\n",
       "      <th>compliment_list</th>\n",
       "      <th>compliment_note</th>\n",
       "      <th>compliment_plain</th>\n",
       "      <th>compliment_cool</th>\n",
       "      <th>compliment_funny</th>\n",
       "      <th>compliment_writer</th>\n",
       "      <th>compliment_photos</th>\n",
       "    </tr>\n",
       "  </thead>\n",
       "  <tbody>\n",
       "    <tr>\n",
       "      <th>0</th>\n",
       "      <td>qVc8ODYU5SZjKXVBgXdI7w</td>\n",
       "      <td>Walker</td>\n",
       "      <td>585</td>\n",
       "      <td>2007-01-25 16:47:26</td>\n",
       "      <td>7217</td>\n",
       "      <td>1259</td>\n",
       "      <td>5994</td>\n",
       "      <td>2007</td>\n",
       "      <td>NSCy54eWehBJyZdG2iE84w, pe42u7DcCH2QmI81NX-8qA...</td>\n",
       "      <td>267</td>\n",
       "      <td>...</td>\n",
       "      <td>65</td>\n",
       "      <td>55</td>\n",
       "      <td>56</td>\n",
       "      <td>18</td>\n",
       "      <td>232</td>\n",
       "      <td>844</td>\n",
       "      <td>467</td>\n",
       "      <td>467</td>\n",
       "      <td>239</td>\n",
       "      <td>180</td>\n",
       "    </tr>\n",
       "    <tr>\n",
       "      <th>1</th>\n",
       "      <td>j14WgRoU_-2ZE1aw1dXrJg</td>\n",
       "      <td>Daniel</td>\n",
       "      <td>4333</td>\n",
       "      <td>2009-01-25 04:35:42</td>\n",
       "      <td>43091</td>\n",
       "      <td>13066</td>\n",
       "      <td>27281</td>\n",
       "      <td>2009,2010,2011,2012,2013,2014,2015,2016,2017,2...</td>\n",
       "      <td>ueRPE0CX75ePGMqOFVj6IQ, 52oH4DrRvzzl8wh5UXyU0A...</td>\n",
       "      <td>3138</td>\n",
       "      <td>...</td>\n",
       "      <td>264</td>\n",
       "      <td>184</td>\n",
       "      <td>157</td>\n",
       "      <td>251</td>\n",
       "      <td>1847</td>\n",
       "      <td>7054</td>\n",
       "      <td>3131</td>\n",
       "      <td>3131</td>\n",
       "      <td>1521</td>\n",
       "      <td>1946</td>\n",
       "    </tr>\n",
       "    <tr>\n",
       "      <th>2</th>\n",
       "      <td>2WnXYQFK0hXEoTxPtV2zvg</td>\n",
       "      <td>Steph</td>\n",
       "      <td>665</td>\n",
       "      <td>2008-07-25 10:41:00</td>\n",
       "      <td>2086</td>\n",
       "      <td>1010</td>\n",
       "      <td>1003</td>\n",
       "      <td>2009,2010,2011,2012,2013</td>\n",
       "      <td>LuO3Bn4f3rlhyHIaNfTlnA, j9B4XdHUhDfTKVecyWQgyA...</td>\n",
       "      <td>52</td>\n",
       "      <td>...</td>\n",
       "      <td>13</td>\n",
       "      <td>10</td>\n",
       "      <td>17</td>\n",
       "      <td>3</td>\n",
       "      <td>66</td>\n",
       "      <td>96</td>\n",
       "      <td>119</td>\n",
       "      <td>119</td>\n",
       "      <td>35</td>\n",
       "      <td>18</td>\n",
       "    </tr>\n",
       "  </tbody>\n",
       "</table>\n",
       "<p>3 rows × 22 columns</p>\n",
       "</div>"
      ],
      "text/plain": [
       "                  user_id    name  review_count        yelping_since  useful  \\\n",
       "0  qVc8ODYU5SZjKXVBgXdI7w  Walker           585  2007-01-25 16:47:26    7217   \n",
       "1  j14WgRoU_-2ZE1aw1dXrJg  Daniel          4333  2009-01-25 04:35:42   43091   \n",
       "2  2WnXYQFK0hXEoTxPtV2zvg   Steph           665  2008-07-25 10:41:00    2086   \n",
       "\n",
       "   funny   cool                                              elite  \\\n",
       "0   1259   5994                                               2007   \n",
       "1  13066  27281  2009,2010,2011,2012,2013,2014,2015,2016,2017,2...   \n",
       "2   1010   1003                           2009,2010,2011,2012,2013   \n",
       "\n",
       "                                             friends  fans  ...  \\\n",
       "0  NSCy54eWehBJyZdG2iE84w, pe42u7DcCH2QmI81NX-8qA...   267  ...   \n",
       "1  ueRPE0CX75ePGMqOFVj6IQ, 52oH4DrRvzzl8wh5UXyU0A...  3138  ...   \n",
       "2  LuO3Bn4f3rlhyHIaNfTlnA, j9B4XdHUhDfTKVecyWQgyA...    52  ...   \n",
       "\n",
       "   compliment_more  compliment_profile  compliment_cute  compliment_list  \\\n",
       "0               65                  55               56               18   \n",
       "1              264                 184              157              251   \n",
       "2               13                  10               17                3   \n",
       "\n",
       "   compliment_note  compliment_plain  compliment_cool  compliment_funny  \\\n",
       "0              232               844              467               467   \n",
       "1             1847              7054             3131              3131   \n",
       "2               66                96              119               119   \n",
       "\n",
       "   compliment_writer  compliment_photos  \n",
       "0                239                180  \n",
       "1               1521               1946  \n",
       "2                 35                 18  \n",
       "\n",
       "[3 rows x 22 columns]"
      ]
     },
     "execution_count": 3,
     "metadata": {},
     "output_type": "execute_result"
    }
   ],
   "source": [
    "df_user.head(3)"
   ]
  },
  {
   "cell_type": "code",
   "execution_count": 4,
   "id": "f4ba5372-93d1-48f0-8be6-6461982f7343",
   "metadata": {},
   "outputs": [
    {
     "data": {
      "text/html": [
       "<div>\n",
       "<style scoped>\n",
       "    .dataframe tbody tr th:only-of-type {\n",
       "        vertical-align: middle;\n",
       "    }\n",
       "\n",
       "    .dataframe tbody tr th {\n",
       "        vertical-align: top;\n",
       "    }\n",
       "\n",
       "    .dataframe thead th {\n",
       "        text-align: right;\n",
       "    }\n",
       "</style>\n",
       "<table border=\"1\" class=\"dataframe\">\n",
       "  <thead>\n",
       "    <tr style=\"text-align: right;\">\n",
       "      <th></th>\n",
       "      <th>user_id</th>\n",
       "      <th>business_id</th>\n",
       "      <th>text</th>\n",
       "      <th>date</th>\n",
       "      <th>compliment_count</th>\n",
       "    </tr>\n",
       "  </thead>\n",
       "  <tbody>\n",
       "    <tr>\n",
       "      <th>0</th>\n",
       "      <td>AGNUgVwnZUey3gcPCJ76iw</td>\n",
       "      <td>3uLgwr0qeCNMjKenHJwPGQ</td>\n",
       "      <td>Avengers time with the ladies.</td>\n",
       "      <td>2012-05-18 02:17:21</td>\n",
       "      <td>0</td>\n",
       "    </tr>\n",
       "    <tr>\n",
       "      <th>1</th>\n",
       "      <td>NBN4MgHP9D3cw--SnauTkA</td>\n",
       "      <td>QoezRbYQncpRqyrLH6Iqjg</td>\n",
       "      <td>They have lots of good deserts and tasty cuban...</td>\n",
       "      <td>2013-02-05 18:35:10</td>\n",
       "      <td>0</td>\n",
       "    </tr>\n",
       "    <tr>\n",
       "      <th>2</th>\n",
       "      <td>-copOvldyKh1qr-vzkDEvw</td>\n",
       "      <td>MYoRNLb5chwjQe3c_k37Gg</td>\n",
       "      <td>It's open even when you think it isn't</td>\n",
       "      <td>2013-08-18 00:56:08</td>\n",
       "      <td>0</td>\n",
       "    </tr>\n",
       "  </tbody>\n",
       "</table>\n",
       "</div>"
      ],
      "text/plain": [
       "                  user_id             business_id  \\\n",
       "0  AGNUgVwnZUey3gcPCJ76iw  3uLgwr0qeCNMjKenHJwPGQ   \n",
       "1  NBN4MgHP9D3cw--SnauTkA  QoezRbYQncpRqyrLH6Iqjg   \n",
       "2  -copOvldyKh1qr-vzkDEvw  MYoRNLb5chwjQe3c_k37Gg   \n",
       "\n",
       "                                                text                date  \\\n",
       "0                     Avengers time with the ladies. 2012-05-18 02:17:21   \n",
       "1  They have lots of good deserts and tasty cuban... 2013-02-05 18:35:10   \n",
       "2             It's open even when you think it isn't 2013-08-18 00:56:08   \n",
       "\n",
       "   compliment_count  \n",
       "0                 0  \n",
       "1                 0  \n",
       "2                 0  "
      ]
     },
     "execution_count": 4,
     "metadata": {},
     "output_type": "execute_result"
    }
   ],
   "source": [
    "df_tip.head(3)"
   ]
  },
  {
   "cell_type": "code",
   "execution_count": 5,
   "id": "f549291e-98b3-47ea-b899-a7e290feae92",
   "metadata": {},
   "outputs": [
    {
     "data": {
      "text/html": [
       "<div>\n",
       "<style scoped>\n",
       "    .dataframe tbody tr th:only-of-type {\n",
       "        vertical-align: middle;\n",
       "    }\n",
       "\n",
       "    .dataframe tbody tr th {\n",
       "        vertical-align: top;\n",
       "    }\n",
       "\n",
       "    .dataframe thead th {\n",
       "        text-align: right;\n",
       "    }\n",
       "</style>\n",
       "<table border=\"1\" class=\"dataframe\">\n",
       "  <thead>\n",
       "    <tr style=\"text-align: right;\">\n",
       "      <th></th>\n",
       "      <th>review_id</th>\n",
       "      <th>user_id</th>\n",
       "      <th>business_id</th>\n",
       "      <th>stars</th>\n",
       "      <th>useful</th>\n",
       "      <th>funny</th>\n",
       "      <th>cool</th>\n",
       "      <th>text</th>\n",
       "      <th>date</th>\n",
       "    </tr>\n",
       "  </thead>\n",
       "  <tbody>\n",
       "    <tr>\n",
       "      <th>0</th>\n",
       "      <td>KU_O5udG6zpxOg-VcAEodg</td>\n",
       "      <td>mh_-eMZ6K5RLWhZyISBhwA</td>\n",
       "      <td>XQfwVwDr-v0ZS3_CbbE5Xw</td>\n",
       "      <td>3</td>\n",
       "      <td>0</td>\n",
       "      <td>0</td>\n",
       "      <td>0</td>\n",
       "      <td>If you decide to eat here, just be aware it is...</td>\n",
       "      <td>2018-07-07 22:09:11</td>\n",
       "    </tr>\n",
       "    <tr>\n",
       "      <th>1</th>\n",
       "      <td>BiTunyQ73aT9WBnpR9DZGw</td>\n",
       "      <td>OyoGAe7OKpv6SyGZT5g77Q</td>\n",
       "      <td>7ATYjTIgM3jUlt4UM3IypQ</td>\n",
       "      <td>5</td>\n",
       "      <td>1</td>\n",
       "      <td>0</td>\n",
       "      <td>1</td>\n",
       "      <td>I've taken a lot of spin classes over the year...</td>\n",
       "      <td>2012-01-03 15:28:18</td>\n",
       "    </tr>\n",
       "    <tr>\n",
       "      <th>2</th>\n",
       "      <td>saUsX_uimxRlCVr67Z4Jig</td>\n",
       "      <td>8g_iMtfSiwikVnbP2etR0A</td>\n",
       "      <td>YjUWPpI6HXG530lwP-fb2A</td>\n",
       "      <td>3</td>\n",
       "      <td>0</td>\n",
       "      <td>0</td>\n",
       "      <td>0</td>\n",
       "      <td>Family diner. Had the buffet. Eclectic assortm...</td>\n",
       "      <td>2014-02-05 20:30:30</td>\n",
       "    </tr>\n",
       "  </tbody>\n",
       "</table>\n",
       "</div>"
      ],
      "text/plain": [
       "                review_id                 user_id             business_id  \\\n",
       "0  KU_O5udG6zpxOg-VcAEodg  mh_-eMZ6K5RLWhZyISBhwA  XQfwVwDr-v0ZS3_CbbE5Xw   \n",
       "1  BiTunyQ73aT9WBnpR9DZGw  OyoGAe7OKpv6SyGZT5g77Q  7ATYjTIgM3jUlt4UM3IypQ   \n",
       "2  saUsX_uimxRlCVr67Z4Jig  8g_iMtfSiwikVnbP2etR0A  YjUWPpI6HXG530lwP-fb2A   \n",
       "\n",
       "   stars  useful  funny  cool  \\\n",
       "0      3       0      0     0   \n",
       "1      5       1      0     1   \n",
       "2      3       0      0     0   \n",
       "\n",
       "                                                text                date  \n",
       "0  If you decide to eat here, just be aware it is... 2018-07-07 22:09:11  \n",
       "1  I've taken a lot of spin classes over the year... 2012-01-03 15:28:18  \n",
       "2  Family diner. Had the buffet. Eclectic assortm... 2014-02-05 20:30:30  "
      ]
     },
     "execution_count": 5,
     "metadata": {},
     "output_type": "execute_result"
    }
   ],
   "source": [
    "df_review.head(3)"
   ]
  },
  {
   "cell_type": "code",
   "execution_count": 6,
   "id": "5206bd1a-8a3f-48a7-be41-7cb06c3c3af1",
   "metadata": {},
   "outputs": [
    {
     "data": {
      "text/html": [
       "<div>\n",
       "<style scoped>\n",
       "    .dataframe tbody tr th:only-of-type {\n",
       "        vertical-align: middle;\n",
       "    }\n",
       "\n",
       "    .dataframe tbody tr th {\n",
       "        vertical-align: top;\n",
       "    }\n",
       "\n",
       "    .dataframe thead th {\n",
       "        text-align: right;\n",
       "    }\n",
       "</style>\n",
       "<table border=\"1\" class=\"dataframe\">\n",
       "  <thead>\n",
       "    <tr style=\"text-align: right;\">\n",
       "      <th></th>\n",
       "      <th>business_id</th>\n",
       "      <th>date</th>\n",
       "    </tr>\n",
       "  </thead>\n",
       "  <tbody>\n",
       "    <tr>\n",
       "      <th>0</th>\n",
       "      <td>---kPU91CF4Lq2-WlRu9Lw</td>\n",
       "      <td>2020-03-13 21:10:56, 2020-06-02 22:18:06, 2020...</td>\n",
       "    </tr>\n",
       "    <tr>\n",
       "      <th>1</th>\n",
       "      <td>--0iUa4sNDFiZFrAdIWhZQ</td>\n",
       "      <td>2010-09-13 21:43:09, 2011-05-04 23:08:15, 2011...</td>\n",
       "    </tr>\n",
       "    <tr>\n",
       "      <th>2</th>\n",
       "      <td>--30_8IhuyMHbSOcNWd6DQ</td>\n",
       "      <td>2013-06-14 23:29:17, 2014-08-13 23:20:22</td>\n",
       "    </tr>\n",
       "  </tbody>\n",
       "</table>\n",
       "</div>"
      ],
      "text/plain": [
       "              business_id                                               date\n",
       "0  ---kPU91CF4Lq2-WlRu9Lw  2020-03-13 21:10:56, 2020-06-02 22:18:06, 2020...\n",
       "1  --0iUa4sNDFiZFrAdIWhZQ  2010-09-13 21:43:09, 2011-05-04 23:08:15, 2011...\n",
       "2  --30_8IhuyMHbSOcNWd6DQ           2013-06-14 23:29:17, 2014-08-13 23:20:22"
      ]
     },
     "execution_count": 6,
     "metadata": {},
     "output_type": "execute_result"
    }
   ],
   "source": [
    "df_checkin.head(3)"
   ]
  },
  {
   "cell_type": "code",
   "execution_count": 7,
   "id": "084b10c0-3aaa-4fd5-af30-63596355ed80",
   "metadata": {},
   "outputs": [
    {
     "data": {
      "text/html": [
       "<div>\n",
       "<style scoped>\n",
       "    .dataframe tbody tr th:only-of-type {\n",
       "        vertical-align: middle;\n",
       "    }\n",
       "\n",
       "    .dataframe tbody tr th {\n",
       "        vertical-align: top;\n",
       "    }\n",
       "\n",
       "    .dataframe thead th {\n",
       "        text-align: right;\n",
       "    }\n",
       "</style>\n",
       "<table border=\"1\" class=\"dataframe\">\n",
       "  <thead>\n",
       "    <tr style=\"text-align: right;\">\n",
       "      <th></th>\n",
       "      <th>business_id</th>\n",
       "      <th>name</th>\n",
       "      <th>address</th>\n",
       "      <th>city</th>\n",
       "      <th>state</th>\n",
       "      <th>postal_code</th>\n",
       "      <th>latitude</th>\n",
       "      <th>longitude</th>\n",
       "      <th>stars</th>\n",
       "      <th>review_count</th>\n",
       "      <th>is_open</th>\n",
       "      <th>attributes</th>\n",
       "      <th>categories</th>\n",
       "      <th>hours</th>\n",
       "    </tr>\n",
       "  </thead>\n",
       "  <tbody>\n",
       "    <tr>\n",
       "      <th>0</th>\n",
       "      <td>Pns2l4eNsfO8kk83dixA6A</td>\n",
       "      <td>Abby Rappoport, LAC, CMQ</td>\n",
       "      <td>1616 Chapala St, Ste 2</td>\n",
       "      <td>Santa Barbara</td>\n",
       "      <td>CA</td>\n",
       "      <td>93101</td>\n",
       "      <td>34.426679</td>\n",
       "      <td>-119.711197</td>\n",
       "      <td>5.0</td>\n",
       "      <td>7</td>\n",
       "      <td>0</td>\n",
       "      <td>{'ByAppointmentOnly': 'True'}</td>\n",
       "      <td>Doctors, Traditional Chinese Medicine, Naturop...</td>\n",
       "      <td>None</td>\n",
       "    </tr>\n",
       "    <tr>\n",
       "      <th>1</th>\n",
       "      <td>mpf3x-BjTdTEA3yCZrAYPw</td>\n",
       "      <td>The UPS Store</td>\n",
       "      <td>87 Grasso Plaza Shopping Center</td>\n",
       "      <td>Affton</td>\n",
       "      <td>MO</td>\n",
       "      <td>63123</td>\n",
       "      <td>38.551126</td>\n",
       "      <td>-90.335695</td>\n",
       "      <td>3.0</td>\n",
       "      <td>15</td>\n",
       "      <td>1</td>\n",
       "      <td>{'BusinessAcceptsCreditCards': 'True'}</td>\n",
       "      <td>Shipping Centers, Local Services, Notaries, Ma...</td>\n",
       "      <td>{'Monday': '0:0-0:0', 'Tuesday': '8:0-18:30', ...</td>\n",
       "    </tr>\n",
       "    <tr>\n",
       "      <th>2</th>\n",
       "      <td>tUFrWirKiKi_TAnsVWINQQ</td>\n",
       "      <td>Target</td>\n",
       "      <td>5255 E Broadway Blvd</td>\n",
       "      <td>Tucson</td>\n",
       "      <td>AZ</td>\n",
       "      <td>85711</td>\n",
       "      <td>32.223236</td>\n",
       "      <td>-110.880452</td>\n",
       "      <td>3.5</td>\n",
       "      <td>22</td>\n",
       "      <td>0</td>\n",
       "      <td>{'BikeParking': 'True', 'BusinessAcceptsCredit...</td>\n",
       "      <td>Department Stores, Shopping, Fashion, Home &amp; G...</td>\n",
       "      <td>{'Monday': '8:0-22:0', 'Tuesday': '8:0-22:0', ...</td>\n",
       "    </tr>\n",
       "  </tbody>\n",
       "</table>\n",
       "</div>"
      ],
      "text/plain": [
       "              business_id                      name  \\\n",
       "0  Pns2l4eNsfO8kk83dixA6A  Abby Rappoport, LAC, CMQ   \n",
       "1  mpf3x-BjTdTEA3yCZrAYPw             The UPS Store   \n",
       "2  tUFrWirKiKi_TAnsVWINQQ                    Target   \n",
       "\n",
       "                           address           city state postal_code  \\\n",
       "0           1616 Chapala St, Ste 2  Santa Barbara    CA       93101   \n",
       "1  87 Grasso Plaza Shopping Center         Affton    MO       63123   \n",
       "2             5255 E Broadway Blvd         Tucson    AZ       85711   \n",
       "\n",
       "    latitude   longitude  stars  review_count  is_open  \\\n",
       "0  34.426679 -119.711197    5.0             7        0   \n",
       "1  38.551126  -90.335695    3.0            15        1   \n",
       "2  32.223236 -110.880452    3.5            22        0   \n",
       "\n",
       "                                          attributes  \\\n",
       "0                      {'ByAppointmentOnly': 'True'}   \n",
       "1             {'BusinessAcceptsCreditCards': 'True'}   \n",
       "2  {'BikeParking': 'True', 'BusinessAcceptsCredit...   \n",
       "\n",
       "                                          categories  \\\n",
       "0  Doctors, Traditional Chinese Medicine, Naturop...   \n",
       "1  Shipping Centers, Local Services, Notaries, Ma...   \n",
       "2  Department Stores, Shopping, Fashion, Home & G...   \n",
       "\n",
       "                                               hours  \n",
       "0                                               None  \n",
       "1  {'Monday': '0:0-0:0', 'Tuesday': '8:0-18:30', ...  \n",
       "2  {'Monday': '8:0-22:0', 'Tuesday': '8:0-22:0', ...  "
      ]
     },
     "execution_count": 7,
     "metadata": {},
     "output_type": "execute_result"
    }
   ],
   "source": [
    "df_business.head(3)"
   ]
  },
  {
   "cell_type": "markdown",
   "id": "7b999ba7-ec52-46cb-84dd-eae77b4dd293",
   "metadata": {},
   "source": [
    "How many users/tips/reviews/checkins/businesses?"
   ]
  },
  {
   "cell_type": "code",
   "execution_count": 8,
   "id": "0b3cc577-8d91-45ff-9e86-923cfbfa5bab",
   "metadata": {},
   "outputs": [
    {
     "name": "stdout",
     "output_type": "stream",
     "text": [
      "number of users is 1,987,897\n",
      "number of tips is 908,915\n",
      "number of reviews is 6,990,280\n",
      "number of checkin is 131,930\n",
      "number of business is 150,346\n",
      "\n"
     ]
    }
   ],
   "source": [
    "msg = (\n",
    "    f'number of users is {df_user.shape[0]:,}\\n'\n",
    "    f'number of tips is {df_tip.shape[0]:,}\\n' \n",
    "    f'number of reviews is {df_review.shape[0]:,}\\n'\n",
    "    f'number of checkin is {df_checkin.shape[0]:,}\\n' \n",
    "    f'number of business is {df_business.shape[0]:,}\\n'\n",
    ")\n",
    "print(msg)"
   ]
  },
  {
   "cell_type": "markdown",
   "id": "5fec9b51-eb0f-4968-98b9-ce6f892b049a",
   "metadata": {},
   "source": [
    "What are the statistics of users review count?\n",
    "> * total of 46,505,676 reviews from users data\n",
    "> * 54 users don't have any reviews"
   ]
  },
  {
   "cell_type": "code",
   "execution_count": 87,
   "id": "0e8ca95f-fc45-4b43-9005-9a955fd5560f",
   "metadata": {},
   "outputs": [
    {
     "data": {
      "text/plain": [
       "46505676"
      ]
     },
     "execution_count": 87,
     "metadata": {},
     "output_type": "execute_result"
    }
   ],
   "source": [
    "df_user.review_count.sum()"
   ]
  },
  {
   "cell_type": "code",
   "execution_count": 131,
   "id": "e495e55b-f6bc-46bb-ba93-fe309ed53dc6",
   "metadata": {},
   "outputs": [
    {
     "data": {
      "text/plain": [
       "54"
      ]
     },
     "execution_count": 131,
     "metadata": {},
     "output_type": "execute_result"
    }
   ],
   "source": [
    "(df_user.review_count == 0).sum()"
   ]
  },
  {
   "cell_type": "code",
   "execution_count": 76,
   "id": "0f90c2ca-d0b1-44e8-8686-c4b0e16dd8f6",
   "metadata": {},
   "outputs": [
    {
     "data": {
      "text/plain": [
       "count    1.987897e+06\n",
       "mean     2.339441e+01\n",
       "std      8.256699e+01\n",
       "min      0.000000e+00\n",
       "25%      2.000000e+00\n",
       "50%      5.000000e+00\n",
       "75%      1.700000e+01\n",
       "max      1.747300e+04\n",
       "Name: review_count, dtype: float64"
      ]
     },
     "execution_count": 76,
     "metadata": {},
     "output_type": "execute_result"
    }
   ],
   "source": [
    "df_user.review_count.describe()"
   ]
  },
  {
   "cell_type": "code",
   "execution_count": 73,
   "id": "243ee960-4176-4e1c-9e91-bcd21a14ec94",
   "metadata": {},
   "outputs": [
    {
     "data": {
      "text/plain": [
       "<seaborn.axisgrid.FacetGrid at 0x7fba8a1d7af0>"
      ]
     },
     "execution_count": 73,
     "metadata": {},
     "output_type": "execute_result"
    },
    {
     "data": {
      "image/png": "[encoded data removed]",
      "text/plain": [
       "<Figure size 360x360 with 1 Axes>"
      ]
     },
     "metadata": {
      "needs_background": "light"
     },
     "output_type": "display_data"
    }
   ],
   "source": [
    "sns.displot(data=df_user[df_user.review_count <= 20], x=\"review_count\")"
   ]
  },
  {
   "cell_type": "markdown",
   "id": "76e8f3cd-3e1e-42fb-8713-522a530a7c52",
   "metadata": {},
   "source": [
    "How many friends does a user have in average?\n",
    "> 53\n",
    "\n",
    "How many users don't have a friend?\n",
    "> 878,551, 44.2%  "
   ]
  },
  {
   "cell_type": "code",
   "execution_count": 44,
   "id": "a6a2d1fb-bc62-4728-bb31-9408641b3281",
   "metadata": {},
   "outputs": [],
   "source": [
    "num_friends = pd.Series([len(friends_ls) if friends_ls[0] != \"None\" else 0 for friends_ls in df_user.friends.str.split(\",\")])"
   ]
  },
  {
   "cell_type": "code",
   "execution_count": 74,
   "id": "eb8f4cc6-b2e7-4bed-8022-00c2b31f4071",
   "metadata": {},
   "outputs": [],
   "source": [
    "df_user['num_friends'] = num_friends = num_friends"
   ]
  },
  {
   "cell_type": "code",
   "execution_count": 46,
   "id": "da66c320-173a-4ab1-91c4-115bef4c94b2",
   "metadata": {},
   "outputs": [
    {
     "data": {
      "text/plain": [
       "count    1.987897e+06\n",
       "mean     5.293306e+01\n",
       "std      1.466023e+02\n",
       "min      0.000000e+00\n",
       "25%      0.000000e+00\n",
       "50%      2.000000e+00\n",
       "75%      4.600000e+01\n",
       "max      1.499500e+04\n",
       "dtype: float64"
      ]
     },
     "execution_count": 46,
     "metadata": {},
     "output_type": "execute_result"
    }
   ],
   "source": [
    "num_friends.describe()"
   ]
  },
  {
   "cell_type": "code",
   "execution_count": 52,
   "id": "0412a175-5b48-4f5d-8f18-0cea9755b482",
   "metadata": {},
   "outputs": [
    {
     "name": "stdout",
     "output_type": "stream",
     "text": [
      "878,551 users have no friends, account for 44.2%\n"
     ]
    }
   ],
   "source": [
    "no_friend = len(num_friends[num_friends == 0])\n",
    "print(f\"{no_friend:,} users have no friends, account for {no_friend/len(num_friends):.1%}\")"
   ]
  },
  {
   "cell_type": "markdown",
   "id": "4b1b407e-bf8c-418a-a95a-596d4fb0078c",
   "metadata": {},
   "source": [
    "Is there any correlation among reviews, number of friends and number of fans?\n",
    "> * number of fans and number of friends have positive relationship\n",
    "> * no obvious relations of review count to other two attributes\n",
    "> * there are some outliers"
   ]
  },
  {
   "cell_type": "code",
   "execution_count": 78,
   "id": "418a7520-10ad-48a2-a82d-b7d0f9971d47",
   "metadata": {},
   "outputs": [
    {
     "data": {
      "text/plain": [
       "<seaborn.axisgrid.PairGrid at 0x7f6d28ab87c0>"
      ]
     },
     "execution_count": 78,
     "metadata": {},
     "output_type": "execute_result"
    },
    {
     "data": {
      "image/png": "[encoded data removed]",
      "text/plain": [
       "<Figure size 540x540 with 12 Axes>"
      ]
     },
     "metadata": {
      "needs_background": "light"
     },
     "output_type": "display_data"
    }
   ],
   "source": [
    "sns.pairplot(data=df_user[[\"review_count\", \"num_friends\", \"fans\"]])"
   ]
  },
  {
   "cell_type": "markdown",
   "id": "b6fa66b4-1891-4a1e-aee8-1ade85a027ff",
   "metadata": {},
   "source": [
    "Where are businesses locate and how many in each state?\n",
    "> 27 states, in which 13 states have less than 10 business."
   ]
  },
  {
   "cell_type": "code",
   "execution_count": 66,
   "id": "252857c8-04c8-4447-879e-7a7757dc4a18",
   "metadata": {},
   "outputs": [],
   "source": [
    "state_business = df_business.groupby(['state'])['state'].count()"
   ]
  },
  {
   "cell_type": "code",
   "execution_count": 71,
   "id": "4c20d68b-f142-48d6-b7df-dda7ff526e63",
   "metadata": {},
   "outputs": [
    {
     "data": {
      "text/plain": [
       "27"
      ]
     },
     "execution_count": 71,
     "metadata": {},
     "output_type": "execute_result"
    }
   ],
   "source": [
    "state_business.size"
   ]
  },
  {
   "cell_type": "code",
   "execution_count": 72,
   "id": "6e435ccc-6652-42a4-b2f0-917b538bad61",
   "metadata": {},
   "outputs": [
    {
     "data": {
      "text/plain": [
       "13"
      ]
     },
     "execution_count": 72,
     "metadata": {},
     "output_type": "execute_result"
    }
   ],
   "source": [
    "state_business[state_business < 10].size"
   ]
  },
  {
   "cell_type": "code",
   "execution_count": 68,
   "id": "d2ff173d-0901-42d2-9bc4-01def16d9313",
   "metadata": {},
   "outputs": [
    {
     "data": {
      "text/plain": [
       "<seaborn.axisgrid.FacetGrid at 0x7f6e08047070>"
      ]
     },
     "execution_count": 68,
     "metadata": {},
     "output_type": "execute_result"
    },
    {
     "data": {
      "image/png": "[encoded data removed]",
      "text/plain": [
       "<Figure size 360x360 with 1 Axes>"
      ]
     },
     "metadata": {
      "needs_background": "light"
     },
     "output_type": "display_data"
    }
   ],
   "source": [
    "sns.catplot(data=df_business, x=\"state\", kind='count')"
   ]
  },
  {
   "cell_type": "markdown",
   "id": "fc4567d8-3ec4-496c-ade1-c95eda314f05",
   "metadata": {},
   "source": [
    "How many restaurants?"
   ]
  },
  {
   "cell_type": "markdown",
   "id": "5b6840f2-5cdc-4a94-a0ce-27ac8bd9aac0",
   "metadata": {},
   "source": [
    "How many reviews do all businesses received?\n",
    "> * all businesses received 6,745,508 reviews; \n",
    "> * there are 6,990,280 reviews in reviews dataset; \n",
    "> * all users made 46,505,676 reviews. "
   ]
  },
  {
   "cell_type": "code",
   "execution_count": 81,
   "id": "f02414a4-a929-40a7-87d3-e7e61d4dae93",
   "metadata": {},
   "outputs": [
    {
     "data": {
      "text/plain": [
       "46505676"
      ]
     },
     "execution_count": 81,
     "metadata": {},
     "output_type": "execute_result"
    }
   ],
   "source": [
    "df_user.review_count.sum()"
   ]
  },
  {
   "cell_type": "code",
   "execution_count": 79,
   "id": "36c6f801-1108-442e-8544-2c70caeaaa55",
   "metadata": {},
   "outputs": [
    {
     "data": {
      "text/plain": [
       "6745508"
      ]
     },
     "execution_count": 79,
     "metadata": {},
     "output_type": "execute_result"
    }
   ],
   "source": [
    "df_business.review_count.sum()"
   ]
  },
  {
   "cell_type": "markdown",
   "id": "c1057377-b597-4e7c-83e2-038f134b9b8c",
   "metadata": {},
   "source": [
    "How many businesses are closed?"
   ]
  },
  {
   "cell_type": "code",
   "execution_count": 88,
   "id": "5f5184de-c940-4772-90ad-829f148df174",
   "metadata": {},
   "outputs": [
    {
     "name": "stdout",
     "output_type": "stream",
     "text": [
      "30,648(20.38%) businesses are closed\n"
     ]
    }
   ],
   "source": [
    "num_open = df_business.groupby(['is_open'])['is_open'].count()\n",
    "print(f'{num_open[0]:,}({num_open[0]/(num_open[0]+num_open[1]):.2%}) businesses are closed')"
   ]
  },
  {
   "cell_type": "markdown",
   "id": "07adb122-a7e3-4f1a-a4bf-d5671a1c0302",
   "metadata": {},
   "source": [
    "Business star-rating distribution\n",
    "> * all businesses have rating, the minimum rating is 1\n",
    "> * mean is 3.6, medium is 3.5"
   ]
  },
  {
   "cell_type": "code",
   "execution_count": 92,
   "id": "ae603df9-7730-4536-bb81-0dd1a5083ecb",
   "metadata": {},
   "outputs": [
    {
     "data": {
      "text/plain": [
       "<seaborn.axisgrid.FacetGrid at 0x7f6d958bb070>"
      ]
     },
     "execution_count": 92,
     "metadata": {},
     "output_type": "execute_result"
    },
    {
     "data": {
      "image/png": "[encoded data removed]",
      "text/plain": [
       "<Figure size 360x360 with 1 Axes>"
      ]
     },
     "metadata": {
      "needs_background": "light"
     },
     "output_type": "display_data"
    }
   ],
   "source": [
    "sns.displot(data=df_business, x=\"stars\")"
   ]
  },
  {
   "cell_type": "code",
   "execution_count": 93,
   "id": "8b246731-3ae0-47c7-a505-4fda4c088af1",
   "metadata": {},
   "outputs": [
    {
     "data": {
      "text/plain": [
       "count    150346.000000\n",
       "mean          3.596724\n",
       "std           0.974421\n",
       "min           1.000000\n",
       "25%           3.000000\n",
       "50%           3.500000\n",
       "75%           4.500000\n",
       "max           5.000000\n",
       "Name: stars, dtype: float64"
      ]
     },
     "execution_count": 93,
     "metadata": {},
     "output_type": "execute_result"
    }
   ],
   "source": [
    "df_business.stars.describe()"
   ]
  },
  {
   "cell_type": "code",
   "execution_count": 98,
   "id": "91322c85-3f5e-4729-9cde-dbd32accee65",
   "metadata": {},
   "outputs": [
    {
     "data": {
      "text/plain": [
       "0"
      ]
     },
     "execution_count": 98,
     "metadata": {},
     "output_type": "execute_result"
    }
   ],
   "source": [
    "pd.isnull(df_business.stars).sum()"
   ]
  },
  {
   "cell_type": "markdown",
   "id": "39804766-8f4e-4393-974d-d7ca59199146",
   "metadata": {},
   "source": [
    "Business categories distribution\n",
    "> * 103 businesses don't any category\n",
    "> * business have 4.4 sub-categories in average\n",
    "> * there are 2454 sub-categories in total"
   ]
  },
  {
   "cell_type": "code",
   "execution_count": 94,
   "id": "bd3e99e4-65d9-4b46-bf4b-bfc8529b1432",
   "metadata": {},
   "outputs": [
    {
     "data": {
      "text/plain": [
       "'Doctors, Traditional Chinese Medicine, Naturopathic/Holistic, Acupuncture, Health & Medical, Nutritionists'"
      ]
     },
     "execution_count": 94,
     "metadata": {},
     "output_type": "execute_result"
    }
   ],
   "source": [
    "df_business.categories[0]"
   ]
  },
  {
   "cell_type": "code",
   "execution_count": 102,
   "id": "3d712677-39b1-43b2-9339-2b8a145fcea3",
   "metadata": {},
   "outputs": [],
   "source": [
    "cats = df_business.categories.str.split(\",\")"
   ]
  },
  {
   "cell_type": "code",
   "execution_count": 107,
   "id": "d26fd979-87a0-4adf-b168-0bddf840c34c",
   "metadata": {},
   "outputs": [
    {
     "data": {
      "text/plain": [
       "103"
      ]
     },
     "execution_count": 107,
     "metadata": {},
     "output_type": "execute_result"
    }
   ],
   "source": [
    "pd.isna(cats).sum()"
   ]
  },
  {
   "cell_type": "code",
   "execution_count": 114,
   "id": "86dcd486-ae1d-4e45-a9cf-8b5e44aaac8e",
   "metadata": {},
   "outputs": [],
   "source": [
    "num_cats = pd.Series([0 if cat is None else len(cat) for cat in cats])"
   ]
  },
  {
   "cell_type": "code",
   "execution_count": 115,
   "id": "f744fad8-4d20-44ae-bcd5-4dcd32645351",
   "metadata": {},
   "outputs": [],
   "source": [
    "df_business['num_cats'] = num_cats"
   ]
  },
  {
   "cell_type": "code",
   "execution_count": 116,
   "id": "523250e8-c8ac-4e91-9a47-6a28ffc11df0",
   "metadata": {},
   "outputs": [
    {
     "data": {
      "text/plain": [
       "count    150346.000000\n",
       "mean          4.447022\n",
       "std           2.233734\n",
       "min           0.000000\n",
       "25%           3.000000\n",
       "50%           4.000000\n",
       "75%           6.000000\n",
       "max          36.000000\n",
       "dtype: float64"
      ]
     },
     "execution_count": 116,
     "metadata": {},
     "output_type": "execute_result"
    }
   ],
   "source": [
    "num_cats.describe()"
   ]
  },
  {
   "cell_type": "code",
   "execution_count": 117,
   "id": "523881c9-fe88-4cff-aa6d-d53cde4e377b",
   "metadata": {},
   "outputs": [
    {
     "data": {
      "text/plain": [
       "<seaborn.axisgrid.FacetGrid at 0x7f6d2e4473d0>"
      ]
     },
     "execution_count": 117,
     "metadata": {},
     "output_type": "execute_result"
    },
    {
     "data": {
      "image/png": "[encoded data removed]",
      "text/plain": [
       "<Figure size 360x360 with 1 Axes>"
      ]
     },
     "metadata": {
      "needs_background": "light"
     },
     "output_type": "display_data"
    }
   ],
   "source": [
    "sns.displot(data=df_business, x=\"num_cats\")"
   ]
  },
  {
   "cell_type": "code",
   "execution_count": 127,
   "id": "11b4228f-7299-4609-90b6-d77c0291a901",
   "metadata": {},
   "outputs": [],
   "source": [
    "cat_set = set()\n",
    "for cat in cats.to_list():\n",
    "    if cat is not None:\n",
    "        for c in cat:\n",
    "            cat_set.add(c)"
   ]
  },
  {
   "cell_type": "code",
   "execution_count": 128,
   "id": "80e4a1de-75fd-4c01-85ff-23f1b92a1a6f",
   "metadata": {},
   "outputs": [
    {
     "data": {
      "text/plain": [
       "2454"
      ]
     },
     "execution_count": 128,
     "metadata": {},
     "output_type": "execute_result"
    }
   ],
   "source": [
    "len(cat_set)"
   ]
  },
  {
   "cell_type": "markdown",
   "id": "f173dc61-5ce6-4f7b-99de-107738cd6958",
   "metadata": {},
   "source": [
    "Check-in distribution"
   ]
  },
  {
   "cell_type": "markdown",
   "id": "2a3f3744-e451-448f-b8f8-e1c1a62bade8",
   "metadata": {},
   "source": [
    "Number of reviews vs. time"
   ]
  },
  {
   "cell_type": "markdown",
   "id": "e520070b-a148-4c6d-81ba-09b4d3a5f903",
   "metadata": {},
   "source": [
    "Number of check-in vs. time"
   ]
  },
  {
   "cell_type": "markdown",
   "id": "69505de7-869d-4d92-bf57-9c980ddd7c5f",
   "metadata": {},
   "source": [
    "Number of tips vs. time"
   ]
  }
 ],
 "metadata": {
  "kernelspec": {
   "display_name": "Python 3 (ipykernel)",
   "language": "python",
   "name": "python3"
  },
  "language_info": {
   "codemirror_mode": {
    "name": "ipython",
    "version": 3
   },
   "file_extension": ".py",
   "mimetype": "text/x-python",
   "name": "python",
   "nbconvert_exporter": "python",
   "pygments_lexer": "ipython3",
   "version": "3.8.10"
  }
 },
 "nbformat": 4,
 "nbformat_minor": 5
}
