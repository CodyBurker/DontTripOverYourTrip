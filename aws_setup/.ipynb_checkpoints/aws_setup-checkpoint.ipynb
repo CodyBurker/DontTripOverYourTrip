{
 "cells": [
  {
   "cell_type": "markdown",
   "id": "c3fa19c1-a33d-45dc-9afb-931ff5267acb",
   "metadata": {},
   "source": [
    "# AWS Setup"
   ]
  },
  {
   "cell_type": "markdown",
   "id": "34d552ff-44b6-4a4d-8562-f13b0b113f2a",
   "metadata": {},
   "source": [
    "## IAM User\n",
    "\n",
    "Create an IAM user with `AdministratorAccess` permission. Instruction can be found on P7 of \"AWS New User Orientation.pdf\".\n",
    "\n",
    "**Make sure to download and save user credentials csv file on the last step.**"
   ]
  },
  {
   "cell_type": "code",
   "execution_count": 15,
   "id": "09dcbc4e-5994-40a4-aa24-fd3ffd488d04",
   "metadata": {},
   "outputs": [
    {
     "name": "stdout",
     "output_type": "stream",
     "text": [
      "AWS New User Orientation.pdf aws_setup.ipynb\n"
     ]
    }
   ],
   "source": [
    "!ls"
   ]
  },
  {
   "cell_type": "markdown",
   "id": "a3d22ed3-b63e-455a-96c8-6ac8b983893d",
   "metadata": {},
   "source": [
    "## AWS CLI "
   ]
  },
  {
   "cell_type": "markdown",
   "id": "3f963233-9088-48ec-bb97-93f17b3bbacc",
   "metadata": {},
   "source": [
    "P24 of \"AWS New User Orientation.pdf\"\n",
    "\n",
    "Installation instruction can be found [here](https://docs.aws.amazon.com/cli/latest/userguide/getting-started-install.html).\n",
    "\n",
    "After installation, in your terminal run `aws configure` to provide Access Key ID and Secret Access Key to set up credential. Recommend to use 'us-west-2' as default region name and 'json' as default output format. "
   ]
  },
  {
   "cell_type": "code",
   "execution_count": 5,
   "id": "2f745571-1f53-444a-8c6b-b499c494642c",
   "metadata": {},
   "outputs": [
    {
     "name": "stdout",
     "output_type": "stream",
     "text": [
      "2022-10-15 10:09:25 sagemaker-studio-87bjv2x7mmh\n",
      "2022-10-15 10:15:56 sagemaker-us-west-2-662235870471\n",
      "2022-10-08 16:28:53 w210-trip\n"
     ]
    }
   ],
   "source": [
    "# verify setup is successful\n",
    "!aws s3 ls"
   ]
  },
  {
   "cell_type": "markdown",
   "id": "13e3bceb-9545-40c7-b177-6788160fe87d",
   "metadata": {},
   "source": [
    "## Python API\n",
    "Need to have AWS CLI setup first."
   ]
  },
  {
   "cell_type": "code",
   "execution_count": 7,
   "id": "090213c8-7fd1-4856-9c49-b14d001ca937",
   "metadata": {},
   "outputs": [
    {
     "name": "stdout",
     "output_type": "stream",
     "text": [
      "Requirement already satisfied: boto3 in /Users/jun/.pyenv/versions/miniforge3-4.10.3-10/envs/nlp/lib/python3.8/site-packages (1.24.91)\n",
      "Requirement already satisfied: s3fs in /Users/jun/.pyenv/versions/miniforge3-4.10.3-10/envs/nlp/lib/python3.8/site-packages (0.4.2)\n",
      "Requirement already satisfied: botocore<1.28.0,>=1.27.91 in /Users/jun/.pyenv/versions/miniforge3-4.10.3-10/envs/nlp/lib/python3.8/site-packages (from boto3) (1.27.91)\n",
      "Requirement already satisfied: s3transfer<0.7.0,>=0.6.0 in /Users/jun/.pyenv/versions/miniforge3-4.10.3-10/envs/nlp/lib/python3.8/site-packages (from boto3) (0.6.0)\n",
      "Requirement already satisfied: jmespath<2.0.0,>=0.7.1 in /Users/jun/.pyenv/versions/miniforge3-4.10.3-10/envs/nlp/lib/python3.8/site-packages (from boto3) (1.0.1)\n",
      "Requirement already satisfied: fsspec>=0.6.0 in /Users/jun/.pyenv/versions/miniforge3-4.10.3-10/envs/nlp/lib/python3.8/site-packages (from s3fs) (2022.8.2)\n",
      "Requirement already satisfied: python-dateutil<3.0.0,>=2.1 in /Users/jun/.pyenv/versions/miniforge3-4.10.3-10/envs/nlp/lib/python3.8/site-packages (from botocore<1.28.0,>=1.27.91->boto3) (2.8.2)\n",
      "Requirement already satisfied: urllib3<1.27,>=1.25.4 in /Users/jun/.pyenv/versions/miniforge3-4.10.3-10/envs/nlp/lib/python3.8/site-packages (from botocore<1.28.0,>=1.27.91->boto3) (1.26.8)\n",
      "Requirement already satisfied: six>=1.5 in /Users/jun/.pyenv/versions/miniforge3-4.10.3-10/envs/nlp/lib/python3.8/site-packages (from python-dateutil<3.0.0,>=2.1->botocore<1.28.0,>=1.27.91->boto3) (1.15.0)\n",
      "Note: you may need to restart the kernel to use updated packages.\n"
     ]
    }
   ],
   "source": [
    "%pip install boto3 s3fs"
   ]
  },
  {
   "cell_type": "markdown",
   "id": "ba7e260a-cd43-4744-9f55-7a806ce2a2c5",
   "metadata": {},
   "source": [
    "### boto3"
   ]
  },
  {
   "cell_type": "code",
   "execution_count": 9,
   "id": "755218ed-7ce6-4d60-a365-16eda1808b85",
   "metadata": {},
   "outputs": [],
   "source": [
    "import boto3 # aws api for python\n",
    "import logging\n",
    "from botocore.exceptions import ClientError\n",
    "import pandas as pd"
   ]
  },
  {
   "cell_type": "code",
   "execution_count": 10,
   "id": "ba6cefba-6cd0-4371-9efa-afe64e5b17bb",
   "metadata": {},
   "outputs": [],
   "source": [
    "profile_name = \"default\"\n",
    "region_name = \"us-west-2\""
   ]
  },
  {
   "cell_type": "code",
   "execution_count": 11,
   "id": "23cecea4-e87d-4813-9a74-689d306413d0",
   "metadata": {},
   "outputs": [],
   "source": [
    "session = boto3.Session(profile_name=profile_name)\n",
    "s3 = session.client(\"s3\", region_name=region_name)"
   ]
  },
  {
   "cell_type": "code",
   "execution_count": 12,
   "id": "46297f15-dfb9-41fa-9f8f-c87c64366567",
   "metadata": {},
   "outputs": [
    {
     "data": {
      "text/plain": [
       "[{'Name': 'sagemaker-studio-87bjv2x7mmh',\n",
       "  'CreationDate': datetime.datetime(2022, 10, 15, 17, 9, 25, tzinfo=tzutc())},\n",
       " {'Name': 'sagemaker-us-west-2-662235870471',\n",
       "  'CreationDate': datetime.datetime(2022, 10, 15, 17, 15, 56, tzinfo=tzutc())},\n",
       " {'Name': 'w210-trip',\n",
       "  'CreationDate': datetime.datetime(2022, 10, 8, 23, 28, 53, tzinfo=tzutc())}]"
      ]
     },
     "execution_count": 12,
     "metadata": {},
     "output_type": "execute_result"
    }
   ],
   "source": [
    "# verify setup\n",
    "response = s3.list_buckets()\n",
    "buckets = response[\"Buckets\"]\n",
    "buckets"
   ]
  },
  {
   "cell_type": "markdown",
   "id": "b771dcd4-a106-4192-8c93-237c0ee98348",
   "metadata": {},
   "source": [
    "### s3fs"
   ]
  },
  {
   "cell_type": "code",
   "execution_count": 13,
   "id": "39657f40-8f9b-4ecb-931b-c2dbc9dc5a79",
   "metadata": {},
   "outputs": [],
   "source": [
    "# s3fs allows s3 files system to be read and write like your local fs\n",
    "df_buz = pd.read_json(\"s3://w210-trip/data/yelp_academic_dataset_business.json\", lines=True)"
   ]
  },
  {
   "cell_type": "code",
   "execution_count": 14,
   "id": "097fe080-fcef-465e-b3e8-29dbde1a917d",
   "metadata": {},
   "outputs": [
    {
     "data": {
      "text/html": [
       "<div>\n",
       "<style scoped>\n",
       "    .dataframe tbody tr th:only-of-type {\n",
       "        vertical-align: middle;\n",
       "    }\n",
       "\n",
       "    .dataframe tbody tr th {\n",
       "        vertical-align: top;\n",
       "    }\n",
       "\n",
       "    .dataframe thead th {\n",
       "        text-align: right;\n",
       "    }\n",
       "</style>\n",
       "<table border=\"1\" class=\"dataframe\">\n",
       "  <thead>\n",
       "    <tr style=\"text-align: right;\">\n",
       "      <th></th>\n",
       "      <th>business_id</th>\n",
       "      <th>name</th>\n",
       "      <th>address</th>\n",
       "      <th>city</th>\n",
       "      <th>state</th>\n",
       "      <th>postal_code</th>\n",
       "      <th>latitude</th>\n",
       "      <th>longitude</th>\n",
       "      <th>stars</th>\n",
       "      <th>review_count</th>\n",
       "      <th>is_open</th>\n",
       "      <th>attributes</th>\n",
       "      <th>categories</th>\n",
       "      <th>hours</th>\n",
       "    </tr>\n",
       "  </thead>\n",
       "  <tbody>\n",
       "    <tr>\n",
       "      <th>0</th>\n",
       "      <td>Pns2l4eNsfO8kk83dixA6A</td>\n",
       "      <td>Abby Rappoport, LAC, CMQ</td>\n",
       "      <td>1616 Chapala St, Ste 2</td>\n",
       "      <td>Santa Barbara</td>\n",
       "      <td>CA</td>\n",
       "      <td>93101</td>\n",
       "      <td>34.426679</td>\n",
       "      <td>-119.711197</td>\n",
       "      <td>5.0</td>\n",
       "      <td>7</td>\n",
       "      <td>0</td>\n",
       "      <td>{'ByAppointmentOnly': 'True'}</td>\n",
       "      <td>Doctors, Traditional Chinese Medicine, Naturop...</td>\n",
       "      <td>None</td>\n",
       "    </tr>\n",
       "    <tr>\n",
       "      <th>1</th>\n",
       "      <td>mpf3x-BjTdTEA3yCZrAYPw</td>\n",
       "      <td>The UPS Store</td>\n",
       "      <td>87 Grasso Plaza Shopping Center</td>\n",
       "      <td>Affton</td>\n",
       "      <td>MO</td>\n",
       "      <td>63123</td>\n",
       "      <td>38.551126</td>\n",
       "      <td>-90.335695</td>\n",
       "      <td>3.0</td>\n",
       "      <td>15</td>\n",
       "      <td>1</td>\n",
       "      <td>{'BusinessAcceptsCreditCards': 'True'}</td>\n",
       "      <td>Shipping Centers, Local Services, Notaries, Ma...</td>\n",
       "      <td>{'Monday': '0:0-0:0', 'Tuesday': '8:0-18:30', ...</td>\n",
       "    </tr>\n",
       "    <tr>\n",
       "      <th>2</th>\n",
       "      <td>tUFrWirKiKi_TAnsVWINQQ</td>\n",
       "      <td>Target</td>\n",
       "      <td>5255 E Broadway Blvd</td>\n",
       "      <td>Tucson</td>\n",
       "      <td>AZ</td>\n",
       "      <td>85711</td>\n",
       "      <td>32.223236</td>\n",
       "      <td>-110.880452</td>\n",
       "      <td>3.5</td>\n",
       "      <td>22</td>\n",
       "      <td>0</td>\n",
       "      <td>{'BikeParking': 'True', 'BusinessAcceptsCredit...</td>\n",
       "      <td>Department Stores, Shopping, Fashion, Home &amp; G...</td>\n",
       "      <td>{'Monday': '8:0-22:0', 'Tuesday': '8:0-22:0', ...</td>\n",
       "    </tr>\n",
       "  </tbody>\n",
       "</table>\n",
       "</div>"
      ],
      "text/plain": [
       "              business_id                      name  \\\n",
       "0  Pns2l4eNsfO8kk83dixA6A  Abby Rappoport, LAC, CMQ   \n",
       "1  mpf3x-BjTdTEA3yCZrAYPw             The UPS Store   \n",
       "2  tUFrWirKiKi_TAnsVWINQQ                    Target   \n",
       "\n",
       "                           address           city state postal_code  \\\n",
       "0           1616 Chapala St, Ste 2  Santa Barbara    CA       93101   \n",
       "1  87 Grasso Plaza Shopping Center         Affton    MO       63123   \n",
       "2             5255 E Broadway Blvd         Tucson    AZ       85711   \n",
       "\n",
       "    latitude   longitude  stars  review_count  is_open  \\\n",
       "0  34.426679 -119.711197    5.0             7        0   \n",
       "1  38.551126  -90.335695    3.0            15        1   \n",
       "2  32.223236 -110.880452    3.5            22        0   \n",
       "\n",
       "                                          attributes  \\\n",
       "0                      {'ByAppointmentOnly': 'True'}   \n",
       "1             {'BusinessAcceptsCreditCards': 'True'}   \n",
       "2  {'BikeParking': 'True', 'BusinessAcceptsCredit...   \n",
       "\n",
       "                                          categories  \\\n",
       "0  Doctors, Traditional Chinese Medicine, Naturop...   \n",
       "1  Shipping Centers, Local Services, Notaries, Ma...   \n",
       "2  Department Stores, Shopping, Fashion, Home & G...   \n",
       "\n",
       "                                               hours  \n",
       "0                                               None  \n",
       "1  {'Monday': '0:0-0:0', 'Tuesday': '8:0-18:30', ...  \n",
       "2  {'Monday': '8:0-22:0', 'Tuesday': '8:0-22:0', ...  "
      ]
     },
     "execution_count": 14,
     "metadata": {},
     "output_type": "execute_result"
    }
   ],
   "source": [
    "df_buz.head(3)"
   ]
  },
  {
   "cell_type": "markdown",
   "id": "faa2519f-76be-47eb-8686-27da8cf77b5a",
   "metadata": {},
   "source": [
    "## SageMaker Studio - jupyter environment\n",
    "\n",
    "Setup is straight forward and instruction can be found on P28 of the pdf. \n",
    "\n",
    "**SageMaker Studio starts to charge money when you open up the jupyter interface. It will keep running even after you close the tab. The only way to stop it is to delete the app under SageMaker Control Panel. Make sure to DELETE the app every time you finish.**"
   ]
  },
  {
   "cell_type": "markdown",
   "id": "ade6c430-cd4c-4cdf-b26d-7533c098610d",
   "metadata": {},
   "source": [
    " ### Use github to access your code."
   ]
  },
  {
   "cell_type": "markdown",
   "id": "d5a11e0f-fdbb-46c7-b6e8-9e1c282f376a",
   "metadata": {},
   "source": [
    "![git](./imgs/git.png)"
   ]
  },
  {
   "cell_type": "markdown",
   "id": "ee1606f6-98d7-4cf7-8ab9-53729b5ac68c",
   "metadata": {},
   "source": [
    "### Change to more powerful machine\n",
    "\n",
    "![select](./imgs/instance.png)\n",
    "\n",
    "Uncheck \"fast lunch only\" to access more instance types.\n",
    "\n",
    "![type](./imgs/type.png)"
   ]
  },
  {
   "cell_type": "markdown",
   "id": "8695205b-848e-4947-a368-7764593e3a01",
   "metadata": {},
   "source": [
    "### Request quota\n",
    "If you don't have quota for the machine type you want to use, you need to request it. \n",
    "* Click [here](https://us-west-2.console.aws.amazon.com/servicequotas/home/services/sagemaker/quotas) \n",
    "* Search \"Kernel Gateway Apps running on ml.g\"\n",
    "* Apply for the one you need to use"
   ]
  },
  {
   "cell_type": "markdown",
   "id": "9636a9ec-f84d-40aa-b59c-5739488156c0",
   "metadata": {},
   "source": [
    "### Install git-lfs on Sagemaker \n",
    "\n",
    "```\n",
    "curl -s https://packagecloud.io/install/repositories/github/git-lfs/script.rpm.sh | sudo bash\n",
    "\n",
    "sudo yum install git-lfs -y\n",
    "\n",
    "git lfs install\n",
    "```"
   ]
  },
  {
   "cell_type": "markdown",
   "id": "71a9633b-3e1f-453b-8801-882a021164dc",
   "metadata": {},
   "source": [
    "## Huggingface (To be continued...)\n",
    "The model saved in Huggingface can be deployed for inference. \n",
    "\n",
    "`git-lfs` is required to save model in Huggingface."
   ]
  },
  {
   "cell_type": "code",
   "execution_count": null,
   "id": "4e80506d-11bc-4372-93ec-ac7950595056",
   "metadata": {},
   "outputs": [],
   "source": [
    "from huggingface_hub import notebook_login\n",
    "\n",
    "notebook_login()"
   ]
  },
  {
   "cell_type": "code",
   "execution_count": 22,
   "id": "2839f2a6-80f9-4f7b-b3fb-1c60dd5c1a4e",
   "metadata": {},
   "outputs": [
    {
     "name": "stdout",
     "output_type": "stream",
     "text": [
      "git-lfs/3.2.0 (GitHub; darwin arm64; go 1.18.2)\n"
     ]
    }
   ],
   "source": [
    "! git-lfs --version"
   ]
  },
  {
   "cell_type": "code",
   "execution_count": null,
   "id": "8b0d31c8-2922-4335-9403-7477ce485f7a",
   "metadata": {},
   "outputs": [],
   "source": []
  }
 ],
 "metadata": {
  "kernelspec": {
   "display_name": "nlp",
   "language": "python",
   "name": "nlp"
  },
  "language_info": {
   "codemirror_mode": {
    "name": "ipython",
    "version": 3
   },
   "file_extension": ".py",
   "mimetype": "text/x-python",
   "name": "python",
   "nbconvert_exporter": "python",
   "pygments_lexer": "ipython3",
   "version": "3.8.12"
  }
 },
 "nbformat": 4,
 "nbformat_minor": 5
}
