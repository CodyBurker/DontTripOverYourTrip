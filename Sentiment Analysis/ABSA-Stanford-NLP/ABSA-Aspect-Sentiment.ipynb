{
 "cells": [
  {
   "cell_type": "code",
   "execution_count": 1,
   "id": "79c75f06",
   "metadata": {},
   "outputs": [
    {
     "name": "stdout",
     "output_type": "stream",
     "text": [
      "Requirement already satisfied: stanza in c:\\users\\msuryana\\anaconda3\\lib\\site-packages (1.4.2)\n",
      "Requirement already satisfied: numpy in c:\\users\\msuryana\\anaconda3\\lib\\site-packages (from stanza) (1.20.1)\n",
      "Requirement already satisfied: six in c:\\users\\msuryana\\anaconda3\\lib\\site-packages (from stanza) (1.12.0)\n",
      "Requirement already satisfied: protobuf in c:\\users\\msuryana\\anaconda3\\lib\\site-packages (from stanza) (3.19.6)\n",
      "Requirement already satisfied: tqdm in c:\\users\\msuryana\\anaconda3\\lib\\site-packages (from stanza) (4.59.0)\n",
      "Requirement already satisfied: requests in c:\\users\\msuryana\\anaconda3\\lib\\site-packages (from stanza) (2.25.1)\n",
      "Requirement already satisfied: torch>=1.3.0 in c:\\users\\msuryana\\anaconda3\\lib\\site-packages (from stanza) (1.12.1)\n",
      "Requirement already satisfied: emoji in c:\\users\\msuryana\\anaconda3\\lib\\site-packages (from stanza) (2.1.0)\n",
      "Requirement already satisfied: typing-extensions in c:\\users\\msuryana\\anaconda3\\lib\\site-packages (from torch>=1.3.0->stanza) (4.3.0)\n",
      "Requirement already satisfied: idna<3,>=2.5 in c:\\users\\msuryana\\anaconda3\\lib\\site-packages (from requests->stanza) (2.10)\n",
      "Requirement already satisfied: chardet<5,>=3.0.2 in c:\\users\\msuryana\\anaconda3\\lib\\site-packages (from requests->stanza) (3.0.4)\n",
      "Requirement already satisfied: urllib3<1.27,>=1.21.1 in c:\\users\\msuryana\\anaconda3\\lib\\site-packages (from requests->stanza) (1.26.4)\n",
      "Requirement already satisfied: certifi>=2017.4.17 in c:\\users\\msuryana\\anaconda3\\lib\\site-packages (from requests->stanza) (2020.12.5)\n",
      "Note: you may need to restart the kernel to use updated packages.\n"
     ]
    }
   ],
   "source": [
    "pip install stanza\n"
   ]
  },
  {
   "cell_type": "code",
   "execution_count": 2,
   "id": "c96f367a",
   "metadata": {},
   "outputs": [],
   "source": [
    "import pandas as pd\n",
    "import numpy as np\n",
    "import nltk\n",
    "from nltk.corpus import stopwords\n",
    "from nltk.corpus import wordnet\n",
    "from nltk.tokenize import word_tokenize, sent_tokenize\n",
    "from nltk.stem.wordnet import WordNetLemmatizer \n",
    "#import stanfordnlp\n",
    "import stanza\n",
    "import string"
   ]
  },
  {
   "cell_type": "code",
   "execution_count": 3,
   "id": "5ded0475",
   "metadata": {},
   "outputs": [
    {
     "data": {
      "application/vnd.jupyter.widget-view+json": {
       "model_id": "d45efff63a6443dd9913e22af4efe469",
       "version_major": 2,
       "version_minor": 0
      },
      "text/plain": [
       "Downloading https://raw.githubusercontent.com/stanfordnlp/stanza-resources/main/resources_1.4.1.json:   0%|   …"
      ]
     },
     "metadata": {},
     "output_type": "display_data"
    },
    {
     "name": "stderr",
     "output_type": "stream",
     "text": [
      "2022-10-18 18:13:24 INFO: Downloading default packages for language: en (English) ...\n",
      "2022-10-18 18:13:27 INFO: File exists: C:\\Users\\msuryana\\stanza_resources\\en\\default.zip\n",
      "2022-10-18 18:13:36 INFO: Finished downloading models and saved to C:\\Users\\msuryana\\stanza_resources.\n"
     ]
    }
   ],
   "source": [
    "stanza.download('en') "
   ]
  },
  {
   "cell_type": "code",
   "execution_count": 4,
   "id": "37cfa9cf",
   "metadata": {},
   "outputs": [
    {
     "name": "stderr",
     "output_type": "stream",
     "text": [
      "[nltk_data] Downloading package stopwords to\n",
      "[nltk_data]     C:\\Users\\msuryana\\AppData\\Roaming\\nltk_data...\n",
      "[nltk_data]   Package stopwords is already up-to-date!\n",
      "[nltk_data] Downloading package punkt to\n",
      "[nltk_data]     C:\\Users\\msuryana\\AppData\\Roaming\\nltk_data...\n",
      "[nltk_data]   Package punkt is already up-to-date!\n",
      "[nltk_data] Downloading package averaged_perceptron_tagger to\n",
      "[nltk_data]     C:\\Users\\msuryana\\AppData\\Roaming\\nltk_data...\n",
      "[nltk_data]   Package averaged_perceptron_tagger is already up-to-\n",
      "[nltk_data]       date!\n"
     ]
    },
    {
     "data": {
      "text/plain": [
       "True"
      ]
     },
     "execution_count": 4,
     "metadata": {},
     "output_type": "execute_result"
    }
   ],
   "source": [
    "#stanfordnlp.download('en')\n",
    "nltk.download('stopwords')\n",
    "nltk.download('punkt')\n",
    "nltk.download('averaged_perceptron_tagger')"
   ]
  },
  {
   "cell_type": "code",
   "execution_count": 5,
   "id": "0b883bd3",
   "metadata": {},
   "outputs": [
    {
     "name": "stderr",
     "output_type": "stream",
     "text": [
      "2022-10-18 18:13:37 INFO: Checking for updates to resources.json in case models have been updated.  Note: this behavior can be turned off with download_method=None or download_method=DownloadMethod.REUSE_RESOURCES\n"
     ]
    },
    {
     "data": {
      "application/vnd.jupyter.widget-view+json": {
       "model_id": "a96bf078f9b84dc5a3ce8de480b24ebf",
       "version_major": 2,
       "version_minor": 0
      },
      "text/plain": [
       "Downloading https://raw.githubusercontent.com/stanfordnlp/stanza-resources/main/resources_1.4.1.json:   0%|   …"
      ]
     },
     "metadata": {},
     "output_type": "display_data"
    },
    {
     "name": "stderr",
     "output_type": "stream",
     "text": [
      "2022-10-18 18:13:40 INFO: Loading these models for language: en (English):\n",
      "============================\n",
      "| Processor    | Package   |\n",
      "----------------------------\n",
      "| tokenize     | combined  |\n",
      "| pos          | combined  |\n",
      "| lemma        | combined  |\n",
      "| depparse     | combined  |\n",
      "| sentiment    | sstplus   |\n",
      "| constituency | wsj       |\n",
      "| ner          | ontonotes |\n",
      "============================\n",
      "\n",
      "2022-10-18 18:13:40 INFO: Use device: cpu\n",
      "2022-10-18 18:13:40 INFO: Loading: tokenize\n",
      "2022-10-18 18:13:40 INFO: Loading: pos\n",
      "2022-10-18 18:13:41 INFO: Loading: lemma\n",
      "2022-10-18 18:13:41 INFO: Loading: depparse\n",
      "2022-10-18 18:13:41 INFO: Loading: sentiment\n",
      "2022-10-18 18:13:42 INFO: Loading: constituency\n",
      "2022-10-18 18:13:44 INFO: Loading: ner\n",
      "2022-10-18 18:13:45 INFO: Done loading processors!\n"
     ]
    }
   ],
   "source": [
    "#nlp = stanfordnlp.Pipeline()\n",
    "nlp = stanza.Pipeline('en')"
   ]
  },
  {
   "cell_type": "code",
   "execution_count": 6,
   "id": "95b2d9d2",
   "metadata": {},
   "outputs": [],
   "source": [
    "# Make sure you have downloaded the StanfordNLP English model and other essential tools using,\n",
    "# stanfordnlp.download('en')\n",
    "# nltk.download('stopwords')\n",
    "# nltk.download('punkt')\n",
    "# nltk.download('averaged_perceptron_tagger')\n",
    "\n",
    "def aspect_sentiment_analysis(txt, stop_words, nlp):\n",
    "    \n",
    "    txt = txt.lower() # LowerCasing the given Text\n",
    "    sentList = nltk.sent_tokenize(txt) # Splitting the text into sentences\n",
    "\n",
    "    fcluster = []\n",
    "    totalfeatureList = []\n",
    "    finalcluster = []\n",
    "    dic = {}\n",
    "\n",
    "    for line in sentList:\n",
    "        newtaggedList = []\n",
    "        txt_list = nltk.word_tokenize(line) # Splitting up into words\n",
    "        taggedList = nltk.pos_tag(txt_list) # Doing Part-of-Speech Tagging to each word\n",
    "\n",
    "        newwordList = []\n",
    "        flag = 0\n",
    "        for i in range(0,len(taggedList)-1):\n",
    "            if(taggedList[i][1]==\"NN\" and taggedList[i+1][1]==\"NN\"): # If two consecutive words are Nouns then they are joined together\n",
    "                newwordList.append(taggedList[i][0]+taggedList[i+1][0])\n",
    "                flag=1\n",
    "            else:\n",
    "                if(flag==1):\n",
    "                    flag=0\n",
    "                    continue\n",
    "                newwordList.append(taggedList[i][0])\n",
    "                if(i==len(taggedList)-2):\n",
    "                    newwordList.append(taggedList[i+1][0])\n",
    "\n",
    "        finaltxt = ' '.join(word for word in newwordList) \n",
    "        new_txt_list = nltk.word_tokenize(finaltxt)\n",
    "        wordsList = [w for w in new_txt_list if not w in stop_words]\n",
    "        wordsList = [w for w in wordsList if not w in string.punctuation]\n",
    "        taggedList = nltk.pos_tag(wordsList)\n",
    "        #print(finaltxt)\n",
    "\n",
    "        #doc = nlp(txt) # Object of Stanford NLP Pipeline\n",
    "        doc = nlp(finaltxt) # Object of Stanford NLP Pipeline\n",
    "        #print(doc)\n",
    "        \n",
    "        # Getting the dependency relations betwwen the words\n",
    "        dep_node = []\n",
    "        for dep_edge in doc.sentences[0].dependencies:\n",
    "            #print(dep_edge[0].text)\n",
    "            #print(dep_edge[1])\n",
    "            #print(\"------------------------------\")\n",
    "            if(not dep_edge[2].text in string.punctuation):\n",
    "                dep_node.append([dep_edge[2].text, dep_edge[0].id, dep_edge[1]])\n",
    "\n",
    "        #print(len(newwordList))\n",
    "        #print(len(dep_node))\n",
    "        # Coverting it into appropriate format\n",
    "        for i in range(0, len(dep_node)):\n",
    "            if (int(dep_node[i][1]) != 0):\n",
    "                #print(int(dep_node[i][1])\n",
    "                try:\n",
    "                    dep_node[i][1] = newwordList[(int(dep_node[i][1]) - 1)]\n",
    "                except:\n",
    "                    dep_node[i][1] = \"\"\n",
    "\n",
    "        featureList = []\n",
    "        categories = []\n",
    "        #print(taggedList)\n",
    "        for i in taggedList:\n",
    "            if(i[1]=='JJ' or i[1]=='NN' or i[1]=='JJR' or i[1]=='NNS' or i[1]=='RB'):\n",
    "                featureList.append(list(i)) # For features for each sentence\n",
    "                totalfeatureList.append(list(i)) # Stores the features of all the sentences in the text\n",
    "                categories.append(i[0])\n",
    "\n",
    "        for i in featureList:\n",
    "            filist = []\n",
    "            for j in dep_node:\n",
    "                #print(j)\n",
    "                if((j[0]==i[0] or j[1]==i[0]) and (j[2] in [\"nsubj\", \"acl:relcl\", \"obj\", \"dobj\", \"agent\", \"advmod\", \"amod\", \"neg\", \"prep_of\", \"acomp\", \"xcomp\", \"compound\"])):\n",
    "                    if(j[0]==i[0]):\n",
    "                        filist.append(j[1])\n",
    "                    else:\n",
    "                        filist.append(j[0])\n",
    "            fcluster.append([i[0], filist])\n",
    "            \n",
    "    #print(fcluster)\n",
    "    for i in totalfeatureList:\n",
    "        dic[i[0]] = i[1]\n",
    "    \n",
    "    for i in fcluster:\n",
    "        if(dic[i[0]]==\"NN\"):\n",
    "            finalcluster.append(i)\n",
    "        \n",
    "    return(finalcluster)"
   ]
  },
  {
   "cell_type": "code",
   "execution_count": 7,
   "id": "589e4c4c",
   "metadata": {},
   "outputs": [],
   "source": [
    "stop_words = set(stopwords.words('english'))"
   ]
  },
  {
   "cell_type": "code",
   "execution_count": 8,
   "id": "07b9546e",
   "metadata": {},
   "outputs": [
    {
     "name": "stderr",
     "output_type": "stream",
     "text": [
      "<ipython-input-8-73aa92dc8c22>:4: SettingWithCopyWarning: \n",
      "A value is trying to be set on a copy of a slice from a DataFrame.\n",
      "Try using .loc[row_indexer,col_indexer] = value instead\n",
      "\n",
      "See the caveats in the documentation: https://pandas.pydata.org/pandas-docs/stable/user_guide/indexing.html#returning-a-view-versus-a-copy\n",
      "  yelp_reviews_filtered['absa_pred']=yelp_reviews_filtered['text']\n"
     ]
    }
   ],
   "source": [
    "# Import reviews data\n",
    "yelp_reviews = pd.read_feather('../../FilteredData/review_philly.feather')\n",
    "yelp_reviews_filtered = yelp_reviews[['review_id', 'user_id', 'business_id', 'text', 'stars']]\n",
    "yelp_reviews_filtered['absa_pred']=yelp_reviews_filtered['text']"
   ]
  },
  {
   "cell_type": "code",
   "execution_count": 9,
   "id": "060b3bb3",
   "metadata": {},
   "outputs": [
    {
     "name": "stderr",
     "output_type": "stream",
     "text": [
      "<ipython-input-9-33fdfd123100>:4: SettingWithCopyWarning: \n",
      "A value is trying to be set on a copy of a slice from a DataFrame\n",
      "\n",
      "See the caveats in the documentation: https://pandas.pydata.org/pandas-docs/stable/user_guide/indexing.html#returning-a-view-versus-a-copy\n",
      "  yelp_reviews_filtered['absa_pred'][i] = aspect_sentiment_analysis(txt, stop_words, nlp)\n",
      "C:\\Users\\msuryana\\Anaconda3\\lib\\site-packages\\IPython\\core\\interactiveshell.py:3437: SettingWithCopyWarning: \n",
      "A value is trying to be set on a copy of a slice from a DataFrame\n",
      "\n",
      "See the caveats in the documentation: https://pandas.pydata.org/pandas-docs/stable/user_guide/indexing.html#returning-a-view-versus-a-copy\n",
      "  exec(code_obj, self.user_global_ns, self.user_ns)\n"
     ]
    }
   ],
   "source": [
    "for i in range(yelp_reviews_filtered.shape[0]):\n",
    "    txt = yelp_reviews_filtered['text'][i]\n",
    "    try:\n",
    "        yelp_reviews_filtered['absa_pred'][i] = aspect_sentiment_analysis(txt, stop_words, nlp)\n",
    "    except:\n",
    "        yelp_reviews_filtered['absa_pred'][i] = \"FAILED\""
   ]
  },
  {
   "cell_type": "code",
   "execution_count": 10,
   "id": "710de260",
   "metadata": {},
   "outputs": [],
   "source": [
    "yelp_reviews_filtered.to_csv('predicted_absa.csv')"
   ]
  }
 ],
 "metadata": {
  "kernelspec": {
   "display_name": "Python 3",
   "language": "python",
   "name": "python3"
  },
  "language_info": {
   "codemirror_mode": {
    "name": "ipython",
    "version": 3
   },
   "file_extension": ".py",
   "mimetype": "text/x-python",
   "name": "python",
   "nbconvert_exporter": "python",
   "pygments_lexer": "ipython3",
   "version": "3.8.8"
  }
 },
 "nbformat": 4,
 "nbformat_minor": 5
}
