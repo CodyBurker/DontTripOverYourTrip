{
 "cells": [
  {
   "cell_type": "code",
   "execution_count": 1,
   "metadata": {},
   "outputs": [
    {
     "name": "stderr",
     "output_type": "stream",
     "text": [
      "c:\\Users\\Cody\\anaconda3\\envs\\lightfm\\lib\\site-packages\\lightfm\\_lightfm_fast.py:9: UserWarning: LightFM was compiled without OpenMP support. Only a single thread will be used.\n",
      "  warnings.warn(\n"
     ]
    }
   ],
   "source": [
    "# # Read in data\n",
    "import pandas as pd\n",
    "import numpy as np\n",
    "# Import important lightfm stuff\n",
    "from lightfm import LightFM\n",
    "from lightfm.evaluation import precision_at_k,auc_score,reciprocal_rank\n",
    "from lightfm.data import Dataset\n",
    "from lightfm import LightFM, cross_validation"
   ]
  },
  {
   "cell_type": "code",
   "execution_count": 2,
   "metadata": {},
   "outputs": [],
   "source": [
    "philly_bus = pd.read_feather('FilteredData/business_philly.feather')\n",
    "philly_reviews = pd.read_feather('FilteredData/review_philly.feather')\n",
    "philly_users = pd.read_feather('FilteredData/user_philly.feather')"
   ]
  },
  {
   "cell_type": "code",
   "execution_count": 3,
   "metadata": {},
   "outputs": [],
   "source": [
    "# Sample data down to less reviews\n",
    "# philly_reviews = philly_reviews_orig.sample(n=100000, random_state=42)\n",
    "# print(f'Total Reviews: {len(philly_reviews):,}')"
   ]
  },
  {
   "cell_type": "code",
   "execution_count": 4,
   "metadata": {},
   "outputs": [
    {
     "name": "stdout",
     "output_type": "stream",
     "text": [
      "Number of training interactions: 641,310\n",
      "Number of test interactions: 213,770\n"
     ]
    }
   ],
   "source": [
    "# Create lightfm dataset\n",
    "dataset = Dataset()\n",
    "dataset.fit(\n",
    "    philly_reviews['user_id'].unique(),\n",
    "    philly_reviews['business_id'].unique()\n",
    ")\n",
    "(interactions, weights) = dataset.build_interactions(\n",
    "    (row['user_id'], row['business_id']) for index, row in philly_reviews.iterrows()\n",
    ")\n",
    "train, test = cross_validation.random_train_test_split(\n",
    "    interactions, test_percentage=0.25, random_state=np.random.RandomState(42))\n",
    "print(f'Number of training interactions: {train.nnz:,}')\n",
    "print(f'Number of test interactions: {test.nnz:,}')"
   ]
  },
  {
   "cell_type": "code",
   "execution_count": 5,
   "metadata": {},
   "outputs": [
    {
     "name": "stdout",
     "output_type": "stream",
     "text": [
      "Number of training subset interactions: 577,179\n",
      "Number of test subset interactions: 64,131\n"
     ]
    }
   ],
   "source": [
    "# Create subset for training\n",
    "train_subset, test_subset = cross_validation.random_train_test_split(\n",
    "    train, test_percentage=0.1, random_state=np.random.RandomState(42)\n",
    "    )\n",
    "print(f'Number of training subset interactions: {train_subset.nnz:,}')\n",
    "print(f'Number of test subset interactions: {test_subset.nnz:,}')"
   ]
  },
  {
   "cell_type": "code",
   "execution_count": 6,
   "metadata": {},
   "outputs": [],
   "source": [
    "# # No luck getting this to work\n",
    "\n",
    "# # Set up differential evolution\n",
    "# from scipy.optimize import differential_evolution\n",
    "# from lightfm.evaluation import precision_at_k\n",
    "# from lightfm.evaluation import auc_score\n",
    "\n",
    "# def hyperparameter_tuning(hyperparameters):\n",
    "#     print(f'Creating new model with hyperparameters: {hyperparameters}')\n",
    "#     model = LightFM(\n",
    "#         no_components=int(hyperparameters[0]),\n",
    "#         loss='warp',\n",
    "#         learning_rate=hyperparameters[1],\n",
    "#         random_state=42\n",
    "#     )\n",
    "#     print('Fitting model')\n",
    "#     model.fit(train, epochs=10)\n",
    "#     test_auc = auc_score(model, test).mean()\n",
    "#     return (1- test_auc)\n",
    "\n",
    "# bounds = [(5, 100), # no_components\n",
    "#             (1e-5, 1e-1), # learning_rate\n",
    "# ]"
   ]
  },
  {
   "cell_type": "code",
   "execution_count": 7,
   "metadata": {},
   "outputs": [],
   "source": [
    "# Set up grid search\n",
    "from sklearn.model_selection import ParameterGrid\n",
    "from lightfm.evaluation import auc_score\n",
    "# Create grid for hyperparameter search\n",
    "param_grid = {\n",
    "    'no_components': [5, 10, 20, 50, 100],\n",
    "    'learning_rate': [1e-5, 1e-4, 1e-3, 1e-2, 1e-1]\n",
    "}\n",
    "# Create grid search\n",
    "grid = ParameterGrid(param_grid)\n",
    "# Create empty list to store results\n",
    "results = []"
   ]
  },
  {
   "cell_type": "code",
   "execution_count": 8,
   "metadata": {},
   "outputs": [],
   "source": [
    "# Function to create and fit model\n",
    "# And return AUC score\n",
    "# So that we can multithread this\n",
    "def create_and_fit_model(params):\n",
    "    model = LightFM(\n",
    "        no_components=params['no_components'],\n",
    "        loss='warp',\n",
    "        learning_rate=params['learning_rate'],\n",
    "        random_state=42\n",
    "    )\n",
    "    model.fit(train_subset, epochs=10)\n",
    "    test_auc = auc_score(model, test_subset).mean()\n",
    "    return (test_auc, params)"
   ]
  },
  {
   "cell_type": "code",
   "execution_count": 9,
   "metadata": {},
   "outputs": [
    {
     "data": {
      "text/plain": [
       "(0.53296894, {'no_components': 5, 'learning_rate': 1e-05})"
      ]
     },
     "execution_count": 9,
     "metadata": {},
     "output_type": "execute_result"
    }
   ],
   "source": [
    "# Test function\n",
    "create_and_fit_model({'no_components': 5, 'learning_rate': 1e-5})"
   ]
  },
  {
   "cell_type": "code",
   "execution_count": 11,
   "metadata": {},
   "outputs": [],
   "source": [
    "%%time\n",
    "# Train over grid\n",
    "from joblib import Parallel, delayed\n",
    "import multiprocessing\n",
    "num_cores = multiprocessing.cpu_count()\n",
    "results = Parallel(n_jobs=num_cores)(delayed(create_and_fit_model)(params) for params in grid)\n"
   ]
  },
  {
   "cell_type": "code",
   "execution_count": null,
   "metadata": {},
   "outputs": [
    {
     "ename": "ValueError",
     "evalue": "too many values to unpack (expected 2)",
     "output_type": "error",
     "traceback": [
      "\u001b[1;31m---------------------------------------------------------------------------\u001b[0m",
      "\u001b[1;31mValueError\u001b[0m                                Traceback (most recent call last)",
      "Cell \u001b[1;32mIn [59], line 2\u001b[0m\n\u001b[0;32m      1\u001b[0m \u001b[39m# Unnest params in results\u001b[39;00m\n\u001b[1;32m----> 2\u001b[0m results \u001b[39m=\u001b[39m [(auc, params[\u001b[39m'\u001b[39m\u001b[39mno_components\u001b[39m\u001b[39m'\u001b[39m], params[\u001b[39m'\u001b[39m\u001b[39mlearning_rate\u001b[39m\u001b[39m'\u001b[39m]) \u001b[39mfor\u001b[39;00m auc, params \u001b[39min\u001b[39;00m results]\n",
      "Cell \u001b[1;32mIn [59], line 2\u001b[0m, in \u001b[0;36m<listcomp>\u001b[1;34m(.0)\u001b[0m\n\u001b[0;32m      1\u001b[0m \u001b[39m# Unnest params in results\u001b[39;00m\n\u001b[1;32m----> 2\u001b[0m results \u001b[39m=\u001b[39m [(auc, params[\u001b[39m'\u001b[39m\u001b[39mno_components\u001b[39m\u001b[39m'\u001b[39m], params[\u001b[39m'\u001b[39m\u001b[39mlearning_rate\u001b[39m\u001b[39m'\u001b[39m]) \u001b[39mfor\u001b[39;00m auc, params \u001b[39min\u001b[39;00m results]\n",
      "\u001b[1;31mValueError\u001b[0m: too many values to unpack (expected 2)"
     ]
    }
   ],
   "source": [
    "# Unnest params in results\n",
    "results = [(auc, params['no_components'], params['learning_rate']) for auc, params in results]"
   ]
  },
  {
   "cell_type": "code",
   "execution_count": null,
   "metadata": {},
   "outputs": [
    {
     "data": {
      "text/html": [
       "<div>\n",
       "<style scoped>\n",
       "    .dataframe tbody tr th:only-of-type {\n",
       "        vertical-align: middle;\n",
       "    }\n",
       "\n",
       "    .dataframe tbody tr th {\n",
       "        vertical-align: top;\n",
       "    }\n",
       "\n",
       "    .dataframe thead th {\n",
       "        text-align: right;\n",
       "    }\n",
       "</style>\n",
       "<table border=\"1\" class=\"dataframe\">\n",
       "  <thead>\n",
       "    <tr style=\"text-align: right;\">\n",
       "      <th></th>\n",
       "      <th>auc_score</th>\n",
       "      <th>no_components</th>\n",
       "      <th>learning_rate</th>\n",
       "    </tr>\n",
       "  </thead>\n",
       "  <tbody>\n",
       "    <tr>\n",
       "      <th>19</th>\n",
       "      <td>0.799098</td>\n",
       "      <td>100</td>\n",
       "      <td>0.01000</td>\n",
       "    </tr>\n",
       "    <tr>\n",
       "      <th>18</th>\n",
       "      <td>0.797359</td>\n",
       "      <td>50</td>\n",
       "      <td>0.01000</td>\n",
       "    </tr>\n",
       "    <tr>\n",
       "      <th>14</th>\n",
       "      <td>0.797255</td>\n",
       "      <td>100</td>\n",
       "      <td>0.00100</td>\n",
       "    </tr>\n",
       "    <tr>\n",
       "      <th>9</th>\n",
       "      <td>0.797188</td>\n",
       "      <td>100</td>\n",
       "      <td>0.00010</td>\n",
       "    </tr>\n",
       "    <tr>\n",
       "      <th>15</th>\n",
       "      <td>0.797017</td>\n",
       "      <td>5</td>\n",
       "      <td>0.01000</td>\n",
       "    </tr>\n",
       "    <tr>\n",
       "      <th>16</th>\n",
       "      <td>0.796832</td>\n",
       "      <td>10</td>\n",
       "      <td>0.01000</td>\n",
       "    </tr>\n",
       "    <tr>\n",
       "      <th>13</th>\n",
       "      <td>0.796424</td>\n",
       "      <td>50</td>\n",
       "      <td>0.00100</td>\n",
       "    </tr>\n",
       "    <tr>\n",
       "      <th>17</th>\n",
       "      <td>0.796266</td>\n",
       "      <td>20</td>\n",
       "      <td>0.01000</td>\n",
       "    </tr>\n",
       "    <tr>\n",
       "      <th>12</th>\n",
       "      <td>0.795909</td>\n",
       "      <td>20</td>\n",
       "      <td>0.00100</td>\n",
       "    </tr>\n",
       "    <tr>\n",
       "      <th>11</th>\n",
       "      <td>0.795351</td>\n",
       "      <td>10</td>\n",
       "      <td>0.00100</td>\n",
       "    </tr>\n",
       "    <tr>\n",
       "      <th>8</th>\n",
       "      <td>0.795224</td>\n",
       "      <td>50</td>\n",
       "      <td>0.00010</td>\n",
       "    </tr>\n",
       "    <tr>\n",
       "      <th>10</th>\n",
       "      <td>0.786723</td>\n",
       "      <td>5</td>\n",
       "      <td>0.00100</td>\n",
       "    </tr>\n",
       "    <tr>\n",
       "      <th>4</th>\n",
       "      <td>0.784453</td>\n",
       "      <td>100</td>\n",
       "      <td>0.00001</td>\n",
       "    </tr>\n",
       "    <tr>\n",
       "      <th>7</th>\n",
       "      <td>0.781411</td>\n",
       "      <td>20</td>\n",
       "      <td>0.00010</td>\n",
       "    </tr>\n",
       "    <tr>\n",
       "      <th>20</th>\n",
       "      <td>0.772152</td>\n",
       "      <td>5</td>\n",
       "      <td>0.10000</td>\n",
       "    </tr>\n",
       "    <tr>\n",
       "      <th>23</th>\n",
       "      <td>0.762363</td>\n",
       "      <td>50</td>\n",
       "      <td>0.10000</td>\n",
       "    </tr>\n",
       "    <tr>\n",
       "      <th>24</th>\n",
       "      <td>0.761217</td>\n",
       "      <td>100</td>\n",
       "      <td>0.10000</td>\n",
       "    </tr>\n",
       "    <tr>\n",
       "      <th>21</th>\n",
       "      <td>0.760114</td>\n",
       "      <td>10</td>\n",
       "      <td>0.10000</td>\n",
       "    </tr>\n",
       "    <tr>\n",
       "      <th>22</th>\n",
       "      <td>0.757496</td>\n",
       "      <td>20</td>\n",
       "      <td>0.10000</td>\n",
       "    </tr>\n",
       "    <tr>\n",
       "      <th>3</th>\n",
       "      <td>0.730805</td>\n",
       "      <td>50</td>\n",
       "      <td>0.00001</td>\n",
       "    </tr>\n",
       "    <tr>\n",
       "      <th>6</th>\n",
       "      <td>0.721347</td>\n",
       "      <td>10</td>\n",
       "      <td>0.00010</td>\n",
       "    </tr>\n",
       "    <tr>\n",
       "      <th>5</th>\n",
       "      <td>0.612610</td>\n",
       "      <td>5</td>\n",
       "      <td>0.00010</td>\n",
       "    </tr>\n",
       "    <tr>\n",
       "      <th>2</th>\n",
       "      <td>0.593668</td>\n",
       "      <td>20</td>\n",
       "      <td>0.00001</td>\n",
       "    </tr>\n",
       "    <tr>\n",
       "      <th>1</th>\n",
       "      <td>0.536759</td>\n",
       "      <td>10</td>\n",
       "      <td>0.00001</td>\n",
       "    </tr>\n",
       "    <tr>\n",
       "      <th>0</th>\n",
       "      <td>0.511465</td>\n",
       "      <td>5</td>\n",
       "      <td>0.00001</td>\n",
       "    </tr>\n",
       "  </tbody>\n",
       "</table>\n",
       "</div>"
      ],
      "text/plain": [
       "    auc_score  no_components  learning_rate\n",
       "19   0.799098            100        0.01000\n",
       "18   0.797359             50        0.01000\n",
       "14   0.797255            100        0.00100\n",
       "9    0.797188            100        0.00010\n",
       "15   0.797017              5        0.01000\n",
       "16   0.796832             10        0.01000\n",
       "13   0.796424             50        0.00100\n",
       "17   0.796266             20        0.01000\n",
       "12   0.795909             20        0.00100\n",
       "11   0.795351             10        0.00100\n",
       "8    0.795224             50        0.00010\n",
       "10   0.786723              5        0.00100\n",
       "4    0.784453            100        0.00001\n",
       "7    0.781411             20        0.00010\n",
       "20   0.772152              5        0.10000\n",
       "23   0.762363             50        0.10000\n",
       "24   0.761217            100        0.10000\n",
       "21   0.760114             10        0.10000\n",
       "22   0.757496             20        0.10000\n",
       "3    0.730805             50        0.00001\n",
       "6    0.721347             10        0.00010\n",
       "5    0.612610              5        0.00010\n",
       "2    0.593668             20        0.00001\n",
       "1    0.536759             10        0.00001\n",
       "0    0.511465              5        0.00001"
      ]
     },
     "execution_count": 60,
     "metadata": {},
     "output_type": "execute_result"
    }
   ],
   "source": [
    "pd.DataFrame(results, columns = ['auc_score', 'no_components','learning_rate']).sort_values('auc_score', ascending=False)"
   ]
  },
  {
   "cell_type": "code",
   "execution_count": null,
   "metadata": {},
   "outputs": [
    {
     "name": "stdout",
     "output_type": "stream",
     "text": [
      "Test AUC: 0.7991\n"
     ]
    }
   ],
   "source": [
    "# Use genetic algorithm to find best hyperparameters\n",
    "from tpot import TPOTClassifier\n",
    "# Use same train and test data as before\n",
    "# Sample train down to .1 of original size\n",
    "train = train.tocsr()\n",
    "train = train[:int(len(train)/10)]\n",
    "train = train.tocoo()\n",
    "# Use Genetic Algorithm to find best hyperparameters\n",
    "tpot = TPOTClassifier(\n",
    "    generations=5,\n",
    "    population_size=20,\n",
    "    "
   ]
  },
  {
   "cell_type": "code",
   "execution_count": null,
   "metadata": {},
   "outputs": [],
   "source": []
  }
 ],
 "metadata": {
  "kernelspec": {
   "display_name": "Python 3.9.13 ('lightfm')",
   "language": "python",
   "name": "python3"
  },
  "language_info": {
   "codemirror_mode": {
    "name": "ipython",
    "version": 3
   },
   "file_extension": ".py",
   "mimetype": "text/x-python",
   "name": "python",
   "nbconvert_exporter": "python",
   "pygments_lexer": "ipython3",
   "version": "3.9.13"
  },
  "orig_nbformat": 4,
  "vscode": {
   "interpreter": {
    "hash": "b6edbf9c204372b020a7874346a2b27de119d96e7d485f9c4895dbe57280a01f"
   }
  }
 },
 "nbformat": 4,
 "nbformat_minor": 2
}
