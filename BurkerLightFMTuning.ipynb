{
 "cells": [
  {
   "cell_type": "code",
   "execution_count": 1,
   "metadata": {},
   "outputs": [],
   "source": [
    "# Read in data\n",
    "import pandas as pd\n",
    "import numpy as np"
   ]
  },
  {
   "cell_type": "markdown",
   "metadata": {},
   "source": [
    "## Read in Data"
   ]
  },
  {
   "cell_type": "code",
   "execution_count": 41,
   "metadata": {},
   "outputs": [],
   "source": [
    "philly_bus = pd.read_feather('FilteredData/business_philly.feather')\n",
    "philly_reviews = pd.read_feather('FilteredData/review_philly.feather')\n",
    "philly_users = pd.read_feather('FilteredData/user_philly.feather')"
   ]
  },
  {
   "cell_type": "code",
   "execution_count": 47,
   "metadata": {},
   "outputs": [
    {
     "data": {
      "text/html": [
       "<div>\n",
       "<style scoped>\n",
       "    .dataframe tbody tr th:only-of-type {\n",
       "        vertical-align: middle;\n",
       "    }\n",
       "\n",
       "    .dataframe tbody tr th {\n",
       "        vertical-align: top;\n",
       "    }\n",
       "\n",
       "    .dataframe thead th {\n",
       "        text-align: right;\n",
       "    }\n",
       "</style>\n",
       "<table border=\"1\" class=\"dataframe\">\n",
       "  <thead>\n",
       "    <tr style=\"text-align: right;\">\n",
       "      <th></th>\n",
       "      <th>index</th>\n",
       "      <th>_id</th>\n",
       "      <th>business_id</th>\n",
       "      <th>name</th>\n",
       "      <th>address</th>\n",
       "      <th>city</th>\n",
       "      <th>state</th>\n",
       "      <th>postal_code</th>\n",
       "      <th>latitude</th>\n",
       "      <th>longitude</th>\n",
       "      <th>...</th>\n",
       "      <th>review_count</th>\n",
       "      <th>is_open</th>\n",
       "      <th>attributes</th>\n",
       "      <th>categories</th>\n",
       "      <th>hours</th>\n",
       "      <th>positive_%</th>\n",
       "      <th>bucketed_average_stars_received</th>\n",
       "      <th>bucketed_sentiment_scores_received</th>\n",
       "      <th>bucketed_review_count</th>\n",
       "      <th>categories_2</th>\n",
       "    </tr>\n",
       "  </thead>\n",
       "  <tbody>\n",
       "    <tr>\n",
       "      <th>0</th>\n",
       "      <td>31</td>\n",
       "      <td>631ea3b2a5cde8cc0d6eec47</td>\n",
       "      <td>-0M0b-XhtFagyLmsBtOe8w</td>\n",
       "      <td>Paris Wine Bar</td>\n",
       "      <td>2303 Fairmount Ave</td>\n",
       "      <td>Philadelphia</td>\n",
       "      <td>PA</td>\n",
       "      <td>19130</td>\n",
       "      <td>39.967439</td>\n",
       "      <td>-75.175452</td>\n",
       "      <td>...</td>\n",
       "      <td>18</td>\n",
       "      <td>0</td>\n",
       "      <td>{'Alcohol': \"u'full_bar'\", 'OutdoorSeating': '...</td>\n",
       "      <td>Bars, Nightlife, Restaurants, French, Wine Bars</td>\n",
       "      <td>{'Thursday': '17:0-0:0', 'Friday': '17:0-0:0',...</td>\n",
       "      <td>0.722222</td>\n",
       "      <td>more_than_3_up_to_4</td>\n",
       "      <td>more_than_60_up_to_80_percent</td>\n",
       "      <td>more_than_10_up_to_25</td>\n",
       "      <td>[B, a, r, s, ,, , N, i, g, h, t, l, i, f, e, ,...</td>\n",
       "    </tr>\n",
       "    <tr>\n",
       "      <th>1</th>\n",
       "      <td>32</td>\n",
       "      <td>631ea3b0a5cde8cc0d6dfa60</td>\n",
       "      <td>-0PN_KFPtbnLQZEeb23XiA</td>\n",
       "      <td>Mr Wong's Chinese Restaurant</td>\n",
       "      <td>1849 Wolf St</td>\n",
       "      <td>Philadelphia</td>\n",
       "      <td>PA</td>\n",
       "      <td>19145</td>\n",
       "      <td>39.923048</td>\n",
       "      <td>-75.178078</td>\n",
       "      <td>...</td>\n",
       "      <td>9</td>\n",
       "      <td>0</td>\n",
       "      <td>{'OutdoorSeating': 'False', 'BusinessAcceptsCr...</td>\n",
       "      <td>Restaurants, Chinese</td>\n",
       "      <td>{'Monday': '11:0-23:0', 'Tuesday': '11:0-23:0'...</td>\n",
       "      <td>0.636364</td>\n",
       "      <td>more_than_3_up_to_4</td>\n",
       "      <td>more_than_60_up_to_80_percent</td>\n",
       "      <td>more_than_1_up_to_10</td>\n",
       "      <td>[R, e, s, t, a, u, r, a, n, t, s, ,, , C, h, i...</td>\n",
       "    </tr>\n",
       "    <tr>\n",
       "      <th>2</th>\n",
       "      <td>33</td>\n",
       "      <td>631ea3aea5cde8cc0d6d5a50</td>\n",
       "      <td>-0TffRSXXIlBYVbb5AwfTg</td>\n",
       "      <td>IndeBlue Modern Indian Food &amp; Spirits</td>\n",
       "      <td>205 South 13th St</td>\n",
       "      <td>Philadelphia</td>\n",
       "      <td>PA</td>\n",
       "      <td>19107</td>\n",
       "      <td>39.948508</td>\n",
       "      <td>-75.161969</td>\n",
       "      <td>...</td>\n",
       "      <td>1097</td>\n",
       "      <td>1</td>\n",
       "      <td>{'RestaurantsReservations': 'True', 'NoiseLeve...</td>\n",
       "      <td>Cocktail Bars, Food Delivery Services, Nightli...</td>\n",
       "      <td>{'Monday': '0:0-0:0', 'Tuesday': '16:0-22:0', ...</td>\n",
       "      <td>0.874780</td>\n",
       "      <td>more_than_4</td>\n",
       "      <td>more_than_80_percent</td>\n",
       "      <td>more_than_100</td>\n",
       "      <td>[C, o, c, k, t, a, i, l, , B, a, r, s, ,, , F,...</td>\n",
       "    </tr>\n",
       "    <tr>\n",
       "      <th>3</th>\n",
       "      <td>37</td>\n",
       "      <td>631ea3b0a5cde8cc0d6e2ef1</td>\n",
       "      <td>-0eUa8TsXFFy0FCxHYmrjg</td>\n",
       "      <td>Waterfront Gourmet Cafe &amp; Deli</td>\n",
       "      <td>3131 Walnut St</td>\n",
       "      <td>Philadelphia</td>\n",
       "      <td>PA</td>\n",
       "      <td>19104</td>\n",
       "      <td>39.952446</td>\n",
       "      <td>-75.187321</td>\n",
       "      <td>...</td>\n",
       "      <td>26</td>\n",
       "      <td>0</td>\n",
       "      <td>{'BikeParking': 'True', 'RestaurantsGoodForGro...</td>\n",
       "      <td>Caterers, Sandwiches, Delis, Restaurants, Cafe...</td>\n",
       "      <td>{'Monday': '7:0-20:0', 'Tuesday': '7:0-20:0', ...</td>\n",
       "      <td>0.821429</td>\n",
       "      <td>more_than_3_up_to_4</td>\n",
       "      <td>more_than_80_percent</td>\n",
       "      <td>more_than_25_up_to_50</td>\n",
       "      <td>[C, a, t, e, r, e, r, s, ,, , S, a, n, d, w, i...</td>\n",
       "    </tr>\n",
       "    <tr>\n",
       "      <th>4</th>\n",
       "      <td>40</td>\n",
       "      <td>631ea3ada5cde8cc0d6d26c0</td>\n",
       "      <td>-0fvhILrC9UsQ6gLNpZlTQ</td>\n",
       "      <td>David's Southern Fried Pies</td>\n",
       "      <td>8601 Frankford Ave</td>\n",
       "      <td>Philadelphia</td>\n",
       "      <td>PA</td>\n",
       "      <td>19136</td>\n",
       "      <td>40.046191</td>\n",
       "      <td>-75.015090</td>\n",
       "      <td>...</td>\n",
       "      <td>18</td>\n",
       "      <td>0</td>\n",
       "      <td>{'BusinessAcceptsBitcoin': 'False', 'Caters': ...</td>\n",
       "      <td>Desserts, Food</td>\n",
       "      <td>{'Monday': '0:0-0:0', 'Tuesday': '12:0-19:0', ...</td>\n",
       "      <td>0.894737</td>\n",
       "      <td>more_than_4</td>\n",
       "      <td>more_than_80_percent</td>\n",
       "      <td>more_than_10_up_to_25</td>\n",
       "      <td>[D, e, s, s, e, r, t, s, ,, , F, o, o, d]</td>\n",
       "    </tr>\n",
       "  </tbody>\n",
       "</table>\n",
       "<p>5 rows × 21 columns</p>\n",
       "</div>"
      ],
      "text/plain": [
       "   index                       _id             business_id  \\\n",
       "0     31  631ea3b2a5cde8cc0d6eec47  -0M0b-XhtFagyLmsBtOe8w   \n",
       "1     32  631ea3b0a5cde8cc0d6dfa60  -0PN_KFPtbnLQZEeb23XiA   \n",
       "2     33  631ea3aea5cde8cc0d6d5a50  -0TffRSXXIlBYVbb5AwfTg   \n",
       "3     37  631ea3b0a5cde8cc0d6e2ef1  -0eUa8TsXFFy0FCxHYmrjg   \n",
       "4     40  631ea3ada5cde8cc0d6d26c0  -0fvhILrC9UsQ6gLNpZlTQ   \n",
       "\n",
       "                                    name             address          city  \\\n",
       "0                         Paris Wine Bar  2303 Fairmount Ave  Philadelphia   \n",
       "1           Mr Wong's Chinese Restaurant        1849 Wolf St  Philadelphia   \n",
       "2  IndeBlue Modern Indian Food & Spirits   205 South 13th St  Philadelphia   \n",
       "3         Waterfront Gourmet Cafe & Deli      3131 Walnut St  Philadelphia   \n",
       "4            David's Southern Fried Pies  8601 Frankford Ave  Philadelphia   \n",
       "\n",
       "  state postal_code   latitude  longitude  ...  review_count  is_open  \\\n",
       "0    PA       19130  39.967439 -75.175452  ...            18        0   \n",
       "1    PA       19145  39.923048 -75.178078  ...             9        0   \n",
       "2    PA       19107  39.948508 -75.161969  ...          1097        1   \n",
       "3    PA       19104  39.952446 -75.187321  ...            26        0   \n",
       "4    PA       19136  40.046191 -75.015090  ...            18        0   \n",
       "\n",
       "                                          attributes  \\\n",
       "0  {'Alcohol': \"u'full_bar'\", 'OutdoorSeating': '...   \n",
       "1  {'OutdoorSeating': 'False', 'BusinessAcceptsCr...   \n",
       "2  {'RestaurantsReservations': 'True', 'NoiseLeve...   \n",
       "3  {'BikeParking': 'True', 'RestaurantsGoodForGro...   \n",
       "4  {'BusinessAcceptsBitcoin': 'False', 'Caters': ...   \n",
       "\n",
       "                                          categories  \\\n",
       "0    Bars, Nightlife, Restaurants, French, Wine Bars   \n",
       "1                               Restaurants, Chinese   \n",
       "2  Cocktail Bars, Food Delivery Services, Nightli...   \n",
       "3  Caterers, Sandwiches, Delis, Restaurants, Cafe...   \n",
       "4                                     Desserts, Food   \n",
       "\n",
       "                                               hours positive_%  \\\n",
       "0  {'Thursday': '17:0-0:0', 'Friday': '17:0-0:0',...   0.722222   \n",
       "1  {'Monday': '11:0-23:0', 'Tuesday': '11:0-23:0'...   0.636364   \n",
       "2  {'Monday': '0:0-0:0', 'Tuesday': '16:0-22:0', ...   0.874780   \n",
       "3  {'Monday': '7:0-20:0', 'Tuesday': '7:0-20:0', ...   0.821429   \n",
       "4  {'Monday': '0:0-0:0', 'Tuesday': '12:0-19:0', ...   0.894737   \n",
       "\n",
       "   bucketed_average_stars_received bucketed_sentiment_scores_received  \\\n",
       "0              more_than_3_up_to_4      more_than_60_up_to_80_percent   \n",
       "1              more_than_3_up_to_4      more_than_60_up_to_80_percent   \n",
       "2                      more_than_4               more_than_80_percent   \n",
       "3              more_than_3_up_to_4               more_than_80_percent   \n",
       "4                      more_than_4               more_than_80_percent   \n",
       "\n",
       "   bucketed_review_count                                       categories_2  \n",
       "0  more_than_10_up_to_25  [B, a, r, s, ,, , N, i, g, h, t, l, i, f, e, ,...  \n",
       "1   more_than_1_up_to_10  [R, e, s, t, a, u, r, a, n, t, s, ,, , C, h, i...  \n",
       "2          more_than_100  [C, o, c, k, t, a, i, l, , B, a, r, s, ,, , F,...  \n",
       "3  more_than_25_up_to_50  [C, a, t, e, r, e, r, s, ,, , S, a, n, d, w, i...  \n",
       "4  more_than_10_up_to_25          [D, e, s, s, e, r, t, s, ,, , F, o, o, d]  \n",
       "\n",
       "[5 rows x 21 columns]"
      ]
     },
     "execution_count": 47,
     "metadata": {},
     "output_type": "execute_result"
    }
   ],
   "source": [
    "philly_bus.head()"
   ]
  },
  {
   "cell_type": "code",
   "execution_count": 48,
   "metadata": {},
   "outputs": [],
   "source": [
    "# Import important lightfm stuff\n",
    "from lightfm import LightFM\n",
    "from lightfm.evaluation import precision_at_k,auc_score,reciprocal_rank\n",
    "from lightfm.data import Dataset\n",
    "from lightfm import LightFM, cross_validation"
   ]
  },
  {
   "cell_type": "code",
   "execution_count": 59,
   "metadata": {},
   "outputs": [],
   "source": [
    "# Turn categories_2 into a list of lists\n",
    "philly_bus['categories_2'] = philly_bus['categories'].str.split(', ')\n",
    "philly_bus['categories_2'] = philly_bus['categories_2'].fillna('')\n",
    "# philly_bus['categories_2'] = philly_bus['categories'].apply(lambda x: [i.strip() for i in x])\n",
    "# # Turn categories into a set of binary columns\n",
    "philly_bus_categories = philly_bus.join(philly_bus['categories_2'].str.join('|').str.get_dummies())"
   ]
  },
  {
   "cell_type": "code",
   "execution_count": 60,
   "metadata": {},
   "outputs": [
    {
     "data": {
      "text/plain": [
       "['Bars', 'Nightlife', 'Restaurants', 'French', 'Wine Bars']"
      ]
     },
     "execution_count": 60,
     "metadata": {},
     "output_type": "execute_result"
    }
   ],
   "source": [
    "philly_bus.iloc[0]['categories_2'] # Check that it worked"
   ]
  },
  {
   "cell_type": "code",
   "execution_count": 61,
   "metadata": {},
   "outputs": [
    {
     "data": {
      "text/plain": [
       "821"
      ]
     },
     "execution_count": 61,
     "metadata": {},
     "output_type": "execute_result"
    }
   ],
   "source": [
    "# Get number of columns in philly_bus2\n",
    "len(philly_bus_categories.columns) # 820"
   ]
  },
  {
   "cell_type": "code",
   "execution_count": 62,
   "metadata": {},
   "outputs": [
    {
     "data": {
      "text/plain": [
       "800"
      ]
     },
     "execution_count": 62,
     "metadata": {},
     "output_type": "execute_result"
    }
   ],
   "source": [
    "# Get number of unique categories\n",
    "len(philly_bus['categories_2'].explode().unique()) "
   ]
  },
  {
   "cell_type": "code",
   "execution_count": 65,
   "metadata": {},
   "outputs": [],
   "source": [
    "# Create lightfm dataset\n",
    "dataset = Dataset()\n",
    "dataset.fit(\n",
    "    philly_reviews['user_id'].unique(),\n",
    "    philly_reviews['business_id'].unique(),\n",
    "    item_features=philly_bus_categories.iloc[:, 20:] # Only use the binary columns\n",
    ")\n",
    "(interactions, weights) = dataset.build_interactions(\n",
    "    (row['user_id'], row['business_id']) for index, row in philly_reviews.iterrows()\n",
    ")"
   ]
  },
  {
   "cell_type": "code",
   "execution_count": 68,
   "metadata": {},
   "outputs": [
    {
     "data": {
      "text/plain": [
       "<lightfm.lightfm.LightFM at 0x2329138b130>"
      ]
     },
     "execution_count": 68,
     "metadata": {},
     "output_type": "execute_result"
    }
   ],
   "source": [
    "train, test = cross_validation.random_train_test_split(interactions, test_percentage=0.25, random_state=np.random.RandomState(42))\n",
    "model = LightFM()\n",
    "model.fit(train, epochs=30, num_threads=4) # Train the model"
   ]
  },
  {
   "cell_type": "code",
   "execution_count": 69,
   "metadata": {},
   "outputs": [
    {
     "name": "stdout",
     "output_type": "stream",
     "text": [
      "AUC: 0.84577495\n"
     ]
    }
   ],
   "source": [
    "from lightfm.evaluation import auc_score\n",
    "test_auc = auc_score(\n",
    "    model,\n",
    "    test,\n",
    ").mean() # Calculate AUC score\n",
    "print('AUC: %s' % test_auc) # Print AUC score"
   ]
  },
  {
   "cell_type": "code",
   "execution_count": 70,
   "metadata": {},
   "outputs": [
    {
     "name": "stdout",
     "output_type": "stream",
     "text": [
      "AUC: 0.8411865\n"
     ]
    }
   ],
   "source": [
    "# Tweak the model to improve AUC score\n",
    "model = LightFM(loss='warp') # Weighted Approximate-Rank Pairwise\n",
    "model.fit(train, epochs=30, num_threads=4) # Train the model\n",
    "test_auc = auc_score(\n",
    "    model,\n",
    "    test,\n",
    ").mean() # Calculate AUC score\n",
    "print('AUC: %s' % test_auc) # Print AUC score"
   ]
  },
  {
   "cell_type": "code",
   "execution_count": 71,
   "metadata": {},
   "outputs": [
    {
     "name": "stdout",
     "output_type": "stream",
     "text": [
      "AUC: 0.840174\n",
      "Number of components: 10\n",
      "\n",
      "AUC: 0.84201723\n",
      "Number of components: 20\n",
      "\n",
      "AUC: 0.84220904\n",
      "Number of components: 30\n",
      "\n",
      "AUC: 0.84134126\n",
      "Number of components: 40\n",
      "\n",
      "AUC: 0.8427962\n",
      "Number of components: 50\n",
      "\n",
      "AUC: 0.84230494\n",
      "Number of components: 60\n",
      "\n",
      "AUC: 0.8430825\n",
      "Number of components: 70\n",
      "\n"
     ]
    },
    {
     "ename": "KeyboardInterrupt",
     "evalue": "",
     "output_type": "error",
     "traceback": [
      "\u001b[1;31m---------------------------------------------------------------------------\u001b[0m",
      "\u001b[1;31mKeyboardInterrupt\u001b[0m                         Traceback (most recent call last)",
      "Cell \u001b[1;32mIn [71], line 5\u001b[0m\n\u001b[0;32m      3\u001b[0m \u001b[39mfor\u001b[39;00m i \u001b[39min\u001b[39;00m component_list:\n\u001b[0;32m      4\u001b[0m     model \u001b[39m=\u001b[39m LightFM(loss\u001b[39m=\u001b[39m\u001b[39m'\u001b[39m\u001b[39mwarp\u001b[39m\u001b[39m'\u001b[39m, no_components\u001b[39m=\u001b[39mi)\n\u001b[1;32m----> 5\u001b[0m     model\u001b[39m.\u001b[39;49mfit(train, epochs\u001b[39m=\u001b[39;49m\u001b[39m30\u001b[39;49m, num_threads\u001b[39m=\u001b[39;49m\u001b[39m4\u001b[39;49m) \u001b[39m# Train the model\u001b[39;00m\n\u001b[0;32m      6\u001b[0m     test_auc \u001b[39m=\u001b[39m auc_score(\n\u001b[0;32m      7\u001b[0m         model,\n\u001b[0;32m      8\u001b[0m         test,\n\u001b[0;32m      9\u001b[0m     )\u001b[39m.\u001b[39mmean() \u001b[39m# Calculate AUC score\u001b[39;00m\n\u001b[0;32m     10\u001b[0m     \u001b[39mprint\u001b[39m(\u001b[39m'\u001b[39m\u001b[39mAUC: \u001b[39m\u001b[39m%s\u001b[39;00m\u001b[39m'\u001b[39m \u001b[39m%\u001b[39m test_auc) \u001b[39m# Print AUC score\u001b[39;00m\n",
      "File \u001b[1;32mc:\\Users\\Cody\\anaconda3\\envs\\lightfm\\lib\\site-packages\\lightfm\\lightfm.py:533\u001b[0m, in \u001b[0;36mLightFM.fit\u001b[1;34m(self, interactions, user_features, item_features, sample_weight, epochs, num_threads, verbose)\u001b[0m\n\u001b[0;32m    530\u001b[0m \u001b[39m# Discard old results, if any\u001b[39;00m\n\u001b[0;32m    531\u001b[0m \u001b[39mself\u001b[39m\u001b[39m.\u001b[39m_reset_state()\n\u001b[1;32m--> 533\u001b[0m \u001b[39mreturn\u001b[39;00m \u001b[39mself\u001b[39;49m\u001b[39m.\u001b[39;49mfit_partial(\n\u001b[0;32m    534\u001b[0m     interactions,\n\u001b[0;32m    535\u001b[0m     user_features\u001b[39m=\u001b[39;49muser_features,\n\u001b[0;32m    536\u001b[0m     item_features\u001b[39m=\u001b[39;49mitem_features,\n\u001b[0;32m    537\u001b[0m     sample_weight\u001b[39m=\u001b[39;49msample_weight,\n\u001b[0;32m    538\u001b[0m     epochs\u001b[39m=\u001b[39;49mepochs,\n\u001b[0;32m    539\u001b[0m     num_threads\u001b[39m=\u001b[39;49mnum_threads,\n\u001b[0;32m    540\u001b[0m     verbose\u001b[39m=\u001b[39;49mverbose,\n\u001b[0;32m    541\u001b[0m )\n",
      "File \u001b[1;32mc:\\Users\\Cody\\anaconda3\\envs\\lightfm\\lib\\site-packages\\lightfm\\lightfm.py:638\u001b[0m, in \u001b[0;36mLightFM.fit_partial\u001b[1;34m(self, interactions, user_features, item_features, sample_weight, epochs, num_threads, verbose)\u001b[0m\n\u001b[0;32m    635\u001b[0m     \u001b[39mraise\u001b[39;00m \u001b[39mValueError\u001b[39;00m(\u001b[39m\"\u001b[39m\u001b[39mNumber of threads must be 1 or larger.\u001b[39m\u001b[39m\"\u001b[39m)\n\u001b[0;32m    637\u001b[0m \u001b[39mfor\u001b[39;00m _ \u001b[39min\u001b[39;00m \u001b[39mself\u001b[39m\u001b[39m.\u001b[39m_progress(epochs, verbose\u001b[39m=\u001b[39mverbose):\n\u001b[1;32m--> 638\u001b[0m     \u001b[39mself\u001b[39;49m\u001b[39m.\u001b[39;49m_run_epoch(\n\u001b[0;32m    639\u001b[0m         item_features,\n\u001b[0;32m    640\u001b[0m         user_features,\n\u001b[0;32m    641\u001b[0m         interactions,\n\u001b[0;32m    642\u001b[0m         sample_weight_data,\n\u001b[0;32m    643\u001b[0m         num_threads,\n\u001b[0;32m    644\u001b[0m         \u001b[39mself\u001b[39;49m\u001b[39m.\u001b[39;49mloss,\n\u001b[0;32m    645\u001b[0m     )\n\u001b[0;32m    647\u001b[0m     \u001b[39mself\u001b[39m\u001b[39m.\u001b[39m_check_finite()\n\u001b[0;32m    649\u001b[0m \u001b[39mreturn\u001b[39;00m \u001b[39mself\u001b[39m\n",
      "File \u001b[1;32mc:\\Users\\Cody\\anaconda3\\envs\\lightfm\\lib\\site-packages\\lightfm\\lightfm.py:679\u001b[0m, in \u001b[0;36mLightFM._run_epoch\u001b[1;34m(self, item_features, user_features, interactions, sample_weight, num_threads, loss)\u001b[0m\n\u001b[0;32m    677\u001b[0m \u001b[39m# Call the estimation routines.\u001b[39;00m\n\u001b[0;32m    678\u001b[0m \u001b[39mif\u001b[39;00m loss \u001b[39m==\u001b[39m \u001b[39m\"\u001b[39m\u001b[39mwarp\u001b[39m\u001b[39m\"\u001b[39m:\n\u001b[1;32m--> 679\u001b[0m     fit_warp(\n\u001b[0;32m    680\u001b[0m         CSRMatrix(item_features),\n\u001b[0;32m    681\u001b[0m         CSRMatrix(user_features),\n\u001b[0;32m    682\u001b[0m         positives_lookup,\n\u001b[0;32m    683\u001b[0m         interactions\u001b[39m.\u001b[39;49mrow,\n\u001b[0;32m    684\u001b[0m         interactions\u001b[39m.\u001b[39;49mcol,\n\u001b[0;32m    685\u001b[0m         interactions\u001b[39m.\u001b[39;49mdata,\n\u001b[0;32m    686\u001b[0m         sample_weight,\n\u001b[0;32m    687\u001b[0m         shuffle_indices,\n\u001b[0;32m    688\u001b[0m         lightfm_data,\n\u001b[0;32m    689\u001b[0m         \u001b[39mself\u001b[39;49m\u001b[39m.\u001b[39;49mlearning_rate,\n\u001b[0;32m    690\u001b[0m         \u001b[39mself\u001b[39;49m\u001b[39m.\u001b[39;49mitem_alpha,\n\u001b[0;32m    691\u001b[0m         \u001b[39mself\u001b[39;49m\u001b[39m.\u001b[39;49muser_alpha,\n\u001b[0;32m    692\u001b[0m         num_threads,\n\u001b[0;32m    693\u001b[0m         \u001b[39mself\u001b[39;49m\u001b[39m.\u001b[39;49mrandom_state,\n\u001b[0;32m    694\u001b[0m     )\n\u001b[0;32m    695\u001b[0m \u001b[39melif\u001b[39;00m loss \u001b[39m==\u001b[39m \u001b[39m\"\u001b[39m\u001b[39mbpr\u001b[39m\u001b[39m\"\u001b[39m:\n\u001b[0;32m    696\u001b[0m     fit_bpr(\n\u001b[0;32m    697\u001b[0m         CSRMatrix(item_features),\n\u001b[0;32m    698\u001b[0m         CSRMatrix(user_features),\n\u001b[1;32m   (...)\u001b[0m\n\u001b[0;32m    710\u001b[0m         \u001b[39mself\u001b[39m\u001b[39m.\u001b[39mrandom_state,\n\u001b[0;32m    711\u001b[0m     )\n",
      "\u001b[1;31mKeyboardInterrupt\u001b[0m: "
     ]
    }
   ],
   "source": [
    "# Change number of components to see if it improves AUC score\n",
    "component_list = [10, 20, 30, 40, 50, 60, 70, 80, 90, 100] # List of number of components to try\n",
    "for i in component_list:\n",
    "    model = LightFM(loss='warp', no_components=i)\n",
    "    model.fit(train, epochs=30, num_threads=4) # Train the model\n",
    "    test_auc = auc_score(\n",
    "        model,\n",
    "        test,\n",
    "    ).mean() # Calculate AUC score\n",
    "    print('AUC: %s' % test_auc) # Print AUC score\n",
    "    print('Number of components: %s' % i) # Print number of components\n",
    "    print('') # Print blank line"
   ]
  },
  {
   "cell_type": "code",
   "execution_count": 73,
   "metadata": {},
   "outputs": [
    {
     "name": "stdout",
     "output_type": "stream",
     "text": [
      "AUC: 0.84573644\n",
      "Loss function: logistic\n",
      "\n",
      "AUC: 0.54337627\n",
      "Loss function: bpr\n",
      "\n",
      "AUC: 0.8216907\n",
      "Loss function: warp-kos\n",
      "\n",
      "AUC: 0.841579\n",
      "Loss function: warp\n",
      "\n"
     ]
    }
   ],
   "source": [
    "# Try different loss functions: logistic, bpr, warp-kos, warp\n",
    "loss_list = ['logistic', 'bpr', 'warp-kos', 'warp'] # List of loss functions to try\n",
    "for i in loss_list:\n",
    "    model = LightFM(loss=i, no_components=30)\n",
    "    model.fit(train, epochs=30, num_threads=4) # Train the model\n",
    "    test_auc = auc_score(\n",
    "        model,\n",
    "        test,\n",
    "    ).mean() # Calculate AUC score\n",
    "    print('AUC: %s' % test_auc) # Print AUC score\n",
    "    print('Loss function: %s' % i) # Print loss function\n",
    "    print('') # Print blank line"
   ]
  },
  {
   "cell_type": "code",
   "execution_count": 75,
   "metadata": {},
   "outputs": [
    {
     "name": "stdout",
     "output_type": "stream",
     "text": [
      "AUC: 0.84202635\n",
      "k: 1\n",
      "\n",
      "AUC: 0.84176177\n",
      "k: 5\n",
      "\n",
      "AUC: 0.8410602\n",
      "k: 10\n",
      "\n",
      "AUC: 0.8407556\n",
      "k: 15\n",
      "\n",
      "AUC: 0.84142286\n",
      "k: 20\n",
      "\n"
     ]
    }
   ],
   "source": [
    "# Try differeknt values for k: 1, 5, 10, 15, 20\n",
    "k_list = [1, 5, 10, 15, 20] # List of k values to try\n",
    "for i in k_list:\n",
    "    model = LightFM(loss='warp', no_components=30, k=i)\n",
    "    model.fit(train, epochs=30, num_threads=4) # Train the model\n",
    "    test_auc = auc_score(\n",
    "        model,\n",
    "        test\n",
    "    ).mean() # Calculate AUC score\n",
    "    print('AUC: %s' % test_auc) # Print AUC score\n",
    "    print('k: %s' % i) # Print k\n",
    "    print('') # Print blank line"
   ]
  },
  {
   "cell_type": "code",
   "execution_count": null,
   "metadata": {},
   "outputs": [],
   "source": []
  }
 ],
 "metadata": {
  "kernelspec": {
   "display_name": "Python 3.9.13 ('lightfm')",
   "language": "python",
   "name": "python3"
  },
  "language_info": {
   "codemirror_mode": {
    "name": "ipython",
    "version": 3
   },
   "file_extension": ".py",
   "mimetype": "text/x-python",
   "name": "python",
   "nbconvert_exporter": "python",
   "pygments_lexer": "ipython3",
   "version": "3.9.13"
  },
  "orig_nbformat": 4,
  "vscode": {
   "interpreter": {
    "hash": "b6edbf9c204372b020a7874346a2b27de119d96e7d485f9c4895dbe57280a01f"
   }
  }
 },
 "nbformat": 4,
 "nbformat_minor": 2
}
